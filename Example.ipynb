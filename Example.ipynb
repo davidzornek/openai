{
 "cells": [
  {
   "cell_type": "code",
   "execution_count": 1,
   "id": "d6ab2997-6f83-4fdb-b595-722935a28f8d",
   "metadata": {},
   "outputs": [
    {
     "data": {
      "text/plain": [
       "True"
      ]
     },
     "execution_count": 1,
     "metadata": {},
     "output_type": "execute_result"
    }
   ],
   "source": [
    "import logging\n",
    "from dotenv import load_dotenv\n",
    "from openai_dm.conversation import Conversation\n",
    "from openai_dm.character_sheet import *\n",
    "\n",
    "load_dotenv()"
   ]
  },
  {
   "cell_type": "markdown",
   "id": "b66f5cd1-b6a9-477f-ac08-b493df531d4b",
   "metadata": {},
   "source": [
    "# Some notes:\n",
    "- Guides the user through race selection, then class selection, then ability score assignment.\n",
    "- The character sheet (accessed with `conv.character_sheet`) is updated at the end of each selection.\n",
    "- Choosing a race automatically applies racial ability score bonuses, and choosing a class automatically applies saving throw proficiences.\n",
    "- Skill, tool, armor and weapon proficiences are not yet supported.\n",
    "- In the current implementation, the chatbot will break if a user tries to change a selection once it has already been made.\n",
    "- In this example, choices are made very quickly, without asking for a ton of assistance from the AI. Feel free to ask as many questions as you like before making a choice.\n",
    "- You may see a lot of rate limit warnings. They usually resolve with enough retries, but OpenAI's non-enterprise rate limiting is pretty tight when using conversational agents based on ReAct."
   ]
  },
  {
   "cell_type": "code",
   "execution_count": 2,
   "id": "fe98f4ea-70f4-4e5a-b3d2-5cce97394786",
   "metadata": {},
   "outputs": [
    {
     "name": "stdout",
     "output_type": "stream",
     "text": [
      "Hello! I'm your Dungeon Master assistant, and I'm here to help you create your character for our D&D campaign. We're going to start by selecting a race. In D&D, your character's race determines their physical characteristics and abilities. Each race has unique traits that can influence your character's skills, proficiencies, and stats. Some popular races include Humans, Elves, Dwarves, and Halflings. Please choose a race for your character.\n"
     ]
    }
   ],
   "source": [
    "conv = Conversation(\n",
    "    name=\"AI Dungeon Master\", # not important\n",
    "    gpt4=True, # If set to false, gpt-3.5-turbo will be used instead. It's cheaper but doesn't work well.\n",
    "    max_tokens=500, # Setting this lower can help with rate limit warnings, but can break the chatbot\n",
    "    logger_level=logging.ERROR, # This setting will print all of the chatbot's reasoning under the hood. Set to logging.ERROR to eliminate\n",
    "    #starting_node=\"background\"\n",
    ")"
   ]
  },
  {
   "cell_type": "code",
   "execution_count": 3,
   "id": "c6461e51-ea5e-4a59-9628-1a0fed044cab",
   "metadata": {},
   "outputs": [
    {
     "name": "stdout",
     "output_type": "stream",
     "text": [
      "In Dungeons & Dragons, there are several race options to choose from. Here are some of the most common ones:\n",
      "\n",
      "1. Human: Versatile and adaptable, humans get a +1 bonus to all ability scores.\n",
      "2. Elf: Known for their grace and longevity, elves get a +2 bonus to Dexterity.\n",
      "3. Dwarf: Hardy and resilient, dwarves get a +2 bonus to Constitution.\n",
      "4. Halfling: Small and stealthy, halflings get a +2 bonus to Dexterity.\n",
      "5. Dragonborn: Descendants of dragons, dragonborn get a +2 bonus to Strength and a +1 bonus to Charisma.\n",
      "6. Gnome: Small and intelligent, gnomes get a +2 bonus to Intelligence.\n",
      "7. Half-Elf: A mix of human and elf, half-elves get a +2 bonus to Charisma and a +1 bonus to two other ability scores of their choice.\n",
      "8. Half-Orc: A mix of human and orc, half-orcs get a +2 bonus to Strength and a +1 bonus to Constitution.\n",
      "9. Tiefling: Descendants of a demonic pact, tieflings get a +2 bonus to Charisma and a +1 bonus to Intelligence.\n",
      "\n",
      "Please note that each race also has unique racial traits that can further influence your character's abilities and skills. Choose the one that best fits your character concept.\n"
     ]
    }
   ],
   "source": [
    "response = conv.run(\"What are the race options?\")"
   ]
  },
  {
   "cell_type": "code",
   "execution_count": 4,
   "id": "5f6c8fd5-7243-4245-9b33-9a050dfe6557",
   "metadata": {},
   "outputs": [
    {
     "name": "stdout",
     "output_type": "stream",
     "text": [
      "Several races in Dungeons & Dragons could align well with a tribal forest character concept. Here are a few suggestions:\n",
      "\n",
      "1. Elf (Wood Elf Subrace): Wood Elves are known for their deep connection to the forest. They are swift, stealthy, and have keen senses. They also have a natural proficiency in longbows, shortbows, longswords, and shortswords.\n",
      "\n",
      "2. Gnome (Forest Gnome Subrace): Forest Gnomes have a knack for stealth and are known for their affinity with animals and the magical beasts of the forest. They also have the ability to cast the Minor Illusion cantrip.\n",
      "\n",
      "3. Human: Humans are incredibly versatile and can adapt to many environments, including forests. A human character could come from a tribe that lives in harmony with the forest.\n",
      "\n",
      "4. Half-Orc: Half-Orcs are often associated with tribal societies. A Half-Orc character could come from a tribe that lives in the forest and values strength and survival skills.\n",
      "\n",
      "5. Firbolg: Firbolgs are a race from the Volo's Guide to Monsters supplement. They are forest-dwelling giants with a strong connection to nature and abilities that allow them to communicate with animals and plants.\n",
      "\n",
      "Remember, your character's backstory and personality can also play a big role in bringing your tribal forest concept to life, regardless of race.\n"
     ]
    }
   ],
   "source": [
    "response = conv.run(\"I'm kind of thinking of being some sort of tribal forest person. Which races align with that?\")"
   ]
  },
  {
   "cell_type": "code",
   "execution_count": 5,
   "id": "d73023e1-50d8-418a-bf82-95708154c7f9",
   "metadata": {},
   "outputs": [
    {
     "name": "stderr",
     "output_type": "stream",
     "text": [
      "WARNING:root:<RetryCallState 140500684382672: attempt #1; slept for 0.0; last result: failed (RateLimitError Rate limit reached for 10KTPM-200RPM in organization org-lJzn8UVqpPw5xjPRDo2LWrkb on tokens per min. Limit: 10000 / min. Please try again in 6ms. Contact us through our help center at help.openai.com if you continue to have issues.)>\n",
      "WARNING:root:<RetryCallState 140500684382672: attempt #2; slept for 2.0; last result: failed (RateLimitError Rate limit reached for 10KTPM-200RPM in organization org-lJzn8UVqpPw5xjPRDo2LWrkb on tokens per min. Limit: 10000 / min. Please try again in 6ms. Contact us through our help center at help.openai.com if you continue to have issues.)>\n",
      "WARNING:root:<RetryCallState 140500684382672: attempt #3; slept for 4.0; last result: failed (RateLimitError Rate limit reached for 10KTPM-200RPM in organization org-lJzn8UVqpPw5xjPRDo2LWrkb on tokens per min. Limit: 10000 / min. Please try again in 6ms. Contact us through our help center at help.openai.com if you continue to have issues.)>\n",
      "WARNING:root:<RetryCallState 140500684382672: attempt #4; slept for 8.0; last result: failed (RateLimitError Rate limit reached for 10KTPM-200RPM in organization org-lJzn8UVqpPw5xjPRDo2LWrkb on tokens per min. Limit: 10000 / min. Please try again in 6ms. Contact us through our help center at help.openai.com if you continue to have issues.)>\n",
      "WARNING:root:<RetryCallState 140500693685008: attempt #1; slept for 0.0; last result: failed (RateLimitError Rate limit reached for 10KTPM-200RPM in organization org-lJzn8UVqpPw5xjPRDo2LWrkb on tokens per min. Limit: 10000 / min. Please try again in 6ms. Contact us through our help center at help.openai.com if you continue to have issues.)>\n",
      "WARNING:root:<RetryCallState 140500693685008: attempt #2; slept for 2.0; last result: failed (RateLimitError Rate limit reached for 10KTPM-200RPM in organization org-lJzn8UVqpPw5xjPRDo2LWrkb on tokens per min. Limit: 10000 / min. Please try again in 6ms. Contact us through our help center at help.openai.com if you continue to have issues.)>\n",
      "WARNING:root:<RetryCallState 140500693685008: attempt #3; slept for 4.0; last result: failed (RateLimitError Rate limit reached for 10KTPM-200RPM in organization org-lJzn8UVqpPw5xjPRDo2LWrkb on tokens per min. Limit: 10000 / min. Please try again in 6ms. Contact us through our help center at help.openai.com if you continue to have issues.)>\n"
     ]
    },
    {
     "name": "stdout",
     "output_type": "stream",
     "text": [
      "We're now going to select a class for your character. In D&D, your character's class represents their profession or vocation. It's a key part of your character's identity, influencing their abilities, skills, and role within the party. \n",
      "\n",
      "Here are some of the classes you can choose from:\n",
      "\n",
      "1. Fighter: Skilled in physical combat, fighters can wield any weapon or armor.\n",
      "2. Wizard: Masters of arcane magic, wizards use spells to manipulate the world around them.\n",
      "3. Rogue: Stealthy and dexterous, rogues are skilled in evasion, stealth, and dealing high damage to unaware enemies.\n",
      "4. Ranger: Rangers are hunters and skilled woodsmen, adept at tracking and survival.\n",
      "5. Cleric: Clerics are divine spellcasters who gain their powers from a deity or deities.\n",
      "6. Bard: Bards use their musical talents to cast spells and inspire their allies.\n",
      "\n",
      "Each class has unique abilities and offers a different style of play. Consider your character's background and personality when choosing a class.\n"
     ]
    }
   ],
   "source": [
    "response = conv.run(\"Wood elf sounds perfect.\")"
   ]
  },
  {
   "cell_type": "code",
   "execution_count": 6,
   "id": "b0d1b55d-d9a4-4dfe-8fbe-f909152fdb36",
   "metadata": {},
   "outputs": [
    {
     "name": "stdout",
     "output_type": "stream",
     "text": [
      "As a Wood Elf, your character has a natural affinity for stealth, perception, and archery, thanks to your racial bonuses. Here are a few classes that could complement those strengths:\n",
      "\n",
      "1. Ranger: Wood Elves make excellent Rangers due to their natural stealth and perception abilities. Rangers are skilled hunters and survivalists, often acting as the bridge between civilization and the wild. They are also proficient with bows, which aligns well with the Wood Elf's weapon proficiencies.\n",
      "\n",
      "2. Rogue: The Wood Elf's bonus to Dexterity and natural stealthiness can be very beneficial for a Rogue. Rogues specialize in stealth, thievery, and dealing high damage to unsuspecting enemies.\n",
      "\n",
      "3. Druid: If you're interested in emphasizing the Wood Elf's connection to nature, the Druid class could be a great fit. Druids are spellcasters who draw their magic from nature itself, and they have the unique ability to transform into animals.\n",
      "\n",
      "4. Fighter (Archery Fighting Style): If you're interested in making the most of your Wood Elf's proficiency with longbows, you might consider the Fighter class. Fighters are versatile warriors, and choosing the Archery fighting style would further enhance your abilities with a bow.\n",
      "\n",
      "Remember, the most important thing is to choose a class that you think you'll enjoy playing and that fits your character concept.\n"
     ]
    }
   ],
   "source": [
    "response = conv.run(\"Which classes work well with my race?\")"
   ]
  },
  {
   "cell_type": "code",
   "execution_count": 7,
   "id": "583034ca-418b-4d23-8f4f-c1c54145a5a8",
   "metadata": {},
   "outputs": [
    {
     "name": "stdout",
     "output_type": "stream",
     "text": [
      "While being a Druid doesn't automatically grant you a pet tree, Druids do have a deep connection with nature and can communicate with animals and plants. At higher levels, Druids gain the ability to cast spells like \"Awaken,\" which can give sentience to trees and animals.\n",
      "\n",
      "However, if you're interested in having a pet or companion as part of your character's abilities, you might consider the Ranger class. At 3rd level, Rangers can choose the Beast Master archetype, which allows them to bond with a creature that serves as a faithful companion.\n",
      "\n",
      "Remember, you can also discuss with your Dungeon Master about incorporating a pet tree into your character's backstory or quests. They might be able to work it into the story in a way that fits with the game's mechanics and narrative.\n"
     ]
    }
   ],
   "source": [
    "response = conv.run(\"Do I get a pet tree if I'm a druid?\")"
   ]
  },
  {
   "cell_type": "code",
   "execution_count": 8,
   "id": "99c8cb3a-c644-4cd7-aee3-cb74cfe1a2ff",
   "metadata": {},
   "outputs": [
    {
     "name": "stderr",
     "output_type": "stream",
     "text": [
      "WARNING:root:<RetryCallState 140500684420752: attempt #1; slept for 0.0; last result: failed (RateLimitError Rate limit reached for 10KTPM-200RPM in organization org-lJzn8UVqpPw5xjPRDo2LWrkb on tokens per min. Limit: 10000 / min. Please try again in 6ms. Contact us through our help center at help.openai.com if you continue to have issues.)>\n",
      "WARNING:root:<RetryCallState 140500684420752: attempt #2; slept for 2.0; last result: failed (RateLimitError Rate limit reached for 10KTPM-200RPM in organization org-lJzn8UVqpPw5xjPRDo2LWrkb on tokens per min. Limit: 10000 / min. Please try again in 6ms. Contact us through our help center at help.openai.com if you continue to have issues.)>\n",
      "WARNING:root:<RetryCallState 140500684420752: attempt #3; slept for 4.0; last result: failed (RateLimitError Rate limit reached for 10KTPM-200RPM in organization org-lJzn8UVqpPw5xjPRDo2LWrkb on tokens per min. Limit: 10000 / min. Please try again in 6ms. Contact us through our help center at help.openai.com if you continue to have issues.)>\n",
      "WARNING:root:<RetryCallState 140500667785168: attempt #1; slept for 0.0; last result: failed (RateLimitError Rate limit reached for 10KTPM-200RPM in organization org-lJzn8UVqpPw5xjPRDo2LWrkb on tokens per min. Limit: 10000 / min. Please try again in 6ms. Contact us through our help center at help.openai.com if you continue to have issues.)>\n",
      "WARNING:root:<RetryCallState 140500667785168: attempt #2; slept for 2.0; last result: failed (RateLimitError Rate limit reached for 10KTPM-200RPM in organization org-lJzn8UVqpPw5xjPRDo2LWrkb on tokens per min. Limit: 10000 / min. Please try again in 6ms. Contact us through our help center at help.openai.com if you continue to have issues.)>\n",
      "WARNING:root:<RetryCallState 140500667785168: attempt #3; slept for 4.0; last result: failed (RateLimitError Rate limit reached for 10KTPM-200RPM in organization org-lJzn8UVqpPw5xjPRDo2LWrkb on tokens per min. Limit: 10000 / min. Please try again in 6ms. Contact us through our help center at help.openai.com if you continue to have issues.)>\n",
      "WARNING:root:<RetryCallState 140500667785168: attempt #4; slept for 8.0; last result: failed (RateLimitError Rate limit reached for 10KTPM-200RPM in organization org-lJzn8UVqpPw5xjPRDo2LWrkb on tokens per min. Limit: 10000 / min. Please try again in 6ms. Contact us through our help center at help.openai.com if you continue to have issues.)>\n",
      "WARNING:root:<RetryCallState 140500667785168: attempt #5; slept for 16.0; last result: failed (RateLimitError Rate limit reached for 10KTPM-200RPM in organization org-lJzn8UVqpPw5xjPRDo2LWrkb on tokens per min. Limit: 10000 / min. Please try again in 6ms. Contact us through our help center at help.openai.com if you continue to have issues.)>\n"
     ]
    },
    {
     "name": "stdout",
     "output_type": "stream",
     "text": [
      "We're now going to determine your character's ability scores. These scores represent your character's physical and mental capabilities and are a key part of your character's identity. They influence everything from combat to social interactions. \n",
      "\n",
      "There are six ability scores in D&D: Strength, Dexterity, Constitution, Intelligence, Wisdom, and Charisma. \n",
      "\n",
      "1. Strength: Physical power and force.\n",
      "2. Dexterity: Agility, reflexes, and balance.\n",
      "3. Constitution: Health and stamina.\n",
      "4. Intelligence: Memory, reasoning, and learning.\n",
      "5. Wisdom: Perception and insight.\n",
      "6. Charisma: Force of personality, persuasiveness, and leadership.\n",
      "\n",
      "There are three common methods for determining these scores: \n",
      "\n",
      "1. Standard Array: This method gives you the following scores to distribute among your abilities as you see fit: 15, 14, 13, 12, 10, 8.\n",
      "2. Point Buy: You have 27 points to distribute among your abilities, with costs increasing as the score increases.\n",
      "3. Rolling: You roll four six-sided dice and record the total of the highest three dice. You do this six times and assign each total to your abilities as you see fit.\n",
      "\n",
      "We can use any of these methods to determine your ability scores. Which one would you prefer?\n"
     ]
    }
   ],
   "source": [
    "response = conv.run(\"Ok, I'll be a druid.\")"
   ]
  },
  {
   "cell_type": "code",
   "execution_count": 9,
   "id": "1d3f3af8-2bce-413b-aec6-b6ffc5ccfcf0",
   "metadata": {},
   "outputs": [
    {
     "name": "stderr",
     "output_type": "stream",
     "text": [
      "WARNING:root:<RetryCallState 140500682235536: attempt #1; slept for 0.0; last result: failed (RateLimitError Rate limit reached for 10KTPM-200RPM in organization org-lJzn8UVqpPw5xjPRDo2LWrkb on tokens per min. Limit: 10000 / min. Please try again in 6ms. Contact us through our help center at help.openai.com if you continue to have issues.)>\n",
      "WARNING:root:<RetryCallState 140500682235536: attempt #2; slept for 2.0; last result: failed (RateLimitError Rate limit reached for 10KTPM-200RPM in organization org-lJzn8UVqpPw5xjPRDo2LWrkb on tokens per min. Limit: 10000 / min. Please try again in 6ms. Contact us through our help center at help.openai.com if you continue to have issues.)>\n",
      "WARNING:root:<RetryCallState 140500682235536: attempt #3; slept for 4.0; last result: failed (RateLimitError Rate limit reached for 10KTPM-200RPM in organization org-lJzn8UVqpPw5xjPRDo2LWrkb on tokens per min. Limit: 10000 / min. Please try again in 6ms. Contact us through our help center at help.openai.com if you continue to have issues.)>\n",
      "WARNING:root:<RetryCallState 140500682235536: attempt #4; slept for 8.0; last result: failed (RateLimitError Rate limit reached for 10KTPM-200RPM in organization org-lJzn8UVqpPw5xjPRDo2LWrkb on tokens per min. Limit: 10000 / min. Please try again in 6ms. Contact us through our help center at help.openai.com if you continue to have issues.)>\n",
      "WARNING:root:<RetryCallState 140500682235536: attempt #5; slept for 16.0; last result: failed (RateLimitError Rate limit reached for 10KTPM-200RPM in organization org-lJzn8UVqpPw5xjPRDo2LWrkb on tokens per min. Limit: 10000 / min. Please try again in 6ms. Contact us through our help center at help.openai.com if you continue to have issues.)>\n",
      "WARNING:root:<RetryCallState 140500682235536: attempt #6; slept for 26.0; last result: failed (RateLimitError Rate limit reached for 10KTPM-200RPM in organization org-lJzn8UVqpPw5xjPRDo2LWrkb on tokens per min. Limit: 10000 / min. Please try again in 6ms. Contact us through our help center at help.openai.com if you continue to have issues.)>\n"
     ]
    },
    {
     "name": "stdout",
     "output_type": "stream",
     "text": [
      "Normally, to roll for your ability scores, you would roll four six-sided dice and record the total of the highest three dice. You would do this six times to generate scores for Strength, Dexterity, Constitution, Intelligence, Wisdom, and Charisma. However, I'm unable to simulate dice rolls at the moment. You can do this with physical dice or a dice-rolling app. Once you have your six scores, you can assign them to your abilities as you see fit.\n"
     ]
    }
   ],
   "source": [
    "response = conv.run(\"Let's try rolling!\")"
   ]
  },
  {
   "cell_type": "code",
   "execution_count": 10,
   "id": "ebf297d6-17c2-4c94-9b45-56d2eb0e13f1",
   "metadata": {},
   "outputs": [
    {
     "name": "stdout",
     "output_type": "stream",
     "text": [
      "Great! With the Point Buy system, you have 27 points to distribute among your abilities. Each ability starts at a score of 8. Increasing an ability score costs points as follows:\n",
      "\n",
      "- To increase an ability score from 8 to 9 costs 1 point.\n",
      "- Increasing from 9 to 10 costs 1 point.\n",
      "- Increasing from 10 to 11 costs 1 point.\n",
      "- Increasing from 11 to 12 costs 1 point.\n",
      "- Increasing from 12 to 13 costs 1 point.\n",
      "- Increasing from 13 to 14 costs 2 points.\n",
      "- Increasing from 14 to 15 costs 2 points.\n",
      "\n",
      "Please note that without racial bonuses, no score can be increased above 15 or reduced below 8.\n",
      "\n",
      "As a Druid, your most important ability is Wisdom, as it determines the power and effectiveness of your spells. Dexterity and Constitution are also useful for a Druid, as they improve your ability to avoid damage and withstand physical hardship, respectively.\n",
      "\n",
      "Would you like me to suggest an optimal distribution of points for a Druid, or would you prefer to distribute the points yourself?\n"
     ]
    }
   ],
   "source": [
    "response = conv.run(\"ok, since you're not able to simulate the dice rolls, let's do point buy instead.\")"
   ]
  },
  {
   "cell_type": "code",
   "execution_count": 11,
   "id": "21232f44-89b8-47ed-ac6f-13caf024b492",
   "metadata": {},
   "outputs": [
    {
     "name": "stdout",
     "output_type": "stream",
     "text": [
      "Sure, I'd be happy to suggest an optimal distribution for a Druid using the Point Buy system. \n",
      "\n",
      "As a Druid, your spellcasting ability is Wisdom, so we'll want that to be your highest score. Dexterity is important for your Armor Class and initiative, and Constitution helps you maintain concentration on spells and increases your hit points. Here's a possible distribution:\n",
      "\n",
      "- Strength: 8 (0 points)\n",
      "- Dexterity: 14 (7 points)\n",
      "- Constitution: 14 (7 points)\n",
      "- Intelligence: 10 (2 points)\n",
      "- Wisdom: 15 (9 points)\n",
      "- Charisma: 8 (0 points)\n",
      "\n",
      "This leaves you with 2 points remaining. You could add these to Intelligence to represent your character's knowledge of nature, or to Charisma to improve social interactions. Alternatively, you could save them for later.\n",
      "\n",
      "Remember, this is just a suggestion. Feel free to adjust these scores to better fit your vision for your character. Once you're happy with your ability scores, we can update your character sheet.\n"
     ]
    }
   ],
   "source": [
    "response = conv.run(\"yeah, i'd love for you to suggest something.\")"
   ]
  },
  {
   "cell_type": "code",
   "execution_count": 12,
   "id": "bb5a2535-96a3-4032-aca9-af5e75c80c09",
   "metadata": {},
   "outputs": [
    {
     "name": "stderr",
     "output_type": "stream",
     "text": [
      "WARNING:root:<RetryCallState 140500683535184: attempt #1; slept for 0.0; last result: failed (RateLimitError Rate limit reached for 10KTPM-200RPM in organization org-lJzn8UVqpPw5xjPRDo2LWrkb on tokens per min. Limit: 10000 / min. Please try again in 6ms. Contact us through our help center at help.openai.com if you continue to have issues.)>\n",
      "WARNING:root:<RetryCallState 140500683535184: attempt #2; slept for 2.0; last result: failed (RateLimitError Rate limit reached for 10KTPM-200RPM in organization org-lJzn8UVqpPw5xjPRDo2LWrkb on tokens per min. Limit: 10000 / min. Please try again in 6ms. Contact us through our help center at help.openai.com if you continue to have issues.)>\n",
      "WARNING:root:<RetryCallState 140500683535184: attempt #3; slept for 4.0; last result: failed (RateLimitError Rate limit reached for 10KTPM-200RPM in organization org-lJzn8UVqpPw5xjPRDo2LWrkb on tokens per min. Limit: 10000 / min. Please try again in 6ms. Contact us through our help center at help.openai.com if you continue to have issues.)>\n",
      "WARNING:root:<RetryCallState 140500683535184: attempt #4; slept for 8.0; last result: failed (RateLimitError Rate limit reached for 10KTPM-200RPM in organization org-lJzn8UVqpPw5xjPRDo2LWrkb on tokens per min. Limit: 10000 / min. Please try again in 6ms. Contact us through our help center at help.openai.com if you continue to have issues.)>\n",
      "WARNING:root:<RetryCallState 140500683535184: attempt #5; slept for 16.0; last result: failed (RateLimitError Rate limit reached for 10KTPM-200RPM in organization org-lJzn8UVqpPw5xjPRDo2LWrkb on tokens per min. Limit: 10000 / min. Please try again in 6ms. Contact us through our help center at help.openai.com if you continue to have issues.)>\n",
      "WARNING:root:<RetryCallState 140500667785680: attempt #1; slept for 0.0; last result: failed (RateLimitError Rate limit reached for 10KTPM-200RPM in organization org-lJzn8UVqpPw5xjPRDo2LWrkb on tokens per min. Limit: 10000 / min. Please try again in 6ms. Contact us through our help center at help.openai.com if you continue to have issues.)>\n",
      "WARNING:root:<RetryCallState 140500667785680: attempt #2; slept for 2.0; last result: failed (RateLimitError Rate limit reached for 10KTPM-200RPM in organization org-lJzn8UVqpPw5xjPRDo2LWrkb on tokens per min. Limit: 10000 / min. Please try again in 6ms. Contact us through our help center at help.openai.com if you continue to have issues.)>\n",
      "WARNING:root:<RetryCallState 140500667785680: attempt #3; slept for 4.0; last result: failed (RateLimitError Rate limit reached for 10KTPM-200RPM in organization org-lJzn8UVqpPw5xjPRDo2LWrkb on tokens per min. Limit: 10000 / min. Please try again in 6ms. Contact us through our help center at help.openai.com if you continue to have issues.)>\n",
      "WARNING:root:<RetryCallState 140500667785680: attempt #4; slept for 8.0; last result: failed (RateLimitError Rate limit reached for 10KTPM-200RPM in organization org-lJzn8UVqpPw5xjPRDo2LWrkb on tokens per min. Limit: 10000 / min. Please try again in 6ms. Contact us through our help center at help.openai.com if you continue to have issues.)>\n",
      "WARNING:root:<RetryCallState 140500667785680: attempt #5; slept for 16.0; last result: failed (RateLimitError Rate limit reached for 10KTPM-200RPM in organization org-lJzn8UVqpPw5xjPRDo2LWrkb on tokens per min. Limit: 10000 / min. Please try again in 6ms. Contact us through our help center at help.openai.com if you continue to have issues.)>\n",
      "WARNING:root:<RetryCallState 140500667785680: attempt #6; slept for 26.0; last result: failed (RateLimitError Rate limit reached for 10KTPM-200RPM in organization org-lJzn8UVqpPw5xjPRDo2LWrkb on tokens per min. Limit: 10000 / min. Please try again in 6ms. Contact us through our help center at help.openai.com if you continue to have issues.)>\n",
      "WARNING:root:<RetryCallState 140500677115024: attempt #1; slept for 0.0; last result: failed (RateLimitError Rate limit reached for 10KTPM-200RPM in organization org-lJzn8UVqpPw5xjPRDo2LWrkb on tokens per min. Limit: 10000 / min. Please try again in 6ms. Contact us through our help center at help.openai.com if you continue to have issues.)>\n",
      "WARNING:root:<RetryCallState 140500677115024: attempt #2; slept for 2.0; last result: failed (RateLimitError Rate limit reached for 10KTPM-200RPM in organization org-lJzn8UVqpPw5xjPRDo2LWrkb on tokens per min. Limit: 10000 / min. Please try again in 6ms. Contact us through our help center at help.openai.com if you continue to have issues.)>\n",
      "WARNING:root:<RetryCallState 140500677115024: attempt #3; slept for 4.0; last result: failed (RateLimitError Rate limit reached for 10KTPM-200RPM in organization org-lJzn8UVqpPw5xjPRDo2LWrkb on tokens per min. Limit: 10000 / min. Please try again in 6ms. Contact us through our help center at help.openai.com if you continue to have issues.)>\n",
      "WARNING:root:<RetryCallState 140500677115024: attempt #4; slept for 8.0; last result: failed (RateLimitError Rate limit reached for 10KTPM-200RPM in organization org-lJzn8UVqpPw5xjPRDo2LWrkb on tokens per min. Limit: 10000 / min. Please try again in 6ms. Contact us through our help center at help.openai.com if you continue to have issues.)>\n",
      "WARNING:root:<RetryCallState 140500677115024: attempt #5; slept for 16.0; last result: failed (RateLimitError Rate limit reached for 10KTPM-200RPM in organization org-lJzn8UVqpPw5xjPRDo2LWrkb on tokens per min. Limit: 10000 / min. Please try again in 6ms. Contact us through our help center at help.openai.com if you continue to have issues.)>\n"
     ]
    },
    {
     "name": "stdout",
     "output_type": "stream",
     "text": [
      "We're now going to select a background for your character. In D&D, a character's background represents what they did before they became an adventurer. It provides additional skills, tools, languages, and role-playing hooks. \n",
      "\n",
      "Here are some examples of backgrounds:\n",
      "\n",
      "1. Acolyte: You have spent your life in the service of a temple, learning sacred rites and providing sacrifices.\n",
      "2. Criminal: You have a history of breaking the law and have spent a lot of time among other criminals.\n",
      "3. Guild Artisan: You are a member of an artisan's guild, skilled in a particular field and closely associated with other artisans.\n",
      "4. Hermit: You lived in seclusion for a formative part of your life and are used to self-reliance.\n",
      "5. Noble: You come from a wealthy family and are used to comfort and high social status.\n",
      "6. Sage: You spent years learning the knowledge of the multiverse and are an expert in a particular field of study.\n",
      "7. Soldier: You have experience in battles and military lifestyle.\n",
      "8. Outlander: You grew up in the wilds, far from civilization and the comforts of town and technology.\n",
      "\n",
      "Each background provides different skill proficiencies, tool proficiencies or languages, and equipment. It also provides a feature, which can give you useful abilities or information related to your background.\n",
      "\n",
      "Consider your character's backstory and personality when choosing a background. Which one do you think fits your character best?\n"
     ]
    }
   ],
   "source": [
    "response = conv.run(\"I think they'd definitely have a lot of knowledge about nature.\")"
   ]
  },
  {
   "cell_type": "code",
   "execution_count": 13,
   "id": "bcf42cac-808b-4678-b30e-127621714b68",
   "metadata": {},
   "outputs": [
    {
     "name": "stderr",
     "output_type": "stream",
     "text": [
      "WARNING:root:<RetryCallState 140500677227792: attempt #1; slept for 0.0; last result: failed (RateLimitError Rate limit reached for 10KTPM-200RPM in organization org-lJzn8UVqpPw5xjPRDo2LWrkb on tokens per min. Limit: 10000 / min. Please try again in 6ms. Contact us through our help center at help.openai.com if you continue to have issues.)>\n",
      "WARNING:root:<RetryCallState 140500677227792: attempt #2; slept for 2.0; last result: failed (RateLimitError Rate limit reached for 10KTPM-200RPM in organization org-lJzn8UVqpPw5xjPRDo2LWrkb on tokens per min. Limit: 10000 / min. Please try again in 6ms. Contact us through our help center at help.openai.com if you continue to have issues.)>\n",
      "WARNING:root:<RetryCallState 140500677227792: attempt #3; slept for 4.0; last result: failed (RateLimitError Rate limit reached for 10KTPM-200RPM in organization org-lJzn8UVqpPw5xjPRDo2LWrkb on tokens per min. Limit: 10000 / min. Please try again in 6ms. Contact us through our help center at help.openai.com if you continue to have issues.)>\n",
      "WARNING:root:<RetryCallState 140500677227792: attempt #4; slept for 8.0; last result: failed (RateLimitError Rate limit reached for 10KTPM-200RPM in organization org-lJzn8UVqpPw5xjPRDo2LWrkb on tokens per min. Limit: 10000 / min. Please try again in 6ms. Contact us through our help center at help.openai.com if you continue to have issues.)>\n",
      "WARNING:root:<RetryCallState 140500677227792: attempt #5; slept for 16.0; last result: failed (RateLimitError Rate limit reached for 10KTPM-200RPM in organization org-lJzn8UVqpPw5xjPRDo2LWrkb on tokens per min. Limit: 10000 / min. Please try again in 6ms. Contact us through our help center at help.openai.com if you continue to have issues.)>\n",
      "WARNING:root:<RetryCallState 140500677130000: attempt #1; slept for 0.0; last result: failed (RateLimitError Rate limit reached for 10KTPM-200RPM in organization org-lJzn8UVqpPw5xjPRDo2LWrkb on tokens per min. Limit: 10000 / min. Please try again in 6ms. Contact us through our help center at help.openai.com if you continue to have issues.)>\n",
      "WARNING:root:<RetryCallState 140500677130000: attempt #2; slept for 2.0; last result: failed (RateLimitError Rate limit reached for 10KTPM-200RPM in organization org-lJzn8UVqpPw5xjPRDo2LWrkb on tokens per min. Limit: 10000 / min. Please try again in 6ms. Contact us through our help center at help.openai.com if you continue to have issues.)>\n",
      "WARNING:root:<RetryCallState 140500677130000: attempt #3; slept for 4.0; last result: failed (RateLimitError Rate limit reached for 10KTPM-200RPM in organization org-lJzn8UVqpPw5xjPRDo2LWrkb on tokens per min. Limit: 10000 / min. Please try again in 6ms. Contact us through our help center at help.openai.com if you continue to have issues.)>\n",
      "WARNING:root:<RetryCallState 140500677130000: attempt #4; slept for 8.0; last result: failed (RateLimitError Rate limit reached for 10KTPM-200RPM in organization org-lJzn8UVqpPw5xjPRDo2LWrkb on tokens per min. Limit: 10000 / min. Please try again in 6ms. Contact us through our help center at help.openai.com if you continue to have issues.)>\n",
      "WARNING:root:<RetryCallState 140500677130000: attempt #5; slept for 16.0; last result: failed (RateLimitError Rate limit reached for 10KTPM-200RPM in organization org-lJzn8UVqpPw5xjPRDo2LWrkb on tokens per min. Limit: 10000 / min. Please try again in 6ms. Contact us through our help center at help.openai.com if you continue to have issues.)>\n",
      "WARNING:root:<RetryCallState 140500677130000: attempt #6; slept for 26.0; last result: failed (RateLimitError Rate limit reached for 10KTPM-200RPM in organization org-lJzn8UVqpPw5xjPRDo2LWrkb on tokens per min. Limit: 10000 / min. Please try again in 6ms. Contact us through our help center at help.openai.com if you continue to have issues.)>\n"
     ]
    },
    {
     "name": "stdout",
     "output_type": "stream",
     "text": [
      "We're now going to select your character's skill proficiencies. In D&D, skill proficiencies represent your character's specific areas of expertise. \n",
      "\n",
      "Each class offers a list of skills, and you can choose a certain number of these to become proficient in. As a Druid, you can choose two skills from the following list: Arcana, Animal Handling, Insight, Medicine, Nature, Perception, Religion, and Survival.\n",
      "\n",
      "In addition, your background as an Outlander gives you proficiency in the Athletics and Survival skills. If you choose Survival as one of your Druid skill proficiencies, you can select another skill from the Druid list, as there's no additional benefit from having proficiency in the same skill twice.\n",
      "\n",
      "Consider your character's backstory and personality when choosing these skills. Which ones do you think fit your character best?\n"
     ]
    }
   ],
   "source": [
    "response = conv.run(\"oh they're totally an outlander.\")"
   ]
  },
  {
   "cell_type": "code",
   "execution_count": 14,
   "id": "6ccc8d0e-16cb-4a32-9acf-b5d8e060c9be",
   "metadata": {},
   "outputs": [
    {
     "name": "stdout",
     "output_type": "stream",
     "text": [
      "As a Druid, your spellcasting ability is Wisdom, so you'll be particularly good at skills that rely on Wisdom. From the Druid's skill list, these include Insight, Medicine, Perception, and Survival. \n",
      "\n",
      "You already have proficiency in Survival from your Outlander background, so you might consider choosing Perception, which would allow you to spot hidden creatures or notice subtle environmental changes. Insight can help you determine when someone is lying to you or hiding something, and Medicine can allow you to stabilize dying companions or diagnose illnesses.\n",
      "\n",
      "Additionally, the Nature skill relies on Intelligence, which you've boosted to reflect your character's knowledge of nature. This skill would allow you to recall information about terrain, plants and animals, the weather, and natural cycles.\n",
      "\n",
      "Remember, these are just suggestions based on your character's stats. You should choose the skills that you think will be most fun and interesting for your character.\n"
     ]
    }
   ],
   "source": [
    "response = conv.run(\"Which skills will I be best at?\")"
   ]
  },
  {
   "cell_type": "code",
   "execution_count": 15,
   "id": "7bc437a9-1cd7-4c55-8c72-1f2a06416772",
   "metadata": {},
   "outputs": [
    {
     "name": "stderr",
     "output_type": "stream",
     "text": [
      "WARNING:root:Activity result is not an artifact; converting result to InfoArtifact\n",
      "WARNING:root:<RetryCallState 140500690107920: attempt #1; slept for 0.0; last result: failed (RateLimitError Rate limit reached for 10KTPM-200RPM in organization org-lJzn8UVqpPw5xjPRDo2LWrkb on tokens per min. Limit: 10000 / min. Please try again in 6ms. Contact us through our help center at help.openai.com if you continue to have issues.)>\n",
      "WARNING:root:<RetryCallState 140500690107920: attempt #2; slept for 2.0; last result: failed (RateLimitError Rate limit reached for 10KTPM-200RPM in organization org-lJzn8UVqpPw5xjPRDo2LWrkb on tokens per min. Limit: 10000 / min. Please try again in 6ms. Contact us through our help center at help.openai.com if you continue to have issues.)>\n",
      "WARNING:root:<RetryCallState 140500690107920: attempt #3; slept for 4.0; last result: failed (RateLimitError Rate limit reached for 10KTPM-200RPM in organization org-lJzn8UVqpPw5xjPRDo2LWrkb on tokens per min. Limit: 10000 / min. Please try again in 6ms. Contact us through our help center at help.openai.com if you continue to have issues.)>\n",
      "WARNING:root:<RetryCallState 140500690107920: attempt #4; slept for 8.0; last result: failed (RateLimitError Rate limit reached for 10KTPM-200RPM in organization org-lJzn8UVqpPw5xjPRDo2LWrkb on tokens per min. Limit: 10000 / min. Please try again in 6ms. Contact us through our help center at help.openai.com if you continue to have issues.)>\n",
      "WARNING:root:<RetryCallState 140500690107920: attempt #5; slept for 16.0; last result: failed (RateLimitError Rate limit reached for 10KTPM-200RPM in organization org-lJzn8UVqpPw5xjPRDo2LWrkb on tokens per min. Limit: 10000 / min. Please try again in 6ms. Contact us through our help center at help.openai.com if you continue to have issues.)>\n",
      "WARNING:root:<RetryCallState 140500690107920: attempt #6; slept for 26.0; last result: failed (RateLimitError You exceeded your current quota, please check your plan and billing details.)>\n",
      "WARNING:root:<RetryCallState 140500690107920: attempt #7; slept for 36.0; last result: failed (RateLimitError You exceeded your current quota, please check your plan and billing details.)>\n",
      "WARNING:root:<RetryCallState 140500690107920: attempt #8; slept for 46.0; last result: failed (RateLimitError You exceeded your current quota, please check your plan and billing details.)>\n",
      "WARNING:root:<RetryCallState 140500690107920: attempt #9; slept for 56.0; last result: failed (RateLimitError You exceeded your current quota, please check your plan and billing details.)>\n",
      "WARNING:root:<RetryCallState 140500690107920: attempt #10; slept for 66.0; last result: failed (RateLimitError You exceeded your current quota, please check your plan and billing details.)>\n"
     ]
    },
    {
     "data": {
      "text/html": [
       "<pre style=\"white-space:pre;overflow-x:auto;line-height:normal;font-family:Menlo,'DejaVu Sans Mono',consolas,'Courier New',monospace\"><span style=\"color: #7fbfbf; text-decoration-color: #7fbfbf\">[10/03/23 00:39:07] </span><span style=\"color: #800000; text-decoration-color: #800000; font-weight: bold\">ERROR   </span> ToolkitTask db4f51a5d6794984ba523b36538e860d                                          \n",
       "<span style=\"color: #7fbfbf; text-decoration-color: #7fbfbf\">                    </span>         You exceeded your current quota, please check your plan and billing details.          \n",
       "<span style=\"color: #7fbfbf; text-decoration-color: #7fbfbf\">                    </span>         Traceback <span style=\"font-weight: bold\">(</span>most recent call last<span style=\"font-weight: bold\">)</span>:                                                    \n",
       "<span style=\"color: #7fbfbf; text-decoration-color: #7fbfbf\">                    </span>           File <span style=\"color: #008000; text-decoration-color: #008000\">\"/usr/local/lib/python3.11/site-packages/griptape/tasks/base_task.py\"</span>, line    \n",
       "<span style=\"color: #7fbfbf; text-decoration-color: #7fbfbf\">                    </span>         <span style=\"color: #008080; text-decoration-color: #008080; font-weight: bold\">117</span>, in execute                                                                       \n",
       "<span style=\"color: #7fbfbf; text-decoration-color: #7fbfbf\">                    </span>             self.output = <span style=\"color: #800080; text-decoration-color: #800080; font-weight: bold\">self.run</span><span style=\"font-weight: bold\">()</span>                                                          \n",
       "<span style=\"color: #7fbfbf; text-decoration-color: #7fbfbf\">                    </span>                           ^^^^^^^^^^                                                          \n",
       "<span style=\"color: #7fbfbf; text-decoration-color: #7fbfbf\">                    </span>           File <span style=\"color: #008000; text-decoration-color: #008000\">\"/usr/local/lib/python3.11/site-packages/griptape/tasks/toolkit_task.py\"</span>, line \n",
       "<span style=\"color: #7fbfbf; text-decoration-color: #7fbfbf\">                    </span>         <span style=\"color: #008080; text-decoration-color: #008080; font-weight: bold\">160</span>, in run                                                                           \n",
       "<span style=\"color: #7fbfbf; text-decoration-color: #7fbfbf\">                    </span>             <span style=\"color: #800080; text-decoration-color: #800080; font-weight: bold\">self.active_driver</span><span style=\"font-weight: bold\">()</span><span style=\"color: #800080; text-decoration-color: #800080; font-weight: bold\">.run</span><span style=\"font-weight: bold\">(</span><span style=\"color: #808000; text-decoration-color: #808000\">prompt_stack</span>=<span style=\"color: #800080; text-decoration-color: #800080\">self</span>.prompt_stack<span style=\"font-weight: bold\">)</span><span style=\"color: #800080; text-decoration-color: #800080; font-weight: bold\">.to_text</span><span style=\"font-weight: bold\">()</span>                \n",
       "<span style=\"color: #7fbfbf; text-decoration-color: #7fbfbf\">                    </span>             ^^^^^^^^^^^^^^^^^^^^^^^^^^^^^^^^^^^^^^^^^^^^^^^^^^^^^^^^                          \n",
       "<span style=\"color: #7fbfbf; text-decoration-color: #7fbfbf\">                    </span>           File                                                                                \n",
       "<span style=\"color: #7fbfbf; text-decoration-color: #7fbfbf\">                    </span>         <span style=\"color: #008000; text-decoration-color: #008000\">\"/usr/local/lib/python3.11/site-packages/griptape/drivers/prompt/base_prompt_driver.py</span>\n",
       "<span style=\"color: #7fbfbf; text-decoration-color: #7fbfbf\">                    </span>         <span style=\"color: #008000; text-decoration-color: #008000\">\"</span>, line <span style=\"color: #008080; text-decoration-color: #008080; font-weight: bold\">45</span>, in run                                                                    \n",
       "<span style=\"color: #7fbfbf; text-decoration-color: #7fbfbf\">                    </span>             for attempt in <span style=\"color: #800080; text-decoration-color: #800080; font-weight: bold\">self.retrying</span><span style=\"font-weight: bold\">()</span>:                                                   \n",
       "<span style=\"color: #7fbfbf; text-decoration-color: #7fbfbf\">                    </span>           File <span style=\"color: #008000; text-decoration-color: #008000\">\"/usr/local/lib/python3.11/site-packages/tenacity/__init__.py\"</span>, line <span style=\"color: #008080; text-decoration-color: #008080; font-weight: bold\">347</span>, in   \n",
       "<span style=\"color: #7fbfbf; text-decoration-color: #7fbfbf\">                    </span>         __iter__                                                                              \n",
       "<span style=\"color: #7fbfbf; text-decoration-color: #7fbfbf\">                    </span>             do = <span style=\"color: #800080; text-decoration-color: #800080; font-weight: bold\">self.iter</span><span style=\"font-weight: bold\">(</span><span style=\"color: #808000; text-decoration-color: #808000\">retry_state</span>=<span style=\"color: #800080; text-decoration-color: #800080\">retry_state</span><span style=\"font-weight: bold\">)</span>                                           \n",
       "<span style=\"color: #7fbfbf; text-decoration-color: #7fbfbf\">                    </span>                  ^^^^^^^^^^^^^^^^^^^^^^^^^^^^^^^^^^                                           \n",
       "<span style=\"color: #7fbfbf; text-decoration-color: #7fbfbf\">                    </span>           File <span style=\"color: #008000; text-decoration-color: #008000\">\"/usr/local/lib/python3.11/site-packages/tenacity/__init__.py\"</span>, line <span style=\"color: #008080; text-decoration-color: #008080; font-weight: bold\">325</span>, in   \n",
       "<span style=\"color: #7fbfbf; text-decoration-color: #7fbfbf\">                    </span>         iter                                                                                  \n",
       "<span style=\"color: #7fbfbf; text-decoration-color: #7fbfbf\">                    </span>             raise <span style=\"color: #800080; text-decoration-color: #800080; font-weight: bold\">retry_exc.reraise</span><span style=\"font-weight: bold\">()</span>                                                         \n",
       "<span style=\"color: #7fbfbf; text-decoration-color: #7fbfbf\">                    </span>                   ^^^^^^^^^^^^^^^^^^^                                                         \n",
       "<span style=\"color: #7fbfbf; text-decoration-color: #7fbfbf\">                    </span>           File <span style=\"color: #008000; text-decoration-color: #008000\">\"/usr/local/lib/python3.11/site-packages/tenacity/__init__.py\"</span>, line <span style=\"color: #008080; text-decoration-color: #008080; font-weight: bold\">158</span>, in   \n",
       "<span style=\"color: #7fbfbf; text-decoration-color: #7fbfbf\">                    </span>         reraise                                                                               \n",
       "<span style=\"color: #7fbfbf; text-decoration-color: #7fbfbf\">                    </span>             raise <span style=\"color: #800080; text-decoration-color: #800080; font-weight: bold\">self.last_attempt.result</span><span style=\"font-weight: bold\">()</span>                                                  \n",
       "<span style=\"color: #7fbfbf; text-decoration-color: #7fbfbf\">                    </span>                   ^^^^^^^^^^^^^^^^^^^^^^^^^^                                                  \n",
       "<span style=\"color: #7fbfbf; text-decoration-color: #7fbfbf\">                    </span>           File <span style=\"color: #008000; text-decoration-color: #008000\">\"/usr/local/lib/python3.11/concurrent/futures/_base.py\"</span>, line <span style=\"color: #008080; text-decoration-color: #008080; font-weight: bold\">449</span>, in result   \n",
       "<span style=\"color: #7fbfbf; text-decoration-color: #7fbfbf\">                    </span>             return <span style=\"color: #800080; text-decoration-color: #800080; font-weight: bold\">self.__get_result</span><span style=\"font-weight: bold\">()</span>                                                        \n",
       "<span style=\"color: #7fbfbf; text-decoration-color: #7fbfbf\">                    </span>                    ^^^^^^^^^^^^^^^^^^^                                                        \n",
       "<span style=\"color: #7fbfbf; text-decoration-color: #7fbfbf\">                    </span>           File <span style=\"color: #008000; text-decoration-color: #008000\">\"/usr/local/lib/python3.11/concurrent/futures/_base.py\"</span>, line <span style=\"color: #008080; text-decoration-color: #008080; font-weight: bold\">401</span>, in          \n",
       "<span style=\"color: #7fbfbf; text-decoration-color: #7fbfbf\">                    </span>         __get_result                                                                          \n",
       "<span style=\"color: #7fbfbf; text-decoration-color: #7fbfbf\">                    </span>             raise self._exception                                                             \n",
       "<span style=\"color: #7fbfbf; text-decoration-color: #7fbfbf\">                    </span>           File                                                                                \n",
       "<span style=\"color: #7fbfbf; text-decoration-color: #7fbfbf\">                    </span>         <span style=\"color: #008000; text-decoration-color: #008000\">\"/usr/local/lib/python3.11/site-packages/griptape/drivers/prompt/base_prompt_driver.py</span>\n",
       "<span style=\"color: #7fbfbf; text-decoration-color: #7fbfbf\">                    </span>         <span style=\"color: #008000; text-decoration-color: #008000\">\"</span>, line <span style=\"color: #008080; text-decoration-color: #008080; font-weight: bold\">54</span>, in run                                                                    \n",
       "<span style=\"color: #7fbfbf; text-decoration-color: #7fbfbf\">                    </span>             result = <span style=\"color: #800080; text-decoration-color: #800080; font-weight: bold\">self.try_run</span><span style=\"font-weight: bold\">(</span>prompt_stack<span style=\"font-weight: bold\">)</span>                                               \n",
       "<span style=\"color: #7fbfbf; text-decoration-color: #7fbfbf\">                    </span>                      ^^^^^^^^^^^^^^^^^^^^^^^^^^                                               \n",
       "<span style=\"color: #7fbfbf; text-decoration-color: #7fbfbf\">                    </span>           File                                                                                \n",
       "<span style=\"color: #7fbfbf; text-decoration-color: #7fbfbf\">                    </span>         <span style=\"color: #008000; text-decoration-color: #008000\">\"/usr/local/lib/python3.11/site-packages/griptape/drivers/prompt/openai_chat_prompt_dr</span>\n",
       "<span style=\"color: #7fbfbf; text-decoration-color: #7fbfbf\">                    </span>         <span style=\"color: #008000; text-decoration-color: #008000\">iver.py\"</span>, line <span style=\"color: #008080; text-decoration-color: #008080; font-weight: bold\">38</span>, in try_run                                                         \n",
       "<span style=\"color: #7fbfbf; text-decoration-color: #7fbfbf\">                    </span>             result = <span style=\"color: #800080; text-decoration-color: #800080; font-weight: bold\">openai.ChatCompletion.create</span><span style=\"font-weight: bold\">(</span>**<span style=\"color: #800080; text-decoration-color: #800080; font-weight: bold\">self._base_params</span><span style=\"font-weight: bold\">(</span>prompt_stack<span style=\"font-weight: bold\">))</span>          \n",
       "<span style=\"color: #7fbfbf; text-decoration-color: #7fbfbf\">                    </span>                      ^^^^^^^^^^^^^^^^^^^^^^^^^^^^^^^^^^^^^^^^^^^^^^^^^^^^^^^^^^^^^^^          \n",
       "<span style=\"color: #7fbfbf; text-decoration-color: #7fbfbf\">                    </span>           File                                                                                \n",
       "<span style=\"color: #7fbfbf; text-decoration-color: #7fbfbf\">                    </span>         <span style=\"color: #008000; text-decoration-color: #008000\">\"/usr/local/lib/python3.11/site-packages/openai/api_resources/chat_completion.py\"</span>,    \n",
       "<span style=\"color: #7fbfbf; text-decoration-color: #7fbfbf\">                    </span>         line <span style=\"color: #008080; text-decoration-color: #008080; font-weight: bold\">25</span>, in create                                                                    \n",
       "<span style=\"color: #7fbfbf; text-decoration-color: #7fbfbf\">                    </span>             return <span style=\"color: #800080; text-decoration-color: #800080; font-weight: bold\">super</span><span style=\"font-weight: bold\">()</span><span style=\"color: #800080; text-decoration-color: #800080; font-weight: bold\">.create</span><span style=\"font-weight: bold\">(</span>*args, **kwargs<span style=\"font-weight: bold\">)</span>                                            \n",
       "<span style=\"color: #7fbfbf; text-decoration-color: #7fbfbf\">                    </span>                    ^^^^^^^^^^^^^^^^^^^^^^^^^^^^^^^                                            \n",
       "<span style=\"color: #7fbfbf; text-decoration-color: #7fbfbf\">                    </span>           File                                                                                \n",
       "<span style=\"color: #7fbfbf; text-decoration-color: #7fbfbf\">                    </span>         <span style=\"color: #008000; text-decoration-color: #008000\">\"/usr/local/lib/python3.11/site-packages/openai/api_resources/abstract/engine_api_reso</span>\n",
       "<span style=\"color: #7fbfbf; text-decoration-color: #7fbfbf\">                    </span>         <span style=\"color: #008000; text-decoration-color: #008000\">urce.py\"</span>, line <span style=\"color: #008080; text-decoration-color: #008080; font-weight: bold\">153</span>, in create                                                         \n",
       "<span style=\"color: #7fbfbf; text-decoration-color: #7fbfbf\">                    </span>             response, _, api_key = <span style=\"color: #800080; text-decoration-color: #800080; font-weight: bold\">requestor.request</span><span style=\"font-weight: bold\">(</span>                                         \n",
       "<span style=\"color: #7fbfbf; text-decoration-color: #7fbfbf\">                    </span>                                    ^^^^^^^^^^^^^^^^^^                                         \n",
       "<span style=\"color: #7fbfbf; text-decoration-color: #7fbfbf\">                    </span>           File <span style=\"color: #008000; text-decoration-color: #008000\">\"/usr/local/lib/python3.11/site-packages/openai/api_requestor.py\"</span>, line <span style=\"color: #008080; text-decoration-color: #008080; font-weight: bold\">298</span>, in\n",
       "<span style=\"color: #7fbfbf; text-decoration-color: #7fbfbf\">                    </span>         request                                                                               \n",
       "<span style=\"color: #7fbfbf; text-decoration-color: #7fbfbf\">                    </span>             resp, got_stream = <span style=\"color: #800080; text-decoration-color: #800080; font-weight: bold\">self._interpret_response</span><span style=\"font-weight: bold\">(</span>result, stream<span style=\"font-weight: bold\">)</span>                       \n",
       "<span style=\"color: #7fbfbf; text-decoration-color: #7fbfbf\">                    </span>                                ^^^^^^^^^^^^^^^^^^^^^^^^^^^^^^^^^^^^^^^^                       \n",
       "<span style=\"color: #7fbfbf; text-decoration-color: #7fbfbf\">                    </span>           File <span style=\"color: #008000; text-decoration-color: #008000\">\"/usr/local/lib/python3.11/site-packages/openai/api_requestor.py\"</span>, line <span style=\"color: #008080; text-decoration-color: #008080; font-weight: bold\">700</span>, in\n",
       "<span style=\"color: #7fbfbf; text-decoration-color: #7fbfbf\">                    </span>         _interpret_response                                                                   \n",
       "<span style=\"color: #7fbfbf; text-decoration-color: #7fbfbf\">                    </span>             <span style=\"color: #800080; text-decoration-color: #800080; font-weight: bold\">self._interpret_response_line</span><span style=\"font-weight: bold\">(</span>                                                    \n",
       "<span style=\"color: #7fbfbf; text-decoration-color: #7fbfbf\">                    </span>           File <span style=\"color: #008000; text-decoration-color: #008000\">\"/usr/local/lib/python3.11/site-packages/openai/api_requestor.py\"</span>, line <span style=\"color: #008080; text-decoration-color: #008080; font-weight: bold\">765</span>, in\n",
       "<span style=\"color: #7fbfbf; text-decoration-color: #7fbfbf\">                    </span>         _interpret_response_line                                                              \n",
       "<span style=\"color: #7fbfbf; text-decoration-color: #7fbfbf\">                    </span>             raise <span style=\"color: #800080; text-decoration-color: #800080; font-weight: bold\">self.handle_error_response</span><span style=\"font-weight: bold\">(</span>                                                 \n",
       "<span style=\"color: #7fbfbf; text-decoration-color: #7fbfbf\">                    </span>         openai.error.RateLimitError: You exceeded your current quota, please check your plan  \n",
       "<span style=\"color: #7fbfbf; text-decoration-color: #7fbfbf\">                    </span>         and billing details.                                                                  \n",
       "</pre>\n"
      ],
      "text/plain": [
       "\u001b[2;36m[10/03/23 00:39:07]\u001b[0m\u001b[2;36m \u001b[0m\u001b[1;31mERROR   \u001b[0m ToolkitTask db4f51a5d6794984ba523b36538e860d                                          \n",
       "\u001b[2;36m                    \u001b[0m         You exceeded your current quota, please check your plan and billing details.          \n",
       "\u001b[2;36m                    \u001b[0m         Traceback \u001b[1m(\u001b[0mmost recent call last\u001b[1m)\u001b[0m:                                                    \n",
       "\u001b[2;36m                    \u001b[0m           File \u001b[32m\"/usr/local/lib/python3.11/site-packages/griptape/tasks/base_task.py\"\u001b[0m, line    \n",
       "\u001b[2;36m                    \u001b[0m         \u001b[1;36m117\u001b[0m, in execute                                                                       \n",
       "\u001b[2;36m                    \u001b[0m             self.output = \u001b[1;35mself.run\u001b[0m\u001b[1m(\u001b[0m\u001b[1m)\u001b[0m                                                          \n",
       "\u001b[2;36m                    \u001b[0m                           ^^^^^^^^^^                                                          \n",
       "\u001b[2;36m                    \u001b[0m           File \u001b[32m\"/usr/local/lib/python3.11/site-packages/griptape/tasks/toolkit_task.py\"\u001b[0m, line \n",
       "\u001b[2;36m                    \u001b[0m         \u001b[1;36m160\u001b[0m, in run                                                                           \n",
       "\u001b[2;36m                    \u001b[0m             \u001b[1;35mself.active_driver\u001b[0m\u001b[1m(\u001b[0m\u001b[1m)\u001b[0m\u001b[1;35m.run\u001b[0m\u001b[1m(\u001b[0m\u001b[33mprompt_stack\u001b[0m=\u001b[35mself\u001b[0m.prompt_stack\u001b[1m)\u001b[0m\u001b[1;35m.to_text\u001b[0m\u001b[1m(\u001b[0m\u001b[1m)\u001b[0m                \n",
       "\u001b[2;36m                    \u001b[0m             ^^^^^^^^^^^^^^^^^^^^^^^^^^^^^^^^^^^^^^^^^^^^^^^^^^^^^^^^                          \n",
       "\u001b[2;36m                    \u001b[0m           File                                                                                \n",
       "\u001b[2;36m                    \u001b[0m         \u001b[32m\"/usr/local/lib/python3.11/site-packages/griptape/drivers/prompt/base_prompt_driver.py\u001b[0m\n",
       "\u001b[2;36m                    \u001b[0m         \u001b[32m\"\u001b[0m, line \u001b[1;36m45\u001b[0m, in run                                                                    \n",
       "\u001b[2;36m                    \u001b[0m             for attempt in \u001b[1;35mself.retrying\u001b[0m\u001b[1m(\u001b[0m\u001b[1m)\u001b[0m:                                                   \n",
       "\u001b[2;36m                    \u001b[0m           File \u001b[32m\"/usr/local/lib/python3.11/site-packages/tenacity/__init__.py\"\u001b[0m, line \u001b[1;36m347\u001b[0m, in   \n",
       "\u001b[2;36m                    \u001b[0m         __iter__                                                                              \n",
       "\u001b[2;36m                    \u001b[0m             do = \u001b[1;35mself.iter\u001b[0m\u001b[1m(\u001b[0m\u001b[33mretry_state\u001b[0m=\u001b[35mretry_state\u001b[0m\u001b[1m)\u001b[0m                                           \n",
       "\u001b[2;36m                    \u001b[0m                  ^^^^^^^^^^^^^^^^^^^^^^^^^^^^^^^^^^                                           \n",
       "\u001b[2;36m                    \u001b[0m           File \u001b[32m\"/usr/local/lib/python3.11/site-packages/tenacity/__init__.py\"\u001b[0m, line \u001b[1;36m325\u001b[0m, in   \n",
       "\u001b[2;36m                    \u001b[0m         iter                                                                                  \n",
       "\u001b[2;36m                    \u001b[0m             raise \u001b[1;35mretry_exc.reraise\u001b[0m\u001b[1m(\u001b[0m\u001b[1m)\u001b[0m                                                         \n",
       "\u001b[2;36m                    \u001b[0m                   ^^^^^^^^^^^^^^^^^^^                                                         \n",
       "\u001b[2;36m                    \u001b[0m           File \u001b[32m\"/usr/local/lib/python3.11/site-packages/tenacity/__init__.py\"\u001b[0m, line \u001b[1;36m158\u001b[0m, in   \n",
       "\u001b[2;36m                    \u001b[0m         reraise                                                                               \n",
       "\u001b[2;36m                    \u001b[0m             raise \u001b[1;35mself.last_attempt.result\u001b[0m\u001b[1m(\u001b[0m\u001b[1m)\u001b[0m                                                  \n",
       "\u001b[2;36m                    \u001b[0m                   ^^^^^^^^^^^^^^^^^^^^^^^^^^                                                  \n",
       "\u001b[2;36m                    \u001b[0m           File \u001b[32m\"/usr/local/lib/python3.11/concurrent/futures/_base.py\"\u001b[0m, line \u001b[1;36m449\u001b[0m, in result   \n",
       "\u001b[2;36m                    \u001b[0m             return \u001b[1;35mself.__get_result\u001b[0m\u001b[1m(\u001b[0m\u001b[1m)\u001b[0m                                                        \n",
       "\u001b[2;36m                    \u001b[0m                    ^^^^^^^^^^^^^^^^^^^                                                        \n",
       "\u001b[2;36m                    \u001b[0m           File \u001b[32m\"/usr/local/lib/python3.11/concurrent/futures/_base.py\"\u001b[0m, line \u001b[1;36m401\u001b[0m, in          \n",
       "\u001b[2;36m                    \u001b[0m         __get_result                                                                          \n",
       "\u001b[2;36m                    \u001b[0m             raise self._exception                                                             \n",
       "\u001b[2;36m                    \u001b[0m           File                                                                                \n",
       "\u001b[2;36m                    \u001b[0m         \u001b[32m\"/usr/local/lib/python3.11/site-packages/griptape/drivers/prompt/base_prompt_driver.py\u001b[0m\n",
       "\u001b[2;36m                    \u001b[0m         \u001b[32m\"\u001b[0m, line \u001b[1;36m54\u001b[0m, in run                                                                    \n",
       "\u001b[2;36m                    \u001b[0m             result = \u001b[1;35mself.try_run\u001b[0m\u001b[1m(\u001b[0mprompt_stack\u001b[1m)\u001b[0m                                               \n",
       "\u001b[2;36m                    \u001b[0m                      ^^^^^^^^^^^^^^^^^^^^^^^^^^                                               \n",
       "\u001b[2;36m                    \u001b[0m           File                                                                                \n",
       "\u001b[2;36m                    \u001b[0m         \u001b[32m\"/usr/local/lib/python3.11/site-packages/griptape/drivers/prompt/openai_chat_prompt_dr\u001b[0m\n",
       "\u001b[2;36m                    \u001b[0m         \u001b[32miver.py\"\u001b[0m, line \u001b[1;36m38\u001b[0m, in try_run                                                         \n",
       "\u001b[2;36m                    \u001b[0m             result = \u001b[1;35mopenai.ChatCompletion.create\u001b[0m\u001b[1m(\u001b[0m**\u001b[1;35mself._base_params\u001b[0m\u001b[1m(\u001b[0mprompt_stack\u001b[1m)\u001b[0m\u001b[1m)\u001b[0m          \n",
       "\u001b[2;36m                    \u001b[0m                      ^^^^^^^^^^^^^^^^^^^^^^^^^^^^^^^^^^^^^^^^^^^^^^^^^^^^^^^^^^^^^^^          \n",
       "\u001b[2;36m                    \u001b[0m           File                                                                                \n",
       "\u001b[2;36m                    \u001b[0m         \u001b[32m\"/usr/local/lib/python3.11/site-packages/openai/api_resources/chat_completion.py\"\u001b[0m,    \n",
       "\u001b[2;36m                    \u001b[0m         line \u001b[1;36m25\u001b[0m, in create                                                                    \n",
       "\u001b[2;36m                    \u001b[0m             return \u001b[1;35msuper\u001b[0m\u001b[1m(\u001b[0m\u001b[1m)\u001b[0m\u001b[1;35m.create\u001b[0m\u001b[1m(\u001b[0m*args, **kwargs\u001b[1m)\u001b[0m                                            \n",
       "\u001b[2;36m                    \u001b[0m                    ^^^^^^^^^^^^^^^^^^^^^^^^^^^^^^^                                            \n",
       "\u001b[2;36m                    \u001b[0m           File                                                                                \n",
       "\u001b[2;36m                    \u001b[0m         \u001b[32m\"/usr/local/lib/python3.11/site-packages/openai/api_resources/abstract/engine_api_reso\u001b[0m\n",
       "\u001b[2;36m                    \u001b[0m         \u001b[32murce.py\"\u001b[0m, line \u001b[1;36m153\u001b[0m, in create                                                         \n",
       "\u001b[2;36m                    \u001b[0m             response, _, api_key = \u001b[1;35mrequestor.request\u001b[0m\u001b[1m(\u001b[0m                                         \n",
       "\u001b[2;36m                    \u001b[0m                                    ^^^^^^^^^^^^^^^^^^                                         \n",
       "\u001b[2;36m                    \u001b[0m           File \u001b[32m\"/usr/local/lib/python3.11/site-packages/openai/api_requestor.py\"\u001b[0m, line \u001b[1;36m298\u001b[0m, in\n",
       "\u001b[2;36m                    \u001b[0m         request                                                                               \n",
       "\u001b[2;36m                    \u001b[0m             resp, got_stream = \u001b[1;35mself._interpret_response\u001b[0m\u001b[1m(\u001b[0mresult, stream\u001b[1m)\u001b[0m                       \n",
       "\u001b[2;36m                    \u001b[0m                                ^^^^^^^^^^^^^^^^^^^^^^^^^^^^^^^^^^^^^^^^                       \n",
       "\u001b[2;36m                    \u001b[0m           File \u001b[32m\"/usr/local/lib/python3.11/site-packages/openai/api_requestor.py\"\u001b[0m, line \u001b[1;36m700\u001b[0m, in\n",
       "\u001b[2;36m                    \u001b[0m         _interpret_response                                                                   \n",
       "\u001b[2;36m                    \u001b[0m             \u001b[1;35mself._interpret_response_line\u001b[0m\u001b[1m(\u001b[0m                                                    \n",
       "\u001b[2;36m                    \u001b[0m           File \u001b[32m\"/usr/local/lib/python3.11/site-packages/openai/api_requestor.py\"\u001b[0m, line \u001b[1;36m765\u001b[0m, in\n",
       "\u001b[2;36m                    \u001b[0m         _interpret_response_line                                                              \n",
       "\u001b[2;36m                    \u001b[0m             raise \u001b[1;35mself.handle_error_response\u001b[0m\u001b[1m(\u001b[0m                                                 \n",
       "\u001b[2;36m                    \u001b[0m         openai.error.RateLimitError: You exceeded your current quota, please check your plan  \n",
       "\u001b[2;36m                    \u001b[0m         and billing details.                                                                  \n"
      ]
     },
     "metadata": {},
     "output_type": "display_data"
    },
    {
     "name": "stdout",
     "output_type": "stream",
     "text": [
      "You exceeded your current quota, please check your plan and billing details.\n"
     ]
    }
   ],
   "source": [
    "response = conv.run(\"remind me what my ability score distribution is.\")"
   ]
  }
 ],
 "metadata": {
  "kernelspec": {
   "display_name": "Python 3 (ipykernel)",
   "language": "python",
   "name": "python3"
  },
  "language_info": {
   "codemirror_mode": {
    "name": "ipython",
    "version": 3
   },
   "file_extension": ".py",
   "mimetype": "text/x-python",
   "name": "python",
   "nbconvert_exporter": "python",
   "pygments_lexer": "ipython3",
   "version": "3.11.5"
  }
 },
 "nbformat": 4,
 "nbformat_minor": 5
}
