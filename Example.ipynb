{
 "cells": [
  {
   "cell_type": "code",
   "execution_count": 1,
   "id": "4fbc9645-d882-4382-9e3d-1cf67998bd99",
   "metadata": {},
   "outputs": [
    {
     "data": {
      "text/plain": [
       "True"
      ]
     },
     "execution_count": 1,
     "metadata": {},
     "output_type": "execute_result"
    }
   ],
   "source": [
    "#from openai_dm.character_sheet import *\n",
    "from openai_dm.nodes import *\n",
    "from openai_dm.conversation import *\n",
    "\n",
    "import openai\n",
    "from dotenv import load_dotenv\n",
    "load_dotenv()"
   ]
  },
  {
   "cell_type": "code",
   "execution_count": 2,
   "id": "b0377b8b-5a3d-4a2b-b632-4b92de10a424",
   "metadata": {},
   "outputs": [
    {
     "name": "stdout",
     "output_type": "stream",
     "text": [
      "Alright, let's choose your race. Here are the options: Human, Elf, Dwarf, Halfling, Dragonborn, Gnome, Half-Elf, Half-Orc, Tiefling. Each race has unique traits and abilities. Do you have a preference?\n"
     ]
    }
   ],
   "source": [
    "conv = Conversation(100, gpt4=True)"
   ]
  },
  {
   "cell_type": "code",
   "execution_count": 3,
   "id": "6cd06ee8-a915-4a03-8bb2-ebc6dbbc8c83",
   "metadata": {},
   "outputs": [
    {
     "name": "stdout",
     "output_type": "stream",
     "text": [
      "None\n",
      "None\n"
     ]
    }
   ],
   "source": [
    "print(conv.character_sheet.race)\n",
    "print(conv.character_sheet.class_name)"
   ]
  },
  {
   "cell_type": "code",
   "execution_count": 4,
   "id": "202a7a32-f1e0-4d2f-9df0-18bf7b606616",
   "metadata": {},
   "outputs": [
    {
     "data": {
      "text/plain": [
       "'Dragonborns are humanoid dragons. They are proud, honorable and they breathe elemental energy (fire, ice, etc.) based on their draconic ancestry. They also have resistance to the same type of energy.'"
      ]
     },
     "execution_count": 4,
     "metadata": {},
     "output_type": "execute_result"
    }
   ],
   "source": [
    "conv.send_message(\"What is a dragonborn\")"
   ]
  },
  {
   "cell_type": "code",
   "execution_count": 5,
   "id": "c5b6665f-295f-44cf-9080-27626905e645",
   "metadata": {},
   "outputs": [
    {
     "data": {
      "text/plain": [
       "\"Dragonborns can be rogues, but they don't have racial bonuses to Dexterity or other typical rogue skills. They are often better suited to classes like Paladin or Fighter. However, your character's effectiveness also depends on your play style and choices.\""
      ]
     },
     "execution_count": 5,
     "metadata": {},
     "output_type": "execute_result"
    }
   ],
   "source": [
    "conv.send_message(\"Do dragonbon make good rogues?\")"
   ]
  },
  {
   "cell_type": "code",
   "execution_count": 6,
   "id": "ef41e8f7-39ca-45a2-8037-8c43b8c994ee",
   "metadata": {},
   "outputs": [
    {
     "data": {
      "text/plain": [
       "'Yes, Halflings make excellent rogues. They have a racial bonus to Dexterity, which is a key attribute for rogues. They also have the \"Lucky\" trait, which can help avoid critical failures.'"
      ]
     },
     "execution_count": 6,
     "metadata": {},
     "output_type": "execute_result"
    }
   ],
   "source": [
    "conv.send_message(\"are halflings better rogues?\")"
   ]
  },
  {
   "cell_type": "code",
   "execution_count": 7,
   "id": "c771faf7-069b-48ac-9f5d-2a01cfa40874",
   "metadata": {},
   "outputs": [
    {
     "data": {
      "text/plain": [
       "'Are you sure you want to choose Tiefling as your race?'"
      ]
     },
     "execution_count": 7,
     "metadata": {},
     "output_type": "execute_result"
    }
   ],
   "source": [
    "conv.send_message(\"Ok, I'll be a tiefling\")"
   ]
  },
  {
   "cell_type": "code",
   "execution_count": 8,
   "id": "94110fb1-31c3-4ca7-b5d6-78c5dd9628e2",
   "metadata": {
    "scrolled": true
   },
   "outputs": [
    {
     "name": "stdout",
     "output_type": "stream",
     "text": [
      "Sure, let's start. In D&D 5e, there are 12 classes to choose from: Barbarian, Bard, Cleric, Druid, Fighter, Monk, Paladin, Ranger, Rogue, Sorcerer, Warlock, and Wizard. Each class has unique abilities and characteristics. Do you have a preference?\n",
      "all done\n"
     ]
    },
    {
     "data": {
      "text/plain": [
       "'{\"race\": \"Tiefling\"}'"
      ]
     },
     "execution_count": 8,
     "metadata": {},
     "output_type": "execute_result"
    }
   ],
   "source": [
    "conv.send_message(\"Yes.\")"
   ]
  },
  {
   "cell_type": "code",
   "execution_count": 9,
   "id": "43d771b2-48f0-453e-9d99-838f1feb5b82",
   "metadata": {},
   "outputs": [
    {
     "name": "stdout",
     "output_type": "stream",
     "text": [
      "tiefling\n",
      "None\n"
     ]
    }
   ],
   "source": [
    "print(conv.character_sheet.race)\n",
    "print(conv.character_sheet.class_name)"
   ]
  },
  {
   "cell_type": "code",
   "execution_count": 10,
   "id": "d2edf8e0-b086-4da5-9497-458f98a1d337",
   "metadata": {},
   "outputs": [
    {
     "data": {
      "text/plain": [
       "'Wizards learn magic through study and have a wide range of spells. They can prepare a different set of spells each day. Sorcerers, on the other hand, have innate magic, usually from a magical ancestor. They know fewer spells, but can cast them more flexibly without preparing them in advance.'"
      ]
     },
     "execution_count": 10,
     "metadata": {},
     "output_type": "execute_result"
    }
   ],
   "source": [
    "conv.send_message(\"What's the difference between wizards and sorcerors?\")"
   ]
  },
  {
   "cell_type": "code",
   "execution_count": 11,
   "id": "84fb9b0b-6fb3-44cd-851e-83d62283d92e",
   "metadata": {
    "scrolled": true
   },
   "outputs": [
    {
     "data": {
      "text/plain": [
       "\"Yes, Wizards do have the ability to cast spells as rituals. This means they can cast a spell as a ritual if it has the ritual tag and they have the spell in their spellbook. They don't need to have it prepared.\\n\\nSorcerers, on the other hand, do not have the ability to cast spells as rituals. They can only cast the spells they know using their spell slots.\""
      ]
     },
     "execution_count": 11,
     "metadata": {},
     "output_type": "execute_result"
    }
   ],
   "source": [
    "conv.send_message(\"Do wizards get ritual casting? What about sorcerorors?\")"
   ]
  },
  {
   "cell_type": "code",
   "execution_count": 12,
   "id": "14fa318d-b70e-4238-a676-8e6070ae43bf",
   "metadata": {},
   "outputs": [
    {
     "data": {
      "text/plain": [
       "\"I'm glad you think so! So, have you decided on a class? Would you like to be a Wizard, a Sorcerer, or perhaps something else?\""
      ]
     },
     "execution_count": 12,
     "metadata": {},
     "output_type": "execute_result"
    }
   ],
   "source": [
    "conv.send_message(\"Oh, that's cool.\")"
   ]
  },
  {
   "cell_type": "code",
   "execution_count": 14,
   "id": "55bc54f5-6638-41f4-8854-917d582e40bd",
   "metadata": {},
   "outputs": [
    {
     "data": {
      "text/plain": [
       "'Warlocks are a bit different. They gain their powers through a pact with a powerful entity. This could be a demon, a fey creature, an ancient god, or other cosmic beings. \\n\\nTheir spellcasting is unique: they have fewer spell slots than other casters, but their slots replenish on a short rest, not just a long rest. They also have invocations, which are special abilities or enhancements that provide a lot of versatility and customization. \\n\\nFinally, the entity they make'"
      ]
     },
     "execution_count": 14,
     "metadata": {},
     "output_type": "execute_result"
    }
   ],
   "source": [
    "conv.send_message(\"What about warlocks? Are they similar to sorceroros?\")"
   ]
  },
  {
   "cell_type": "code",
   "execution_count": 15,
   "id": "f66059a8-c6c8-4047-9412-8e6a17fb44c2",
   "metadata": {},
   "outputs": [
    {
     "name": "stdout",
     "output_type": "stream",
     "text": [
      "all done!\n"
     ]
    }
   ],
   "source": [
    "conv.send_message(\"Nah, I'll be a sorceror\")"
   ]
  },
  {
   "cell_type": "code",
   "execution_count": 16,
   "id": "3614a23a-2b53-41e7-866e-a2962cf8eafe",
   "metadata": {},
   "outputs": [
    {
     "name": "stdout",
     "output_type": "stream",
     "text": [
      "human\n",
      "Sorcerer\n"
     ]
    }
   ],
   "source": [
    "print(conv.character_sheet.race)\n",
    "print(conv.character_sheet.class_name)"
   ]
  }
 ],
 "metadata": {
  "kernelspec": {
   "display_name": "Python 3 (ipykernel)",
   "language": "python",
   "name": "python3"
  },
  "language_info": {
   "codemirror_mode": {
    "name": "ipython",
    "version": 3
   },
   "file_extension": ".py",
   "mimetype": "text/x-python",
   "name": "python",
   "nbconvert_exporter": "python",
   "pygments_lexer": "ipython3",
   "version": "3.9.18"
  }
 },
 "nbformat": 4,
 "nbformat_minor": 5
}
