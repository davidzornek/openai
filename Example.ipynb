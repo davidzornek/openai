{
 "cells": [
  {
   "cell_type": "code",
   "execution_count": 1,
   "id": "4fbc9645-d882-4382-9e3d-1cf67998bd99",
   "metadata": {},
   "outputs": [
    {
     "data": {
      "text/plain": [
       "True"
      ]
     },
     "execution_count": 1,
     "metadata": {},
     "output_type": "execute_result"
    }
   ],
   "source": [
    "#from src.character_sheet import *\n",
    "from src.nodes import *\n",
    "from src.conversation import *\n",
    "\n",
    "import openai\n",
    "from dotenv import load_dotenv\n",
    "load_dotenv()"
   ]
  },
  {
   "cell_type": "code",
   "execution_count": 2,
   "id": "b0377b8b-5a3d-4a2b-b632-4b92de10a424",
   "metadata": {},
   "outputs": [
    {
     "name": "stdout",
     "output_type": "stream",
     "text": [
      "DM: First, let's choose your race. The main races are: Human, Elf, Dwarf, Halfling, Dragonborn, Gnome, Half-Elf, Half-Orc, and Tiefling. Each has unique traits and abilities. Which interests you?\n"
     ]
    }
   ],
   "source": [
    "conv = Conversation(100, gpt4=True)"
   ]
  },
  {
   "cell_type": "code",
   "execution_count": 3,
   "id": "6cd06ee8-a915-4a03-8bb2-ebc6dbbc8c83",
   "metadata": {},
   "outputs": [
    {
     "name": "stdout",
     "output_type": "stream",
     "text": [
      "human\n",
      "Fighter\n"
     ]
    }
   ],
   "source": [
    "print(conv.character_sheet.race)\n",
    "print(conv.character_sheet.class_name)"
   ]
  },
  {
   "cell_type": "code",
   "execution_count": 4,
   "id": "202a7a32-f1e0-4d2f-9df0-18bf7b606616",
   "metadata": {},
   "outputs": [
    {
     "data": {
      "text/plain": [
       "'Are you sure you want to choose Aasimar as your race?'"
      ]
     },
     "execution_count": 4,
     "metadata": {},
     "output_type": "execute_result"
    }
   ],
   "source": [
    "conv.send_message(\"You didn't mention Aasimar.\")"
   ]
  },
  {
   "cell_type": "code",
   "execution_count": 5,
   "id": "c5b6665f-295f-44cf-9080-27626905e645",
   "metadata": {},
   "outputs": [
    {
     "data": {
      "text/plain": [
       "'Aasimar are humans with a celestial heritage, which can manifest in a variety of ways. They have a strong moral compass, radiant soul, healing hands, and resistance to necrotic and radiant damage. They also have subraces: Protector, Scourge, and Fallen.'"
      ]
     },
     "execution_count": 5,
     "metadata": {},
     "output_type": "execute_result"
    }
   ],
   "source": [
    "conv.send_message(\"I want to hear more about Aasimar before making a decision.\")"
   ]
  },
  {
   "cell_type": "code",
   "execution_count": 6,
   "id": "ef41e8f7-39ca-45a2-8037-8c43b8c994ee",
   "metadata": {},
   "outputs": [
    {
     "data": {
      "text/plain": [
       "'Tieflings are beings with a demonic or infernal heritage. They have a natural affinity for magic, resistance to fire damage, and can innately cast certain spells. Their appearance is often striking, with horns, tails, and vibrant eyes.'"
      ]
     },
     "execution_count": 6,
     "metadata": {},
     "output_type": "execute_result"
    }
   ],
   "source": [
    "conv.send_message(\"That doesn't sound fun. What are tiefling like?\")"
   ]
  },
  {
   "cell_type": "code",
   "execution_count": 7,
   "id": "c771faf7-069b-48ac-9f5d-2a01cfa40874",
   "metadata": {},
   "outputs": [
    {
     "data": {
      "text/plain": [
       "'Are you sure you want to choose Tiefling as your race?'"
      ]
     },
     "execution_count": 7,
     "metadata": {},
     "output_type": "execute_result"
    }
   ],
   "source": [
    "conv.send_message(\"Ok, I'll be a tiefling\")"
   ]
  },
  {
   "cell_type": "code",
   "execution_count": 8,
   "id": "94110fb1-31c3-4ca7-b5d6-78c5dd9628e2",
   "metadata": {
    "scrolled": true
   },
   "outputs": [
    {
     "name": "stdout",
     "output_type": "stream",
     "text": [
      "class\n",
      "Sure, here are the basic classes in D&D 5e:\n",
      "\n",
      "1. Barbarian: A fierce warrior of primitive background who can enter a battle rage.\n",
      "2. Bard: An inspiring magician whose power echoes the music of creation.\n",
      "3. Cleric: A priestly champion who wields divine magic in service of a higher power.\n",
      "4. Druid: A priest of the Old Faith, wielding the powers of nature and adopting animal forms.\n",
      "5. Fighter: A master of martial combat, skilled\n"
     ]
    }
   ],
   "source": [
    "conv.send_message(\"Yes.\")"
   ]
  },
  {
   "cell_type": "code",
   "execution_count": 8,
   "id": "43d771b2-48f0-453e-9d99-838f1feb5b82",
   "metadata": {},
   "outputs": [
    {
     "name": "stdout",
     "output_type": "stream",
     "text": [
      "human\n",
      "Clerics\n"
     ]
    }
   ],
   "source": [
    "print(conv.character_sheet.race)\n",
    "print(conv.character_sheet.class_name)"
   ]
  },
  {
   "cell_type": "code",
   "execution_count": 10,
   "id": "d2edf8e0-b086-4da5-9497-458f98a1d337",
   "metadata": {},
   "outputs": [
    {
     "data": {
      "text/plain": [
       "'Wizards are scholarly magic-users who learn spells from books. They have a wide range of spells but must prepare a specific list each day. They can also specialize in a school of magic for additional benefits.\\n\\nSorcerers, on the other hand, have innate magic, often from a magical bloodline. They know fewer spells but can cast any they know without preparation. They also have Sorcery Points, which they can use to modify spells in various ways.'"
      ]
     },
     "execution_count": 10,
     "metadata": {},
     "output_type": "execute_result"
    }
   ],
   "source": [
    "conv.send_message(\"What's the difference between wizards and sorcerors?\")"
   ]
  },
  {
   "cell_type": "code",
   "execution_count": 11,
   "id": "84fb9b0b-6fb3-44cd-851e-83d62283d92e",
   "metadata": {},
   "outputs": [
    {
     "data": {
      "text/plain": [
       "'Sorcerers can use Sorcery Points to modify spells through a feature called Metamagic. Examples of Metamagic options include:\\n\\n1. Twin Spell: Spend points to target a second creature with the same spell.\\n2. Quickened Spell: Spend points to cast a spell as a bonus action instead of an action.\\n3. Distant Spell: Spend points to double the range of a spell.\\n\\nThese are just a few examples. The Metamagic options allow Sorcerers to be'"
      ]
     },
     "execution_count": 11,
     "metadata": {},
     "output_type": "execute_result"
    }
   ],
   "source": [
    "conv.send_message(\"How can they modify spells?\")"
   ]
  },
  {
   "cell_type": "code",
   "execution_count": 13,
   "id": "14fa318d-b70e-4238-a676-8e6070ae43bf",
   "metadata": {},
   "outputs": [
    {
     "data": {
      "text/plain": [
       "\"I'm glad you think so! Do you want to play as a Sorcerer, or is there another class you're interested in?\""
      ]
     },
     "execution_count": 13,
     "metadata": {},
     "output_type": "execute_result"
    }
   ],
   "source": [
    "conv.send_message(\"Oh, that's cool.\")"
   ]
  },
  {
   "cell_type": "code",
   "execution_count": 14,
   "id": "55bc54f5-6638-41f4-8854-917d582e40bd",
   "metadata": {},
   "outputs": [
    {
     "data": {
      "text/plain": [
       "'Warlocks are a bit different. They gain their powers through a pact with a powerful entity. This could be a demon, a fey creature, an ancient god, or other cosmic beings. \\n\\nTheir spellcasting is unique: they have fewer spell slots than other casters, but their slots replenish on a short rest, not just a long rest. They also have invocations, which are special abilities or enhancements that provide a lot of versatility and customization. \\n\\nFinally, the entity they make'"
      ]
     },
     "execution_count": 14,
     "metadata": {},
     "output_type": "execute_result"
    }
   ],
   "source": [
    "conv.send_message(\"What about warlocks? Are they similar to sorceroros?\")"
   ]
  },
  {
   "cell_type": "code",
   "execution_count": 15,
   "id": "f66059a8-c6c8-4047-9412-8e6a17fb44c2",
   "metadata": {},
   "outputs": [
    {
     "name": "stdout",
     "output_type": "stream",
     "text": [
      "all done!\n"
     ]
    }
   ],
   "source": [
    "conv.send_message(\"Nah, I'll be a sorceror\")"
   ]
  },
  {
   "cell_type": "code",
   "execution_count": 16,
   "id": "3614a23a-2b53-41e7-866e-a2962cf8eafe",
   "metadata": {},
   "outputs": [
    {
     "name": "stdout",
     "output_type": "stream",
     "text": [
      "human\n",
      "Sorcerer\n"
     ]
    }
   ],
   "source": [
    "print(conv.character_sheet.race)\n",
    "print(conv.character_sheet.class_name)"
   ]
  }
 ],
 "metadata": {
  "kernelspec": {
   "display_name": "Python 3 (ipykernel)",
   "language": "python",
   "name": "python3"
  },
  "language_info": {
   "codemirror_mode": {
    "name": "ipython",
    "version": 3
   },
   "file_extension": ".py",
   "mimetype": "text/x-python",
   "name": "python",
   "nbconvert_exporter": "python",
   "pygments_lexer": "ipython3",
   "version": "3.9.18"
  }
 },
 "nbformat": 4,
 "nbformat_minor": 5
}
