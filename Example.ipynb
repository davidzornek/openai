{
 "cells": [
  {
   "cell_type": "code",
   "execution_count": 1,
   "id": "57e3a7c7",
   "metadata": {},
   "outputs": [],
   "source": [
    "import os\n",
    "import openai\n",
    "import json\n",
    "from dotenv import load_dotenv\n",
    "\n",
    "from src.conversation import RaceSelection"
   ]
  },
  {
   "cell_type": "code",
   "execution_count": 2,
   "id": "4b74771e",
   "metadata": {},
   "outputs": [
    {
     "name": "stdout",
     "output_type": "stream",
     "text": [
      "DM: First, let's choose your race. The main races are: Human, Elf, Dwarf, Halfling, Dragonborn, Gnome, Half-Elf, Half-Orc, and Tiefling. Each has unique traits and abilities. Which interests you?\n"
     ]
    }
   ],
   "source": [
    "creator = RaceSelection(max_tokens=100, gpt4=True)"
   ]
  },
  {
   "cell_type": "code",
   "execution_count": 3,
   "id": "a8576464",
   "metadata": {},
   "outputs": [
    {
     "data": {
      "text/plain": [
       "'Tieflings are a race of beings with a celestial or otherworldly heritage. They have a natural affinity for magic, and their appearance often reflects their infernal lineage with horns, tails, and glowing eyes. They have a +2 bonus to Charisma and +1 to Intelligence. They also have resistance to fire damage and can cast certain spells innately.'"
      ]
     },
     "execution_count": 3,
     "metadata": {},
     "output_type": "execute_result"
    }
   ],
   "source": [
    "creator.send_message(\"Tell me more about tieflings.\")"
   ]
  },
  {
   "cell_type": "code",
   "execution_count": 4,
   "id": "d46c7133",
   "metadata": {},
   "outputs": [
    {
     "data": {
      "text/plain": [
       "\"Dragonborn are humanoid dragons. They're strong and charismatic, with a breath weapon and resistance to a type of damage based on their draconic ancestry.\""
      ]
     },
     "execution_count": 4,
     "metadata": {},
     "output_type": "execute_result"
    }
   ],
   "source": [
    "creator.send_message(\"What about dragonborn?\")"
   ]
  },
  {
   "cell_type": "code",
   "execution_count": 5,
   "id": "23ebfd55",
   "metadata": {},
   "outputs": [
    {
     "data": {
      "text/plain": [
       "'Are you sure about choosing Dragonborn as your race?'"
      ]
     },
     "execution_count": 5,
     "metadata": {},
     "output_type": "execute_result"
    }
   ],
   "source": [
    "creator.send_message(\"I'll be a dragonborn.\")"
   ]
  },
  {
   "cell_type": "code",
   "execution_count": 6,
   "id": "9bfff3c1",
   "metadata": {},
   "outputs": [
    {
     "data": {
      "text/plain": [
       "'Race chosen.'"
      ]
     },
     "execution_count": 6,
     "metadata": {},
     "output_type": "execute_result"
    }
   ],
   "source": [
    "creator.send_message(\"Yes, I'm sure.\")"
   ]
  },
  {
   "cell_type": "code",
   "execution_count": 8,
   "id": "7c299d12",
   "metadata": {},
   "outputs": [
    {
     "data": {
      "text/plain": [
       "{'prompt_tokens': 800,\n",
       " 'completion_tokens': 141,\n",
       " 'total_tokens': 941,\n",
       " 'prompt_cost': 0.0,\n",
       " 'completion_cost': 0.0,\n",
       " 'total_cost': 0.0}"
      ]
     },
     "execution_count": 8,
     "metadata": {},
     "output_type": "execute_result"
    }
   ],
   "source": [
    "creator.show_costs()"
   ]
  }
 ],
 "metadata": {
  "kernelspec": {
   "display_name": "Python 3 (ipykernel)",
   "language": "python",
   "name": "python3"
  },
  "language_info": {
   "codemirror_mode": {
    "name": "ipython",
    "version": 3
   },
   "file_extension": ".py",
   "mimetype": "text/x-python",
   "name": "python",
   "nbconvert_exporter": "python",
   "pygments_lexer": "ipython3",
   "version": "3.9.18"
  }
 },
 "nbformat": 4,
 "nbformat_minor": 5
}
