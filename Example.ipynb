{
 "cells": [
  {
   "cell_type": "code",
   "execution_count": 1,
   "id": "e65858f4-bc6d-4949-aa61-d626b3c1285a",
   "metadata": {},
   "outputs": [
    {
     "data": {
      "text/plain": [
       "True"
      ]
     },
     "execution_count": 1,
     "metadata": {},
     "output_type": "execute_result"
    }
   ],
   "source": [
    "from dotenv import load_dotenv\n",
    "from dataclasses import asdict\n",
    "\n",
    "from openai_dm.conversation import Conversation\n",
    "from openai_dm.character_sheet import AbilityScores, SavingThrowProficiencies, Character\n",
    "\n",
    "load_dotenv()"
   ]
  },
  {
   "cell_type": "markdown",
   "id": "b66f5cd1-b6a9-477f-ac08-b493df531d4b",
   "metadata": {},
   "source": [
    "# Some notes:\n",
    "- Guides the user through race selection, then class selection, then ability score assignment.\n",
    "- The character sheet (accessed with `conv.character_sheet`) is updated at the end of each selection.\n",
    "- Choosing a race automatically applies racial ability score bonuses, and choosing a class automatically applies saving throw proficiences.\n",
    "- Skill, tool, armor and weapon proficiences are not yet supported.\n",
    "- In the current implementation, the chatbot will break if a user tries to change a selection once it has already been made.\n",
    "- In this example, choices are made very quickly, without asking for a ton of assistance from the AI. Feel free to ask as many questions as you like before making a choice.\n",
    "- You may see a lot of rate limit warnings. They usually resolve with enough retries, but OpenAI's non-enterprise rate limiting is pretty tight when using conversational agents based on ReAct."
   ]
  },
  {
   "cell_type": "code",
   "execution_count": 2,
   "id": "fe98f4ea-70f4-4e5a-b3d2-5cce97394786",
   "metadata": {},
   "outputs": [
    {
     "name": "stdout",
     "output_type": "stream",
     "text": [
      "I'm the assistant DM, here to help with character creation.\n",
      "            Let's start with choosing a race\n"
     ]
    },
    {
     "data": {
      "text/html": [
       "<pre style=\"white-space:pre;overflow-x:auto;line-height:normal;font-family:Menlo,'DejaVu Sans Mono',consolas,'Courier New',monospace\"><span style=\"color: #7fbfbf; text-decoration-color: #7fbfbf\">[10/01/23 19:14:31] </span><span style=\"color: #000080; text-decoration-color: #000080\">INFO    </span> ToolkitTask 1830ee98e4784ebd95eaa799fab27786                                          \n",
       "<span style=\"color: #7fbfbf; text-decoration-color: #7fbfbf\">                    </span>         Input:                                                                                \n",
       "<span style=\"color: #7fbfbf; text-decoration-color: #7fbfbf\">                    </span>                     Introduce yourself to the user and tell them which part                   \n",
       "<span style=\"color: #7fbfbf; text-decoration-color: #7fbfbf\">                    </span>                     of character creation we're working on.                                   \n",
       "<span style=\"color: #7fbfbf; text-decoration-color: #7fbfbf\">                    </span>                                                                                               \n",
       "</pre>\n"
      ],
      "text/plain": [
       "\u001b[2;36m[10/01/23 19:14:31]\u001b[0m\u001b[2;36m \u001b[0m\u001b[34mINFO    \u001b[0m ToolkitTask 1830ee98e4784ebd95eaa799fab27786                                          \n",
       "\u001b[2;36m                    \u001b[0m         Input:                                                                                \n",
       "\u001b[2;36m                    \u001b[0m                     Introduce yourself to the user and tell them which part                   \n",
       "\u001b[2;36m                    \u001b[0m                     of character creation we're working on.                                   \n",
       "\u001b[2;36m                    \u001b[0m                                                                                               \n"
      ]
     },
     "metadata": {},
     "output_type": "display_data"
    },
    {
     "data": {
      "text/html": [
       "<pre style=\"white-space:pre;overflow-x:auto;line-height:normal;font-family:Menlo,'DejaVu Sans Mono',consolas,'Courier New',monospace\"><span style=\"color: #7fbfbf; text-decoration-color: #7fbfbf\">[10/01/23 19:14:34] </span><span style=\"color: #000080; text-decoration-color: #000080\">INFO    </span> ToolkitTask 1830ee98e4784ebd95eaa799fab27786                                          \n",
       "<span style=\"color: #7fbfbf; text-decoration-color: #7fbfbf\">                    </span>         Output: Hello! I'm your Dungeon Master assistant. Right now, we're working on choosing\n",
       "<span style=\"color: #7fbfbf; text-decoration-color: #7fbfbf\">                    </span>         a race for your character. This is an important step in character creation as it can  \n",
       "<span style=\"color: #7fbfbf; text-decoration-color: #7fbfbf\">                    </span>         influence your character's abilities and traits.                                      \n",
       "</pre>\n"
      ],
      "text/plain": [
       "\u001b[2;36m[10/01/23 19:14:34]\u001b[0m\u001b[2;36m \u001b[0m\u001b[34mINFO    \u001b[0m ToolkitTask 1830ee98e4784ebd95eaa799fab27786                                          \n",
       "\u001b[2;36m                    \u001b[0m         Output: Hello! I'm your Dungeon Master assistant. Right now, we're working on choosing\n",
       "\u001b[2;36m                    \u001b[0m         a race for your character. This is an important step in character creation as it can  \n",
       "\u001b[2;36m                    \u001b[0m         influence your character's abilities and traits.                                      \n"
      ]
     },
     "metadata": {},
     "output_type": "display_data"
    },
    {
     "data": {
      "text/html": [
       "<pre style=\"white-space:pre;overflow-x:auto;line-height:normal;font-family:Menlo,'DejaVu Sans Mono',consolas,'Courier New',monospace\"><span style=\"color: #7fbfbf; text-decoration-color: #7fbfbf\">                    </span><span style=\"color: #000080; text-decoration-color: #000080\">INFO    </span> ToolkitTask 1830ee98e4784ebd95eaa799fab27786                                          \n",
       "<span style=\"color: #7fbfbf; text-decoration-color: #7fbfbf\">                    </span>         Input: introduce yourself.                                                            \n",
       "</pre>\n"
      ],
      "text/plain": [
       "\u001b[2;36m                   \u001b[0m\u001b[2;36m \u001b[0m\u001b[34mINFO    \u001b[0m ToolkitTask 1830ee98e4784ebd95eaa799fab27786                                          \n",
       "\u001b[2;36m                    \u001b[0m         Input: introduce yourself.                                                            \n"
      ]
     },
     "metadata": {},
     "output_type": "display_data"
    },
    {
     "data": {
      "text/html": [
       "<pre style=\"white-space:pre;overflow-x:auto;line-height:normal;font-family:Menlo,'DejaVu Sans Mono',consolas,'Courier New',monospace\"><span style=\"color: #7fbfbf; text-decoration-color: #7fbfbf\">[10/01/23 19:14:37] </span><span style=\"color: #000080; text-decoration-color: #000080\">INFO    </span> ToolkitTask 1830ee98e4784ebd95eaa799fab27786                                          \n",
       "<span style=\"color: #7fbfbf; text-decoration-color: #7fbfbf\">                    </span>         Output: Hello! I'm your Dungeon Master assistant. I'm here to guide you through the   \n",
       "<span style=\"color: #7fbfbf; text-decoration-color: #7fbfbf\">                    </span>         process of creating your character. Currently, we're focusing on selecting a race for \n",
       "<span style=\"color: #7fbfbf; text-decoration-color: #7fbfbf\">                    </span>         your character. This choice will impact your character's abilities, traits, and       \n",
       "<span style=\"color: #7fbfbf; text-decoration-color: #7fbfbf\">                    </span>         backstory.                                                                            \n",
       "</pre>\n"
      ],
      "text/plain": [
       "\u001b[2;36m[10/01/23 19:14:37]\u001b[0m\u001b[2;36m \u001b[0m\u001b[34mINFO    \u001b[0m ToolkitTask 1830ee98e4784ebd95eaa799fab27786                                          \n",
       "\u001b[2;36m                    \u001b[0m         Output: Hello! I'm your Dungeon Master assistant. I'm here to guide you through the   \n",
       "\u001b[2;36m                    \u001b[0m         process of creating your character. Currently, we're focusing on selecting a race for \n",
       "\u001b[2;36m                    \u001b[0m         your character. This choice will impact your character's abilities, traits, and       \n",
       "\u001b[2;36m                    \u001b[0m         backstory.                                                                            \n"
      ]
     },
     "metadata": {},
     "output_type": "display_data"
    }
   ],
   "source": [
    "conv = Conversation(\n",
    "    name=\"AI Dungeon Master\", # not important\n",
    "    gpt4=True, # If set to false, gpt-3.5-turbo will be used instead. It's cheaper but doesn't work well.\n",
    "    max_tokens=500, # Setting this lower can help with rate limit warnings, but can break the chatbot\n",
    "    logger_level=logging.INFO, # This setting will print all of the chatbot's reasoning under the hood. Set to logging.ERROR to eliminate\n",
    ")"
   ]
  },
  {
   "cell_type": "markdown",
   "id": "86c68f27-fd1d-4e15-b367-8858ee7529f3",
   "metadata": {},
   "source": [
    "# Race Selection\n",
    "In this example, the race is chosen outright, but you can any questions you like to get assistance before selecting a race."
   ]
  },
  {
   "cell_type": "code",
   "execution_count": 3,
   "id": "c6461e51-ea5e-4a59-9628-1a0fed044cab",
   "metadata": {},
   "outputs": [
    {
     "data": {
      "text/html": [
       "<pre style=\"white-space:pre;overflow-x:auto;line-height:normal;font-family:Menlo,'DejaVu Sans Mono',consolas,'Courier New',monospace\"><span style=\"color: #7fbfbf; text-decoration-color: #7fbfbf\">[10/01/23 19:14:46] </span><span style=\"color: #000080; text-decoration-color: #000080\">INFO    </span> ToolkitTask 1830ee98e4784ebd95eaa799fab27786                                          \n",
       "<span style=\"color: #7fbfbf; text-decoration-color: #7fbfbf\">                    </span>         Input: I'll be a halfling                                                             \n",
       "</pre>\n"
      ],
      "text/plain": [
       "\u001b[2;36m[10/01/23 19:14:46]\u001b[0m\u001b[2;36m \u001b[0m\u001b[34mINFO    \u001b[0m ToolkitTask 1830ee98e4784ebd95eaa799fab27786                                          \n",
       "\u001b[2;36m                    \u001b[0m         Input: I'll be a halfling                                                             \n"
      ]
     },
     "metadata": {},
     "output_type": "display_data"
    },
    {
     "data": {
      "text/html": [
       "<pre style=\"white-space:pre;overflow-x:auto;line-height:normal;font-family:Menlo,'DejaVu Sans Mono',consolas,'Courier New',monospace\"><span style=\"color: #7fbfbf; text-decoration-color: #7fbfbf\">[10/01/23 19:14:52] </span><span style=\"color: #000080; text-decoration-color: #000080\">INFO    </span> Subtask c51de3d3ee864288a86fc4e0beeb4961                                              \n",
       "<span style=\"color: #7fbfbf; text-decoration-color: #7fbfbf\">                    </span>         Thought: The user has chosen to be a Halfling. I need to update the character sheet   \n",
       "<span style=\"color: #7fbfbf; text-decoration-color: #7fbfbf\">                    </span>         with this new race. Halflings have a racial bonus of +<span style=\"color: #008080; text-decoration-color: #008080; font-weight: bold\">2</span> to Dexterity. I'll use the    \n",
       "<span style=\"color: #7fbfbf; text-decoration-color: #7fbfbf\">                    </span>         CharacterSheetUpdater tool to make this update.                                       \n",
       "<span style=\"color: #7fbfbf; text-decoration-color: #7fbfbf\">                    </span>                                                                                               \n",
       "<span style=\"color: #7fbfbf; text-decoration-color: #7fbfbf\">                    </span>         Action: <span style=\"font-weight: bold\">{</span><span style=\"color: #008000; text-decoration-color: #008000\">\"type\"</span>: <span style=\"color: #008000; text-decoration-color: #008000\">\"tool\"</span>, <span style=\"color: #008000; text-decoration-color: #008000\">\"name\"</span>: <span style=\"color: #008000; text-decoration-color: #008000\">\"CharacterSheetUpdater\"</span>, <span style=\"color: #008000; text-decoration-color: #008000\">\"activity\"</span>: <span style=\"color: #008000; text-decoration-color: #008000\">\"update_race\"</span>,  \n",
       "<span style=\"color: #7fbfbf; text-decoration-color: #7fbfbf\">                    </span>         <span style=\"color: #008000; text-decoration-color: #008000\">\"input\"</span>: <span style=\"font-weight: bold\">{</span><span style=\"color: #008000; text-decoration-color: #008000\">\"values\"</span>: <span style=\"font-weight: bold\">{</span><span style=\"color: #008000; text-decoration-color: #008000\">\"race\"</span>: <span style=\"color: #008000; text-decoration-color: #008000\">\"Halfling\"</span>, <span style=\"color: #008000; text-decoration-color: #008000\">\"racial_bonuses\"</span>: <span style=\"font-weight: bold\">{</span><span style=\"color: #008000; text-decoration-color: #008000\">\"dexterity\"</span>: <span style=\"color: #008080; text-decoration-color: #008080; font-weight: bold\">2</span><span style=\"font-weight: bold\">}}}}</span>        \n",
       "</pre>\n"
      ],
      "text/plain": [
       "\u001b[2;36m[10/01/23 19:14:52]\u001b[0m\u001b[2;36m \u001b[0m\u001b[34mINFO    \u001b[0m Subtask c51de3d3ee864288a86fc4e0beeb4961                                              \n",
       "\u001b[2;36m                    \u001b[0m         Thought: The user has chosen to be a Halfling. I need to update the character sheet   \n",
       "\u001b[2;36m                    \u001b[0m         with this new race. Halflings have a racial bonus of +\u001b[1;36m2\u001b[0m to Dexterity. I'll use the    \n",
       "\u001b[2;36m                    \u001b[0m         CharacterSheetUpdater tool to make this update.                                       \n",
       "\u001b[2;36m                    \u001b[0m                                                                                               \n",
       "\u001b[2;36m                    \u001b[0m         Action: \u001b[1m{\u001b[0m\u001b[32m\"type\"\u001b[0m: \u001b[32m\"tool\"\u001b[0m, \u001b[32m\"name\"\u001b[0m: \u001b[32m\"CharacterSheetUpdater\"\u001b[0m, \u001b[32m\"activity\"\u001b[0m: \u001b[32m\"update_race\"\u001b[0m,  \n",
       "\u001b[2;36m                    \u001b[0m         \u001b[32m\"input\"\u001b[0m: \u001b[1m{\u001b[0m\u001b[32m\"values\"\u001b[0m: \u001b[1m{\u001b[0m\u001b[32m\"race\"\u001b[0m: \u001b[32m\"Halfling\"\u001b[0m, \u001b[32m\"racial_bonuses\"\u001b[0m: \u001b[1m{\u001b[0m\u001b[32m\"dexterity\"\u001b[0m: \u001b[1;36m2\u001b[0m\u001b[1m}\u001b[0m\u001b[1m}\u001b[0m\u001b[1m}\u001b[0m\u001b[1m}\u001b[0m        \n"
      ]
     },
     "metadata": {},
     "output_type": "display_data"
    },
    {
     "name": "stderr",
     "output_type": "stream",
     "text": [
      "WARNING:root:Activity result is not an artifact; converting result to InfoArtifact\n"
     ]
    },
    {
     "data": {
      "text/html": [
       "<pre style=\"white-space:pre;overflow-x:auto;line-height:normal;font-family:Menlo,'DejaVu Sans Mono',consolas,'Courier New',monospace\"><span style=\"color: #7fbfbf; text-decoration-color: #7fbfbf\">                    </span><span style=\"color: #000080; text-decoration-color: #000080\">INFO    </span> Subtask c51de3d3ee864288a86fc4e0beeb4961                                              \n",
       "<span style=\"color: #7fbfbf; text-decoration-color: #7fbfbf\">                    </span>         Observation: <span style=\"color: #800080; text-decoration-color: #800080; font-weight: bold\">Character</span><span style=\"font-weight: bold\">(</span><span style=\"color: #808000; text-decoration-color: #808000\">name</span>=<span style=\"color: #800080; text-decoration-color: #800080; font-style: italic\">None</span>, <span style=\"color: #808000; text-decoration-color: #808000\">class_</span>=<span style=\"color: #800080; text-decoration-color: #800080; font-style: italic\">None</span>, <span style=\"color: #808000; text-decoration-color: #808000\">subclasse</span>=<span style=\"color: #800080; text-decoration-color: #800080; font-style: italic\">None</span>, <span style=\"color: #808000; text-decoration-color: #808000\">level</span>=<span style=\"color: #008080; text-decoration-color: #008080; font-weight: bold\">1</span>,               \n",
       "<span style=\"color: #7fbfbf; text-decoration-color: #7fbfbf\">                    </span>         <span style=\"color: #808000; text-decoration-color: #808000\">race</span>=<span style=\"color: #008000; text-decoration-color: #008000\">'halfling'</span>, <span style=\"color: #808000; text-decoration-color: #808000\">alignment</span>=<span style=\"color: #800080; text-decoration-color: #800080; font-style: italic\">None</span>, <span style=\"color: #808000; text-decoration-color: #808000\">background</span>=<span style=\"color: #800080; text-decoration-color: #800080; font-style: italic\">None</span>, <span style=\"color: #808000; text-decoration-color: #808000\">proficiency_bonus</span>=<span style=\"color: #008080; text-decoration-color: #008080; font-weight: bold\">2</span>,                \n",
       "<span style=\"color: #7fbfbf; text-decoration-color: #7fbfbf\">                    </span>         <span style=\"color: #808000; text-decoration-color: #808000\">base_ability_scores</span>=<span style=\"color: #800080; text-decoration-color: #800080; font-weight: bold\">AbilityScores</span><span style=\"font-weight: bold\">(</span><span style=\"color: #808000; text-decoration-color: #808000\">strength</span>=<span style=\"color: #008080; text-decoration-color: #008080; font-weight: bold\">8</span>, <span style=\"color: #808000; text-decoration-color: #808000\">dexterity</span>=<span style=\"color: #008080; text-decoration-color: #008080; font-weight: bold\">8</span>, <span style=\"color: #808000; text-decoration-color: #808000\">constitution</span>=<span style=\"color: #008080; text-decoration-color: #008080; font-weight: bold\">8</span>,            \n",
       "<span style=\"color: #7fbfbf; text-decoration-color: #7fbfbf\">                    </span>         <span style=\"color: #808000; text-decoration-color: #808000\">intelligence</span>=<span style=\"color: #008080; text-decoration-color: #008080; font-weight: bold\">8</span>, <span style=\"color: #808000; text-decoration-color: #808000\">wisdom</span>=<span style=\"color: #008080; text-decoration-color: #008080; font-weight: bold\">8</span>, <span style=\"color: #808000; text-decoration-color: #808000\">charisma</span>=<span style=\"color: #008080; text-decoration-color: #008080; font-weight: bold\">8</span><span style=\"font-weight: bold\">)</span>, <span style=\"color: #808000; text-decoration-color: #808000\">racial_ability_bonus</span>=<span style=\"color: #800080; text-decoration-color: #800080; font-weight: bold\">AbilityScores</span><span style=\"font-weight: bold\">(</span><span style=\"color: #808000; text-decoration-color: #808000\">strength</span>=<span style=\"color: #008080; text-decoration-color: #008080; font-weight: bold\">0</span>, \n",
       "<span style=\"color: #7fbfbf; text-decoration-color: #7fbfbf\">                    </span>         <span style=\"color: #808000; text-decoration-color: #808000\">dexterity</span>=<span style=\"color: #008080; text-decoration-color: #008080; font-weight: bold\">2</span>, <span style=\"color: #808000; text-decoration-color: #808000\">constitution</span>=<span style=\"color: #008080; text-decoration-color: #008080; font-weight: bold\">0</span>, <span style=\"color: #808000; text-decoration-color: #808000\">intelligence</span>=<span style=\"color: #008080; text-decoration-color: #008080; font-weight: bold\">0</span>, <span style=\"color: #808000; text-decoration-color: #808000\">wisdom</span>=<span style=\"color: #008080; text-decoration-color: #008080; font-weight: bold\">0</span>, <span style=\"color: #808000; text-decoration-color: #808000\">charisma</span>=<span style=\"color: #008080; text-decoration-color: #008080; font-weight: bold\">0</span><span style=\"font-weight: bold\">)</span>,                   \n",
       "<span style=\"color: #7fbfbf; text-decoration-color: #7fbfbf\">                    </span>         <span style=\"color: #808000; text-decoration-color: #808000\">final_ability_scores</span>=<span style=\"color: #800080; text-decoration-color: #800080; font-weight: bold\">AbilityScores</span><span style=\"font-weight: bold\">(</span><span style=\"color: #808000; text-decoration-color: #808000\">strength</span>=<span style=\"color: #008080; text-decoration-color: #008080; font-weight: bold\">8</span>, <span style=\"color: #808000; text-decoration-color: #808000\">dexterity</span>=<span style=\"color: #008080; text-decoration-color: #008080; font-weight: bold\">10</span>, <span style=\"color: #808000; text-decoration-color: #808000\">constitution</span>=<span style=\"color: #008080; text-decoration-color: #008080; font-weight: bold\">8</span>,          \n",
       "<span style=\"color: #7fbfbf; text-decoration-color: #7fbfbf\">                    </span>         <span style=\"color: #808000; text-decoration-color: #808000\">intelligence</span>=<span style=\"color: #008080; text-decoration-color: #008080; font-weight: bold\">8</span>, <span style=\"color: #808000; text-decoration-color: #808000\">wisdom</span>=<span style=\"color: #008080; text-decoration-color: #008080; font-weight: bold\">8</span>, <span style=\"color: #808000; text-decoration-color: #808000\">charisma</span>=<span style=\"color: #008080; text-decoration-color: #008080; font-weight: bold\">8</span><span style=\"font-weight: bold\">)</span>,                                                \n",
       "<span style=\"color: #7fbfbf; text-decoration-color: #7fbfbf\">                    </span>         <span style=\"color: #808000; text-decoration-color: #808000\">saving_throw_proficiencies</span>=<span style=\"color: #800080; text-decoration-color: #800080; font-weight: bold\">SavingThrowProficiencies</span><span style=\"font-weight: bold\">(</span><span style=\"color: #808000; text-decoration-color: #808000\">strength</span>=<span style=\"color: #ff0000; text-decoration-color: #ff0000; font-style: italic\">False</span>, <span style=\"color: #808000; text-decoration-color: #808000\">dexterity</span>=<span style=\"color: #ff0000; text-decoration-color: #ff0000; font-style: italic\">False</span>,  \n",
       "<span style=\"color: #7fbfbf; text-decoration-color: #7fbfbf\">                    </span>         <span style=\"color: #808000; text-decoration-color: #808000\">constitution</span>=<span style=\"color: #ff0000; text-decoration-color: #ff0000; font-style: italic\">False</span>, <span style=\"color: #808000; text-decoration-color: #808000\">intelligence</span>=<span style=\"color: #ff0000; text-decoration-color: #ff0000; font-style: italic\">False</span>, <span style=\"color: #808000; text-decoration-color: #808000\">wisdom</span>=<span style=\"color: #ff0000; text-decoration-color: #ff0000; font-style: italic\">False</span>, <span style=\"color: #808000; text-decoration-color: #808000\">charisma</span>=<span style=\"color: #ff0000; text-decoration-color: #ff0000; font-style: italic\">False</span><span style=\"font-weight: bold\">)</span>,                \n",
       "<span style=\"color: #7fbfbf; text-decoration-color: #7fbfbf\">                    </span>         <span style=\"color: #808000; text-decoration-color: #808000\">skill_proficiencies</span>=<span style=\"color: #800080; text-decoration-color: #800080; font-weight: bold\">SkillProficiencies</span><span style=\"font-weight: bold\">(</span><span style=\"color: #808000; text-decoration-color: #808000\">acrobatics</span>=<span style=\"color: #ff0000; text-decoration-color: #ff0000; font-style: italic\">False</span>, <span style=\"color: #808000; text-decoration-color: #808000\">animal_handling</span>=<span style=\"color: #ff0000; text-decoration-color: #ff0000; font-style: italic\">False</span>,       \n",
       "<span style=\"color: #7fbfbf; text-decoration-color: #7fbfbf\">                    </span>         <span style=\"color: #808000; text-decoration-color: #808000\">arcana</span>=<span style=\"color: #ff0000; text-decoration-color: #ff0000; font-style: italic\">False</span>, <span style=\"color: #808000; text-decoration-color: #808000\">athletics</span>=<span style=\"color: #ff0000; text-decoration-color: #ff0000; font-style: italic\">False</span>, <span style=\"color: #808000; text-decoration-color: #808000\">deception</span>=<span style=\"color: #ff0000; text-decoration-color: #ff0000; font-style: italic\">False</span>, <span style=\"color: #808000; text-decoration-color: #808000\">history</span>=<span style=\"color: #ff0000; text-decoration-color: #ff0000; font-style: italic\">False</span>, <span style=\"color: #808000; text-decoration-color: #808000\">insight</span>=<span style=\"color: #ff0000; text-decoration-color: #ff0000; font-style: italic\">False</span>,         \n",
       "<span style=\"color: #7fbfbf; text-decoration-color: #7fbfbf\">                    </span>         <span style=\"color: #808000; text-decoration-color: #808000\">intimidation</span>=<span style=\"color: #ff0000; text-decoration-color: #ff0000; font-style: italic\">False</span>, <span style=\"color: #808000; text-decoration-color: #808000\">investigation</span>=<span style=\"color: #ff0000; text-decoration-color: #ff0000; font-style: italic\">False</span>, <span style=\"color: #808000; text-decoration-color: #808000\">medicine</span>=<span style=\"color: #ff0000; text-decoration-color: #ff0000; font-style: italic\">False</span>, <span style=\"color: #808000; text-decoration-color: #808000\">nature</span>=<span style=\"color: #ff0000; text-decoration-color: #ff0000; font-style: italic\">False</span>,                \n",
       "<span style=\"color: #7fbfbf; text-decoration-color: #7fbfbf\">                    </span>         <span style=\"color: #808000; text-decoration-color: #808000\">perception</span>=<span style=\"color: #ff0000; text-decoration-color: #ff0000; font-style: italic\">False</span>, <span style=\"color: #808000; text-decoration-color: #808000\">performance</span>=<span style=\"color: #ff0000; text-decoration-color: #ff0000; font-style: italic\">False</span>, <span style=\"color: #808000; text-decoration-color: #808000\">persuasion</span>=<span style=\"color: #ff0000; text-decoration-color: #ff0000; font-style: italic\">False</span>, <span style=\"color: #808000; text-decoration-color: #808000\">religion</span>=<span style=\"color: #ff0000; text-decoration-color: #ff0000; font-style: italic\">False</span>,                \n",
       "<span style=\"color: #7fbfbf; text-decoration-color: #7fbfbf\">                    </span>         <span style=\"color: #808000; text-decoration-color: #808000\">sleight_of_hand</span>=<span style=\"color: #ff0000; text-decoration-color: #ff0000; font-style: italic\">False</span>, <span style=\"color: #808000; text-decoration-color: #808000\">stealth</span>=<span style=\"color: #ff0000; text-decoration-color: #ff0000; font-style: italic\">False</span>, <span style=\"color: #808000; text-decoration-color: #808000\">survival</span>=<span style=\"color: #ff0000; text-decoration-color: #ff0000; font-style: italic\">False</span><span style=\"font-weight: bold\">)</span>, <span style=\"color: #808000; text-decoration-color: #808000\">AC</span>=<span style=\"color: #008080; text-decoration-color: #008080; font-weight: bold\">10</span>, <span style=\"color: #808000; text-decoration-color: #808000\">speed</span>=<span style=\"color: #008080; text-decoration-color: #008080; font-weight: bold\">30</span>,               \n",
       "<span style=\"color: #7fbfbf; text-decoration-color: #7fbfbf\">                    </span>         <span style=\"color: #808000; text-decoration-color: #808000\">hit_point_max</span>=<span style=\"color: #008080; text-decoration-color: #008080; font-weight: bold\">6</span><span style=\"font-weight: bold\">)</span>                                                                      \n",
       "</pre>\n"
      ],
      "text/plain": [
       "\u001b[2;36m                   \u001b[0m\u001b[2;36m \u001b[0m\u001b[34mINFO    \u001b[0m Subtask c51de3d3ee864288a86fc4e0beeb4961                                              \n",
       "\u001b[2;36m                    \u001b[0m         Observation: \u001b[1;35mCharacter\u001b[0m\u001b[1m(\u001b[0m\u001b[33mname\u001b[0m=\u001b[3;35mNone\u001b[0m, \u001b[33mclass_\u001b[0m=\u001b[3;35mNone\u001b[0m, \u001b[33msubclasse\u001b[0m=\u001b[3;35mNone\u001b[0m, \u001b[33mlevel\u001b[0m=\u001b[1;36m1\u001b[0m,               \n",
       "\u001b[2;36m                    \u001b[0m         \u001b[33mrace\u001b[0m=\u001b[32m'halfling'\u001b[0m, \u001b[33malignment\u001b[0m=\u001b[3;35mNone\u001b[0m, \u001b[33mbackground\u001b[0m=\u001b[3;35mNone\u001b[0m, \u001b[33mproficiency_bonus\u001b[0m=\u001b[1;36m2\u001b[0m,                \n",
       "\u001b[2;36m                    \u001b[0m         \u001b[33mbase_ability_scores\u001b[0m=\u001b[1;35mAbilityScores\u001b[0m\u001b[1m(\u001b[0m\u001b[33mstrength\u001b[0m=\u001b[1;36m8\u001b[0m, \u001b[33mdexterity\u001b[0m=\u001b[1;36m8\u001b[0m, \u001b[33mconstitution\u001b[0m=\u001b[1;36m8\u001b[0m,            \n",
       "\u001b[2;36m                    \u001b[0m         \u001b[33mintelligence\u001b[0m=\u001b[1;36m8\u001b[0m, \u001b[33mwisdom\u001b[0m=\u001b[1;36m8\u001b[0m, \u001b[33mcharisma\u001b[0m=\u001b[1;36m8\u001b[0m\u001b[1m)\u001b[0m, \u001b[33mracial_ability_bonus\u001b[0m=\u001b[1;35mAbilityScores\u001b[0m\u001b[1m(\u001b[0m\u001b[33mstrength\u001b[0m=\u001b[1;36m0\u001b[0m, \n",
       "\u001b[2;36m                    \u001b[0m         \u001b[33mdexterity\u001b[0m=\u001b[1;36m2\u001b[0m, \u001b[33mconstitution\u001b[0m=\u001b[1;36m0\u001b[0m, \u001b[33mintelligence\u001b[0m=\u001b[1;36m0\u001b[0m, \u001b[33mwisdom\u001b[0m=\u001b[1;36m0\u001b[0m, \u001b[33mcharisma\u001b[0m=\u001b[1;36m0\u001b[0m\u001b[1m)\u001b[0m,                   \n",
       "\u001b[2;36m                    \u001b[0m         \u001b[33mfinal_ability_scores\u001b[0m=\u001b[1;35mAbilityScores\u001b[0m\u001b[1m(\u001b[0m\u001b[33mstrength\u001b[0m=\u001b[1;36m8\u001b[0m, \u001b[33mdexterity\u001b[0m=\u001b[1;36m10\u001b[0m, \u001b[33mconstitution\u001b[0m=\u001b[1;36m8\u001b[0m,          \n",
       "\u001b[2;36m                    \u001b[0m         \u001b[33mintelligence\u001b[0m=\u001b[1;36m8\u001b[0m, \u001b[33mwisdom\u001b[0m=\u001b[1;36m8\u001b[0m, \u001b[33mcharisma\u001b[0m=\u001b[1;36m8\u001b[0m\u001b[1m)\u001b[0m,                                                \n",
       "\u001b[2;36m                    \u001b[0m         \u001b[33msaving_throw_proficiencies\u001b[0m=\u001b[1;35mSavingThrowProficiencies\u001b[0m\u001b[1m(\u001b[0m\u001b[33mstrength\u001b[0m=\u001b[3;91mFalse\u001b[0m, \u001b[33mdexterity\u001b[0m=\u001b[3;91mFalse\u001b[0m,  \n",
       "\u001b[2;36m                    \u001b[0m         \u001b[33mconstitution\u001b[0m=\u001b[3;91mFalse\u001b[0m, \u001b[33mintelligence\u001b[0m=\u001b[3;91mFalse\u001b[0m, \u001b[33mwisdom\u001b[0m=\u001b[3;91mFalse\u001b[0m, \u001b[33mcharisma\u001b[0m=\u001b[3;91mFalse\u001b[0m\u001b[1m)\u001b[0m,                \n",
       "\u001b[2;36m                    \u001b[0m         \u001b[33mskill_proficiencies\u001b[0m=\u001b[1;35mSkillProficiencies\u001b[0m\u001b[1m(\u001b[0m\u001b[33macrobatics\u001b[0m=\u001b[3;91mFalse\u001b[0m, \u001b[33manimal_handling\u001b[0m=\u001b[3;91mFalse\u001b[0m,       \n",
       "\u001b[2;36m                    \u001b[0m         \u001b[33marcana\u001b[0m=\u001b[3;91mFalse\u001b[0m, \u001b[33mathletics\u001b[0m=\u001b[3;91mFalse\u001b[0m, \u001b[33mdeception\u001b[0m=\u001b[3;91mFalse\u001b[0m, \u001b[33mhistory\u001b[0m=\u001b[3;91mFalse\u001b[0m, \u001b[33minsight\u001b[0m=\u001b[3;91mFalse\u001b[0m,         \n",
       "\u001b[2;36m                    \u001b[0m         \u001b[33mintimidation\u001b[0m=\u001b[3;91mFalse\u001b[0m, \u001b[33minvestigation\u001b[0m=\u001b[3;91mFalse\u001b[0m, \u001b[33mmedicine\u001b[0m=\u001b[3;91mFalse\u001b[0m, \u001b[33mnature\u001b[0m=\u001b[3;91mFalse\u001b[0m,                \n",
       "\u001b[2;36m                    \u001b[0m         \u001b[33mperception\u001b[0m=\u001b[3;91mFalse\u001b[0m, \u001b[33mperformance\u001b[0m=\u001b[3;91mFalse\u001b[0m, \u001b[33mpersuasion\u001b[0m=\u001b[3;91mFalse\u001b[0m, \u001b[33mreligion\u001b[0m=\u001b[3;91mFalse\u001b[0m,                \n",
       "\u001b[2;36m                    \u001b[0m         \u001b[33msleight_of_hand\u001b[0m=\u001b[3;91mFalse\u001b[0m, \u001b[33mstealth\u001b[0m=\u001b[3;91mFalse\u001b[0m, \u001b[33msurvival\u001b[0m=\u001b[3;91mFalse\u001b[0m\u001b[1m)\u001b[0m, \u001b[33mAC\u001b[0m=\u001b[1;36m10\u001b[0m, \u001b[33mspeed\u001b[0m=\u001b[1;36m30\u001b[0m,               \n",
       "\u001b[2;36m                    \u001b[0m         \u001b[33mhit_point_max\u001b[0m=\u001b[1;36m6\u001b[0m\u001b[1m)\u001b[0m                                                                      \n"
      ]
     },
     "metadata": {},
     "output_type": "display_data"
    },
    {
     "data": {
      "text/html": [
       "<pre style=\"white-space:pre;overflow-x:auto;line-height:normal;font-family:Menlo,'DejaVu Sans Mono',consolas,'Courier New',monospace\"><span style=\"color: #7fbfbf; text-decoration-color: #7fbfbf\">[10/01/23 19:14:53] </span><span style=\"color: #000080; text-decoration-color: #000080\">INFO    </span> ToolkitTask 1830ee98e4784ebd95eaa799fab27786                                          \n",
       "<span style=\"color: #7fbfbf; text-decoration-color: #7fbfbf\">                    </span>         Output: change_node                                                                   \n",
       "</pre>\n"
      ],
      "text/plain": [
       "\u001b[2;36m[10/01/23 19:14:53]\u001b[0m\u001b[2;36m \u001b[0m\u001b[34mINFO    \u001b[0m ToolkitTask 1830ee98e4784ebd95eaa799fab27786                                          \n",
       "\u001b[2;36m                    \u001b[0m         Output: change_node                                                                   \n"
      ]
     },
     "metadata": {},
     "output_type": "display_data"
    },
    {
     "data": {
      "text/html": [
       "<pre style=\"white-space:pre;overflow-x:auto;line-height:normal;font-family:Menlo,'DejaVu Sans Mono',consolas,'Courier New',monospace\"><span style=\"color: #7fbfbf; text-decoration-color: #7fbfbf\">                    </span><span style=\"color: #000080; text-decoration-color: #000080\">INFO    </span> ToolkitTask 1830ee98e4784ebd95eaa799fab27786                                          \n",
       "<span style=\"color: #7fbfbf; text-decoration-color: #7fbfbf\">                    </span>         Input: You've just helped the user select a race,                                     \n",
       "<span style=\"color: #7fbfbf; text-decoration-color: #7fbfbf\">                    </span>                             and next you will help them select a class_. Let the              \n",
       "<span style=\"color: #7fbfbf; text-decoration-color: #7fbfbf\">                    </span>                             user know that their choice has been logged to their character    \n",
       "<span style=\"color: #7fbfbf; text-decoration-color: #7fbfbf\">                    </span>                             sheet and tell them what's next.                                  \n",
       "<span style=\"color: #7fbfbf; text-decoration-color: #7fbfbf\">                    </span>                                                                                               \n",
       "</pre>\n"
      ],
      "text/plain": [
       "\u001b[2;36m                   \u001b[0m\u001b[2;36m \u001b[0m\u001b[34mINFO    \u001b[0m ToolkitTask 1830ee98e4784ebd95eaa799fab27786                                          \n",
       "\u001b[2;36m                    \u001b[0m         Input: You've just helped the user select a race,                                     \n",
       "\u001b[2;36m                    \u001b[0m                             and next you will help them select a class_. Let the              \n",
       "\u001b[2;36m                    \u001b[0m                             user know that their choice has been logged to their character    \n",
       "\u001b[2;36m                    \u001b[0m                             sheet and tell them what's next.                                  \n",
       "\u001b[2;36m                    \u001b[0m                                                                                               \n"
      ]
     },
     "metadata": {},
     "output_type": "display_data"
    },
    {
     "data": {
      "text/html": [
       "<pre style=\"white-space:pre;overflow-x:auto;line-height:normal;font-family:Menlo,'DejaVu Sans Mono',consolas,'Courier New',monospace\"><span style=\"color: #7fbfbf; text-decoration-color: #7fbfbf\">[10/01/23 19:14:56] </span><span style=\"color: #000080; text-decoration-color: #000080\">INFO    </span> ToolkitTask 1830ee98e4784ebd95eaa799fab27786                                          \n",
       "<span style=\"color: #7fbfbf; text-decoration-color: #7fbfbf\">                    </span>         Output: Great choice! Your character is now a Halfling. This has been updated on your \n",
       "<span style=\"color: #7fbfbf; text-decoration-color: #7fbfbf\">                    </span>         character sheet. The next step in character creation is selecting a class for your    \n",
       "<span style=\"color: #7fbfbf; text-decoration-color: #7fbfbf\">                    </span>         character. This will determine your character's skills and abilities. Let's move on to\n",
       "<span style=\"color: #7fbfbf; text-decoration-color: #7fbfbf\">                    </span>         that next.                                                                            \n",
       "</pre>\n"
      ],
      "text/plain": [
       "\u001b[2;36m[10/01/23 19:14:56]\u001b[0m\u001b[2;36m \u001b[0m\u001b[34mINFO    \u001b[0m ToolkitTask 1830ee98e4784ebd95eaa799fab27786                                          \n",
       "\u001b[2;36m                    \u001b[0m         Output: Great choice! Your character is now a Halfling. This has been updated on your \n",
       "\u001b[2;36m                    \u001b[0m         character sheet. The next step in character creation is selecting a class for your    \n",
       "\u001b[2;36m                    \u001b[0m         character. This will determine your character's skills and abilities. Let's move on to\n",
       "\u001b[2;36m                    \u001b[0m         that next.                                                                            \n"
      ]
     },
     "metadata": {},
     "output_type": "display_data"
    },
    {
     "name": "stdout",
     "output_type": "stream",
     "text": [
      "I'm the assistant DM, here to help with character creation.\n",
      "            Let's start with choosing a class\n"
     ]
    },
    {
     "data": {
      "text/html": [
       "<pre style=\"white-space:pre;overflow-x:auto;line-height:normal;font-family:Menlo,'DejaVu Sans Mono',consolas,'Courier New',monospace\"><span style=\"color: #7fbfbf; text-decoration-color: #7fbfbf\">[10/01/23 19:15:01] </span><span style=\"color: #000080; text-decoration-color: #000080\">INFO    </span> ToolkitTask 43345802e75f4859b76de531f05f07e3                                          \n",
       "<span style=\"color: #7fbfbf; text-decoration-color: #7fbfbf\">                    </span>         Input:                                                                                \n",
       "<span style=\"color: #7fbfbf; text-decoration-color: #7fbfbf\">                    </span>                     Introduce yourself to the user and tell them which part                   \n",
       "<span style=\"color: #7fbfbf; text-decoration-color: #7fbfbf\">                    </span>                     of character creation we're working on.                                   \n",
       "<span style=\"color: #7fbfbf; text-decoration-color: #7fbfbf\">                    </span>                                                                                               \n",
       "</pre>\n"
      ],
      "text/plain": [
       "\u001b[2;36m[10/01/23 19:15:01]\u001b[0m\u001b[2;36m \u001b[0m\u001b[34mINFO    \u001b[0m ToolkitTask 43345802e75f4859b76de531f05f07e3                                          \n",
       "\u001b[2;36m                    \u001b[0m         Input:                                                                                \n",
       "\u001b[2;36m                    \u001b[0m                     Introduce yourself to the user and tell them which part                   \n",
       "\u001b[2;36m                    \u001b[0m                     of character creation we're working on.                                   \n",
       "\u001b[2;36m                    \u001b[0m                                                                                               \n"
      ]
     },
     "metadata": {},
     "output_type": "display_data"
    },
    {
     "data": {
      "text/html": [
       "<pre style=\"white-space:pre;overflow-x:auto;line-height:normal;font-family:Menlo,'DejaVu Sans Mono',consolas,'Courier New',monospace\"><span style=\"color: #7fbfbf; text-decoration-color: #7fbfbf\">[10/01/23 19:15:05] </span><span style=\"color: #000080; text-decoration-color: #000080\">INFO    </span> ToolkitTask 43345802e75f4859b76de531f05f07e3                                          \n",
       "<span style=\"color: #7fbfbf; text-decoration-color: #7fbfbf\">                    </span>         Output: Hello, I'm your Dungeon Master assistant. Right now, we're working on choosing\n",
       "<span style=\"color: #7fbfbf; text-decoration-color: #7fbfbf\">                    </span>         a class for your character. This is an important step as it will determine your       \n",
       "<span style=\"color: #7fbfbf; text-decoration-color: #7fbfbf\">                    </span>         character's abilities and role within the game. Let's get started!                    \n",
       "</pre>\n"
      ],
      "text/plain": [
       "\u001b[2;36m[10/01/23 19:15:05]\u001b[0m\u001b[2;36m \u001b[0m\u001b[34mINFO    \u001b[0m ToolkitTask 43345802e75f4859b76de531f05f07e3                                          \n",
       "\u001b[2;36m                    \u001b[0m         Output: Hello, I'm your Dungeon Master assistant. Right now, we're working on choosing\n",
       "\u001b[2;36m                    \u001b[0m         a class for your character. This is an important step as it will determine your       \n",
       "\u001b[2;36m                    \u001b[0m         character's abilities and role within the game. Let's get started!                    \n"
      ]
     },
     "metadata": {},
     "output_type": "display_data"
    }
   ],
   "source": [
    "response = conv.run(\"I'll be a halfling\")"
   ]
  },
  {
   "cell_type": "code",
   "execution_count": 4,
   "id": "7846be46-6671-4965-a3cb-dffdec69d748",
   "metadata": {},
   "outputs": [
    {
     "data": {
      "text/html": [
       "<pre style=\"white-space:pre;overflow-x:auto;line-height:normal;font-family:Menlo,'DejaVu Sans Mono',consolas,'Courier New',monospace\"><span style=\"color: #7fbfbf; text-decoration-color: #7fbfbf\">[10/01/23 19:15:20] </span><span style=\"color: #000080; text-decoration-color: #000080\">INFO    </span> ToolkitTask 43345802e75f4859b76de531f05f07e3                                          \n",
       "<span style=\"color: #7fbfbf; text-decoration-color: #7fbfbf\">                    </span>         Input: Ok, how do we do that?                                                         \n",
       "</pre>\n"
      ],
      "text/plain": [
       "\u001b[2;36m[10/01/23 19:15:20]\u001b[0m\u001b[2;36m \u001b[0m\u001b[34mINFO    \u001b[0m ToolkitTask 43345802e75f4859b76de531f05f07e3                                          \n",
       "\u001b[2;36m                    \u001b[0m         Input: Ok, how do we do that?                                                         \n"
      ]
     },
     "metadata": {},
     "output_type": "display_data"
    },
    {
     "data": {
      "text/html": [
       "<pre style=\"white-space:pre;overflow-x:auto;line-height:normal;font-family:Menlo,'DejaVu Sans Mono',consolas,'Courier New',monospace\"><span style=\"color: #7fbfbf; text-decoration-color: #7fbfbf\">[10/01/23 19:15:26] </span><span style=\"color: #000080; text-decoration-color: #000080\">INFO    </span> ToolkitTask 43345802e75f4859b76de531f05f07e3                                          \n",
       "<span style=\"color: #7fbfbf; text-decoration-color: #7fbfbf\">                    </span>         Output: Choosing a class involves considering what role you want your character to    \n",
       "<span style=\"color: #7fbfbf; text-decoration-color: #7fbfbf\">                    </span>         play in the game. Each class has unique abilities and characteristics. For example, if\n",
       "<span style=\"color: #7fbfbf; text-decoration-color: #7fbfbf\">                    </span>         you want your character to be a spellcaster, you might choose a class like Wizard or  \n",
       "<span style=\"color: #7fbfbf; text-decoration-color: #7fbfbf\">                    </span>         Sorcerer. If you prefer a character who is good at fighting, you might choose a class \n",
       "<span style=\"color: #7fbfbf; text-decoration-color: #7fbfbf\">                    </span>         like Fighter or Barbarian. Once you've made your choice, I will update your character \n",
       "<span style=\"color: #7fbfbf; text-decoration-color: #7fbfbf\">                    </span>         sheet with the new class.                                                             \n",
       "</pre>\n"
      ],
      "text/plain": [
       "\u001b[2;36m[10/01/23 19:15:26]\u001b[0m\u001b[2;36m \u001b[0m\u001b[34mINFO    \u001b[0m ToolkitTask 43345802e75f4859b76de531f05f07e3                                          \n",
       "\u001b[2;36m                    \u001b[0m         Output: Choosing a class involves considering what role you want your character to    \n",
       "\u001b[2;36m                    \u001b[0m         play in the game. Each class has unique abilities and characteristics. For example, if\n",
       "\u001b[2;36m                    \u001b[0m         you want your character to be a spellcaster, you might choose a class like Wizard or  \n",
       "\u001b[2;36m                    \u001b[0m         Sorcerer. If you prefer a character who is good at fighting, you might choose a class \n",
       "\u001b[2;36m                    \u001b[0m         like Fighter or Barbarian. Once you've made your choice, I will update your character \n",
       "\u001b[2;36m                    \u001b[0m         sheet with the new class.                                                             \n"
      ]
     },
     "metadata": {},
     "output_type": "display_data"
    }
   ],
   "source": [
    "response = conv.run(\"Ok, how do we do that?\")"
   ]
  },
  {
   "cell_type": "code",
   "execution_count": 5,
   "id": "3401a68f-3b46-4dcc-b949-c3e8a7e18f3f",
   "metadata": {},
   "outputs": [
    {
     "data": {
      "text/html": [
       "<pre style=\"white-space:pre;overflow-x:auto;line-height:normal;font-family:Menlo,'DejaVu Sans Mono',consolas,'Courier New',monospace\"><span style=\"color: #7fbfbf; text-decoration-color: #7fbfbf\">[10/01/23 19:15:31] </span><span style=\"color: #000080; text-decoration-color: #000080\">INFO    </span> ToolkitTask 43345802e75f4859b76de531f05f07e3                                          \n",
       "<span style=\"color: #7fbfbf; text-decoration-color: #7fbfbf\">                    </span>         Input: I'll be a cleric                                                               \n",
       "</pre>\n"
      ],
      "text/plain": [
       "\u001b[2;36m[10/01/23 19:15:31]\u001b[0m\u001b[2;36m \u001b[0m\u001b[34mINFO    \u001b[0m ToolkitTask 43345802e75f4859b76de531f05f07e3                                          \n",
       "\u001b[2;36m                    \u001b[0m         Input: I'll be a cleric                                                               \n"
      ]
     },
     "metadata": {},
     "output_type": "display_data"
    },
    {
     "data": {
      "text/html": [
       "<pre style=\"white-space:pre;overflow-x:auto;line-height:normal;font-family:Menlo,'DejaVu Sans Mono',consolas,'Courier New',monospace\"><span style=\"color: #7fbfbf; text-decoration-color: #7fbfbf\">[10/01/23 19:15:38] </span><span style=\"color: #000080; text-decoration-color: #000080\">INFO    </span> Subtask 64f1763f7ee64f9a9ecf27e72e66be73                                              \n",
       "<span style=\"color: #7fbfbf; text-decoration-color: #7fbfbf\">                    </span>         Thought: The user has chosen the class <span style=\"color: #008000; text-decoration-color: #008000\">\"Cleric\"</span>. I need to update the character sheet \n",
       "<span style=\"color: #7fbfbf; text-decoration-color: #7fbfbf\">                    </span>         with this new class. According to the tool description, the CharacterSheetUpdater tool\n",
       "<span style=\"color: #7fbfbf; text-decoration-color: #7fbfbf\">                    </span>         with the update_class activity can be used for this purpose. The input for this       \n",
       "<span style=\"color: #7fbfbf; text-decoration-color: #7fbfbf\">                    </span>         activity requires the class name and the saving throw proficiencies. For a Cleric, the\n",
       "<span style=\"color: #7fbfbf; text-decoration-color: #7fbfbf\">                    </span>         saving throw proficiencies are <span style=\"color: #008000; text-decoration-color: #008000\">'wisdom'</span> and <span style=\"color: #008000; text-decoration-color: #008000\">'charisma'</span>.                               \n",
       "<span style=\"color: #7fbfbf; text-decoration-color: #7fbfbf\">                    </span>                                                                                               \n",
       "<span style=\"color: #7fbfbf; text-decoration-color: #7fbfbf\">                    </span>         Action: <span style=\"font-weight: bold\">{</span><span style=\"color: #008000; text-decoration-color: #008000\">\"type\"</span>: <span style=\"color: #008000; text-decoration-color: #008000\">\"tool\"</span>, <span style=\"color: #008000; text-decoration-color: #008000\">\"name\"</span>: <span style=\"color: #008000; text-decoration-color: #008000\">\"CharacterSheetUpdater\"</span>, <span style=\"color: #008000; text-decoration-color: #008000\">\"activity\"</span>: <span style=\"color: #008000; text-decoration-color: #008000\">\"update_class\"</span>, \n",
       "<span style=\"color: #7fbfbf; text-decoration-color: #7fbfbf\">                    </span>         <span style=\"color: #008000; text-decoration-color: #008000\">\"input\"</span>: <span style=\"font-weight: bold\">{</span><span style=\"color: #008000; text-decoration-color: #008000\">\"values\"</span>: <span style=\"font-weight: bold\">{</span><span style=\"color: #008000; text-decoration-color: #008000\">\"class\"</span>: <span style=\"color: #008000; text-decoration-color: #008000\">\"Cleric\"</span>, <span style=\"color: #008000; text-decoration-color: #008000\">\"saving_throws\"</span>: <span style=\"font-weight: bold\">[</span><span style=\"color: #008000; text-decoration-color: #008000\">\"wisdom\"</span>, <span style=\"color: #008000; text-decoration-color: #008000\">\"charisma\"</span><span style=\"font-weight: bold\">]}}}</span>    \n",
       "</pre>\n"
      ],
      "text/plain": [
       "\u001b[2;36m[10/01/23 19:15:38]\u001b[0m\u001b[2;36m \u001b[0m\u001b[34mINFO    \u001b[0m Subtask 64f1763f7ee64f9a9ecf27e72e66be73                                              \n",
       "\u001b[2;36m                    \u001b[0m         Thought: The user has chosen the class \u001b[32m\"Cleric\"\u001b[0m. I need to update the character sheet \n",
       "\u001b[2;36m                    \u001b[0m         with this new class. According to the tool description, the CharacterSheetUpdater tool\n",
       "\u001b[2;36m                    \u001b[0m         with the update_class activity can be used for this purpose. The input for this       \n",
       "\u001b[2;36m                    \u001b[0m         activity requires the class name and the saving throw proficiencies. For a Cleric, the\n",
       "\u001b[2;36m                    \u001b[0m         saving throw proficiencies are \u001b[32m'wisdom'\u001b[0m and \u001b[32m'charisma'\u001b[0m.                               \n",
       "\u001b[2;36m                    \u001b[0m                                                                                               \n",
       "\u001b[2;36m                    \u001b[0m         Action: \u001b[1m{\u001b[0m\u001b[32m\"type\"\u001b[0m: \u001b[32m\"tool\"\u001b[0m, \u001b[32m\"name\"\u001b[0m: \u001b[32m\"CharacterSheetUpdater\"\u001b[0m, \u001b[32m\"activity\"\u001b[0m: \u001b[32m\"update_class\"\u001b[0m, \n",
       "\u001b[2;36m                    \u001b[0m         \u001b[32m\"input\"\u001b[0m: \u001b[1m{\u001b[0m\u001b[32m\"values\"\u001b[0m: \u001b[1m{\u001b[0m\u001b[32m\"class\"\u001b[0m: \u001b[32m\"Cleric\"\u001b[0m, \u001b[32m\"saving_throws\"\u001b[0m: \u001b[1m[\u001b[0m\u001b[32m\"wisdom\"\u001b[0m, \u001b[32m\"charisma\"\u001b[0m\u001b[1m]\u001b[0m\u001b[1m}\u001b[0m\u001b[1m}\u001b[0m\u001b[1m}\u001b[0m    \n"
      ]
     },
     "metadata": {},
     "output_type": "display_data"
    },
    {
     "name": "stderr",
     "output_type": "stream",
     "text": [
      "WARNING:root:Activity result is not an artifact; converting result to InfoArtifact\n"
     ]
    },
    {
     "data": {
      "text/html": [
       "<pre style=\"white-space:pre;overflow-x:auto;line-height:normal;font-family:Menlo,'DejaVu Sans Mono',consolas,'Courier New',monospace\"><span style=\"color: #7fbfbf; text-decoration-color: #7fbfbf\">                    </span><span style=\"color: #000080; text-decoration-color: #000080\">INFO    </span> Subtask 64f1763f7ee64f9a9ecf27e72e66be73                                              \n",
       "<span style=\"color: #7fbfbf; text-decoration-color: #7fbfbf\">                    </span>         Observation: <span style=\"color: #800080; text-decoration-color: #800080; font-weight: bold\">Character</span><span style=\"font-weight: bold\">(</span><span style=\"color: #808000; text-decoration-color: #808000\">name</span>=<span style=\"color: #800080; text-decoration-color: #800080; font-style: italic\">None</span>, <span style=\"color: #808000; text-decoration-color: #808000\">class_</span>=<span style=\"color: #008000; text-decoration-color: #008000\">'cleric'</span>, <span style=\"color: #808000; text-decoration-color: #808000\">subclasse</span>=<span style=\"color: #800080; text-decoration-color: #800080; font-style: italic\">None</span>, <span style=\"color: #808000; text-decoration-color: #808000\">level</span>=<span style=\"color: #008080; text-decoration-color: #008080; font-weight: bold\">1</span>,           \n",
       "<span style=\"color: #7fbfbf; text-decoration-color: #7fbfbf\">                    </span>         <span style=\"color: #808000; text-decoration-color: #808000\">race</span>=<span style=\"color: #008000; text-decoration-color: #008000\">'halfling'</span>, <span style=\"color: #808000; text-decoration-color: #808000\">alignment</span>=<span style=\"color: #800080; text-decoration-color: #800080; font-style: italic\">None</span>, <span style=\"color: #808000; text-decoration-color: #808000\">background</span>=<span style=\"color: #800080; text-decoration-color: #800080; font-style: italic\">None</span>, <span style=\"color: #808000; text-decoration-color: #808000\">proficiency_bonus</span>=<span style=\"color: #008080; text-decoration-color: #008080; font-weight: bold\">2</span>,                \n",
       "<span style=\"color: #7fbfbf; text-decoration-color: #7fbfbf\">                    </span>         <span style=\"color: #808000; text-decoration-color: #808000\">base_ability_scores</span>=<span style=\"color: #800080; text-decoration-color: #800080; font-weight: bold\">AbilityScores</span><span style=\"font-weight: bold\">(</span><span style=\"color: #808000; text-decoration-color: #808000\">strength</span>=<span style=\"color: #008080; text-decoration-color: #008080; font-weight: bold\">8</span>, <span style=\"color: #808000; text-decoration-color: #808000\">dexterity</span>=<span style=\"color: #008080; text-decoration-color: #008080; font-weight: bold\">8</span>, <span style=\"color: #808000; text-decoration-color: #808000\">constitution</span>=<span style=\"color: #008080; text-decoration-color: #008080; font-weight: bold\">8</span>,            \n",
       "<span style=\"color: #7fbfbf; text-decoration-color: #7fbfbf\">                    </span>         <span style=\"color: #808000; text-decoration-color: #808000\">intelligence</span>=<span style=\"color: #008080; text-decoration-color: #008080; font-weight: bold\">8</span>, <span style=\"color: #808000; text-decoration-color: #808000\">wisdom</span>=<span style=\"color: #008080; text-decoration-color: #008080; font-weight: bold\">8</span>, <span style=\"color: #808000; text-decoration-color: #808000\">charisma</span>=<span style=\"color: #008080; text-decoration-color: #008080; font-weight: bold\">8</span><span style=\"font-weight: bold\">)</span>, <span style=\"color: #808000; text-decoration-color: #808000\">racial_ability_bonus</span>=<span style=\"color: #800080; text-decoration-color: #800080; font-weight: bold\">AbilityScores</span><span style=\"font-weight: bold\">(</span><span style=\"color: #808000; text-decoration-color: #808000\">strength</span>=<span style=\"color: #008080; text-decoration-color: #008080; font-weight: bold\">0</span>, \n",
       "<span style=\"color: #7fbfbf; text-decoration-color: #7fbfbf\">                    </span>         <span style=\"color: #808000; text-decoration-color: #808000\">dexterity</span>=<span style=\"color: #008080; text-decoration-color: #008080; font-weight: bold\">2</span>, <span style=\"color: #808000; text-decoration-color: #808000\">constitution</span>=<span style=\"color: #008080; text-decoration-color: #008080; font-weight: bold\">0</span>, <span style=\"color: #808000; text-decoration-color: #808000\">intelligence</span>=<span style=\"color: #008080; text-decoration-color: #008080; font-weight: bold\">0</span>, <span style=\"color: #808000; text-decoration-color: #808000\">wisdom</span>=<span style=\"color: #008080; text-decoration-color: #008080; font-weight: bold\">0</span>, <span style=\"color: #808000; text-decoration-color: #808000\">charisma</span>=<span style=\"color: #008080; text-decoration-color: #008080; font-weight: bold\">0</span><span style=\"font-weight: bold\">)</span>,                   \n",
       "<span style=\"color: #7fbfbf; text-decoration-color: #7fbfbf\">                    </span>         <span style=\"color: #808000; text-decoration-color: #808000\">final_ability_scores</span>=<span style=\"color: #800080; text-decoration-color: #800080; font-weight: bold\">AbilityScores</span><span style=\"font-weight: bold\">(</span><span style=\"color: #808000; text-decoration-color: #808000\">strength</span>=<span style=\"color: #008080; text-decoration-color: #008080; font-weight: bold\">8</span>, <span style=\"color: #808000; text-decoration-color: #808000\">dexterity</span>=<span style=\"color: #008080; text-decoration-color: #008080; font-weight: bold\">10</span>, <span style=\"color: #808000; text-decoration-color: #808000\">constitution</span>=<span style=\"color: #008080; text-decoration-color: #008080; font-weight: bold\">8</span>,          \n",
       "<span style=\"color: #7fbfbf; text-decoration-color: #7fbfbf\">                    </span>         <span style=\"color: #808000; text-decoration-color: #808000\">intelligence</span>=<span style=\"color: #008080; text-decoration-color: #008080; font-weight: bold\">8</span>, <span style=\"color: #808000; text-decoration-color: #808000\">wisdom</span>=<span style=\"color: #008080; text-decoration-color: #008080; font-weight: bold\">8</span>, <span style=\"color: #808000; text-decoration-color: #808000\">charisma</span>=<span style=\"color: #008080; text-decoration-color: #008080; font-weight: bold\">8</span><span style=\"font-weight: bold\">)</span>,                                                \n",
       "<span style=\"color: #7fbfbf; text-decoration-color: #7fbfbf\">                    </span>         <span style=\"color: #808000; text-decoration-color: #808000\">saving_throw_proficiencies</span>=<span style=\"color: #800080; text-decoration-color: #800080; font-weight: bold\">SavingThrowProficiencies</span><span style=\"font-weight: bold\">(</span><span style=\"color: #808000; text-decoration-color: #808000\">strength</span>=<span style=\"color: #ff0000; text-decoration-color: #ff0000; font-style: italic\">False</span>, <span style=\"color: #808000; text-decoration-color: #808000\">dexterity</span>=<span style=\"color: #ff0000; text-decoration-color: #ff0000; font-style: italic\">False</span>,  \n",
       "<span style=\"color: #7fbfbf; text-decoration-color: #7fbfbf\">                    </span>         <span style=\"color: #808000; text-decoration-color: #808000\">constitution</span>=<span style=\"color: #ff0000; text-decoration-color: #ff0000; font-style: italic\">False</span>, <span style=\"color: #808000; text-decoration-color: #808000\">intelligence</span>=<span style=\"color: #ff0000; text-decoration-color: #ff0000; font-style: italic\">False</span>, <span style=\"color: #808000; text-decoration-color: #808000\">wisdom</span>=<span style=\"color: #00ff00; text-decoration-color: #00ff00; font-style: italic\">True</span>, <span style=\"color: #808000; text-decoration-color: #808000\">charisma</span>=<span style=\"color: #00ff00; text-decoration-color: #00ff00; font-style: italic\">True</span><span style=\"font-weight: bold\">)</span>,                  \n",
       "<span style=\"color: #7fbfbf; text-decoration-color: #7fbfbf\">                    </span>         <span style=\"color: #808000; text-decoration-color: #808000\">skill_proficiencies</span>=<span style=\"color: #800080; text-decoration-color: #800080; font-weight: bold\">SkillProficiencies</span><span style=\"font-weight: bold\">(</span><span style=\"color: #808000; text-decoration-color: #808000\">acrobatics</span>=<span style=\"color: #ff0000; text-decoration-color: #ff0000; font-style: italic\">False</span>, <span style=\"color: #808000; text-decoration-color: #808000\">animal_handling</span>=<span style=\"color: #ff0000; text-decoration-color: #ff0000; font-style: italic\">False</span>,       \n",
       "<span style=\"color: #7fbfbf; text-decoration-color: #7fbfbf\">                    </span>         <span style=\"color: #808000; text-decoration-color: #808000\">arcana</span>=<span style=\"color: #ff0000; text-decoration-color: #ff0000; font-style: italic\">False</span>, <span style=\"color: #808000; text-decoration-color: #808000\">athletics</span>=<span style=\"color: #ff0000; text-decoration-color: #ff0000; font-style: italic\">False</span>, <span style=\"color: #808000; text-decoration-color: #808000\">deception</span>=<span style=\"color: #ff0000; text-decoration-color: #ff0000; font-style: italic\">False</span>, <span style=\"color: #808000; text-decoration-color: #808000\">history</span>=<span style=\"color: #ff0000; text-decoration-color: #ff0000; font-style: italic\">False</span>, <span style=\"color: #808000; text-decoration-color: #808000\">insight</span>=<span style=\"color: #ff0000; text-decoration-color: #ff0000; font-style: italic\">False</span>,         \n",
       "<span style=\"color: #7fbfbf; text-decoration-color: #7fbfbf\">                    </span>         <span style=\"color: #808000; text-decoration-color: #808000\">intimidation</span>=<span style=\"color: #ff0000; text-decoration-color: #ff0000; font-style: italic\">False</span>, <span style=\"color: #808000; text-decoration-color: #808000\">investigation</span>=<span style=\"color: #ff0000; text-decoration-color: #ff0000; font-style: italic\">False</span>, <span style=\"color: #808000; text-decoration-color: #808000\">medicine</span>=<span style=\"color: #ff0000; text-decoration-color: #ff0000; font-style: italic\">False</span>, <span style=\"color: #808000; text-decoration-color: #808000\">nature</span>=<span style=\"color: #ff0000; text-decoration-color: #ff0000; font-style: italic\">False</span>,                \n",
       "<span style=\"color: #7fbfbf; text-decoration-color: #7fbfbf\">                    </span>         <span style=\"color: #808000; text-decoration-color: #808000\">perception</span>=<span style=\"color: #ff0000; text-decoration-color: #ff0000; font-style: italic\">False</span>, <span style=\"color: #808000; text-decoration-color: #808000\">performance</span>=<span style=\"color: #ff0000; text-decoration-color: #ff0000; font-style: italic\">False</span>, <span style=\"color: #808000; text-decoration-color: #808000\">persuasion</span>=<span style=\"color: #ff0000; text-decoration-color: #ff0000; font-style: italic\">False</span>, <span style=\"color: #808000; text-decoration-color: #808000\">religion</span>=<span style=\"color: #ff0000; text-decoration-color: #ff0000; font-style: italic\">False</span>,                \n",
       "<span style=\"color: #7fbfbf; text-decoration-color: #7fbfbf\">                    </span>         <span style=\"color: #808000; text-decoration-color: #808000\">sleight_of_hand</span>=<span style=\"color: #ff0000; text-decoration-color: #ff0000; font-style: italic\">False</span>, <span style=\"color: #808000; text-decoration-color: #808000\">stealth</span>=<span style=\"color: #ff0000; text-decoration-color: #ff0000; font-style: italic\">False</span>, <span style=\"color: #808000; text-decoration-color: #808000\">survival</span>=<span style=\"color: #ff0000; text-decoration-color: #ff0000; font-style: italic\">False</span><span style=\"font-weight: bold\">)</span>, <span style=\"color: #808000; text-decoration-color: #808000\">AC</span>=<span style=\"color: #008080; text-decoration-color: #008080; font-weight: bold\">10</span>, <span style=\"color: #808000; text-decoration-color: #808000\">speed</span>=<span style=\"color: #008080; text-decoration-color: #008080; font-weight: bold\">30</span>,               \n",
       "<span style=\"color: #7fbfbf; text-decoration-color: #7fbfbf\">                    </span>         <span style=\"color: #808000; text-decoration-color: #808000\">hit_point_max</span>=<span style=\"color: #008080; text-decoration-color: #008080; font-weight: bold\">6</span><span style=\"font-weight: bold\">)</span>                                                                      \n",
       "</pre>\n"
      ],
      "text/plain": [
       "\u001b[2;36m                   \u001b[0m\u001b[2;36m \u001b[0m\u001b[34mINFO    \u001b[0m Subtask 64f1763f7ee64f9a9ecf27e72e66be73                                              \n",
       "\u001b[2;36m                    \u001b[0m         Observation: \u001b[1;35mCharacter\u001b[0m\u001b[1m(\u001b[0m\u001b[33mname\u001b[0m=\u001b[3;35mNone\u001b[0m, \u001b[33mclass_\u001b[0m=\u001b[32m'cleric'\u001b[0m, \u001b[33msubclasse\u001b[0m=\u001b[3;35mNone\u001b[0m, \u001b[33mlevel\u001b[0m=\u001b[1;36m1\u001b[0m,           \n",
       "\u001b[2;36m                    \u001b[0m         \u001b[33mrace\u001b[0m=\u001b[32m'halfling'\u001b[0m, \u001b[33malignment\u001b[0m=\u001b[3;35mNone\u001b[0m, \u001b[33mbackground\u001b[0m=\u001b[3;35mNone\u001b[0m, \u001b[33mproficiency_bonus\u001b[0m=\u001b[1;36m2\u001b[0m,                \n",
       "\u001b[2;36m                    \u001b[0m         \u001b[33mbase_ability_scores\u001b[0m=\u001b[1;35mAbilityScores\u001b[0m\u001b[1m(\u001b[0m\u001b[33mstrength\u001b[0m=\u001b[1;36m8\u001b[0m, \u001b[33mdexterity\u001b[0m=\u001b[1;36m8\u001b[0m, \u001b[33mconstitution\u001b[0m=\u001b[1;36m8\u001b[0m,            \n",
       "\u001b[2;36m                    \u001b[0m         \u001b[33mintelligence\u001b[0m=\u001b[1;36m8\u001b[0m, \u001b[33mwisdom\u001b[0m=\u001b[1;36m8\u001b[0m, \u001b[33mcharisma\u001b[0m=\u001b[1;36m8\u001b[0m\u001b[1m)\u001b[0m, \u001b[33mracial_ability_bonus\u001b[0m=\u001b[1;35mAbilityScores\u001b[0m\u001b[1m(\u001b[0m\u001b[33mstrength\u001b[0m=\u001b[1;36m0\u001b[0m, \n",
       "\u001b[2;36m                    \u001b[0m         \u001b[33mdexterity\u001b[0m=\u001b[1;36m2\u001b[0m, \u001b[33mconstitution\u001b[0m=\u001b[1;36m0\u001b[0m, \u001b[33mintelligence\u001b[0m=\u001b[1;36m0\u001b[0m, \u001b[33mwisdom\u001b[0m=\u001b[1;36m0\u001b[0m, \u001b[33mcharisma\u001b[0m=\u001b[1;36m0\u001b[0m\u001b[1m)\u001b[0m,                   \n",
       "\u001b[2;36m                    \u001b[0m         \u001b[33mfinal_ability_scores\u001b[0m=\u001b[1;35mAbilityScores\u001b[0m\u001b[1m(\u001b[0m\u001b[33mstrength\u001b[0m=\u001b[1;36m8\u001b[0m, \u001b[33mdexterity\u001b[0m=\u001b[1;36m10\u001b[0m, \u001b[33mconstitution\u001b[0m=\u001b[1;36m8\u001b[0m,          \n",
       "\u001b[2;36m                    \u001b[0m         \u001b[33mintelligence\u001b[0m=\u001b[1;36m8\u001b[0m, \u001b[33mwisdom\u001b[0m=\u001b[1;36m8\u001b[0m, \u001b[33mcharisma\u001b[0m=\u001b[1;36m8\u001b[0m\u001b[1m)\u001b[0m,                                                \n",
       "\u001b[2;36m                    \u001b[0m         \u001b[33msaving_throw_proficiencies\u001b[0m=\u001b[1;35mSavingThrowProficiencies\u001b[0m\u001b[1m(\u001b[0m\u001b[33mstrength\u001b[0m=\u001b[3;91mFalse\u001b[0m, \u001b[33mdexterity\u001b[0m=\u001b[3;91mFalse\u001b[0m,  \n",
       "\u001b[2;36m                    \u001b[0m         \u001b[33mconstitution\u001b[0m=\u001b[3;91mFalse\u001b[0m, \u001b[33mintelligence\u001b[0m=\u001b[3;91mFalse\u001b[0m, \u001b[33mwisdom\u001b[0m=\u001b[3;92mTrue\u001b[0m, \u001b[33mcharisma\u001b[0m=\u001b[3;92mTrue\u001b[0m\u001b[1m)\u001b[0m,                  \n",
       "\u001b[2;36m                    \u001b[0m         \u001b[33mskill_proficiencies\u001b[0m=\u001b[1;35mSkillProficiencies\u001b[0m\u001b[1m(\u001b[0m\u001b[33macrobatics\u001b[0m=\u001b[3;91mFalse\u001b[0m, \u001b[33manimal_handling\u001b[0m=\u001b[3;91mFalse\u001b[0m,       \n",
       "\u001b[2;36m                    \u001b[0m         \u001b[33marcana\u001b[0m=\u001b[3;91mFalse\u001b[0m, \u001b[33mathletics\u001b[0m=\u001b[3;91mFalse\u001b[0m, \u001b[33mdeception\u001b[0m=\u001b[3;91mFalse\u001b[0m, \u001b[33mhistory\u001b[0m=\u001b[3;91mFalse\u001b[0m, \u001b[33minsight\u001b[0m=\u001b[3;91mFalse\u001b[0m,         \n",
       "\u001b[2;36m                    \u001b[0m         \u001b[33mintimidation\u001b[0m=\u001b[3;91mFalse\u001b[0m, \u001b[33minvestigation\u001b[0m=\u001b[3;91mFalse\u001b[0m, \u001b[33mmedicine\u001b[0m=\u001b[3;91mFalse\u001b[0m, \u001b[33mnature\u001b[0m=\u001b[3;91mFalse\u001b[0m,                \n",
       "\u001b[2;36m                    \u001b[0m         \u001b[33mperception\u001b[0m=\u001b[3;91mFalse\u001b[0m, \u001b[33mperformance\u001b[0m=\u001b[3;91mFalse\u001b[0m, \u001b[33mpersuasion\u001b[0m=\u001b[3;91mFalse\u001b[0m, \u001b[33mreligion\u001b[0m=\u001b[3;91mFalse\u001b[0m,                \n",
       "\u001b[2;36m                    \u001b[0m         \u001b[33msleight_of_hand\u001b[0m=\u001b[3;91mFalse\u001b[0m, \u001b[33mstealth\u001b[0m=\u001b[3;91mFalse\u001b[0m, \u001b[33msurvival\u001b[0m=\u001b[3;91mFalse\u001b[0m\u001b[1m)\u001b[0m, \u001b[33mAC\u001b[0m=\u001b[1;36m10\u001b[0m, \u001b[33mspeed\u001b[0m=\u001b[1;36m30\u001b[0m,               \n",
       "\u001b[2;36m                    \u001b[0m         \u001b[33mhit_point_max\u001b[0m=\u001b[1;36m6\u001b[0m\u001b[1m)\u001b[0m                                                                      \n"
      ]
     },
     "metadata": {},
     "output_type": "display_data"
    },
    {
     "name": "stderr",
     "output_type": "stream",
     "text": [
      "WARNING:root:<RetryCallState 140409893471312: attempt #1; slept for 0.0; last result: failed (RateLimitError Rate limit reached for 10KTPM-200RPM in organization org-lJzn8UVqpPw5xjPRDo2LWrkb on tokens per min. Limit: 10000 / min. Please try again in 6ms. Contact us through our help center at help.openai.com if you continue to have issues.)>\n"
     ]
    },
    {
     "data": {
      "text/html": [
       "<pre style=\"white-space:pre;overflow-x:auto;line-height:normal;font-family:Menlo,'DejaVu Sans Mono',consolas,'Courier New',monospace\"><span style=\"color: #7fbfbf; text-decoration-color: #7fbfbf\">[10/01/23 19:15:41] </span><span style=\"color: #000080; text-decoration-color: #000080\">INFO    </span> ToolkitTask 43345802e75f4859b76de531f05f07e3                                          \n",
       "<span style=\"color: #7fbfbf; text-decoration-color: #7fbfbf\">                    </span>         Output: change_node                                                                   \n",
       "</pre>\n"
      ],
      "text/plain": [
       "\u001b[2;36m[10/01/23 19:15:41]\u001b[0m\u001b[2;36m \u001b[0m\u001b[34mINFO    \u001b[0m ToolkitTask 43345802e75f4859b76de531f05f07e3                                          \n",
       "\u001b[2;36m                    \u001b[0m         Output: change_node                                                                   \n"
      ]
     },
     "metadata": {},
     "output_type": "display_data"
    },
    {
     "data": {
      "text/html": [
       "<pre style=\"white-space:pre;overflow-x:auto;line-height:normal;font-family:Menlo,'DejaVu Sans Mono',consolas,'Courier New',monospace\"><span style=\"color: #7fbfbf; text-decoration-color: #7fbfbf\">                    </span><span style=\"color: #000080; text-decoration-color: #000080\">INFO    </span> ToolkitTask 43345802e75f4859b76de531f05f07e3                                          \n",
       "<span style=\"color: #7fbfbf; text-decoration-color: #7fbfbf\">                    </span>         Input: You've just helped the user select a class_,                                   \n",
       "<span style=\"color: #7fbfbf; text-decoration-color: #7fbfbf\">                    </span>                             and next you will help them select a ability_scores. Let the      \n",
       "<span style=\"color: #7fbfbf; text-decoration-color: #7fbfbf\">                    </span>                             user know that their choice has been logged to their character    \n",
       "<span style=\"color: #7fbfbf; text-decoration-color: #7fbfbf\">                    </span>                             sheet and tell them what's next.                                  \n",
       "<span style=\"color: #7fbfbf; text-decoration-color: #7fbfbf\">                    </span>                                                                                               \n",
       "</pre>\n"
      ],
      "text/plain": [
       "\u001b[2;36m                   \u001b[0m\u001b[2;36m \u001b[0m\u001b[34mINFO    \u001b[0m ToolkitTask 43345802e75f4859b76de531f05f07e3                                          \n",
       "\u001b[2;36m                    \u001b[0m         Input: You've just helped the user select a class_,                                   \n",
       "\u001b[2;36m                    \u001b[0m                             and next you will help them select a ability_scores. Let the      \n",
       "\u001b[2;36m                    \u001b[0m                             user know that their choice has been logged to their character    \n",
       "\u001b[2;36m                    \u001b[0m                             sheet and tell them what's next.                                  \n",
       "\u001b[2;36m                    \u001b[0m                                                                                               \n"
      ]
     },
     "metadata": {},
     "output_type": "display_data"
    },
    {
     "name": "stderr",
     "output_type": "stream",
     "text": [
      "WARNING:root:<RetryCallState 140409893532112: attempt #1; slept for 0.0; last result: failed (RateLimitError Rate limit reached for 10KTPM-200RPM in organization org-lJzn8UVqpPw5xjPRDo2LWrkb on tokens per min. Limit: 10000 / min. Please try again in 6ms. Contact us through our help center at help.openai.com if you continue to have issues.)>\n",
      "WARNING:root:<RetryCallState 140409893532112: attempt #2; slept for 2.0; last result: failed (RateLimitError Rate limit reached for 10KTPM-200RPM in organization org-lJzn8UVqpPw5xjPRDo2LWrkb on tokens per min. Limit: 10000 / min. Please try again in 6ms. Contact us through our help center at help.openai.com if you continue to have issues.)>\n",
      "WARNING:root:<RetryCallState 140409893532112: attempt #3; slept for 4.0; last result: failed (RateLimitError Rate limit reached for 10KTPM-200RPM in organization org-lJzn8UVqpPw5xjPRDo2LWrkb on tokens per min. Limit: 10000 / min. Please try again in 6ms. Contact us through our help center at help.openai.com if you continue to have issues.)>\n",
      "WARNING:root:<RetryCallState 140409893532112: attempt #4; slept for 8.0; last result: failed (RateLimitError Rate limit reached for 10KTPM-200RPM in organization org-lJzn8UVqpPw5xjPRDo2LWrkb on tokens per min. Limit: 10000 / min. Please try again in 6ms. Contact us through our help center at help.openai.com if you continue to have issues.)>\n"
     ]
    },
    {
     "data": {
      "text/html": [
       "<pre style=\"white-space:pre;overflow-x:auto;line-height:normal;font-family:Menlo,'DejaVu Sans Mono',consolas,'Courier New',monospace\"><span style=\"color: #7fbfbf; text-decoration-color: #7fbfbf\">[10/01/23 19:16:00] </span><span style=\"color: #000080; text-decoration-color: #000080\">INFO    </span> ToolkitTask 43345802e75f4859b76de531f05f07e3                                          \n",
       "<span style=\"color: #7fbfbf; text-decoration-color: #7fbfbf\">                    </span>         Output: Great choice! Your character is now a Cleric. This has been updated on your   \n",
       "<span style=\"color: #7fbfbf; text-decoration-color: #7fbfbf\">                    </span>         character sheet. Next, we'll be selecting your ability scores. These scores will      \n",
       "<span style=\"color: #7fbfbf; text-decoration-color: #7fbfbf\">                    </span>         determine your character's main strengths and weaknesses. Let's move on to that.      \n",
       "</pre>\n"
      ],
      "text/plain": [
       "\u001b[2;36m[10/01/23 19:16:00]\u001b[0m\u001b[2;36m \u001b[0m\u001b[34mINFO    \u001b[0m ToolkitTask 43345802e75f4859b76de531f05f07e3                                          \n",
       "\u001b[2;36m                    \u001b[0m         Output: Great choice! Your character is now a Cleric. This has been updated on your   \n",
       "\u001b[2;36m                    \u001b[0m         character sheet. Next, we'll be selecting your ability scores. These scores will      \n",
       "\u001b[2;36m                    \u001b[0m         determine your character's main strengths and weaknesses. Let's move on to that.      \n"
      ]
     },
     "metadata": {},
     "output_type": "display_data"
    },
    {
     "name": "stdout",
     "output_type": "stream",
     "text": [
      "I'm the assistant DM, here to help with character creation.\n",
      "            Let's start with choosing a ability_scores\n"
     ]
    },
    {
     "data": {
      "text/html": [
       "<pre style=\"white-space:pre;overflow-x:auto;line-height:normal;font-family:Menlo,'DejaVu Sans Mono',consolas,'Courier New',monospace\"><span style=\"color: #7fbfbf; text-decoration-color: #7fbfbf\">[10/01/23 19:16:05] </span><span style=\"color: #000080; text-decoration-color: #000080\">INFO    </span> ToolkitTask 9cddd8e0953044ee8fb3d95d18dd1a38                                          \n",
       "<span style=\"color: #7fbfbf; text-decoration-color: #7fbfbf\">                    </span>         Input:                                                                                \n",
       "<span style=\"color: #7fbfbf; text-decoration-color: #7fbfbf\">                    </span>                     Introduce yourself to the user and tell them which part                   \n",
       "<span style=\"color: #7fbfbf; text-decoration-color: #7fbfbf\">                    </span>                     of character creation we're working on.                                   \n",
       "<span style=\"color: #7fbfbf; text-decoration-color: #7fbfbf\">                    </span>                                                                                               \n",
       "</pre>\n"
      ],
      "text/plain": [
       "\u001b[2;36m[10/01/23 19:16:05]\u001b[0m\u001b[2;36m \u001b[0m\u001b[34mINFO    \u001b[0m ToolkitTask 9cddd8e0953044ee8fb3d95d18dd1a38                                          \n",
       "\u001b[2;36m                    \u001b[0m         Input:                                                                                \n",
       "\u001b[2;36m                    \u001b[0m                     Introduce yourself to the user and tell them which part                   \n",
       "\u001b[2;36m                    \u001b[0m                     of character creation we're working on.                                   \n",
       "\u001b[2;36m                    \u001b[0m                                                                                               \n"
      ]
     },
     "metadata": {},
     "output_type": "display_data"
    },
    {
     "name": "stderr",
     "output_type": "stream",
     "text": [
      "WARNING:root:<RetryCallState 140409893426640: attempt #1; slept for 0.0; last result: failed (RateLimitError Rate limit reached for 10KTPM-200RPM in organization org-lJzn8UVqpPw5xjPRDo2LWrkb on tokens per min. Limit: 10000 / min. Please try again in 6ms. Contact us through our help center at help.openai.com if you continue to have issues.)>\n",
      "WARNING:root:<RetryCallState 140409893426640: attempt #2; slept for 2.0; last result: failed (RateLimitError Rate limit reached for 10KTPM-200RPM in organization org-lJzn8UVqpPw5xjPRDo2LWrkb on tokens per min. Limit: 10000 / min. Please try again in 6ms. Contact us through our help center at help.openai.com if you continue to have issues.)>\n"
     ]
    },
    {
     "data": {
      "text/html": [
       "<pre style=\"white-space:pre;overflow-x:auto;line-height:normal;font-family:Menlo,'DejaVu Sans Mono',consolas,'Courier New',monospace\"><span style=\"color: #7fbfbf; text-decoration-color: #7fbfbf\">[10/01/23 19:16:12] </span><span style=\"color: #000080; text-decoration-color: #000080\">INFO    </span> ToolkitTask 9cddd8e0953044ee8fb3d95d18dd1a38                                          \n",
       "<span style=\"color: #7fbfbf; text-decoration-color: #7fbfbf\">                    </span>         Output: Hello! I'm your Dungeon Master assistant. We're currently working on the      \n",
       "<span style=\"color: #7fbfbf; text-decoration-color: #7fbfbf\">                    </span>         ability scores part of your character creation. This involves determining the six key \n",
       "<span style=\"color: #7fbfbf; text-decoration-color: #7fbfbf\">                    </span>         abilities for your character: Strength, Dexterity, Constitution, Intelligence, Wisdom,\n",
       "<span style=\"color: #7fbfbf; text-decoration-color: #7fbfbf\">                    </span>         and Charisma. Let's get started!                                                      \n",
       "</pre>\n"
      ],
      "text/plain": [
       "\u001b[2;36m[10/01/23 19:16:12]\u001b[0m\u001b[2;36m \u001b[0m\u001b[34mINFO    \u001b[0m ToolkitTask 9cddd8e0953044ee8fb3d95d18dd1a38                                          \n",
       "\u001b[2;36m                    \u001b[0m         Output: Hello! I'm your Dungeon Master assistant. We're currently working on the      \n",
       "\u001b[2;36m                    \u001b[0m         ability scores part of your character creation. This involves determining the six key \n",
       "\u001b[2;36m                    \u001b[0m         abilities for your character: Strength, Dexterity, Constitution, Intelligence, Wisdom,\n",
       "\u001b[2;36m                    \u001b[0m         and Charisma. Let's get started!                                                      \n"
      ]
     },
     "metadata": {},
     "output_type": "display_data"
    }
   ],
   "source": [
    "response = conv.run(\"I'll be a cleric\")"
   ]
  },
  {
   "cell_type": "code",
   "execution_count": 6,
   "id": "70742110-7cb3-4afb-8058-75414c12f1b4",
   "metadata": {},
   "outputs": [
    {
     "data": {
      "text/html": [
       "<pre style=\"white-space:pre;overflow-x:auto;line-height:normal;font-family:Menlo,'DejaVu Sans Mono',consolas,'Courier New',monospace\"><span style=\"color: #7fbfbf; text-decoration-color: #7fbfbf\">[10/01/23 19:16:18] </span><span style=\"color: #000080; text-decoration-color: #000080\">INFO    </span> ToolkitTask 9cddd8e0953044ee8fb3d95d18dd1a38                                          \n",
       "<span style=\"color: #7fbfbf; text-decoration-color: #7fbfbf\">                    </span>         Input: Ok, what do we do?                                                             \n",
       "</pre>\n"
      ],
      "text/plain": [
       "\u001b[2;36m[10/01/23 19:16:18]\u001b[0m\u001b[2;36m \u001b[0m\u001b[34mINFO    \u001b[0m ToolkitTask 9cddd8e0953044ee8fb3d95d18dd1a38                                          \n",
       "\u001b[2;36m                    \u001b[0m         Input: Ok, what do we do?                                                             \n"
      ]
     },
     "metadata": {},
     "output_type": "display_data"
    },
    {
     "name": "stderr",
     "output_type": "stream",
     "text": [
      "WARNING:root:<RetryCallState 140409900591376: attempt #1; slept for 0.0; last result: failed (RateLimitError Rate limit reached for 10KTPM-200RPM in organization org-lJzn8UVqpPw5xjPRDo2LWrkb on tokens per min. Limit: 10000 / min. Please try again in 6ms. Contact us through our help center at help.openai.com if you continue to have issues.)>\n",
      "WARNING:root:<RetryCallState 140409900591376: attempt #2; slept for 2.0; last result: failed (RateLimitError Rate limit reached for 10KTPM-200RPM in organization org-lJzn8UVqpPw5xjPRDo2LWrkb on tokens per min. Limit: 10000 / min. Please try again in 6ms. Contact us through our help center at help.openai.com if you continue to have issues.)>\n"
     ]
    },
    {
     "data": {
      "text/html": [
       "<pre style=\"white-space:pre;overflow-x:auto;line-height:normal;font-family:Menlo,'DejaVu Sans Mono',consolas,'Courier New',monospace\"><span style=\"color: #7fbfbf; text-decoration-color: #7fbfbf\">[10/01/23 19:16:33] </span><span style=\"color: #000080; text-decoration-color: #000080\">INFO    </span> ToolkitTask 9cddd8e0953044ee8fb3d95d18dd1a38                                          \n",
       "<span style=\"color: #7fbfbf; text-decoration-color: #7fbfbf\">                    </span>         Output: First, we need to decide on a method to generate your ability scores. There   \n",
       "<span style=\"color: #7fbfbf; text-decoration-color: #7fbfbf\">                    </span>         are three common methods:                                                             \n",
       "<span style=\"color: #7fbfbf; text-decoration-color: #7fbfbf\">                    </span>                                                                                               \n",
       "<span style=\"color: #7fbfbf; text-decoration-color: #7fbfbf\">                    </span>         <span style=\"color: #008080; text-decoration-color: #008080; font-weight: bold\">1</span>. Standard Array: This method provides a set of numbers <span style=\"font-weight: bold\">(</span><span style=\"color: #008080; text-decoration-color: #008080; font-weight: bold\">15</span>, <span style=\"color: #008080; text-decoration-color: #008080; font-weight: bold\">14</span>, <span style=\"color: #008080; text-decoration-color: #008080; font-weight: bold\">13</span>, <span style=\"color: #008080; text-decoration-color: #008080; font-weight: bold\">12</span>, <span style=\"color: #008080; text-decoration-color: #008080; font-weight: bold\">10</span>, <span style=\"color: #008080; text-decoration-color: #008080; font-weight: bold\">8</span><span style=\"font-weight: bold\">)</span> which\n",
       "<span style=\"color: #7fbfbf; text-decoration-color: #7fbfbf\">                    </span>         you can assign to your abilities as you see fit.                                      \n",
       "<span style=\"color: #7fbfbf; text-decoration-color: #7fbfbf\">                    </span>         <span style=\"color: #008080; text-decoration-color: #008080; font-weight: bold\">2</span>. Point Buy: This method allows you to customize your abilities. You have <span style=\"color: #008080; text-decoration-color: #008080; font-weight: bold\">27</span> points  \n",
       "<span style=\"color: #7fbfbf; text-decoration-color: #7fbfbf\">                    </span>         to distribute among your abilities, with the cost of each point varying depending on  \n",
       "<span style=\"color: #7fbfbf; text-decoration-color: #7fbfbf\">                    </span>         the current score.                                                                    \n",
       "<span style=\"color: #7fbfbf; text-decoration-color: #7fbfbf\">                    </span>         <span style=\"color: #008080; text-decoration-color: #008080; font-weight: bold\">3</span>. Roll for Scores: This method involves rolling four <span style=\"color: #008080; text-decoration-color: #008080; font-weight: bold\">6</span>-sided dice and adding the     \n",
       "<span style=\"color: #7fbfbf; text-decoration-color: #7fbfbf\">                    </span>         three highest rolls together. You do this six times to generate your six ability      \n",
       "<span style=\"color: #7fbfbf; text-decoration-color: #7fbfbf\">                    </span>         scores.                                                                               \n",
       "<span style=\"color: #7fbfbf; text-decoration-color: #7fbfbf\">                    </span>                                                                                               \n",
       "<span style=\"color: #7fbfbf; text-decoration-color: #7fbfbf\">                    </span>         Once we've generated your ability scores, we can optimize them based on your          \n",
       "<span style=\"color: #7fbfbf; text-decoration-color: #7fbfbf\">                    </span>         character's class. Would you like to use the Standard Array, Point Buy, or Roll for   \n",
       "<span style=\"color: #7fbfbf; text-decoration-color: #7fbfbf\">                    </span>         Scores method?                                                                        \n",
       "</pre>\n"
      ],
      "text/plain": [
       "\u001b[2;36m[10/01/23 19:16:33]\u001b[0m\u001b[2;36m \u001b[0m\u001b[34mINFO    \u001b[0m ToolkitTask 9cddd8e0953044ee8fb3d95d18dd1a38                                          \n",
       "\u001b[2;36m                    \u001b[0m         Output: First, we need to decide on a method to generate your ability scores. There   \n",
       "\u001b[2;36m                    \u001b[0m         are three common methods:                                                             \n",
       "\u001b[2;36m                    \u001b[0m                                                                                               \n",
       "\u001b[2;36m                    \u001b[0m         \u001b[1;36m1\u001b[0m. Standard Array: This method provides a set of numbers \u001b[1m(\u001b[0m\u001b[1;36m15\u001b[0m, \u001b[1;36m14\u001b[0m, \u001b[1;36m13\u001b[0m, \u001b[1;36m12\u001b[0m, \u001b[1;36m10\u001b[0m, \u001b[1;36m8\u001b[0m\u001b[1m)\u001b[0m which\n",
       "\u001b[2;36m                    \u001b[0m         you can assign to your abilities as you see fit.                                      \n",
       "\u001b[2;36m                    \u001b[0m         \u001b[1;36m2\u001b[0m. Point Buy: This method allows you to customize your abilities. You have \u001b[1;36m27\u001b[0m points  \n",
       "\u001b[2;36m                    \u001b[0m         to distribute among your abilities, with the cost of each point varying depending on  \n",
       "\u001b[2;36m                    \u001b[0m         the current score.                                                                    \n",
       "\u001b[2;36m                    \u001b[0m         \u001b[1;36m3\u001b[0m. Roll for Scores: This method involves rolling four \u001b[1;36m6\u001b[0m-sided dice and adding the     \n",
       "\u001b[2;36m                    \u001b[0m         three highest rolls together. You do this six times to generate your six ability      \n",
       "\u001b[2;36m                    \u001b[0m         scores.                                                                               \n",
       "\u001b[2;36m                    \u001b[0m                                                                                               \n",
       "\u001b[2;36m                    \u001b[0m         Once we've generated your ability scores, we can optimize them based on your          \n",
       "\u001b[2;36m                    \u001b[0m         character's class. Would you like to use the Standard Array, Point Buy, or Roll for   \n",
       "\u001b[2;36m                    \u001b[0m         Scores method?                                                                        \n"
      ]
     },
     "metadata": {},
     "output_type": "display_data"
    }
   ],
   "source": [
    "response = conv.run(\"Ok, what do we do?\")"
   ]
  },
  {
   "cell_type": "code",
   "execution_count": 7,
   "id": "cc2b96be-be6c-414c-abdf-2214f3adfcb6",
   "metadata": {},
   "outputs": [
    {
     "data": {
      "text/html": [
       "<pre style=\"white-space:pre;overflow-x:auto;line-height:normal;font-family:Menlo,'DejaVu Sans Mono',consolas,'Courier New',monospace\"><span style=\"color: #7fbfbf; text-decoration-color: #7fbfbf\">[10/01/23 19:17:26] </span><span style=\"color: #000080; text-decoration-color: #000080\">INFO    </span> ToolkitTask 9cddd8e0953044ee8fb3d95d18dd1a38                                          \n",
       "<span style=\"color: #7fbfbf; text-decoration-color: #7fbfbf\">                    </span>         Input: Let's use point buy                                                            \n",
       "</pre>\n"
      ],
      "text/plain": [
       "\u001b[2;36m[10/01/23 19:17:26]\u001b[0m\u001b[2;36m \u001b[0m\u001b[34mINFO    \u001b[0m ToolkitTask 9cddd8e0953044ee8fb3d95d18dd1a38                                          \n",
       "\u001b[2;36m                    \u001b[0m         Input: Let's use point buy                                                            \n"
      ]
     },
     "metadata": {},
     "output_type": "display_data"
    },
    {
     "data": {
      "text/html": [
       "<pre style=\"white-space:pre;overflow-x:auto;line-height:normal;font-family:Menlo,'DejaVu Sans Mono',consolas,'Courier New',monospace\"><span style=\"color: #7fbfbf; text-decoration-color: #7fbfbf\">[10/01/23 19:17:40] </span><span style=\"color: #000080; text-decoration-color: #000080\">INFO    </span> Subtask fa39b53e5124401c808310ada62487ff                                              \n",
       "<span style=\"color: #7fbfbf; text-decoration-color: #7fbfbf\">                    </span>         Great choice! With the Point Buy system, you have <span style=\"color: #008080; text-decoration-color: #008080; font-weight: bold\">27</span> points to distribute among your  \n",
       "<span style=\"color: #7fbfbf; text-decoration-color: #7fbfbf\">                    </span>         six abilities: Strength, Dexterity, Constitution, Intelligence, Wisdom, and Charisma. \n",
       "<span style=\"color: #7fbfbf; text-decoration-color: #7fbfbf\">                    </span>         Each ability starts at a score of <span style=\"color: #008080; text-decoration-color: #008080; font-weight: bold\">8</span>. Here's the cost of each point:                   \n",
       "<span style=\"color: #7fbfbf; text-decoration-color: #7fbfbf\">                    </span>                                                                                               \n",
       "<span style=\"color: #7fbfbf; text-decoration-color: #7fbfbf\">                    </span>         - Increasing an ability score from <span style=\"color: #008080; text-decoration-color: #008080; font-weight: bold\">8</span> to <span style=\"color: #008080; text-decoration-color: #008080; font-weight: bold\">9</span> costs <span style=\"color: #008080; text-decoration-color: #008080; font-weight: bold\">1</span> point.                              \n",
       "<span style=\"color: #7fbfbf; text-decoration-color: #7fbfbf\">                    </span>         - Increasing an ability score from <span style=\"color: #008080; text-decoration-color: #008080; font-weight: bold\">9</span> to <span style=\"color: #008080; text-decoration-color: #008080; font-weight: bold\">14</span> costs <span style=\"color: #008080; text-decoration-color: #008080; font-weight: bold\">1</span> point per increase.                \n",
       "<span style=\"color: #7fbfbf; text-decoration-color: #7fbfbf\">                    </span>         - Increasing an ability score from <span style=\"color: #008080; text-decoration-color: #008080; font-weight: bold\">14</span> to <span style=\"color: #008080; text-decoration-color: #008080; font-weight: bold\">15</span> costs <span style=\"color: #008080; text-decoration-color: #008080; font-weight: bold\">2</span> points.                           \n",
       "<span style=\"color: #7fbfbf; text-decoration-color: #7fbfbf\">                    </span>         - Increasing an ability score from <span style=\"color: #008080; text-decoration-color: #008080; font-weight: bold\">15</span> to <span style=\"color: #008080; text-decoration-color: #008080; font-weight: bold\">16</span> costs <span style=\"color: #008080; text-decoration-color: #008080; font-weight: bold\">2</span> points.                           \n",
       "<span style=\"color: #7fbfbf; text-decoration-color: #7fbfbf\">                    </span>                                                                                               \n",
       "<span style=\"color: #7fbfbf; text-decoration-color: #7fbfbf\">                    </span>         Remember, no score can be lower than <span style=\"color: #008080; text-decoration-color: #008080; font-weight: bold\">8</span> or higher than <span style=\"color: #008080; text-decoration-color: #008080; font-weight: bold\">15</span>.                             \n",
       "<span style=\"color: #7fbfbf; text-decoration-color: #7fbfbf\">                    </span>                                                                                               \n",
       "<span style=\"color: #7fbfbf; text-decoration-color: #7fbfbf\">                    </span>         Now, to optimize these scores, it would be helpful to know your character's class.    \n",
       "<span style=\"color: #7fbfbf; text-decoration-color: #7fbfbf\">                    </span>         Let's check that on your character sheet.                                             \n",
       "<span style=\"color: #7fbfbf; text-decoration-color: #7fbfbf\">                    </span>                                                                                               \n",
       "<span style=\"color: #7fbfbf; text-decoration-color: #7fbfbf\">                    </span>         Thought: I need to check the character's class to help optimize the ability scores. I \n",
       "<span style=\"color: #7fbfbf; text-decoration-color: #7fbfbf\">                    </span>         can use the CharacterSheetInspector tool with the query_character_sheet activity to do\n",
       "<span style=\"color: #7fbfbf; text-decoration-color: #7fbfbf\">                    </span>         this.                                                                                 \n",
       "<span style=\"color: #7fbfbf; text-decoration-color: #7fbfbf\">                    </span>         Action: <span style=\"font-weight: bold\">{</span><span style=\"color: #008000; text-decoration-color: #008000\">\"type\"</span>: <span style=\"color: #008000; text-decoration-color: #008000\">\"tool\"</span>, <span style=\"color: #008000; text-decoration-color: #008000\">\"name\"</span>: <span style=\"color: #008000; text-decoration-color: #008000\">\"CharacterSheetInspector\"</span>, <span style=\"color: #008000; text-decoration-color: #008000\">\"activity\"</span>:               \n",
       "<span style=\"color: #7fbfbf; text-decoration-color: #7fbfbf\">                    </span>         <span style=\"color: #008000; text-decoration-color: #008000\">\"query_character_sheet\"</span>, <span style=\"color: #008000; text-decoration-color: #008000\">\"input\"</span>: <span style=\"font-weight: bold\">{</span><span style=\"color: #008000; text-decoration-color: #008000\">\"values\"</span>: <span style=\"font-weight: bold\">{</span><span style=\"color: #008000; text-decoration-color: #008000\">\"fields\"</span>: <span style=\"font-weight: bold\">[</span><span style=\"color: #008000; text-decoration-color: #008000\">\"class_\"</span><span style=\"font-weight: bold\">]}}}</span>                 \n",
       "</pre>\n"
      ],
      "text/plain": [
       "\u001b[2;36m[10/01/23 19:17:40]\u001b[0m\u001b[2;36m \u001b[0m\u001b[34mINFO    \u001b[0m Subtask fa39b53e5124401c808310ada62487ff                                              \n",
       "\u001b[2;36m                    \u001b[0m         Great choice! With the Point Buy system, you have \u001b[1;36m27\u001b[0m points to distribute among your  \n",
       "\u001b[2;36m                    \u001b[0m         six abilities: Strength, Dexterity, Constitution, Intelligence, Wisdom, and Charisma. \n",
       "\u001b[2;36m                    \u001b[0m         Each ability starts at a score of \u001b[1;36m8\u001b[0m. Here's the cost of each point:                   \n",
       "\u001b[2;36m                    \u001b[0m                                                                                               \n",
       "\u001b[2;36m                    \u001b[0m         - Increasing an ability score from \u001b[1;36m8\u001b[0m to \u001b[1;36m9\u001b[0m costs \u001b[1;36m1\u001b[0m point.                              \n",
       "\u001b[2;36m                    \u001b[0m         - Increasing an ability score from \u001b[1;36m9\u001b[0m to \u001b[1;36m14\u001b[0m costs \u001b[1;36m1\u001b[0m point per increase.                \n",
       "\u001b[2;36m                    \u001b[0m         - Increasing an ability score from \u001b[1;36m14\u001b[0m to \u001b[1;36m15\u001b[0m costs \u001b[1;36m2\u001b[0m points.                           \n",
       "\u001b[2;36m                    \u001b[0m         - Increasing an ability score from \u001b[1;36m15\u001b[0m to \u001b[1;36m16\u001b[0m costs \u001b[1;36m2\u001b[0m points.                           \n",
       "\u001b[2;36m                    \u001b[0m                                                                                               \n",
       "\u001b[2;36m                    \u001b[0m         Remember, no score can be lower than \u001b[1;36m8\u001b[0m or higher than \u001b[1;36m15\u001b[0m.                             \n",
       "\u001b[2;36m                    \u001b[0m                                                                                               \n",
       "\u001b[2;36m                    \u001b[0m         Now, to optimize these scores, it would be helpful to know your character's class.    \n",
       "\u001b[2;36m                    \u001b[0m         Let's check that on your character sheet.                                             \n",
       "\u001b[2;36m                    \u001b[0m                                                                                               \n",
       "\u001b[2;36m                    \u001b[0m         Thought: I need to check the character's class to help optimize the ability scores. I \n",
       "\u001b[2;36m                    \u001b[0m         can use the CharacterSheetInspector tool with the query_character_sheet activity to do\n",
       "\u001b[2;36m                    \u001b[0m         this.                                                                                 \n",
       "\u001b[2;36m                    \u001b[0m         Action: \u001b[1m{\u001b[0m\u001b[32m\"type\"\u001b[0m: \u001b[32m\"tool\"\u001b[0m, \u001b[32m\"name\"\u001b[0m: \u001b[32m\"CharacterSheetInspector\"\u001b[0m, \u001b[32m\"activity\"\u001b[0m:               \n",
       "\u001b[2;36m                    \u001b[0m         \u001b[32m\"query_character_sheet\"\u001b[0m, \u001b[32m\"input\"\u001b[0m: \u001b[1m{\u001b[0m\u001b[32m\"values\"\u001b[0m: \u001b[1m{\u001b[0m\u001b[32m\"fields\"\u001b[0m: \u001b[1m[\u001b[0m\u001b[32m\"class_\"\u001b[0m\u001b[1m]\u001b[0m\u001b[1m}\u001b[0m\u001b[1m}\u001b[0m\u001b[1m}\u001b[0m                 \n"
      ]
     },
     "metadata": {},
     "output_type": "display_data"
    },
    {
     "name": "stderr",
     "output_type": "stream",
     "text": [
      "WARNING:root:Activity result is not an artifact; converting result to InfoArtifact\n"
     ]
    },
    {
     "data": {
      "text/html": [
       "<pre style=\"white-space:pre;overflow-x:auto;line-height:normal;font-family:Menlo,'DejaVu Sans Mono',consolas,'Courier New',monospace\"><span style=\"color: #7fbfbf; text-decoration-color: #7fbfbf\">                    </span><span style=\"color: #000080; text-decoration-color: #000080\">INFO    </span> Subtask fa39b53e5124401c808310ada62487ff                                              \n",
       "<span style=\"color: #7fbfbf; text-decoration-color: #7fbfbf\">                    </span>         Observation: <span style=\"font-weight: bold\">{</span><span style=\"color: #008000; text-decoration-color: #008000\">'class_'</span>: <span style=\"color: #008000; text-decoration-color: #008000\">'cleric'</span><span style=\"font-weight: bold\">}</span>                                                     \n",
       "</pre>\n"
      ],
      "text/plain": [
       "\u001b[2;36m                   \u001b[0m\u001b[2;36m \u001b[0m\u001b[34mINFO    \u001b[0m Subtask fa39b53e5124401c808310ada62487ff                                              \n",
       "\u001b[2;36m                    \u001b[0m         Observation: \u001b[1m{\u001b[0m\u001b[32m'class_'\u001b[0m: \u001b[32m'cleric'\u001b[0m\u001b[1m}\u001b[0m                                                     \n"
      ]
     },
     "metadata": {},
     "output_type": "display_data"
    },
    {
     "data": {
      "text/html": [
       "<pre style=\"white-space:pre;overflow-x:auto;line-height:normal;font-family:Menlo,'DejaVu Sans Mono',consolas,'Courier New',monospace\"><span style=\"color: #7fbfbf; text-decoration-color: #7fbfbf\">[10/01/23 19:17:48] </span><span style=\"color: #000080; text-decoration-color: #000080\">INFO    </span> ToolkitTask 9cddd8e0953044ee8fb3d95d18dd1a38                                          \n",
       "<span style=\"color: #7fbfbf; text-decoration-color: #7fbfbf\">                    </span>         Output: Great! As a Cleric, you might want to prioritize Wisdom <span style=\"font-weight: bold\">(</span>for your             \n",
       "<span style=\"color: #7fbfbf; text-decoration-color: #7fbfbf\">                    </span>         spellcasting<span style=\"font-weight: bold\">)</span> and Constitution <span style=\"font-weight: bold\">(</span>for your health<span style=\"font-weight: bold\">)</span>. However, the distribution of points \n",
       "<span style=\"color: #7fbfbf; text-decoration-color: #7fbfbf\">                    </span>         is entirely up to you.                                                                \n",
       "<span style=\"color: #7fbfbf; text-decoration-color: #7fbfbf\">                    </span>                                                                                               \n",
       "<span style=\"color: #7fbfbf; text-decoration-color: #7fbfbf\">                    </span>         Here's how the Point Buy system works:                                                \n",
       "<span style=\"color: #7fbfbf; text-decoration-color: #7fbfbf\">                    </span>                                                                                               \n",
       "<span style=\"color: #7fbfbf; text-decoration-color: #7fbfbf\">                    </span>         - Each ability starts at a score of <span style=\"color: #008080; text-decoration-color: #008080; font-weight: bold\">8</span>.                                                \n",
       "<span style=\"color: #7fbfbf; text-decoration-color: #7fbfbf\">                    </span>         - You have <span style=\"color: #008080; text-decoration-color: #008080; font-weight: bold\">27</span> points to spend to increase these scores.                               \n",
       "<span style=\"color: #7fbfbf; text-decoration-color: #7fbfbf\">                    </span>         - The cost of each point is as follows: <span style=\"color: #008080; text-decoration-color: #008080; font-weight: bold\">9</span>-<span style=\"color: #008080; text-decoration-color: #008080; font-weight: bold\">14</span> costs <span style=\"color: #008080; text-decoration-color: #008080; font-weight: bold\">1</span> point each, <span style=\"color: #008080; text-decoration-color: #008080; font-weight: bold\">15</span> and <span style=\"color: #008080; text-decoration-color: #008080; font-weight: bold\">16</span> cost <span style=\"color: #008080; text-decoration-color: #008080; font-weight: bold\">2</span>     \n",
       "<span style=\"color: #7fbfbf; text-decoration-color: #7fbfbf\">                    </span>         points each.                                                                          \n",
       "<span style=\"color: #7fbfbf; text-decoration-color: #7fbfbf\">                    </span>         - No score can be increased above <span style=\"color: #008080; text-decoration-color: #008080; font-weight: bold\">16</span>.                                                 \n",
       "<span style=\"color: #7fbfbf; text-decoration-color: #7fbfbf\">                    </span>                                                                                               \n",
       "<span style=\"color: #7fbfbf; text-decoration-color: #7fbfbf\">                    </span>         How would you like to distribute your points?                                         \n",
       "</pre>\n"
      ],
      "text/plain": [
       "\u001b[2;36m[10/01/23 19:17:48]\u001b[0m\u001b[2;36m \u001b[0m\u001b[34mINFO    \u001b[0m ToolkitTask 9cddd8e0953044ee8fb3d95d18dd1a38                                          \n",
       "\u001b[2;36m                    \u001b[0m         Output: Great! As a Cleric, you might want to prioritize Wisdom \u001b[1m(\u001b[0mfor your             \n",
       "\u001b[2;36m                    \u001b[0m         spellcasting\u001b[1m)\u001b[0m and Constitution \u001b[1m(\u001b[0mfor your health\u001b[1m)\u001b[0m. However, the distribution of points \n",
       "\u001b[2;36m                    \u001b[0m         is entirely up to you.                                                                \n",
       "\u001b[2;36m                    \u001b[0m                                                                                               \n",
       "\u001b[2;36m                    \u001b[0m         Here's how the Point Buy system works:                                                \n",
       "\u001b[2;36m                    \u001b[0m                                                                                               \n",
       "\u001b[2;36m                    \u001b[0m         - Each ability starts at a score of \u001b[1;36m8\u001b[0m.                                                \n",
       "\u001b[2;36m                    \u001b[0m         - You have \u001b[1;36m27\u001b[0m points to spend to increase these scores.                               \n",
       "\u001b[2;36m                    \u001b[0m         - The cost of each point is as follows: \u001b[1;36m9\u001b[0m-\u001b[1;36m14\u001b[0m costs \u001b[1;36m1\u001b[0m point each, \u001b[1;36m15\u001b[0m and \u001b[1;36m16\u001b[0m cost \u001b[1;36m2\u001b[0m     \n",
       "\u001b[2;36m                    \u001b[0m         points each.                                                                          \n",
       "\u001b[2;36m                    \u001b[0m         - No score can be increased above \u001b[1;36m16\u001b[0m.                                                 \n",
       "\u001b[2;36m                    \u001b[0m                                                                                               \n",
       "\u001b[2;36m                    \u001b[0m         How would you like to distribute your points?                                         \n"
      ]
     },
     "metadata": {},
     "output_type": "display_data"
    }
   ],
   "source": [
    "response = conv.run(\"Let's use point buy\")"
   ]
  },
  {
   "cell_type": "code",
   "execution_count": 8,
   "id": "384766ef-0fa4-4df7-81eb-eb922c52abce",
   "metadata": {
    "scrolled": true
   },
   "outputs": [
    {
     "data": {
      "text/html": [
       "<pre style=\"white-space:pre;overflow-x:auto;line-height:normal;font-family:Menlo,'DejaVu Sans Mono',consolas,'Courier New',monospace\"><span style=\"color: #7fbfbf; text-decoration-color: #7fbfbf\">[10/01/23 19:18:27] </span><span style=\"color: #000080; text-decoration-color: #000080\">INFO    </span> ToolkitTask 9cddd8e0953044ee8fb3d95d18dd1a38                                          \n",
       "<span style=\"color: #7fbfbf; text-decoration-color: #7fbfbf\">                    </span>         Input: Can you suggest an optimal distribution?                                       \n",
       "</pre>\n"
      ],
      "text/plain": [
       "\u001b[2;36m[10/01/23 19:18:27]\u001b[0m\u001b[2;36m \u001b[0m\u001b[34mINFO    \u001b[0m ToolkitTask 9cddd8e0953044ee8fb3d95d18dd1a38                                          \n",
       "\u001b[2;36m                    \u001b[0m         Input: Can you suggest an optimal distribution?                                       \n"
      ]
     },
     "metadata": {},
     "output_type": "display_data"
    },
    {
     "data": {
      "text/html": [
       "<pre style=\"white-space:pre;overflow-x:auto;line-height:normal;font-family:Menlo,'DejaVu Sans Mono',consolas,'Courier New',monospace\"><span style=\"color: #7fbfbf; text-decoration-color: #7fbfbf\">[10/01/23 19:18:42] </span><span style=\"color: #000080; text-decoration-color: #000080\">INFO    </span> ToolkitTask 9cddd8e0953044ee8fb3d95d18dd1a38                                          \n",
       "<span style=\"color: #7fbfbf; text-decoration-color: #7fbfbf\">                    </span>         Output: An optimal distribution for a Cleric might look something like this:          \n",
       "<span style=\"color: #7fbfbf; text-decoration-color: #7fbfbf\">                    </span>                                                                                               \n",
       "<span style=\"color: #7fbfbf; text-decoration-color: #7fbfbf\">                    </span>         - Strength: <span style=\"color: #008080; text-decoration-color: #008080; font-weight: bold\">12</span> <span style=\"font-weight: bold\">(</span><span style=\"color: #008080; text-decoration-color: #008080; font-weight: bold\">4</span> points<span style=\"font-weight: bold\">)</span>                                                             \n",
       "<span style=\"color: #7fbfbf; text-decoration-color: #7fbfbf\">                    </span>         - Dexterity: <span style=\"color: #008080; text-decoration-color: #008080; font-weight: bold\">10</span> <span style=\"font-weight: bold\">(</span><span style=\"color: #008080; text-decoration-color: #008080; font-weight: bold\">2</span> points<span style=\"font-weight: bold\">)</span>                                                            \n",
       "<span style=\"color: #7fbfbf; text-decoration-color: #7fbfbf\">                    </span>         - Constitution: <span style=\"color: #008080; text-decoration-color: #008080; font-weight: bold\">14</span> <span style=\"font-weight: bold\">(</span><span style=\"color: #008080; text-decoration-color: #008080; font-weight: bold\">6</span> points<span style=\"font-weight: bold\">)</span>                                                         \n",
       "<span style=\"color: #7fbfbf; text-decoration-color: #7fbfbf\">                    </span>         - Intelligence: <span style=\"color: #008080; text-decoration-color: #008080; font-weight: bold\">10</span> <span style=\"font-weight: bold\">(</span><span style=\"color: #008080; text-decoration-color: #008080; font-weight: bold\">2</span> points<span style=\"font-weight: bold\">)</span>                                                         \n",
       "<span style=\"color: #7fbfbf; text-decoration-color: #7fbfbf\">                    </span>         - Wisdom: <span style=\"color: #008080; text-decoration-color: #008080; font-weight: bold\">15</span> <span style=\"font-weight: bold\">(</span><span style=\"color: #008080; text-decoration-color: #008080; font-weight: bold\">9</span> points<span style=\"font-weight: bold\">)</span>                                                               \n",
       "<span style=\"color: #7fbfbf; text-decoration-color: #7fbfbf\">                    </span>         - Charisma: <span style=\"color: #008080; text-decoration-color: #008080; font-weight: bold\">8</span> <span style=\"font-weight: bold\">(</span><span style=\"color: #008080; text-decoration-color: #008080; font-weight: bold\">0</span> points<span style=\"font-weight: bold\">)</span>                                                              \n",
       "<span style=\"color: #7fbfbf; text-decoration-color: #7fbfbf\">                    </span>                                                                                               \n",
       "<span style=\"color: #7fbfbf; text-decoration-color: #7fbfbf\">                    </span>         This uses all <span style=\"color: #008080; text-decoration-color: #008080; font-weight: bold\">27</span> points. Wisdom is the highest, as it's the most important for a      \n",
       "<span style=\"color: #7fbfbf; text-decoration-color: #7fbfbf\">                    </span>         Cleric. Constitution is next, to give you good health. Strength is at <span style=\"color: #008080; text-decoration-color: #008080; font-weight: bold\">12</span> for melee    \n",
       "<span style=\"color: #7fbfbf; text-decoration-color: #7fbfbf\">                    </span>         combat. Dexterity, Intelligence, and Charisma are less crucial for a Cleric, but we've\n",
       "<span style=\"color: #7fbfbf; text-decoration-color: #7fbfbf\">                    </span>         still put some points into Dexterity and Intelligence. Charisma is at the base <span style=\"color: #008080; text-decoration-color: #008080; font-weight: bold\">8</span>.     \n",
       "<span style=\"color: #7fbfbf; text-decoration-color: #7fbfbf\">                    </span>                                                                                               \n",
       "<span style=\"color: #7fbfbf; text-decoration-color: #7fbfbf\">                    </span>         Would you like to use this distribution, or would you like to adjust it?              \n",
       "</pre>\n"
      ],
      "text/plain": [
       "\u001b[2;36m[10/01/23 19:18:42]\u001b[0m\u001b[2;36m \u001b[0m\u001b[34mINFO    \u001b[0m ToolkitTask 9cddd8e0953044ee8fb3d95d18dd1a38                                          \n",
       "\u001b[2;36m                    \u001b[0m         Output: An optimal distribution for a Cleric might look something like this:          \n",
       "\u001b[2;36m                    \u001b[0m                                                                                               \n",
       "\u001b[2;36m                    \u001b[0m         - Strength: \u001b[1;36m12\u001b[0m \u001b[1m(\u001b[0m\u001b[1;36m4\u001b[0m points\u001b[1m)\u001b[0m                                                             \n",
       "\u001b[2;36m                    \u001b[0m         - Dexterity: \u001b[1;36m10\u001b[0m \u001b[1m(\u001b[0m\u001b[1;36m2\u001b[0m points\u001b[1m)\u001b[0m                                                            \n",
       "\u001b[2;36m                    \u001b[0m         - Constitution: \u001b[1;36m14\u001b[0m \u001b[1m(\u001b[0m\u001b[1;36m6\u001b[0m points\u001b[1m)\u001b[0m                                                         \n",
       "\u001b[2;36m                    \u001b[0m         - Intelligence: \u001b[1;36m10\u001b[0m \u001b[1m(\u001b[0m\u001b[1;36m2\u001b[0m points\u001b[1m)\u001b[0m                                                         \n",
       "\u001b[2;36m                    \u001b[0m         - Wisdom: \u001b[1;36m15\u001b[0m \u001b[1m(\u001b[0m\u001b[1;36m9\u001b[0m points\u001b[1m)\u001b[0m                                                               \n",
       "\u001b[2;36m                    \u001b[0m         - Charisma: \u001b[1;36m8\u001b[0m \u001b[1m(\u001b[0m\u001b[1;36m0\u001b[0m points\u001b[1m)\u001b[0m                                                              \n",
       "\u001b[2;36m                    \u001b[0m                                                                                               \n",
       "\u001b[2;36m                    \u001b[0m         This uses all \u001b[1;36m27\u001b[0m points. Wisdom is the highest, as it's the most important for a      \n",
       "\u001b[2;36m                    \u001b[0m         Cleric. Constitution is next, to give you good health. Strength is at \u001b[1;36m12\u001b[0m for melee    \n",
       "\u001b[2;36m                    \u001b[0m         combat. Dexterity, Intelligence, and Charisma are less crucial for a Cleric, but we've\n",
       "\u001b[2;36m                    \u001b[0m         still put some points into Dexterity and Intelligence. Charisma is at the base \u001b[1;36m8\u001b[0m.     \n",
       "\u001b[2;36m                    \u001b[0m                                                                                               \n",
       "\u001b[2;36m                    \u001b[0m         Would you like to use this distribution, or would you like to adjust it?              \n"
      ]
     },
     "metadata": {},
     "output_type": "display_data"
    }
   ],
   "source": [
    "response = conv.run(\"Can you suggest an optimal distribution?\")"
   ]
  },
  {
   "cell_type": "code",
   "execution_count": 9,
   "id": "28cadf55-2a8e-498a-a062-89fb2e2cc934",
   "metadata": {},
   "outputs": [
    {
     "data": {
      "text/html": [
       "<pre style=\"white-space:pre;overflow-x:auto;line-height:normal;font-family:Menlo,'DejaVu Sans Mono',consolas,'Courier New',monospace\"><span style=\"color: #7fbfbf; text-decoration-color: #7fbfbf\">[10/01/23 19:19:08] </span><span style=\"color: #000080; text-decoration-color: #000080\">INFO    </span> ToolkitTask 9cddd8e0953044ee8fb3d95d18dd1a38                                          \n",
       "<span style=\"color: #7fbfbf; text-decoration-color: #7fbfbf\">                    </span>         Input: I'd like to be a more socially oriented cleric                                 \n",
       "</pre>\n"
      ],
      "text/plain": [
       "\u001b[2;36m[10/01/23 19:19:08]\u001b[0m\u001b[2;36m \u001b[0m\u001b[34mINFO    \u001b[0m ToolkitTask 9cddd8e0953044ee8fb3d95d18dd1a38                                          \n",
       "\u001b[2;36m                    \u001b[0m         Input: I'd like to be a more socially oriented cleric                                 \n"
      ]
     },
     "metadata": {},
     "output_type": "display_data"
    },
    {
     "data": {
      "text/html": [
       "<pre style=\"white-space:pre;overflow-x:auto;line-height:normal;font-family:Menlo,'DejaVu Sans Mono',consolas,'Courier New',monospace\"><span style=\"color: #7fbfbf; text-decoration-color: #7fbfbf\">[10/01/23 19:19:17] </span><span style=\"color: #000080; text-decoration-color: #000080\">INFO    </span> ToolkitTask 9cddd8e0953044ee8fb3d95d18dd1a38                                          \n",
       "<span style=\"color: #7fbfbf; text-decoration-color: #7fbfbf\">                    </span>         Output: Absolutely, a socially oriented Cleric can be a lot of fun to play! In that   \n",
       "<span style=\"color: #7fbfbf; text-decoration-color: #7fbfbf\">                    </span>         case, you might want to put more points into Charisma. Here's a revised distribution: \n",
       "<span style=\"color: #7fbfbf; text-decoration-color: #7fbfbf\">                    </span>                                                                                               \n",
       "<span style=\"color: #7fbfbf; text-decoration-color: #7fbfbf\">                    </span>         - Strength: <span style=\"color: #008080; text-decoration-color: #008080; font-weight: bold\">10</span> <span style=\"font-weight: bold\">(</span><span style=\"color: #008080; text-decoration-color: #008080; font-weight: bold\">2</span> points<span style=\"font-weight: bold\">)</span>                                                             \n",
       "<span style=\"color: #7fbfbf; text-decoration-color: #7fbfbf\">                    </span>         - Dexterity: <span style=\"color: #008080; text-decoration-color: #008080; font-weight: bold\">10</span> <span style=\"font-weight: bold\">(</span><span style=\"color: #008080; text-decoration-color: #008080; font-weight: bold\">2</span> points<span style=\"font-weight: bold\">)</span>                                                            \n",
       "<span style=\"color: #7fbfbf; text-decoration-color: #7fbfbf\">                    </span>         - Constitution: <span style=\"color: #008080; text-decoration-color: #008080; font-weight: bold\">14</span> <span style=\"font-weight: bold\">(</span><span style=\"color: #008080; text-decoration-color: #008080; font-weight: bold\">6</span> points<span style=\"font-weight: bold\">)</span>                                                         \n",
       "<span style=\"color: #7fbfbf; text-decoration-color: #7fbfbf\">                    </span>         - Intelligence: <span style=\"color: #008080; text-decoration-color: #008080; font-weight: bold\">8</span> <span style=\"font-weight: bold\">(</span><span style=\"color: #008080; text-decoration-color: #008080; font-weight: bold\">0</span> points<span style=\"font-weight: bold\">)</span>                                                          \n",
       "<span style=\"color: #7fbfbf; text-decoration-color: #7fbfbf\">                    </span>         - Wisdom: <span style=\"color: #008080; text-decoration-color: #008080; font-weight: bold\">15</span> <span style=\"font-weight: bold\">(</span><span style=\"color: #008080; text-decoration-color: #008080; font-weight: bold\">9</span> points<span style=\"font-weight: bold\">)</span>                                                               \n",
       "<span style=\"color: #7fbfbf; text-decoration-color: #7fbfbf\">                    </span>         - Charisma: <span style=\"color: #008080; text-decoration-color: #008080; font-weight: bold\">13</span> <span style=\"font-weight: bold\">(</span><span style=\"color: #008080; text-decoration-color: #008080; font-weight: bold\">5</span> points<span style=\"font-weight: bold\">)</span>                                                             \n",
       "<span style=\"color: #7fbfbf; text-decoration-color: #7fbfbf\">                    </span>                                                                                               \n",
       "<span style=\"color: #7fbfbf; text-decoration-color: #7fbfbf\">                    </span>         This still uses all <span style=\"color: #008080; text-decoration-color: #008080; font-weight: bold\">27</span> points. Wisdom is still the highest, and Constitution is still \n",
       "<span style=\"color: #7fbfbf; text-decoration-color: #7fbfbf\">                    </span>         high for health. We've reduced Strength and Intelligence to increase Charisma, which  \n",
       "<span style=\"color: #7fbfbf; text-decoration-color: #7fbfbf\">                    </span>         will help with social interactions.                                                   \n",
       "<span style=\"color: #7fbfbf; text-decoration-color: #7fbfbf\">                    </span>                                                                                               \n",
       "<span style=\"color: #7fbfbf; text-decoration-color: #7fbfbf\">                    </span>         Does this distribution look good to you?                                              \n",
       "</pre>\n"
      ],
      "text/plain": [
       "\u001b[2;36m[10/01/23 19:19:17]\u001b[0m\u001b[2;36m \u001b[0m\u001b[34mINFO    \u001b[0m ToolkitTask 9cddd8e0953044ee8fb3d95d18dd1a38                                          \n",
       "\u001b[2;36m                    \u001b[0m         Output: Absolutely, a socially oriented Cleric can be a lot of fun to play! In that   \n",
       "\u001b[2;36m                    \u001b[0m         case, you might want to put more points into Charisma. Here's a revised distribution: \n",
       "\u001b[2;36m                    \u001b[0m                                                                                               \n",
       "\u001b[2;36m                    \u001b[0m         - Strength: \u001b[1;36m10\u001b[0m \u001b[1m(\u001b[0m\u001b[1;36m2\u001b[0m points\u001b[1m)\u001b[0m                                                             \n",
       "\u001b[2;36m                    \u001b[0m         - Dexterity: \u001b[1;36m10\u001b[0m \u001b[1m(\u001b[0m\u001b[1;36m2\u001b[0m points\u001b[1m)\u001b[0m                                                            \n",
       "\u001b[2;36m                    \u001b[0m         - Constitution: \u001b[1;36m14\u001b[0m \u001b[1m(\u001b[0m\u001b[1;36m6\u001b[0m points\u001b[1m)\u001b[0m                                                         \n",
       "\u001b[2;36m                    \u001b[0m         - Intelligence: \u001b[1;36m8\u001b[0m \u001b[1m(\u001b[0m\u001b[1;36m0\u001b[0m points\u001b[1m)\u001b[0m                                                          \n",
       "\u001b[2;36m                    \u001b[0m         - Wisdom: \u001b[1;36m15\u001b[0m \u001b[1m(\u001b[0m\u001b[1;36m9\u001b[0m points\u001b[1m)\u001b[0m                                                               \n",
       "\u001b[2;36m                    \u001b[0m         - Charisma: \u001b[1;36m13\u001b[0m \u001b[1m(\u001b[0m\u001b[1;36m5\u001b[0m points\u001b[1m)\u001b[0m                                                             \n",
       "\u001b[2;36m                    \u001b[0m                                                                                               \n",
       "\u001b[2;36m                    \u001b[0m         This still uses all \u001b[1;36m27\u001b[0m points. Wisdom is still the highest, and Constitution is still \n",
       "\u001b[2;36m                    \u001b[0m         high for health. We've reduced Strength and Intelligence to increase Charisma, which  \n",
       "\u001b[2;36m                    \u001b[0m         will help with social interactions.                                                   \n",
       "\u001b[2;36m                    \u001b[0m                                                                                               \n",
       "\u001b[2;36m                    \u001b[0m         Does this distribution look good to you?                                              \n"
      ]
     },
     "metadata": {},
     "output_type": "display_data"
    }
   ],
   "source": [
    "response = conv.run(\"I'd like to be a more socially oriented cleric\")"
   ]
  },
  {
   "cell_type": "code",
   "execution_count": 10,
   "id": "1d0cccb1-36eb-4d7c-8e8d-c3ae9266802f",
   "metadata": {},
   "outputs": [
    {
     "data": {
      "text/html": [
       "<pre style=\"white-space:pre;overflow-x:auto;line-height:normal;font-family:Menlo,'DejaVu Sans Mono',consolas,'Courier New',monospace\"><span style=\"color: #7fbfbf; text-decoration-color: #7fbfbf\">[10/01/23 19:19:37] </span><span style=\"color: #000080; text-decoration-color: #000080\">INFO    </span> ToolkitTask 9cddd8e0953044ee8fb3d95d18dd1a38                                          \n",
       "<span style=\"color: #7fbfbf; text-decoration-color: #7fbfbf\">                    </span>         Input: Yeah, that looks great.                                                        \n",
       "</pre>\n"
      ],
      "text/plain": [
       "\u001b[2;36m[10/01/23 19:19:37]\u001b[0m\u001b[2;36m \u001b[0m\u001b[34mINFO    \u001b[0m ToolkitTask 9cddd8e0953044ee8fb3d95d18dd1a38                                          \n",
       "\u001b[2;36m                    \u001b[0m         Input: Yeah, that looks great.                                                        \n"
      ]
     },
     "metadata": {},
     "output_type": "display_data"
    },
    {
     "data": {
      "text/html": [
       "<pre style=\"white-space:pre;overflow-x:auto;line-height:normal;font-family:Menlo,'DejaVu Sans Mono',consolas,'Courier New',monospace\"><span style=\"color: #7fbfbf; text-decoration-color: #7fbfbf\">[10/01/23 19:19:43] </span><span style=\"color: #000080; text-decoration-color: #000080\">INFO    </span> Subtask a6e8f87879fc447e91256dd9bfe4306f                                              \n",
       "<span style=\"color: #7fbfbf; text-decoration-color: #7fbfbf\">                    </span>         Thought: The user has agreed to the proposed ability scores. According to the         \n",
       "<span style=\"color: #7fbfbf; text-decoration-color: #7fbfbf\">                    </span>         <span style=\"color: #008000; text-decoration-color: #008000\">\"ability_scores rules\"</span>, I should now update the character sheet with these new ability\n",
       "<span style=\"color: #7fbfbf; text-decoration-color: #7fbfbf\">                    </span>         scores.                                                                               \n",
       "<span style=\"color: #7fbfbf; text-decoration-color: #7fbfbf\">                    </span>                                                                                               \n",
       "<span style=\"color: #7fbfbf; text-decoration-color: #7fbfbf\">                    </span>         Action: <span style=\"font-weight: bold\">{</span><span style=\"color: #008000; text-decoration-color: #008000\">\"type\"</span>: <span style=\"color: #008000; text-decoration-color: #008000\">\"tool\"</span>, <span style=\"color: #008000; text-decoration-color: #008000\">\"name\"</span>: <span style=\"color: #008000; text-decoration-color: #008000\">\"CharacterSheetUpdater\"</span>, <span style=\"color: #008000; text-decoration-color: #008000\">\"activity\"</span>:                 \n",
       "<span style=\"color: #7fbfbf; text-decoration-color: #7fbfbf\">                    </span>         <span style=\"color: #008000; text-decoration-color: #008000\">\"update_ability_scores\"</span>, <span style=\"color: #008000; text-decoration-color: #008000\">\"input\"</span>: <span style=\"font-weight: bold\">{</span><span style=\"color: #008000; text-decoration-color: #008000\">\"values\"</span>: <span style=\"font-weight: bold\">{</span><span style=\"color: #008000; text-decoration-color: #008000\">\"ability_scores\"</span>: <span style=\"font-weight: bold\">{</span><span style=\"color: #008000; text-decoration-color: #008000\">\"strength\"</span>: <span style=\"color: #008080; text-decoration-color: #008080; font-weight: bold\">10</span>,      \n",
       "<span style=\"color: #7fbfbf; text-decoration-color: #7fbfbf\">                    </span>         <span style=\"color: #008000; text-decoration-color: #008000\">\"dexterity\"</span>: <span style=\"color: #008080; text-decoration-color: #008080; font-weight: bold\">10</span>, <span style=\"color: #008000; text-decoration-color: #008000\">\"constitution\"</span>: <span style=\"color: #008080; text-decoration-color: #008080; font-weight: bold\">14</span>, <span style=\"color: #008000; text-decoration-color: #008000\">\"intelligence\"</span>: <span style=\"color: #008080; text-decoration-color: #008080; font-weight: bold\">8</span>, <span style=\"color: #008000; text-decoration-color: #008000\">\"wisdom\"</span>: <span style=\"color: #008080; text-decoration-color: #008080; font-weight: bold\">15</span>, <span style=\"color: #008000; text-decoration-color: #008000\">\"charisma\"</span>:     \n",
       "<span style=\"color: #7fbfbf; text-decoration-color: #7fbfbf\">                    </span>         <span style=\"color: #008080; text-decoration-color: #008080; font-weight: bold\">13</span><span style=\"font-weight: bold\">}}}}</span>                                                                                \n",
       "</pre>\n"
      ],
      "text/plain": [
       "\u001b[2;36m[10/01/23 19:19:43]\u001b[0m\u001b[2;36m \u001b[0m\u001b[34mINFO    \u001b[0m Subtask a6e8f87879fc447e91256dd9bfe4306f                                              \n",
       "\u001b[2;36m                    \u001b[0m         Thought: The user has agreed to the proposed ability scores. According to the         \n",
       "\u001b[2;36m                    \u001b[0m         \u001b[32m\"ability_scores rules\"\u001b[0m, I should now update the character sheet with these new ability\n",
       "\u001b[2;36m                    \u001b[0m         scores.                                                                               \n",
       "\u001b[2;36m                    \u001b[0m                                                                                               \n",
       "\u001b[2;36m                    \u001b[0m         Action: \u001b[1m{\u001b[0m\u001b[32m\"type\"\u001b[0m: \u001b[32m\"tool\"\u001b[0m, \u001b[32m\"name\"\u001b[0m: \u001b[32m\"CharacterSheetUpdater\"\u001b[0m, \u001b[32m\"activity\"\u001b[0m:                 \n",
       "\u001b[2;36m                    \u001b[0m         \u001b[32m\"update_ability_scores\"\u001b[0m, \u001b[32m\"input\"\u001b[0m: \u001b[1m{\u001b[0m\u001b[32m\"values\"\u001b[0m: \u001b[1m{\u001b[0m\u001b[32m\"ability_scores\"\u001b[0m: \u001b[1m{\u001b[0m\u001b[32m\"strength\"\u001b[0m: \u001b[1;36m10\u001b[0m,      \n",
       "\u001b[2;36m                    \u001b[0m         \u001b[32m\"dexterity\"\u001b[0m: \u001b[1;36m10\u001b[0m, \u001b[32m\"constitution\"\u001b[0m: \u001b[1;36m14\u001b[0m, \u001b[32m\"intelligence\"\u001b[0m: \u001b[1;36m8\u001b[0m, \u001b[32m\"wisdom\"\u001b[0m: \u001b[1;36m15\u001b[0m, \u001b[32m\"charisma\"\u001b[0m:     \n",
       "\u001b[2;36m                    \u001b[0m         \u001b[1;36m13\u001b[0m\u001b[1m}\u001b[0m\u001b[1m}\u001b[0m\u001b[1m}\u001b[0m\u001b[1m}\u001b[0m                                                                                \n"
      ]
     },
     "metadata": {},
     "output_type": "display_data"
    },
    {
     "name": "stderr",
     "output_type": "stream",
     "text": [
      "WARNING:root:Activity result is not an artifact; converting result to InfoArtifact\n"
     ]
    },
    {
     "data": {
      "text/html": [
       "<pre style=\"white-space:pre;overflow-x:auto;line-height:normal;font-family:Menlo,'DejaVu Sans Mono',consolas,'Courier New',monospace\"><span style=\"color: #7fbfbf; text-decoration-color: #7fbfbf\">                    </span><span style=\"color: #000080; text-decoration-color: #000080\">INFO    </span> Subtask a6e8f87879fc447e91256dd9bfe4306f                                              \n",
       "<span style=\"color: #7fbfbf; text-decoration-color: #7fbfbf\">                    </span>         Observation: <span style=\"color: #800080; text-decoration-color: #800080; font-weight: bold\">Character</span><span style=\"font-weight: bold\">(</span><span style=\"color: #808000; text-decoration-color: #808000\">name</span>=<span style=\"color: #800080; text-decoration-color: #800080; font-style: italic\">None</span>, <span style=\"color: #808000; text-decoration-color: #808000\">class_</span>=<span style=\"color: #008000; text-decoration-color: #008000\">'cleric'</span>, <span style=\"color: #808000; text-decoration-color: #808000\">subclasse</span>=<span style=\"color: #800080; text-decoration-color: #800080; font-style: italic\">None</span>, <span style=\"color: #808000; text-decoration-color: #808000\">level</span>=<span style=\"color: #008080; text-decoration-color: #008080; font-weight: bold\">1</span>,           \n",
       "<span style=\"color: #7fbfbf; text-decoration-color: #7fbfbf\">                    </span>         <span style=\"color: #808000; text-decoration-color: #808000\">race</span>=<span style=\"color: #008000; text-decoration-color: #008000\">'halfling'</span>, <span style=\"color: #808000; text-decoration-color: #808000\">alignment</span>=<span style=\"color: #800080; text-decoration-color: #800080; font-style: italic\">None</span>, <span style=\"color: #808000; text-decoration-color: #808000\">background</span>=<span style=\"color: #800080; text-decoration-color: #800080; font-style: italic\">None</span>, <span style=\"color: #808000; text-decoration-color: #808000\">proficiency_bonus</span>=<span style=\"color: #008080; text-decoration-color: #008080; font-weight: bold\">2</span>,                \n",
       "<span style=\"color: #7fbfbf; text-decoration-color: #7fbfbf\">                    </span>         <span style=\"color: #808000; text-decoration-color: #808000\">base_ability_scores</span>=<span style=\"color: #800080; text-decoration-color: #800080; font-weight: bold\">AbilityScores</span><span style=\"font-weight: bold\">(</span><span style=\"color: #808000; text-decoration-color: #808000\">strength</span>=<span style=\"color: #008080; text-decoration-color: #008080; font-weight: bold\">10</span>, <span style=\"color: #808000; text-decoration-color: #808000\">dexterity</span>=<span style=\"color: #008080; text-decoration-color: #008080; font-weight: bold\">10</span>, <span style=\"color: #808000; text-decoration-color: #808000\">constitution</span>=<span style=\"color: #008080; text-decoration-color: #008080; font-weight: bold\">14</span>,         \n",
       "<span style=\"color: #7fbfbf; text-decoration-color: #7fbfbf\">                    </span>         <span style=\"color: #808000; text-decoration-color: #808000\">intelligence</span>=<span style=\"color: #008080; text-decoration-color: #008080; font-weight: bold\">8</span>, <span style=\"color: #808000; text-decoration-color: #808000\">wisdom</span>=<span style=\"color: #008080; text-decoration-color: #008080; font-weight: bold\">15</span>, <span style=\"color: #808000; text-decoration-color: #808000\">charisma</span>=<span style=\"color: #008080; text-decoration-color: #008080; font-weight: bold\">13</span><span style=\"font-weight: bold\">)</span>,                                              \n",
       "<span style=\"color: #7fbfbf; text-decoration-color: #7fbfbf\">                    </span>         <span style=\"color: #808000; text-decoration-color: #808000\">racial_ability_bonus</span>=<span style=\"color: #800080; text-decoration-color: #800080; font-weight: bold\">AbilityScores</span><span style=\"font-weight: bold\">(</span><span style=\"color: #808000; text-decoration-color: #808000\">strength</span>=<span style=\"color: #008080; text-decoration-color: #008080; font-weight: bold\">0</span>, <span style=\"color: #808000; text-decoration-color: #808000\">dexterity</span>=<span style=\"color: #008080; text-decoration-color: #008080; font-weight: bold\">2</span>, <span style=\"color: #808000; text-decoration-color: #808000\">constitution</span>=<span style=\"color: #008080; text-decoration-color: #008080; font-weight: bold\">0</span>,           \n",
       "<span style=\"color: #7fbfbf; text-decoration-color: #7fbfbf\">                    </span>         <span style=\"color: #808000; text-decoration-color: #808000\">intelligence</span>=<span style=\"color: #008080; text-decoration-color: #008080; font-weight: bold\">0</span>, <span style=\"color: #808000; text-decoration-color: #808000\">wisdom</span>=<span style=\"color: #008080; text-decoration-color: #008080; font-weight: bold\">0</span>, <span style=\"color: #808000; text-decoration-color: #808000\">charisma</span>=<span style=\"color: #008080; text-decoration-color: #008080; font-weight: bold\">0</span><span style=\"font-weight: bold\">)</span>, <span style=\"color: #808000; text-decoration-color: #808000\">final_ability_scores</span>=<span style=\"color: #800080; text-decoration-color: #800080; font-weight: bold\">AbilityScores</span><span style=\"font-weight: bold\">(</span><span style=\"color: #808000; text-decoration-color: #808000\">strength</span>=<span style=\"color: #008080; text-decoration-color: #008080; font-weight: bold\">10</span>,\n",
       "<span style=\"color: #7fbfbf; text-decoration-color: #7fbfbf\">                    </span>         <span style=\"color: #808000; text-decoration-color: #808000\">dexterity</span>=<span style=\"color: #008080; text-decoration-color: #008080; font-weight: bold\">12</span>, <span style=\"color: #808000; text-decoration-color: #808000\">constitution</span>=<span style=\"color: #008080; text-decoration-color: #008080; font-weight: bold\">14</span>, <span style=\"color: #808000; text-decoration-color: #808000\">intelligence</span>=<span style=\"color: #008080; text-decoration-color: #008080; font-weight: bold\">8</span>, <span style=\"color: #808000; text-decoration-color: #808000\">wisdom</span>=<span style=\"color: #008080; text-decoration-color: #008080; font-weight: bold\">15</span>, <span style=\"color: #808000; text-decoration-color: #808000\">charisma</span>=<span style=\"color: #008080; text-decoration-color: #008080; font-weight: bold\">13</span><span style=\"font-weight: bold\">)</span>,               \n",
       "<span style=\"color: #7fbfbf; text-decoration-color: #7fbfbf\">                    </span>         <span style=\"color: #808000; text-decoration-color: #808000\">saving_throw_proficiencies</span>=<span style=\"color: #800080; text-decoration-color: #800080; font-weight: bold\">SavingThrowProficiencies</span><span style=\"font-weight: bold\">(</span><span style=\"color: #808000; text-decoration-color: #808000\">strength</span>=<span style=\"color: #ff0000; text-decoration-color: #ff0000; font-style: italic\">False</span>, <span style=\"color: #808000; text-decoration-color: #808000\">dexterity</span>=<span style=\"color: #ff0000; text-decoration-color: #ff0000; font-style: italic\">False</span>,  \n",
       "<span style=\"color: #7fbfbf; text-decoration-color: #7fbfbf\">                    </span>         <span style=\"color: #808000; text-decoration-color: #808000\">constitution</span>=<span style=\"color: #ff0000; text-decoration-color: #ff0000; font-style: italic\">False</span>, <span style=\"color: #808000; text-decoration-color: #808000\">intelligence</span>=<span style=\"color: #ff0000; text-decoration-color: #ff0000; font-style: italic\">False</span>, <span style=\"color: #808000; text-decoration-color: #808000\">wisdom</span>=<span style=\"color: #00ff00; text-decoration-color: #00ff00; font-style: italic\">True</span>, <span style=\"color: #808000; text-decoration-color: #808000\">charisma</span>=<span style=\"color: #00ff00; text-decoration-color: #00ff00; font-style: italic\">True</span><span style=\"font-weight: bold\">)</span>,                  \n",
       "<span style=\"color: #7fbfbf; text-decoration-color: #7fbfbf\">                    </span>         <span style=\"color: #808000; text-decoration-color: #808000\">skill_proficiencies</span>=<span style=\"color: #800080; text-decoration-color: #800080; font-weight: bold\">SkillProficiencies</span><span style=\"font-weight: bold\">(</span><span style=\"color: #808000; text-decoration-color: #808000\">acrobatics</span>=<span style=\"color: #ff0000; text-decoration-color: #ff0000; font-style: italic\">False</span>, <span style=\"color: #808000; text-decoration-color: #808000\">animal_handling</span>=<span style=\"color: #ff0000; text-decoration-color: #ff0000; font-style: italic\">False</span>,       \n",
       "<span style=\"color: #7fbfbf; text-decoration-color: #7fbfbf\">                    </span>         <span style=\"color: #808000; text-decoration-color: #808000\">arcana</span>=<span style=\"color: #ff0000; text-decoration-color: #ff0000; font-style: italic\">False</span>, <span style=\"color: #808000; text-decoration-color: #808000\">athletics</span>=<span style=\"color: #ff0000; text-decoration-color: #ff0000; font-style: italic\">False</span>, <span style=\"color: #808000; text-decoration-color: #808000\">deception</span>=<span style=\"color: #ff0000; text-decoration-color: #ff0000; font-style: italic\">False</span>, <span style=\"color: #808000; text-decoration-color: #808000\">history</span>=<span style=\"color: #ff0000; text-decoration-color: #ff0000; font-style: italic\">False</span>, <span style=\"color: #808000; text-decoration-color: #808000\">insight</span>=<span style=\"color: #ff0000; text-decoration-color: #ff0000; font-style: italic\">False</span>,         \n",
       "<span style=\"color: #7fbfbf; text-decoration-color: #7fbfbf\">                    </span>         <span style=\"color: #808000; text-decoration-color: #808000\">intimidation</span>=<span style=\"color: #ff0000; text-decoration-color: #ff0000; font-style: italic\">False</span>, <span style=\"color: #808000; text-decoration-color: #808000\">investigation</span>=<span style=\"color: #ff0000; text-decoration-color: #ff0000; font-style: italic\">False</span>, <span style=\"color: #808000; text-decoration-color: #808000\">medicine</span>=<span style=\"color: #ff0000; text-decoration-color: #ff0000; font-style: italic\">False</span>, <span style=\"color: #808000; text-decoration-color: #808000\">nature</span>=<span style=\"color: #ff0000; text-decoration-color: #ff0000; font-style: italic\">False</span>,                \n",
       "<span style=\"color: #7fbfbf; text-decoration-color: #7fbfbf\">                    </span>         <span style=\"color: #808000; text-decoration-color: #808000\">perception</span>=<span style=\"color: #ff0000; text-decoration-color: #ff0000; font-style: italic\">False</span>, <span style=\"color: #808000; text-decoration-color: #808000\">performance</span>=<span style=\"color: #ff0000; text-decoration-color: #ff0000; font-style: italic\">False</span>, <span style=\"color: #808000; text-decoration-color: #808000\">persuasion</span>=<span style=\"color: #ff0000; text-decoration-color: #ff0000; font-style: italic\">False</span>, <span style=\"color: #808000; text-decoration-color: #808000\">religion</span>=<span style=\"color: #ff0000; text-decoration-color: #ff0000; font-style: italic\">False</span>,                \n",
       "<span style=\"color: #7fbfbf; text-decoration-color: #7fbfbf\">                    </span>         <span style=\"color: #808000; text-decoration-color: #808000\">sleight_of_hand</span>=<span style=\"color: #ff0000; text-decoration-color: #ff0000; font-style: italic\">False</span>, <span style=\"color: #808000; text-decoration-color: #808000\">stealth</span>=<span style=\"color: #ff0000; text-decoration-color: #ff0000; font-style: italic\">False</span>, <span style=\"color: #808000; text-decoration-color: #808000\">survival</span>=<span style=\"color: #ff0000; text-decoration-color: #ff0000; font-style: italic\">False</span><span style=\"font-weight: bold\">)</span>, <span style=\"color: #808000; text-decoration-color: #808000\">AC</span>=<span style=\"color: #008080; text-decoration-color: #008080; font-weight: bold\">10</span>, <span style=\"color: #808000; text-decoration-color: #808000\">speed</span>=<span style=\"color: #008080; text-decoration-color: #008080; font-weight: bold\">30</span>,               \n",
       "<span style=\"color: #7fbfbf; text-decoration-color: #7fbfbf\">                    </span>         <span style=\"color: #808000; text-decoration-color: #808000\">hit_point_max</span>=<span style=\"color: #008080; text-decoration-color: #008080; font-weight: bold\">6</span><span style=\"font-weight: bold\">)</span>                                                                      \n",
       "</pre>\n"
      ],
      "text/plain": [
       "\u001b[2;36m                   \u001b[0m\u001b[2;36m \u001b[0m\u001b[34mINFO    \u001b[0m Subtask a6e8f87879fc447e91256dd9bfe4306f                                              \n",
       "\u001b[2;36m                    \u001b[0m         Observation: \u001b[1;35mCharacter\u001b[0m\u001b[1m(\u001b[0m\u001b[33mname\u001b[0m=\u001b[3;35mNone\u001b[0m, \u001b[33mclass_\u001b[0m=\u001b[32m'cleric'\u001b[0m, \u001b[33msubclasse\u001b[0m=\u001b[3;35mNone\u001b[0m, \u001b[33mlevel\u001b[0m=\u001b[1;36m1\u001b[0m,           \n",
       "\u001b[2;36m                    \u001b[0m         \u001b[33mrace\u001b[0m=\u001b[32m'halfling'\u001b[0m, \u001b[33malignment\u001b[0m=\u001b[3;35mNone\u001b[0m, \u001b[33mbackground\u001b[0m=\u001b[3;35mNone\u001b[0m, \u001b[33mproficiency_bonus\u001b[0m=\u001b[1;36m2\u001b[0m,                \n",
       "\u001b[2;36m                    \u001b[0m         \u001b[33mbase_ability_scores\u001b[0m=\u001b[1;35mAbilityScores\u001b[0m\u001b[1m(\u001b[0m\u001b[33mstrength\u001b[0m=\u001b[1;36m10\u001b[0m, \u001b[33mdexterity\u001b[0m=\u001b[1;36m10\u001b[0m, \u001b[33mconstitution\u001b[0m=\u001b[1;36m14\u001b[0m,         \n",
       "\u001b[2;36m                    \u001b[0m         \u001b[33mintelligence\u001b[0m=\u001b[1;36m8\u001b[0m, \u001b[33mwisdom\u001b[0m=\u001b[1;36m15\u001b[0m, \u001b[33mcharisma\u001b[0m=\u001b[1;36m13\u001b[0m\u001b[1m)\u001b[0m,                                              \n",
       "\u001b[2;36m                    \u001b[0m         \u001b[33mracial_ability_bonus\u001b[0m=\u001b[1;35mAbilityScores\u001b[0m\u001b[1m(\u001b[0m\u001b[33mstrength\u001b[0m=\u001b[1;36m0\u001b[0m, \u001b[33mdexterity\u001b[0m=\u001b[1;36m2\u001b[0m, \u001b[33mconstitution\u001b[0m=\u001b[1;36m0\u001b[0m,           \n",
       "\u001b[2;36m                    \u001b[0m         \u001b[33mintelligence\u001b[0m=\u001b[1;36m0\u001b[0m, \u001b[33mwisdom\u001b[0m=\u001b[1;36m0\u001b[0m, \u001b[33mcharisma\u001b[0m=\u001b[1;36m0\u001b[0m\u001b[1m)\u001b[0m, \u001b[33mfinal_ability_scores\u001b[0m=\u001b[1;35mAbilityScores\u001b[0m\u001b[1m(\u001b[0m\u001b[33mstrength\u001b[0m=\u001b[1;36m10\u001b[0m,\n",
       "\u001b[2;36m                    \u001b[0m         \u001b[33mdexterity\u001b[0m=\u001b[1;36m12\u001b[0m, \u001b[33mconstitution\u001b[0m=\u001b[1;36m14\u001b[0m, \u001b[33mintelligence\u001b[0m=\u001b[1;36m8\u001b[0m, \u001b[33mwisdom\u001b[0m=\u001b[1;36m15\u001b[0m, \u001b[33mcharisma\u001b[0m=\u001b[1;36m13\u001b[0m\u001b[1m)\u001b[0m,               \n",
       "\u001b[2;36m                    \u001b[0m         \u001b[33msaving_throw_proficiencies\u001b[0m=\u001b[1;35mSavingThrowProficiencies\u001b[0m\u001b[1m(\u001b[0m\u001b[33mstrength\u001b[0m=\u001b[3;91mFalse\u001b[0m, \u001b[33mdexterity\u001b[0m=\u001b[3;91mFalse\u001b[0m,  \n",
       "\u001b[2;36m                    \u001b[0m         \u001b[33mconstitution\u001b[0m=\u001b[3;91mFalse\u001b[0m, \u001b[33mintelligence\u001b[0m=\u001b[3;91mFalse\u001b[0m, \u001b[33mwisdom\u001b[0m=\u001b[3;92mTrue\u001b[0m, \u001b[33mcharisma\u001b[0m=\u001b[3;92mTrue\u001b[0m\u001b[1m)\u001b[0m,                  \n",
       "\u001b[2;36m                    \u001b[0m         \u001b[33mskill_proficiencies\u001b[0m=\u001b[1;35mSkillProficiencies\u001b[0m\u001b[1m(\u001b[0m\u001b[33macrobatics\u001b[0m=\u001b[3;91mFalse\u001b[0m, \u001b[33manimal_handling\u001b[0m=\u001b[3;91mFalse\u001b[0m,       \n",
       "\u001b[2;36m                    \u001b[0m         \u001b[33marcana\u001b[0m=\u001b[3;91mFalse\u001b[0m, \u001b[33mathletics\u001b[0m=\u001b[3;91mFalse\u001b[0m, \u001b[33mdeception\u001b[0m=\u001b[3;91mFalse\u001b[0m, \u001b[33mhistory\u001b[0m=\u001b[3;91mFalse\u001b[0m, \u001b[33minsight\u001b[0m=\u001b[3;91mFalse\u001b[0m,         \n",
       "\u001b[2;36m                    \u001b[0m         \u001b[33mintimidation\u001b[0m=\u001b[3;91mFalse\u001b[0m, \u001b[33minvestigation\u001b[0m=\u001b[3;91mFalse\u001b[0m, \u001b[33mmedicine\u001b[0m=\u001b[3;91mFalse\u001b[0m, \u001b[33mnature\u001b[0m=\u001b[3;91mFalse\u001b[0m,                \n",
       "\u001b[2;36m                    \u001b[0m         \u001b[33mperception\u001b[0m=\u001b[3;91mFalse\u001b[0m, \u001b[33mperformance\u001b[0m=\u001b[3;91mFalse\u001b[0m, \u001b[33mpersuasion\u001b[0m=\u001b[3;91mFalse\u001b[0m, \u001b[33mreligion\u001b[0m=\u001b[3;91mFalse\u001b[0m,                \n",
       "\u001b[2;36m                    \u001b[0m         \u001b[33msleight_of_hand\u001b[0m=\u001b[3;91mFalse\u001b[0m, \u001b[33mstealth\u001b[0m=\u001b[3;91mFalse\u001b[0m, \u001b[33msurvival\u001b[0m=\u001b[3;91mFalse\u001b[0m\u001b[1m)\u001b[0m, \u001b[33mAC\u001b[0m=\u001b[1;36m10\u001b[0m, \u001b[33mspeed\u001b[0m=\u001b[1;36m30\u001b[0m,               \n",
       "\u001b[2;36m                    \u001b[0m         \u001b[33mhit_point_max\u001b[0m=\u001b[1;36m6\u001b[0m\u001b[1m)\u001b[0m                                                                      \n"
      ]
     },
     "metadata": {},
     "output_type": "display_data"
    },
    {
     "data": {
      "text/html": [
       "<pre style=\"white-space:pre;overflow-x:auto;line-height:normal;font-family:Menlo,'DejaVu Sans Mono',consolas,'Courier New',monospace\"><span style=\"color: #7fbfbf; text-decoration-color: #7fbfbf\">[10/01/23 19:19:44] </span><span style=\"color: #000080; text-decoration-color: #000080\">INFO    </span> ToolkitTask 9cddd8e0953044ee8fb3d95d18dd1a38                                          \n",
       "<span style=\"color: #7fbfbf; text-decoration-color: #7fbfbf\">                    </span>         Output: change_node                                                                   \n",
       "</pre>\n"
      ],
      "text/plain": [
       "\u001b[2;36m[10/01/23 19:19:44]\u001b[0m\u001b[2;36m \u001b[0m\u001b[34mINFO    \u001b[0m ToolkitTask 9cddd8e0953044ee8fb3d95d18dd1a38                                          \n",
       "\u001b[2;36m                    \u001b[0m         Output: change_node                                                                   \n"
      ]
     },
     "metadata": {},
     "output_type": "display_data"
    },
    {
     "name": "stdout",
     "output_type": "stream",
     "text": [
      "all done!\n"
     ]
    }
   ],
   "source": [
    "response = conv.run(\"Yeah, that looks great.\")"
   ]
  },
  {
   "cell_type": "code",
   "execution_count": 11,
   "id": "da56e6fb-db47-49da-b5ce-edfd967dac95",
   "metadata": {},
   "outputs": [
    {
     "name": "stdout",
     "output_type": "stream",
     "text": [
      "halfling\n",
      "cleric\n",
      "SavingThrowProficiencies(strength=False, dexterity=False, constitution=False, intelligence=False, wisdom=True, charisma=True)\n",
      "AbilityScores(strength=10, dexterity=10, constitution=14, intelligence=8, wisdom=15, charisma=13)\n",
      "AbilityScores(strength=0, dexterity=2, constitution=0, intelligence=0, wisdom=0, charisma=0)\n"
     ]
    }
   ],
   "source": [
    "print(conv.character_sheet.race)\n",
    "print(conv.character_sheet.class_)\n",
    "print(conv.character_sheet.saving_throw_proficiencies)\n",
    "print(conv.character_sheet.base_ability_scores)\n",
    "print(conv.character_sheet.racial_ability_bonus)"
   ]
  }
 ],
 "metadata": {
  "kernelspec": {
   "display_name": "Python 3 (ipykernel)",
   "language": "python",
   "name": "python3"
  },
  "language_info": {
   "codemirror_mode": {
    "name": "ipython",
    "version": 3
   },
   "file_extension": ".py",
   "mimetype": "text/x-python",
   "name": "python",
   "nbconvert_exporter": "python",
   "pygments_lexer": "ipython3",
   "version": "3.11.5"
  }
 },
 "nbformat": 4,
 "nbformat_minor": 5
}
