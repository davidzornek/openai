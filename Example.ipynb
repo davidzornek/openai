{
 "cells": [
  {
   "cell_type": "code",
   "execution_count": 1,
   "id": "e65858f4-bc6d-4949-aa61-d626b3c1285a",
   "metadata": {},
   "outputs": [
    {
     "data": {
      "text/plain": [
       "True"
      ]
     },
     "execution_count": 1,
     "metadata": {},
     "output_type": "execute_result"
    }
   ],
   "source": [
    "from dotenv import load_dotenv\n",
    "from dataclasses import asdict\n",
    "import logging\n",
    "\n",
    "from openai_dm.conversation import Conversation\n",
    "from openai_dm.character_sheet import AbilityScores, SavingThrowProficiencies, Character\n",
    "\n",
    "load_dotenv()"
   ]
  },
  {
   "cell_type": "markdown",
   "id": "b66f5cd1-b6a9-477f-ac08-b493df531d4b",
   "metadata": {},
   "source": [
    "# Some notes:\n",
    "- Guides the user through race selection, then class selection, then ability score assignment.\n",
    "- The character sheet (accessed with `conv.character_sheet`) is updated at the end of each selection.\n",
    "- Choosing a race automatically applies racial ability score bonuses, and choosing a class automatically applies saving throw proficiences.\n",
    "- Skill, tool, armor and weapon proficiences are not yet supported.\n",
    "- In the current implementation, the chatbot will break if a user tries to change a selection once it has already been made.\n",
    "- In this example, choices are made very quickly, without asking for a ton of assistance from the AI. Feel free to ask as many questions as you like before making a choice.\n",
    "- You may see a lot of rate limit warnings. They usually resolve with enough retries, but OpenAI's non-enterprise rate limiting is pretty tight when using conversational agents based on ReAct."
   ]
  },
  {
   "cell_type": "code",
   "execution_count": 2,
   "id": "fe98f4ea-70f4-4e5a-b3d2-5cce97394786",
   "metadata": {
    "scrolled": true
   },
   "outputs": [
    {
     "name": "stdout",
     "output_type": "stream",
     "text": [
      "I'm the assistant DM, here to help with character creation.\n",
      "            Let's start with choosing a race\n"
     ]
    },
    {
     "data": {
      "text/html": [
       "<pre style=\"white-space:pre;overflow-x:auto;line-height:normal;font-family:Menlo,'DejaVu Sans Mono',consolas,'Courier New',monospace\"><span style=\"color: #7fbfbf; text-decoration-color: #7fbfbf\">[10/01/23 21:09:28] </span><span style=\"color: #000080; text-decoration-color: #000080\">INFO    </span> ToolkitTask 710ca7df0b9f49dbb12c77ffe1f4fa97                                          \n",
       "<span style=\"color: #7fbfbf; text-decoration-color: #7fbfbf\">                    </span>         Input:                                                                                \n",
       "<span style=\"color: #7fbfbf; text-decoration-color: #7fbfbf\">                    </span>                     Introduce yourself to the user and tell them which part                   \n",
       "<span style=\"color: #7fbfbf; text-decoration-color: #7fbfbf\">                    </span>                     of character creation we're working on.                                   \n",
       "<span style=\"color: #7fbfbf; text-decoration-color: #7fbfbf\">                    </span>                                                                                               \n",
       "</pre>\n"
      ],
      "text/plain": [
       "\u001b[2;36m[10/01/23 21:09:28]\u001b[0m\u001b[2;36m \u001b[0m\u001b[34mINFO    \u001b[0m ToolkitTask 710ca7df0b9f49dbb12c77ffe1f4fa97                                          \n",
       "\u001b[2;36m                    \u001b[0m         Input:                                                                                \n",
       "\u001b[2;36m                    \u001b[0m                     Introduce yourself to the user and tell them which part                   \n",
       "\u001b[2;36m                    \u001b[0m                     of character creation we're working on.                                   \n",
       "\u001b[2;36m                    \u001b[0m                                                                                               \n"
      ]
     },
     "metadata": {},
     "output_type": "display_data"
    },
    {
     "data": {
      "text/html": [
       "<pre style=\"white-space:pre;overflow-x:auto;line-height:normal;font-family:Menlo,'DejaVu Sans Mono',consolas,'Courier New',monospace\"><span style=\"color: #7fbfbf; text-decoration-color: #7fbfbf\">[10/01/23 21:09:31] </span><span style=\"color: #000080; text-decoration-color: #000080\">INFO    </span> ToolkitTask 710ca7df0b9f49dbb12c77ffe1f4fa97                                          \n",
       "<span style=\"color: #7fbfbf; text-decoration-color: #7fbfbf\">                    </span>         Output: Hello! I'm your Dungeon Master assistant. Right now, we're working on choosing\n",
       "<span style=\"color: #7fbfbf; text-decoration-color: #7fbfbf\">                    </span>         a race for your character. This is an important step as it will determine certain     \n",
       "<span style=\"color: #7fbfbf; text-decoration-color: #7fbfbf\">                    </span>         abilities and traits for your character. Let's get started!                           \n",
       "</pre>\n"
      ],
      "text/plain": [
       "\u001b[2;36m[10/01/23 21:09:31]\u001b[0m\u001b[2;36m \u001b[0m\u001b[34mINFO    \u001b[0m ToolkitTask 710ca7df0b9f49dbb12c77ffe1f4fa97                                          \n",
       "\u001b[2;36m                    \u001b[0m         Output: Hello! I'm your Dungeon Master assistant. Right now, we're working on choosing\n",
       "\u001b[2;36m                    \u001b[0m         a race for your character. This is an important step as it will determine certain     \n",
       "\u001b[2;36m                    \u001b[0m         abilities and traits for your character. Let's get started!                           \n"
      ]
     },
     "metadata": {},
     "output_type": "display_data"
    },
    {
     "data": {
      "text/html": [
       "<pre style=\"white-space:pre;overflow-x:auto;line-height:normal;font-family:Menlo,'DejaVu Sans Mono',consolas,'Courier New',monospace\"><span style=\"color: #7fbfbf; text-decoration-color: #7fbfbf\">                    </span><span style=\"color: #000080; text-decoration-color: #000080\">INFO    </span> ToolkitTask 710ca7df0b9f49dbb12c77ffe1f4fa97                                          \n",
       "<span style=\"color: #7fbfbf; text-decoration-color: #7fbfbf\">                    </span>         Input: introduce yourself.                                                            \n",
       "</pre>\n"
      ],
      "text/plain": [
       "\u001b[2;36m                   \u001b[0m\u001b[2;36m \u001b[0m\u001b[34mINFO    \u001b[0m ToolkitTask 710ca7df0b9f49dbb12c77ffe1f4fa97                                          \n",
       "\u001b[2;36m                    \u001b[0m         Input: introduce yourself.                                                            \n"
      ]
     },
     "metadata": {},
     "output_type": "display_data"
    },
    {
     "data": {
      "text/html": [
       "<pre style=\"white-space:pre;overflow-x:auto;line-height:normal;font-family:Menlo,'DejaVu Sans Mono',consolas,'Courier New',monospace\"><span style=\"color: #7fbfbf; text-decoration-color: #7fbfbf\">[10/01/23 21:09:34] </span><span style=\"color: #000080; text-decoration-color: #000080\">INFO    </span> ToolkitTask 710ca7df0b9f49dbb12c77ffe1f4fa97                                          \n",
       "<span style=\"color: #7fbfbf; text-decoration-color: #7fbfbf\">                    </span>         Output: Hello! I'm your Dungeon Master assistant. I'm here to guide you through the   \n",
       "<span style=\"color: #7fbfbf; text-decoration-color: #7fbfbf\">                    </span>         process of creating your character. Currently, we're focusing on selecting a race for \n",
       "<span style=\"color: #7fbfbf; text-decoration-color: #7fbfbf\">                    </span>         your character. This choice will influence your character's abilities and traits.     \n",
       "<span style=\"color: #7fbfbf; text-decoration-color: #7fbfbf\">                    </span>         Let's proceed!                                                                        \n",
       "</pre>\n"
      ],
      "text/plain": [
       "\u001b[2;36m[10/01/23 21:09:34]\u001b[0m\u001b[2;36m \u001b[0m\u001b[34mINFO    \u001b[0m ToolkitTask 710ca7df0b9f49dbb12c77ffe1f4fa97                                          \n",
       "\u001b[2;36m                    \u001b[0m         Output: Hello! I'm your Dungeon Master assistant. I'm here to guide you through the   \n",
       "\u001b[2;36m                    \u001b[0m         process of creating your character. Currently, we're focusing on selecting a race for \n",
       "\u001b[2;36m                    \u001b[0m         your character. This choice will influence your character's abilities and traits.     \n",
       "\u001b[2;36m                    \u001b[0m         Let's proceed!                                                                        \n"
      ]
     },
     "metadata": {},
     "output_type": "display_data"
    }
   ],
   "source": [
    "conv = Conversation(\n",
    "    name=\"AI Dungeon Master\", # not important\n",
    "    gpt4=True, # If set to false, gpt-3.5-turbo will be used instead. It's cheaper but doesn't work well.\n",
    "    max_tokens=500, # Setting this lower can help with rate limit warnings, but can break the chatbot\n",
    "    logger_level=logging.INFO, # This setting will print all of the chatbot's reasoning under the hood. Set to logging.ERROR to eliminate\n",
    ")"
   ]
  },
  {
   "cell_type": "code",
   "execution_count": 3,
   "id": "c6461e51-ea5e-4a59-9628-1a0fed044cab",
   "metadata": {},
   "outputs": [
    {
     "data": {
      "text/html": [
       "<pre style=\"white-space:pre;overflow-x:auto;line-height:normal;font-family:Menlo,'DejaVu Sans Mono',consolas,'Courier New',monospace\"><span style=\"color: #7fbfbf; text-decoration-color: #7fbfbf\">                    </span><span style=\"color: #000080; text-decoration-color: #000080\">INFO    </span> ToolkitTask 710ca7df0b9f49dbb12c77ffe1f4fa97                                          \n",
       "<span style=\"color: #7fbfbf; text-decoration-color: #7fbfbf\">                    </span>         Input: I'll be a halfling                                                             \n",
       "</pre>\n"
      ],
      "text/plain": [
       "\u001b[2;36m                   \u001b[0m\u001b[2;36m \u001b[0m\u001b[34mINFO    \u001b[0m ToolkitTask 710ca7df0b9f49dbb12c77ffe1f4fa97                                          \n",
       "\u001b[2;36m                    \u001b[0m         Input: I'll be a halfling                                                             \n"
      ]
     },
     "metadata": {},
     "output_type": "display_data"
    },
    {
     "data": {
      "text/html": [
       "<pre style=\"white-space:pre;overflow-x:auto;line-height:normal;font-family:Menlo,'DejaVu Sans Mono',consolas,'Courier New',monospace\"><span style=\"color: #7fbfbf; text-decoration-color: #7fbfbf\">[10/01/23 21:09:41] </span><span style=\"color: #000080; text-decoration-color: #000080\">INFO    </span> Subtask 1916fadff99c4aa59d47eca23cda75b6                                              \n",
       "<span style=\"color: #7fbfbf; text-decoration-color: #7fbfbf\">                    </span>         Thought: The user has chosen to be a Halfling. I need to update the character sheet   \n",
       "<span style=\"color: #7fbfbf; text-decoration-color: #7fbfbf\">                    </span>         with this new race. Halflings have a racial bonus of +<span style=\"color: #008080; text-decoration-color: #008080; font-weight: bold\">2</span> to Dexterity. I'll use the    \n",
       "<span style=\"color: #7fbfbf; text-decoration-color: #7fbfbf\">                    </span>         CharacterSheetUpdater tool to make this update.                                       \n",
       "<span style=\"color: #7fbfbf; text-decoration-color: #7fbfbf\">                    </span>                                                                                               \n",
       "<span style=\"color: #7fbfbf; text-decoration-color: #7fbfbf\">                    </span>         Action: <span style=\"font-weight: bold\">{</span><span style=\"color: #008000; text-decoration-color: #008000\">\"type\"</span>: <span style=\"color: #008000; text-decoration-color: #008000\">\"tool\"</span>, <span style=\"color: #008000; text-decoration-color: #008000\">\"name\"</span>: <span style=\"color: #008000; text-decoration-color: #008000\">\"CharacterSheetUpdater\"</span>, <span style=\"color: #008000; text-decoration-color: #008000\">\"activity\"</span>: <span style=\"color: #008000; text-decoration-color: #008000\">\"update_race\"</span>,  \n",
       "<span style=\"color: #7fbfbf; text-decoration-color: #7fbfbf\">                    </span>         <span style=\"color: #008000; text-decoration-color: #008000\">\"input\"</span>: <span style=\"font-weight: bold\">{</span><span style=\"color: #008000; text-decoration-color: #008000\">\"values\"</span>: <span style=\"font-weight: bold\">{</span><span style=\"color: #008000; text-decoration-color: #008000\">\"race\"</span>: <span style=\"color: #008000; text-decoration-color: #008000\">\"Halfling\"</span>, <span style=\"color: #008000; text-decoration-color: #008000\">\"racial_bonuses\"</span>: <span style=\"font-weight: bold\">{</span><span style=\"color: #008000; text-decoration-color: #008000\">\"dexterity\"</span>: <span style=\"color: #008080; text-decoration-color: #008080; font-weight: bold\">2</span><span style=\"font-weight: bold\">}}}}</span>        \n",
       "</pre>\n"
      ],
      "text/plain": [
       "\u001b[2;36m[10/01/23 21:09:41]\u001b[0m\u001b[2;36m \u001b[0m\u001b[34mINFO    \u001b[0m Subtask 1916fadff99c4aa59d47eca23cda75b6                                              \n",
       "\u001b[2;36m                    \u001b[0m         Thought: The user has chosen to be a Halfling. I need to update the character sheet   \n",
       "\u001b[2;36m                    \u001b[0m         with this new race. Halflings have a racial bonus of +\u001b[1;36m2\u001b[0m to Dexterity. I'll use the    \n",
       "\u001b[2;36m                    \u001b[0m         CharacterSheetUpdater tool to make this update.                                       \n",
       "\u001b[2;36m                    \u001b[0m                                                                                               \n",
       "\u001b[2;36m                    \u001b[0m         Action: \u001b[1m{\u001b[0m\u001b[32m\"type\"\u001b[0m: \u001b[32m\"tool\"\u001b[0m, \u001b[32m\"name\"\u001b[0m: \u001b[32m\"CharacterSheetUpdater\"\u001b[0m, \u001b[32m\"activity\"\u001b[0m: \u001b[32m\"update_race\"\u001b[0m,  \n",
       "\u001b[2;36m                    \u001b[0m         \u001b[32m\"input\"\u001b[0m: \u001b[1m{\u001b[0m\u001b[32m\"values\"\u001b[0m: \u001b[1m{\u001b[0m\u001b[32m\"race\"\u001b[0m: \u001b[32m\"Halfling\"\u001b[0m, \u001b[32m\"racial_bonuses\"\u001b[0m: \u001b[1m{\u001b[0m\u001b[32m\"dexterity\"\u001b[0m: \u001b[1;36m2\u001b[0m\u001b[1m}\u001b[0m\u001b[1m}\u001b[0m\u001b[1m}\u001b[0m\u001b[1m}\u001b[0m        \n"
      ]
     },
     "metadata": {},
     "output_type": "display_data"
    },
    {
     "name": "stderr",
     "output_type": "stream",
     "text": [
      "WARNING:root:Activity result is not an artifact; converting result to InfoArtifact\n"
     ]
    },
    {
     "data": {
      "text/html": [
       "<pre style=\"white-space:pre;overflow-x:auto;line-height:normal;font-family:Menlo,'DejaVu Sans Mono',consolas,'Courier New',monospace\"><span style=\"color: #7fbfbf; text-decoration-color: #7fbfbf\">                    </span><span style=\"color: #000080; text-decoration-color: #000080\">INFO    </span> Subtask 1916fadff99c4aa59d47eca23cda75b6                                              \n",
       "<span style=\"color: #7fbfbf; text-decoration-color: #7fbfbf\">                    </span>         Observation: <span style=\"color: #800080; text-decoration-color: #800080; font-weight: bold\">Character</span><span style=\"font-weight: bold\">(</span><span style=\"color: #808000; text-decoration-color: #808000\">name</span>=<span style=\"color: #800080; text-decoration-color: #800080; font-style: italic\">None</span>, <span style=\"color: #808000; text-decoration-color: #808000\">class_</span>=<span style=\"color: #800080; text-decoration-color: #800080; font-style: italic\">None</span>, <span style=\"color: #808000; text-decoration-color: #808000\">subclasse</span>=<span style=\"color: #800080; text-decoration-color: #800080; font-style: italic\">None</span>, <span style=\"color: #808000; text-decoration-color: #808000\">level</span>=<span style=\"color: #008080; text-decoration-color: #008080; font-weight: bold\">1</span>,               \n",
       "<span style=\"color: #7fbfbf; text-decoration-color: #7fbfbf\">                    </span>         <span style=\"color: #808000; text-decoration-color: #808000\">race</span>=<span style=\"color: #008000; text-decoration-color: #008000\">'halfling'</span>, <span style=\"color: #808000; text-decoration-color: #808000\">alignment</span>=<span style=\"color: #800080; text-decoration-color: #800080; font-style: italic\">None</span>, <span style=\"color: #808000; text-decoration-color: #808000\">background</span>=<span style=\"color: #800080; text-decoration-color: #800080; font-style: italic\">None</span>, <span style=\"color: #808000; text-decoration-color: #808000\">proficiency_bonus</span>=<span style=\"color: #008080; text-decoration-color: #008080; font-weight: bold\">2</span>,                \n",
       "<span style=\"color: #7fbfbf; text-decoration-color: #7fbfbf\">                    </span>         <span style=\"color: #808000; text-decoration-color: #808000\">base_ability_scores</span>=<span style=\"color: #800080; text-decoration-color: #800080; font-weight: bold\">AbilityScores</span><span style=\"font-weight: bold\">(</span><span style=\"color: #808000; text-decoration-color: #808000\">strength</span>=<span style=\"color: #008080; text-decoration-color: #008080; font-weight: bold\">8</span>, <span style=\"color: #808000; text-decoration-color: #808000\">dexterity</span>=<span style=\"color: #008080; text-decoration-color: #008080; font-weight: bold\">8</span>, <span style=\"color: #808000; text-decoration-color: #808000\">constitution</span>=<span style=\"color: #008080; text-decoration-color: #008080; font-weight: bold\">8</span>,            \n",
       "<span style=\"color: #7fbfbf; text-decoration-color: #7fbfbf\">                    </span>         <span style=\"color: #808000; text-decoration-color: #808000\">intelligence</span>=<span style=\"color: #008080; text-decoration-color: #008080; font-weight: bold\">8</span>, <span style=\"color: #808000; text-decoration-color: #808000\">wisdom</span>=<span style=\"color: #008080; text-decoration-color: #008080; font-weight: bold\">8</span>, <span style=\"color: #808000; text-decoration-color: #808000\">charisma</span>=<span style=\"color: #008080; text-decoration-color: #008080; font-weight: bold\">8</span><span style=\"font-weight: bold\">)</span>, <span style=\"color: #808000; text-decoration-color: #808000\">racial_ability_bonus</span>=<span style=\"color: #800080; text-decoration-color: #800080; font-weight: bold\">AbilityScores</span><span style=\"font-weight: bold\">(</span><span style=\"color: #808000; text-decoration-color: #808000\">strength</span>=<span style=\"color: #008080; text-decoration-color: #008080; font-weight: bold\">0</span>, \n",
       "<span style=\"color: #7fbfbf; text-decoration-color: #7fbfbf\">                    </span>         <span style=\"color: #808000; text-decoration-color: #808000\">dexterity</span>=<span style=\"color: #008080; text-decoration-color: #008080; font-weight: bold\">2</span>, <span style=\"color: #808000; text-decoration-color: #808000\">constitution</span>=<span style=\"color: #008080; text-decoration-color: #008080; font-weight: bold\">0</span>, <span style=\"color: #808000; text-decoration-color: #808000\">intelligence</span>=<span style=\"color: #008080; text-decoration-color: #008080; font-weight: bold\">0</span>, <span style=\"color: #808000; text-decoration-color: #808000\">wisdom</span>=<span style=\"color: #008080; text-decoration-color: #008080; font-weight: bold\">0</span>, <span style=\"color: #808000; text-decoration-color: #808000\">charisma</span>=<span style=\"color: #008080; text-decoration-color: #008080; font-weight: bold\">0</span><span style=\"font-weight: bold\">)</span>,                   \n",
       "<span style=\"color: #7fbfbf; text-decoration-color: #7fbfbf\">                    </span>         <span style=\"color: #808000; text-decoration-color: #808000\">final_ability_scores</span>=<span style=\"color: #800080; text-decoration-color: #800080; font-weight: bold\">AbilityScores</span><span style=\"font-weight: bold\">(</span><span style=\"color: #808000; text-decoration-color: #808000\">strength</span>=<span style=\"color: #008080; text-decoration-color: #008080; font-weight: bold\">8</span>, <span style=\"color: #808000; text-decoration-color: #808000\">dexterity</span>=<span style=\"color: #008080; text-decoration-color: #008080; font-weight: bold\">10</span>, <span style=\"color: #808000; text-decoration-color: #808000\">constitution</span>=<span style=\"color: #008080; text-decoration-color: #008080; font-weight: bold\">8</span>,          \n",
       "<span style=\"color: #7fbfbf; text-decoration-color: #7fbfbf\">                    </span>         <span style=\"color: #808000; text-decoration-color: #808000\">intelligence</span>=<span style=\"color: #008080; text-decoration-color: #008080; font-weight: bold\">8</span>, <span style=\"color: #808000; text-decoration-color: #808000\">wisdom</span>=<span style=\"color: #008080; text-decoration-color: #008080; font-weight: bold\">8</span>, <span style=\"color: #808000; text-decoration-color: #808000\">charisma</span>=<span style=\"color: #008080; text-decoration-color: #008080; font-weight: bold\">8</span><span style=\"font-weight: bold\">)</span>,                                                \n",
       "<span style=\"color: #7fbfbf; text-decoration-color: #7fbfbf\">                    </span>         <span style=\"color: #808000; text-decoration-color: #808000\">saving_throw_proficiencies</span>=<span style=\"color: #800080; text-decoration-color: #800080; font-weight: bold\">SavingThrowProficiencies</span><span style=\"font-weight: bold\">(</span><span style=\"color: #808000; text-decoration-color: #808000\">strength</span>=<span style=\"color: #ff0000; text-decoration-color: #ff0000; font-style: italic\">False</span>, <span style=\"color: #808000; text-decoration-color: #808000\">dexterity</span>=<span style=\"color: #ff0000; text-decoration-color: #ff0000; font-style: italic\">False</span>,  \n",
       "<span style=\"color: #7fbfbf; text-decoration-color: #7fbfbf\">                    </span>         <span style=\"color: #808000; text-decoration-color: #808000\">constitution</span>=<span style=\"color: #ff0000; text-decoration-color: #ff0000; font-style: italic\">False</span>, <span style=\"color: #808000; text-decoration-color: #808000\">intelligence</span>=<span style=\"color: #ff0000; text-decoration-color: #ff0000; font-style: italic\">False</span>, <span style=\"color: #808000; text-decoration-color: #808000\">wisdom</span>=<span style=\"color: #ff0000; text-decoration-color: #ff0000; font-style: italic\">False</span>, <span style=\"color: #808000; text-decoration-color: #808000\">charisma</span>=<span style=\"color: #ff0000; text-decoration-color: #ff0000; font-style: italic\">False</span><span style=\"font-weight: bold\">)</span>,                \n",
       "<span style=\"color: #7fbfbf; text-decoration-color: #7fbfbf\">                    </span>         <span style=\"color: #808000; text-decoration-color: #808000\">skill_proficiencies</span>=<span style=\"color: #800080; text-decoration-color: #800080; font-weight: bold\">SkillProficiencies</span><span style=\"font-weight: bold\">(</span><span style=\"color: #808000; text-decoration-color: #808000\">acrobatics</span>=<span style=\"color: #ff0000; text-decoration-color: #ff0000; font-style: italic\">False</span>, <span style=\"color: #808000; text-decoration-color: #808000\">animal_handling</span>=<span style=\"color: #ff0000; text-decoration-color: #ff0000; font-style: italic\">False</span>,       \n",
       "<span style=\"color: #7fbfbf; text-decoration-color: #7fbfbf\">                    </span>         <span style=\"color: #808000; text-decoration-color: #808000\">arcana</span>=<span style=\"color: #ff0000; text-decoration-color: #ff0000; font-style: italic\">False</span>, <span style=\"color: #808000; text-decoration-color: #808000\">athletics</span>=<span style=\"color: #ff0000; text-decoration-color: #ff0000; font-style: italic\">False</span>, <span style=\"color: #808000; text-decoration-color: #808000\">deception</span>=<span style=\"color: #ff0000; text-decoration-color: #ff0000; font-style: italic\">False</span>, <span style=\"color: #808000; text-decoration-color: #808000\">history</span>=<span style=\"color: #ff0000; text-decoration-color: #ff0000; font-style: italic\">False</span>, <span style=\"color: #808000; text-decoration-color: #808000\">insight</span>=<span style=\"color: #ff0000; text-decoration-color: #ff0000; font-style: italic\">False</span>,         \n",
       "<span style=\"color: #7fbfbf; text-decoration-color: #7fbfbf\">                    </span>         <span style=\"color: #808000; text-decoration-color: #808000\">intimidation</span>=<span style=\"color: #ff0000; text-decoration-color: #ff0000; font-style: italic\">False</span>, <span style=\"color: #808000; text-decoration-color: #808000\">investigation</span>=<span style=\"color: #ff0000; text-decoration-color: #ff0000; font-style: italic\">False</span>, <span style=\"color: #808000; text-decoration-color: #808000\">medicine</span>=<span style=\"color: #ff0000; text-decoration-color: #ff0000; font-style: italic\">False</span>, <span style=\"color: #808000; text-decoration-color: #808000\">nature</span>=<span style=\"color: #ff0000; text-decoration-color: #ff0000; font-style: italic\">False</span>,                \n",
       "<span style=\"color: #7fbfbf; text-decoration-color: #7fbfbf\">                    </span>         <span style=\"color: #808000; text-decoration-color: #808000\">perception</span>=<span style=\"color: #ff0000; text-decoration-color: #ff0000; font-style: italic\">False</span>, <span style=\"color: #808000; text-decoration-color: #808000\">performance</span>=<span style=\"color: #ff0000; text-decoration-color: #ff0000; font-style: italic\">False</span>, <span style=\"color: #808000; text-decoration-color: #808000\">persuasion</span>=<span style=\"color: #ff0000; text-decoration-color: #ff0000; font-style: italic\">False</span>, <span style=\"color: #808000; text-decoration-color: #808000\">religion</span>=<span style=\"color: #ff0000; text-decoration-color: #ff0000; font-style: italic\">False</span>,                \n",
       "<span style=\"color: #7fbfbf; text-decoration-color: #7fbfbf\">                    </span>         <span style=\"color: #808000; text-decoration-color: #808000\">sleight_of_hand</span>=<span style=\"color: #ff0000; text-decoration-color: #ff0000; font-style: italic\">False</span>, <span style=\"color: #808000; text-decoration-color: #808000\">stealth</span>=<span style=\"color: #ff0000; text-decoration-color: #ff0000; font-style: italic\">False</span>, <span style=\"color: #808000; text-decoration-color: #808000\">survival</span>=<span style=\"color: #ff0000; text-decoration-color: #ff0000; font-style: italic\">False</span><span style=\"font-weight: bold\">)</span>, <span style=\"color: #808000; text-decoration-color: #808000\">AC</span>=<span style=\"color: #008080; text-decoration-color: #008080; font-weight: bold\">10</span>, <span style=\"color: #808000; text-decoration-color: #808000\">speed</span>=<span style=\"color: #008080; text-decoration-color: #008080; font-weight: bold\">30</span>, <span style=\"color: #808000; text-decoration-color: #808000\">hit_die</span>=<span style=\"color: #008080; text-decoration-color: #008080; font-weight: bold\">6</span>,    \n",
       "<span style=\"color: #7fbfbf; text-decoration-color: #7fbfbf\">                    </span>         <span style=\"color: #808000; text-decoration-color: #808000\">hit_point_max</span>=<span style=\"color: #008080; text-decoration-color: #008080; font-weight: bold\">6</span><span style=\"font-weight: bold\">)</span>                                                                      \n",
       "</pre>\n"
      ],
      "text/plain": [
       "\u001b[2;36m                   \u001b[0m\u001b[2;36m \u001b[0m\u001b[34mINFO    \u001b[0m Subtask 1916fadff99c4aa59d47eca23cda75b6                                              \n",
       "\u001b[2;36m                    \u001b[0m         Observation: \u001b[1;35mCharacter\u001b[0m\u001b[1m(\u001b[0m\u001b[33mname\u001b[0m=\u001b[3;35mNone\u001b[0m, \u001b[33mclass_\u001b[0m=\u001b[3;35mNone\u001b[0m, \u001b[33msubclasse\u001b[0m=\u001b[3;35mNone\u001b[0m, \u001b[33mlevel\u001b[0m=\u001b[1;36m1\u001b[0m,               \n",
       "\u001b[2;36m                    \u001b[0m         \u001b[33mrace\u001b[0m=\u001b[32m'halfling'\u001b[0m, \u001b[33malignment\u001b[0m=\u001b[3;35mNone\u001b[0m, \u001b[33mbackground\u001b[0m=\u001b[3;35mNone\u001b[0m, \u001b[33mproficiency_bonus\u001b[0m=\u001b[1;36m2\u001b[0m,                \n",
       "\u001b[2;36m                    \u001b[0m         \u001b[33mbase_ability_scores\u001b[0m=\u001b[1;35mAbilityScores\u001b[0m\u001b[1m(\u001b[0m\u001b[33mstrength\u001b[0m=\u001b[1;36m8\u001b[0m, \u001b[33mdexterity\u001b[0m=\u001b[1;36m8\u001b[0m, \u001b[33mconstitution\u001b[0m=\u001b[1;36m8\u001b[0m,            \n",
       "\u001b[2;36m                    \u001b[0m         \u001b[33mintelligence\u001b[0m=\u001b[1;36m8\u001b[0m, \u001b[33mwisdom\u001b[0m=\u001b[1;36m8\u001b[0m, \u001b[33mcharisma\u001b[0m=\u001b[1;36m8\u001b[0m\u001b[1m)\u001b[0m, \u001b[33mracial_ability_bonus\u001b[0m=\u001b[1;35mAbilityScores\u001b[0m\u001b[1m(\u001b[0m\u001b[33mstrength\u001b[0m=\u001b[1;36m0\u001b[0m, \n",
       "\u001b[2;36m                    \u001b[0m         \u001b[33mdexterity\u001b[0m=\u001b[1;36m2\u001b[0m, \u001b[33mconstitution\u001b[0m=\u001b[1;36m0\u001b[0m, \u001b[33mintelligence\u001b[0m=\u001b[1;36m0\u001b[0m, \u001b[33mwisdom\u001b[0m=\u001b[1;36m0\u001b[0m, \u001b[33mcharisma\u001b[0m=\u001b[1;36m0\u001b[0m\u001b[1m)\u001b[0m,                   \n",
       "\u001b[2;36m                    \u001b[0m         \u001b[33mfinal_ability_scores\u001b[0m=\u001b[1;35mAbilityScores\u001b[0m\u001b[1m(\u001b[0m\u001b[33mstrength\u001b[0m=\u001b[1;36m8\u001b[0m, \u001b[33mdexterity\u001b[0m=\u001b[1;36m10\u001b[0m, \u001b[33mconstitution\u001b[0m=\u001b[1;36m8\u001b[0m,          \n",
       "\u001b[2;36m                    \u001b[0m         \u001b[33mintelligence\u001b[0m=\u001b[1;36m8\u001b[0m, \u001b[33mwisdom\u001b[0m=\u001b[1;36m8\u001b[0m, \u001b[33mcharisma\u001b[0m=\u001b[1;36m8\u001b[0m\u001b[1m)\u001b[0m,                                                \n",
       "\u001b[2;36m                    \u001b[0m         \u001b[33msaving_throw_proficiencies\u001b[0m=\u001b[1;35mSavingThrowProficiencies\u001b[0m\u001b[1m(\u001b[0m\u001b[33mstrength\u001b[0m=\u001b[3;91mFalse\u001b[0m, \u001b[33mdexterity\u001b[0m=\u001b[3;91mFalse\u001b[0m,  \n",
       "\u001b[2;36m                    \u001b[0m         \u001b[33mconstitution\u001b[0m=\u001b[3;91mFalse\u001b[0m, \u001b[33mintelligence\u001b[0m=\u001b[3;91mFalse\u001b[0m, \u001b[33mwisdom\u001b[0m=\u001b[3;91mFalse\u001b[0m, \u001b[33mcharisma\u001b[0m=\u001b[3;91mFalse\u001b[0m\u001b[1m)\u001b[0m,                \n",
       "\u001b[2;36m                    \u001b[0m         \u001b[33mskill_proficiencies\u001b[0m=\u001b[1;35mSkillProficiencies\u001b[0m\u001b[1m(\u001b[0m\u001b[33macrobatics\u001b[0m=\u001b[3;91mFalse\u001b[0m, \u001b[33manimal_handling\u001b[0m=\u001b[3;91mFalse\u001b[0m,       \n",
       "\u001b[2;36m                    \u001b[0m         \u001b[33marcana\u001b[0m=\u001b[3;91mFalse\u001b[0m, \u001b[33mathletics\u001b[0m=\u001b[3;91mFalse\u001b[0m, \u001b[33mdeception\u001b[0m=\u001b[3;91mFalse\u001b[0m, \u001b[33mhistory\u001b[0m=\u001b[3;91mFalse\u001b[0m, \u001b[33minsight\u001b[0m=\u001b[3;91mFalse\u001b[0m,         \n",
       "\u001b[2;36m                    \u001b[0m         \u001b[33mintimidation\u001b[0m=\u001b[3;91mFalse\u001b[0m, \u001b[33minvestigation\u001b[0m=\u001b[3;91mFalse\u001b[0m, \u001b[33mmedicine\u001b[0m=\u001b[3;91mFalse\u001b[0m, \u001b[33mnature\u001b[0m=\u001b[3;91mFalse\u001b[0m,                \n",
       "\u001b[2;36m                    \u001b[0m         \u001b[33mperception\u001b[0m=\u001b[3;91mFalse\u001b[0m, \u001b[33mperformance\u001b[0m=\u001b[3;91mFalse\u001b[0m, \u001b[33mpersuasion\u001b[0m=\u001b[3;91mFalse\u001b[0m, \u001b[33mreligion\u001b[0m=\u001b[3;91mFalse\u001b[0m,                \n",
       "\u001b[2;36m                    \u001b[0m         \u001b[33msleight_of_hand\u001b[0m=\u001b[3;91mFalse\u001b[0m, \u001b[33mstealth\u001b[0m=\u001b[3;91mFalse\u001b[0m, \u001b[33msurvival\u001b[0m=\u001b[3;91mFalse\u001b[0m\u001b[1m)\u001b[0m, \u001b[33mAC\u001b[0m=\u001b[1;36m10\u001b[0m, \u001b[33mspeed\u001b[0m=\u001b[1;36m30\u001b[0m, \u001b[33mhit_die\u001b[0m=\u001b[1;36m6\u001b[0m,    \n",
       "\u001b[2;36m                    \u001b[0m         \u001b[33mhit_point_max\u001b[0m=\u001b[1;36m6\u001b[0m\u001b[1m)\u001b[0m                                                                      \n"
      ]
     },
     "metadata": {},
     "output_type": "display_data"
    },
    {
     "data": {
      "text/html": [
       "<pre style=\"white-space:pre;overflow-x:auto;line-height:normal;font-family:Menlo,'DejaVu Sans Mono',consolas,'Courier New',monospace\"><span style=\"color: #7fbfbf; text-decoration-color: #7fbfbf\">[10/01/23 21:09:42] </span><span style=\"color: #000080; text-decoration-color: #000080\">INFO    </span> ToolkitTask 710ca7df0b9f49dbb12c77ffe1f4fa97                                          \n",
       "<span style=\"color: #7fbfbf; text-decoration-color: #7fbfbf\">                    </span>         Output: change_node                                                                   \n",
       "</pre>\n"
      ],
      "text/plain": [
       "\u001b[2;36m[10/01/23 21:09:42]\u001b[0m\u001b[2;36m \u001b[0m\u001b[34mINFO    \u001b[0m ToolkitTask 710ca7df0b9f49dbb12c77ffe1f4fa97                                          \n",
       "\u001b[2;36m                    \u001b[0m         Output: change_node                                                                   \n"
      ]
     },
     "metadata": {},
     "output_type": "display_data"
    },
    {
     "data": {
      "text/html": [
       "<pre style=\"white-space:pre;overflow-x:auto;line-height:normal;font-family:Menlo,'DejaVu Sans Mono',consolas,'Courier New',monospace\"><span style=\"color: #7fbfbf; text-decoration-color: #7fbfbf\">                    </span><span style=\"color: #000080; text-decoration-color: #000080\">INFO    </span> ToolkitTask 710ca7df0b9f49dbb12c77ffe1f4fa97                                          \n",
       "<span style=\"color: #7fbfbf; text-decoration-color: #7fbfbf\">                    </span>         Input: You've just helped the user select a race,                                     \n",
       "<span style=\"color: #7fbfbf; text-decoration-color: #7fbfbf\">                    </span>                             and next you will help them select a class_. Let the              \n",
       "<span style=\"color: #7fbfbf; text-decoration-color: #7fbfbf\">                    </span>                             user know that their choice has been logged to their character    \n",
       "<span style=\"color: #7fbfbf; text-decoration-color: #7fbfbf\">                    </span>                             sheet and tell them what's next.                                  \n",
       "<span style=\"color: #7fbfbf; text-decoration-color: #7fbfbf\">                    </span>                                                                                               \n",
       "</pre>\n"
      ],
      "text/plain": [
       "\u001b[2;36m                   \u001b[0m\u001b[2;36m \u001b[0m\u001b[34mINFO    \u001b[0m ToolkitTask 710ca7df0b9f49dbb12c77ffe1f4fa97                                          \n",
       "\u001b[2;36m                    \u001b[0m         Input: You've just helped the user select a race,                                     \n",
       "\u001b[2;36m                    \u001b[0m                             and next you will help them select a class_. Let the              \n",
       "\u001b[2;36m                    \u001b[0m                             user know that their choice has been logged to their character    \n",
       "\u001b[2;36m                    \u001b[0m                             sheet and tell them what's next.                                  \n",
       "\u001b[2;36m                    \u001b[0m                                                                                               \n"
      ]
     },
     "metadata": {},
     "output_type": "display_data"
    },
    {
     "data": {
      "text/html": [
       "<pre style=\"white-space:pre;overflow-x:auto;line-height:normal;font-family:Menlo,'DejaVu Sans Mono',consolas,'Courier New',monospace\"><span style=\"color: #7fbfbf; text-decoration-color: #7fbfbf\">[10/01/23 21:09:45] </span><span style=\"color: #000080; text-decoration-color: #000080\">INFO    </span> ToolkitTask 710ca7df0b9f49dbb12c77ffe1f4fa97                                          \n",
       "<span style=\"color: #7fbfbf; text-decoration-color: #7fbfbf\">                    </span>         Output: Great choice! Your selection of Halfling as your character's race has been    \n",
       "<span style=\"color: #7fbfbf; text-decoration-color: #7fbfbf\">                    </span>         logged in your character sheet. Next, we'll move on to selecting a class for your     \n",
       "<span style=\"color: #7fbfbf; text-decoration-color: #7fbfbf\">                    </span>         character. This will define your character's skills and abilities. Let's continue!    \n",
       "</pre>\n"
      ],
      "text/plain": [
       "\u001b[2;36m[10/01/23 21:09:45]\u001b[0m\u001b[2;36m \u001b[0m\u001b[34mINFO    \u001b[0m ToolkitTask 710ca7df0b9f49dbb12c77ffe1f4fa97                                          \n",
       "\u001b[2;36m                    \u001b[0m         Output: Great choice! Your selection of Halfling as your character's race has been    \n",
       "\u001b[2;36m                    \u001b[0m         logged in your character sheet. Next, we'll move on to selecting a class for your     \n",
       "\u001b[2;36m                    \u001b[0m         character. This will define your character's skills and abilities. Let's continue!    \n"
      ]
     },
     "metadata": {},
     "output_type": "display_data"
    },
    {
     "name": "stdout",
     "output_type": "stream",
     "text": [
      "I'm the assistant DM, here to help with character creation.\n",
      "            Let's start with choosing a class\n"
     ]
    },
    {
     "data": {
      "text/html": [
       "<pre style=\"white-space:pre;overflow-x:auto;line-height:normal;font-family:Menlo,'DejaVu Sans Mono',consolas,'Courier New',monospace\"><span style=\"color: #7fbfbf; text-decoration-color: #7fbfbf\">[10/01/23 21:09:49] </span><span style=\"color: #000080; text-decoration-color: #000080\">INFO    </span> ToolkitTask 8e7231642e954c3f9b6bf642141f0cee                                          \n",
       "<span style=\"color: #7fbfbf; text-decoration-color: #7fbfbf\">                    </span>         Input:                                                                                \n",
       "<span style=\"color: #7fbfbf; text-decoration-color: #7fbfbf\">                    </span>                     Introduce yourself to the user and tell them which part                   \n",
       "<span style=\"color: #7fbfbf; text-decoration-color: #7fbfbf\">                    </span>                     of character creation we're working on.                                   \n",
       "<span style=\"color: #7fbfbf; text-decoration-color: #7fbfbf\">                    </span>                                                                                               \n",
       "</pre>\n"
      ],
      "text/plain": [
       "\u001b[2;36m[10/01/23 21:09:49]\u001b[0m\u001b[2;36m \u001b[0m\u001b[34mINFO    \u001b[0m ToolkitTask 8e7231642e954c3f9b6bf642141f0cee                                          \n",
       "\u001b[2;36m                    \u001b[0m         Input:                                                                                \n",
       "\u001b[2;36m                    \u001b[0m                     Introduce yourself to the user and tell them which part                   \n",
       "\u001b[2;36m                    \u001b[0m                     of character creation we're working on.                                   \n",
       "\u001b[2;36m                    \u001b[0m                                                                                               \n"
      ]
     },
     "metadata": {},
     "output_type": "display_data"
    },
    {
     "name": "stderr",
     "output_type": "stream",
     "text": [
      "WARNING:root:<RetryCallState 140460976766032: attempt #1; slept for 0.0; last result: failed (RateLimitError Rate limit reached for 10KTPM-200RPM in organization org-lJzn8UVqpPw5xjPRDo2LWrkb on tokens per min. Limit: 10000 / min. Please try again in 6ms. Contact us through our help center at help.openai.com if you continue to have issues.)>\n",
      "WARNING:root:<RetryCallState 140460976766032: attempt #2; slept for 2.0; last result: failed (RateLimitError Rate limit reached for 10KTPM-200RPM in organization org-lJzn8UVqpPw5xjPRDo2LWrkb on tokens per min. Limit: 10000 / min. Please try again in 6ms. Contact us through our help center at help.openai.com if you continue to have issues.)>\n"
     ]
    },
    {
     "data": {
      "text/html": [
       "<pre style=\"white-space:pre;overflow-x:auto;line-height:normal;font-family:Menlo,'DejaVu Sans Mono',consolas,'Courier New',monospace\"><span style=\"color: #7fbfbf; text-decoration-color: #7fbfbf\">[10/01/23 21:09:57] </span><span style=\"color: #000080; text-decoration-color: #000080\">INFO    </span> ToolkitTask 8e7231642e954c3f9b6bf642141f0cee                                          \n",
       "<span style=\"color: #7fbfbf; text-decoration-color: #7fbfbf\">                    </span>         Output: Hello, I'm your Dungeon Master assistant. Right now, we're working on choosing\n",
       "<span style=\"color: #7fbfbf; text-decoration-color: #7fbfbf\">                    </span>         a class for your character. This is an important step as it will determine your       \n",
       "<span style=\"color: #7fbfbf; text-decoration-color: #7fbfbf\">                    </span>         character's abilities, skills, and role within the party. Let's get started.          \n",
       "</pre>\n"
      ],
      "text/plain": [
       "\u001b[2;36m[10/01/23 21:09:57]\u001b[0m\u001b[2;36m \u001b[0m\u001b[34mINFO    \u001b[0m ToolkitTask 8e7231642e954c3f9b6bf642141f0cee                                          \n",
       "\u001b[2;36m                    \u001b[0m         Output: Hello, I'm your Dungeon Master assistant. Right now, we're working on choosing\n",
       "\u001b[2;36m                    \u001b[0m         a class for your character. This is an important step as it will determine your       \n",
       "\u001b[2;36m                    \u001b[0m         character's abilities, skills, and role within the party. Let's get started.          \n"
      ]
     },
     "metadata": {},
     "output_type": "display_data"
    }
   ],
   "source": [
    "response = conv.run(\"I'll be a halfling\")"
   ]
  },
  {
   "cell_type": "code",
   "execution_count": 4,
   "id": "7846be46-6671-4965-a3cb-dffdec69d748",
   "metadata": {},
   "outputs": [
    {
     "data": {
      "text/html": [
       "<pre style=\"white-space:pre;overflow-x:auto;line-height:normal;font-family:Menlo,'DejaVu Sans Mono',consolas,'Courier New',monospace\"><span style=\"color: #7fbfbf; text-decoration-color: #7fbfbf\">                    </span><span style=\"color: #000080; text-decoration-color: #000080\">INFO    </span> ToolkitTask 8e7231642e954c3f9b6bf642141f0cee                                          \n",
       "<span style=\"color: #7fbfbf; text-decoration-color: #7fbfbf\">                    </span>         Input: Ok, how do we do that?                                                         \n",
       "</pre>\n"
      ],
      "text/plain": [
       "\u001b[2;36m                   \u001b[0m\u001b[2;36m \u001b[0m\u001b[34mINFO    \u001b[0m ToolkitTask 8e7231642e954c3f9b6bf642141f0cee                                          \n",
       "\u001b[2;36m                    \u001b[0m         Input: Ok, how do we do that?                                                         \n"
      ]
     },
     "metadata": {},
     "output_type": "display_data"
    },
    {
     "name": "stderr",
     "output_type": "stream",
     "text": [
      "WARNING:root:<RetryCallState 140460974647632: attempt #1; slept for 0.0; last result: failed (RateLimitError Rate limit reached for 10KTPM-200RPM in organization org-lJzn8UVqpPw5xjPRDo2LWrkb on tokens per min. Limit: 10000 / min. Please try again in 6ms. Contact us through our help center at help.openai.com if you continue to have issues.)>\n",
      "WARNING:root:<RetryCallState 140460974647632: attempt #2; slept for 2.0; last result: failed (RateLimitError Rate limit reached for 10KTPM-200RPM in organization org-lJzn8UVqpPw5xjPRDo2LWrkb on tokens per min. Limit: 10000 / min. Please try again in 6ms. Contact us through our help center at help.openai.com if you continue to have issues.)>\n",
      "WARNING:root:<RetryCallState 140460974647632: attempt #3; slept for 4.0; last result: failed (RateLimitError Rate limit reached for 10KTPM-200RPM in organization org-lJzn8UVqpPw5xjPRDo2LWrkb on tokens per min. Limit: 10000 / min. Please try again in 6ms. Contact us through our help center at help.openai.com if you continue to have issues.)>\n",
      "WARNING:root:<RetryCallState 140460974647632: attempt #4; slept for 8.0; last result: failed (RateLimitError Rate limit reached for 10KTPM-200RPM in organization org-lJzn8UVqpPw5xjPRDo2LWrkb on tokens per min. Limit: 10000 / min. Please try again in 6ms. Contact us through our help center at help.openai.com if you continue to have issues.)>\n"
     ]
    },
    {
     "data": {
      "text/html": [
       "<pre style=\"white-space:pre;overflow-x:auto;line-height:normal;font-family:Menlo,'DejaVu Sans Mono',consolas,'Courier New',monospace\"><span style=\"color: #7fbfbf; text-decoration-color: #7fbfbf\">[10/01/23 21:10:19] </span><span style=\"color: #000080; text-decoration-color: #000080\">INFO    </span> ToolkitTask 8e7231642e954c3f9b6bf642141f0cee                                          \n",
       "<span style=\"color: #7fbfbf; text-decoration-color: #7fbfbf\">                    </span>         Output: To choose a class, you'll need to consider what role you want your character  \n",
       "<span style=\"color: #7fbfbf; text-decoration-color: #7fbfbf\">                    </span>         to play in the party. Each class has unique abilities and skills that can contribute  \n",
       "<span style=\"color: #7fbfbf; text-decoration-color: #7fbfbf\">                    </span>         to the group in different ways. For example, if you want to be a frontline fighter,   \n",
       "<span style=\"color: #7fbfbf; text-decoration-color: #7fbfbf\">                    </span>         you might choose a class like Barbarian or Fighter. If you prefer to support your team\n",
       "<span style=\"color: #7fbfbf; text-decoration-color: #7fbfbf\">                    </span>         with healing and buffs, a Cleric or Bard could be a good fit. Once you've made your   \n",
       "<span style=\"color: #7fbfbf; text-decoration-color: #7fbfbf\">                    </span>         decision, I'll update your character sheet with the new class.                        \n",
       "</pre>\n"
      ],
      "text/plain": [
       "\u001b[2;36m[10/01/23 21:10:19]\u001b[0m\u001b[2;36m \u001b[0m\u001b[34mINFO    \u001b[0m ToolkitTask 8e7231642e954c3f9b6bf642141f0cee                                          \n",
       "\u001b[2;36m                    \u001b[0m         Output: To choose a class, you'll need to consider what role you want your character  \n",
       "\u001b[2;36m                    \u001b[0m         to play in the party. Each class has unique abilities and skills that can contribute  \n",
       "\u001b[2;36m                    \u001b[0m         to the group in different ways. For example, if you want to be a frontline fighter,   \n",
       "\u001b[2;36m                    \u001b[0m         you might choose a class like Barbarian or Fighter. If you prefer to support your team\n",
       "\u001b[2;36m                    \u001b[0m         with healing and buffs, a Cleric or Bard could be a good fit. Once you've made your   \n",
       "\u001b[2;36m                    \u001b[0m         decision, I'll update your character sheet with the new class.                        \n"
      ]
     },
     "metadata": {},
     "output_type": "display_data"
    }
   ],
   "source": [
    "response = conv.run(\"Ok, how do we do that?\")"
   ]
  },
  {
   "cell_type": "code",
   "execution_count": 5,
   "id": "3401a68f-3b46-4dcc-b949-c3e8a7e18f3f",
   "metadata": {},
   "outputs": [
    {
     "data": {
      "text/html": [
       "<pre style=\"white-space:pre;overflow-x:auto;line-height:normal;font-family:Menlo,'DejaVu Sans Mono',consolas,'Courier New',monospace\"><span style=\"color: #7fbfbf; text-decoration-color: #7fbfbf\">                    </span><span style=\"color: #000080; text-decoration-color: #000080\">INFO    </span> ToolkitTask 8e7231642e954c3f9b6bf642141f0cee                                          \n",
       "<span style=\"color: #7fbfbf; text-decoration-color: #7fbfbf\">                    </span>         Input: I'll be a cleric                                                               \n",
       "</pre>\n"
      ],
      "text/plain": [
       "\u001b[2;36m                   \u001b[0m\u001b[2;36m \u001b[0m\u001b[34mINFO    \u001b[0m ToolkitTask 8e7231642e954c3f9b6bf642141f0cee                                          \n",
       "\u001b[2;36m                    \u001b[0m         Input: I'll be a cleric                                                               \n"
      ]
     },
     "metadata": {},
     "output_type": "display_data"
    },
    {
     "name": "stderr",
     "output_type": "stream",
     "text": [
      "WARNING:root:<RetryCallState 140460976712528: attempt #1; slept for 0.0; last result: failed (RateLimitError Rate limit reached for 10KTPM-200RPM in organization org-lJzn8UVqpPw5xjPRDo2LWrkb on tokens per min. Limit: 10000 / min. Please try again in 6ms. Contact us through our help center at help.openai.com if you continue to have issues.)>\n"
     ]
    },
    {
     "data": {
      "text/html": [
       "<pre style=\"white-space:pre;overflow-x:auto;line-height:normal;font-family:Menlo,'DejaVu Sans Mono',consolas,'Courier New',monospace\"><span style=\"color: #7fbfbf; text-decoration-color: #7fbfbf\">[10/01/23 21:10:28] </span><span style=\"color: #000080; text-decoration-color: #000080\">INFO    </span> Subtask ebed8bfdc3b84f8c98f5543ace3393e4                                              \n",
       "<span style=\"color: #7fbfbf; text-decoration-color: #7fbfbf\">                    </span>         Thought: The user has chosen the class <span style=\"color: #008000; text-decoration-color: #008000\">'Cleric'</span>. I need to update the character sheet \n",
       "<span style=\"color: #7fbfbf; text-decoration-color: #7fbfbf\">                    </span>         with this new class. The saving throw proficiencies for a Cleric are <span style=\"color: #008000; text-decoration-color: #008000\">'wisdom'</span> and     \n",
       "<span style=\"color: #7fbfbf; text-decoration-color: #7fbfbf\">                    </span>         <span style=\"color: #008000; text-decoration-color: #008000\">'charisma'</span>, and the hit die is <span style=\"color: #008080; text-decoration-color: #008080; font-weight: bold\">8</span>.                                                     \n",
       "<span style=\"color: #7fbfbf; text-decoration-color: #7fbfbf\">                    </span>                                                                                               \n",
       "<span style=\"color: #7fbfbf; text-decoration-color: #7fbfbf\">                    </span>         Action: <span style=\"font-weight: bold\">{</span><span style=\"color: #008000; text-decoration-color: #008000\">\"type\"</span>: <span style=\"color: #008000; text-decoration-color: #008000\">\"tool\"</span>, <span style=\"color: #008000; text-decoration-color: #008000\">\"name\"</span>: <span style=\"color: #008000; text-decoration-color: #008000\">\"CharacterSheetUpdater\"</span>, <span style=\"color: #008000; text-decoration-color: #008000\">\"activity\"</span>: <span style=\"color: #008000; text-decoration-color: #008000\">\"update_class\"</span>, \n",
       "<span style=\"color: #7fbfbf; text-decoration-color: #7fbfbf\">                    </span>         <span style=\"color: #008000; text-decoration-color: #008000\">\"input\"</span>: <span style=\"font-weight: bold\">{</span><span style=\"color: #008000; text-decoration-color: #008000\">\"values\"</span>: <span style=\"font-weight: bold\">{</span><span style=\"color: #008000; text-decoration-color: #008000\">\"class\"</span>: <span style=\"color: #008000; text-decoration-color: #008000\">\"Cleric\"</span>, <span style=\"color: #008000; text-decoration-color: #008000\">\"saving_throws\"</span>: <span style=\"font-weight: bold\">[</span><span style=\"color: #008000; text-decoration-color: #008000\">\"wisdom\"</span>, <span style=\"color: #008000; text-decoration-color: #008000\">\"charisma\"</span><span style=\"font-weight: bold\">]</span>,      \n",
       "<span style=\"color: #7fbfbf; text-decoration-color: #7fbfbf\">                    </span>         <span style=\"color: #008000; text-decoration-color: #008000\">\"hit_die\"</span>: <span style=\"color: #008080; text-decoration-color: #008080; font-weight: bold\">8</span><span style=\"font-weight: bold\">}}}</span>                                                                       \n",
       "</pre>\n"
      ],
      "text/plain": [
       "\u001b[2;36m[10/01/23 21:10:28]\u001b[0m\u001b[2;36m \u001b[0m\u001b[34mINFO    \u001b[0m Subtask ebed8bfdc3b84f8c98f5543ace3393e4                                              \n",
       "\u001b[2;36m                    \u001b[0m         Thought: The user has chosen the class \u001b[32m'Cleric'\u001b[0m. I need to update the character sheet \n",
       "\u001b[2;36m                    \u001b[0m         with this new class. The saving throw proficiencies for a Cleric are \u001b[32m'wisdom'\u001b[0m and     \n",
       "\u001b[2;36m                    \u001b[0m         \u001b[32m'charisma'\u001b[0m, and the hit die is \u001b[1;36m8\u001b[0m.                                                     \n",
       "\u001b[2;36m                    \u001b[0m                                                                                               \n",
       "\u001b[2;36m                    \u001b[0m         Action: \u001b[1m{\u001b[0m\u001b[32m\"type\"\u001b[0m: \u001b[32m\"tool\"\u001b[0m, \u001b[32m\"name\"\u001b[0m: \u001b[32m\"CharacterSheetUpdater\"\u001b[0m, \u001b[32m\"activity\"\u001b[0m: \u001b[32m\"update_class\"\u001b[0m, \n",
       "\u001b[2;36m                    \u001b[0m         \u001b[32m\"input\"\u001b[0m: \u001b[1m{\u001b[0m\u001b[32m\"values\"\u001b[0m: \u001b[1m{\u001b[0m\u001b[32m\"class\"\u001b[0m: \u001b[32m\"Cleric\"\u001b[0m, \u001b[32m\"saving_throws\"\u001b[0m: \u001b[1m[\u001b[0m\u001b[32m\"wisdom\"\u001b[0m, \u001b[32m\"charisma\"\u001b[0m\u001b[1m]\u001b[0m,      \n",
       "\u001b[2;36m                    \u001b[0m         \u001b[32m\"hit_die\"\u001b[0m: \u001b[1;36m8\u001b[0m\u001b[1m}\u001b[0m\u001b[1m}\u001b[0m\u001b[1m}\u001b[0m                                                                       \n"
      ]
     },
     "metadata": {},
     "output_type": "display_data"
    },
    {
     "name": "stderr",
     "output_type": "stream",
     "text": [
      "WARNING:root:Activity result is not an artifact; converting result to InfoArtifact\n"
     ]
    },
    {
     "data": {
      "text/html": [
       "<pre style=\"white-space:pre;overflow-x:auto;line-height:normal;font-family:Menlo,'DejaVu Sans Mono',consolas,'Courier New',monospace\"><span style=\"color: #7fbfbf; text-decoration-color: #7fbfbf\">                    </span><span style=\"color: #000080; text-decoration-color: #000080\">INFO    </span> Subtask ebed8bfdc3b84f8c98f5543ace3393e4                                              \n",
       "<span style=\"color: #7fbfbf; text-decoration-color: #7fbfbf\">                    </span>         Observation: <span style=\"color: #800080; text-decoration-color: #800080; font-weight: bold\">Character</span><span style=\"font-weight: bold\">(</span><span style=\"color: #808000; text-decoration-color: #808000\">name</span>=<span style=\"color: #800080; text-decoration-color: #800080; font-style: italic\">None</span>, <span style=\"color: #808000; text-decoration-color: #808000\">class_</span>=<span style=\"color: #008000; text-decoration-color: #008000\">'cleric'</span>, <span style=\"color: #808000; text-decoration-color: #808000\">subclasse</span>=<span style=\"color: #800080; text-decoration-color: #800080; font-style: italic\">None</span>, <span style=\"color: #808000; text-decoration-color: #808000\">level</span>=<span style=\"color: #008080; text-decoration-color: #008080; font-weight: bold\">1</span>,           \n",
       "<span style=\"color: #7fbfbf; text-decoration-color: #7fbfbf\">                    </span>         <span style=\"color: #808000; text-decoration-color: #808000\">race</span>=<span style=\"color: #008000; text-decoration-color: #008000\">'halfling'</span>, <span style=\"color: #808000; text-decoration-color: #808000\">alignment</span>=<span style=\"color: #800080; text-decoration-color: #800080; font-style: italic\">None</span>, <span style=\"color: #808000; text-decoration-color: #808000\">background</span>=<span style=\"color: #800080; text-decoration-color: #800080; font-style: italic\">None</span>, <span style=\"color: #808000; text-decoration-color: #808000\">proficiency_bonus</span>=<span style=\"color: #008080; text-decoration-color: #008080; font-weight: bold\">2</span>,                \n",
       "<span style=\"color: #7fbfbf; text-decoration-color: #7fbfbf\">                    </span>         <span style=\"color: #808000; text-decoration-color: #808000\">base_ability_scores</span>=<span style=\"color: #800080; text-decoration-color: #800080; font-weight: bold\">AbilityScores</span><span style=\"font-weight: bold\">(</span><span style=\"color: #808000; text-decoration-color: #808000\">strength</span>=<span style=\"color: #008080; text-decoration-color: #008080; font-weight: bold\">8</span>, <span style=\"color: #808000; text-decoration-color: #808000\">dexterity</span>=<span style=\"color: #008080; text-decoration-color: #008080; font-weight: bold\">8</span>, <span style=\"color: #808000; text-decoration-color: #808000\">constitution</span>=<span style=\"color: #008080; text-decoration-color: #008080; font-weight: bold\">8</span>,            \n",
       "<span style=\"color: #7fbfbf; text-decoration-color: #7fbfbf\">                    </span>         <span style=\"color: #808000; text-decoration-color: #808000\">intelligence</span>=<span style=\"color: #008080; text-decoration-color: #008080; font-weight: bold\">8</span>, <span style=\"color: #808000; text-decoration-color: #808000\">wisdom</span>=<span style=\"color: #008080; text-decoration-color: #008080; font-weight: bold\">8</span>, <span style=\"color: #808000; text-decoration-color: #808000\">charisma</span>=<span style=\"color: #008080; text-decoration-color: #008080; font-weight: bold\">8</span><span style=\"font-weight: bold\">)</span>, <span style=\"color: #808000; text-decoration-color: #808000\">racial_ability_bonus</span>=<span style=\"color: #800080; text-decoration-color: #800080; font-weight: bold\">AbilityScores</span><span style=\"font-weight: bold\">(</span><span style=\"color: #808000; text-decoration-color: #808000\">strength</span>=<span style=\"color: #008080; text-decoration-color: #008080; font-weight: bold\">0</span>, \n",
       "<span style=\"color: #7fbfbf; text-decoration-color: #7fbfbf\">                    </span>         <span style=\"color: #808000; text-decoration-color: #808000\">dexterity</span>=<span style=\"color: #008080; text-decoration-color: #008080; font-weight: bold\">2</span>, <span style=\"color: #808000; text-decoration-color: #808000\">constitution</span>=<span style=\"color: #008080; text-decoration-color: #008080; font-weight: bold\">0</span>, <span style=\"color: #808000; text-decoration-color: #808000\">intelligence</span>=<span style=\"color: #008080; text-decoration-color: #008080; font-weight: bold\">0</span>, <span style=\"color: #808000; text-decoration-color: #808000\">wisdom</span>=<span style=\"color: #008080; text-decoration-color: #008080; font-weight: bold\">0</span>, <span style=\"color: #808000; text-decoration-color: #808000\">charisma</span>=<span style=\"color: #008080; text-decoration-color: #008080; font-weight: bold\">0</span><span style=\"font-weight: bold\">)</span>,                   \n",
       "<span style=\"color: #7fbfbf; text-decoration-color: #7fbfbf\">                    </span>         <span style=\"color: #808000; text-decoration-color: #808000\">final_ability_scores</span>=<span style=\"color: #800080; text-decoration-color: #800080; font-weight: bold\">AbilityScores</span><span style=\"font-weight: bold\">(</span><span style=\"color: #808000; text-decoration-color: #808000\">strength</span>=<span style=\"color: #008080; text-decoration-color: #008080; font-weight: bold\">8</span>, <span style=\"color: #808000; text-decoration-color: #808000\">dexterity</span>=<span style=\"color: #008080; text-decoration-color: #008080; font-weight: bold\">10</span>, <span style=\"color: #808000; text-decoration-color: #808000\">constitution</span>=<span style=\"color: #008080; text-decoration-color: #008080; font-weight: bold\">8</span>,          \n",
       "<span style=\"color: #7fbfbf; text-decoration-color: #7fbfbf\">                    </span>         <span style=\"color: #808000; text-decoration-color: #808000\">intelligence</span>=<span style=\"color: #008080; text-decoration-color: #008080; font-weight: bold\">8</span>, <span style=\"color: #808000; text-decoration-color: #808000\">wisdom</span>=<span style=\"color: #008080; text-decoration-color: #008080; font-weight: bold\">8</span>, <span style=\"color: #808000; text-decoration-color: #808000\">charisma</span>=<span style=\"color: #008080; text-decoration-color: #008080; font-weight: bold\">8</span><span style=\"font-weight: bold\">)</span>,                                                \n",
       "<span style=\"color: #7fbfbf; text-decoration-color: #7fbfbf\">                    </span>         <span style=\"color: #808000; text-decoration-color: #808000\">saving_throw_proficiencies</span>=<span style=\"color: #800080; text-decoration-color: #800080; font-weight: bold\">SavingThrowProficiencies</span><span style=\"font-weight: bold\">(</span><span style=\"color: #808000; text-decoration-color: #808000\">strength</span>=<span style=\"color: #ff0000; text-decoration-color: #ff0000; font-style: italic\">False</span>, <span style=\"color: #808000; text-decoration-color: #808000\">dexterity</span>=<span style=\"color: #ff0000; text-decoration-color: #ff0000; font-style: italic\">False</span>,  \n",
       "<span style=\"color: #7fbfbf; text-decoration-color: #7fbfbf\">                    </span>         <span style=\"color: #808000; text-decoration-color: #808000\">constitution</span>=<span style=\"color: #ff0000; text-decoration-color: #ff0000; font-style: italic\">False</span>, <span style=\"color: #808000; text-decoration-color: #808000\">intelligence</span>=<span style=\"color: #ff0000; text-decoration-color: #ff0000; font-style: italic\">False</span>, <span style=\"color: #808000; text-decoration-color: #808000\">wisdom</span>=<span style=\"color: #00ff00; text-decoration-color: #00ff00; font-style: italic\">True</span>, <span style=\"color: #808000; text-decoration-color: #808000\">charisma</span>=<span style=\"color: #00ff00; text-decoration-color: #00ff00; font-style: italic\">True</span><span style=\"font-weight: bold\">)</span>,                  \n",
       "<span style=\"color: #7fbfbf; text-decoration-color: #7fbfbf\">                    </span>         <span style=\"color: #808000; text-decoration-color: #808000\">skill_proficiencies</span>=<span style=\"color: #800080; text-decoration-color: #800080; font-weight: bold\">SkillProficiencies</span><span style=\"font-weight: bold\">(</span><span style=\"color: #808000; text-decoration-color: #808000\">acrobatics</span>=<span style=\"color: #ff0000; text-decoration-color: #ff0000; font-style: italic\">False</span>, <span style=\"color: #808000; text-decoration-color: #808000\">animal_handling</span>=<span style=\"color: #ff0000; text-decoration-color: #ff0000; font-style: italic\">False</span>,       \n",
       "<span style=\"color: #7fbfbf; text-decoration-color: #7fbfbf\">                    </span>         <span style=\"color: #808000; text-decoration-color: #808000\">arcana</span>=<span style=\"color: #ff0000; text-decoration-color: #ff0000; font-style: italic\">False</span>, <span style=\"color: #808000; text-decoration-color: #808000\">athletics</span>=<span style=\"color: #ff0000; text-decoration-color: #ff0000; font-style: italic\">False</span>, <span style=\"color: #808000; text-decoration-color: #808000\">deception</span>=<span style=\"color: #ff0000; text-decoration-color: #ff0000; font-style: italic\">False</span>, <span style=\"color: #808000; text-decoration-color: #808000\">history</span>=<span style=\"color: #ff0000; text-decoration-color: #ff0000; font-style: italic\">False</span>, <span style=\"color: #808000; text-decoration-color: #808000\">insight</span>=<span style=\"color: #ff0000; text-decoration-color: #ff0000; font-style: italic\">False</span>,         \n",
       "<span style=\"color: #7fbfbf; text-decoration-color: #7fbfbf\">                    </span>         <span style=\"color: #808000; text-decoration-color: #808000\">intimidation</span>=<span style=\"color: #ff0000; text-decoration-color: #ff0000; font-style: italic\">False</span>, <span style=\"color: #808000; text-decoration-color: #808000\">investigation</span>=<span style=\"color: #ff0000; text-decoration-color: #ff0000; font-style: italic\">False</span>, <span style=\"color: #808000; text-decoration-color: #808000\">medicine</span>=<span style=\"color: #ff0000; text-decoration-color: #ff0000; font-style: italic\">False</span>, <span style=\"color: #808000; text-decoration-color: #808000\">nature</span>=<span style=\"color: #ff0000; text-decoration-color: #ff0000; font-style: italic\">False</span>,                \n",
       "<span style=\"color: #7fbfbf; text-decoration-color: #7fbfbf\">                    </span>         <span style=\"color: #808000; text-decoration-color: #808000\">perception</span>=<span style=\"color: #ff0000; text-decoration-color: #ff0000; font-style: italic\">False</span>, <span style=\"color: #808000; text-decoration-color: #808000\">performance</span>=<span style=\"color: #ff0000; text-decoration-color: #ff0000; font-style: italic\">False</span>, <span style=\"color: #808000; text-decoration-color: #808000\">persuasion</span>=<span style=\"color: #ff0000; text-decoration-color: #ff0000; font-style: italic\">False</span>, <span style=\"color: #808000; text-decoration-color: #808000\">religion</span>=<span style=\"color: #ff0000; text-decoration-color: #ff0000; font-style: italic\">False</span>,                \n",
       "<span style=\"color: #7fbfbf; text-decoration-color: #7fbfbf\">                    </span>         <span style=\"color: #808000; text-decoration-color: #808000\">sleight_of_hand</span>=<span style=\"color: #ff0000; text-decoration-color: #ff0000; font-style: italic\">False</span>, <span style=\"color: #808000; text-decoration-color: #808000\">stealth</span>=<span style=\"color: #ff0000; text-decoration-color: #ff0000; font-style: italic\">False</span>, <span style=\"color: #808000; text-decoration-color: #808000\">survival</span>=<span style=\"color: #ff0000; text-decoration-color: #ff0000; font-style: italic\">False</span><span style=\"font-weight: bold\">)</span>, <span style=\"color: #808000; text-decoration-color: #808000\">AC</span>=<span style=\"color: #008080; text-decoration-color: #008080; font-weight: bold\">10</span>, <span style=\"color: #808000; text-decoration-color: #808000\">speed</span>=<span style=\"color: #008080; text-decoration-color: #008080; font-weight: bold\">30</span>, <span style=\"color: #808000; text-decoration-color: #808000\">hit_die</span>=<span style=\"color: #008080; text-decoration-color: #008080; font-weight: bold\">8</span>,    \n",
       "<span style=\"color: #7fbfbf; text-decoration-color: #7fbfbf\">                    </span>         <span style=\"color: #808000; text-decoration-color: #808000\">hit_point_max</span>=<span style=\"color: #008080; text-decoration-color: #008080; font-weight: bold\">7</span><span style=\"font-weight: bold\">)</span>                                                                      \n",
       "</pre>\n"
      ],
      "text/plain": [
       "\u001b[2;36m                   \u001b[0m\u001b[2;36m \u001b[0m\u001b[34mINFO    \u001b[0m Subtask ebed8bfdc3b84f8c98f5543ace3393e4                                              \n",
       "\u001b[2;36m                    \u001b[0m         Observation: \u001b[1;35mCharacter\u001b[0m\u001b[1m(\u001b[0m\u001b[33mname\u001b[0m=\u001b[3;35mNone\u001b[0m, \u001b[33mclass_\u001b[0m=\u001b[32m'cleric'\u001b[0m, \u001b[33msubclasse\u001b[0m=\u001b[3;35mNone\u001b[0m, \u001b[33mlevel\u001b[0m=\u001b[1;36m1\u001b[0m,           \n",
       "\u001b[2;36m                    \u001b[0m         \u001b[33mrace\u001b[0m=\u001b[32m'halfling'\u001b[0m, \u001b[33malignment\u001b[0m=\u001b[3;35mNone\u001b[0m, \u001b[33mbackground\u001b[0m=\u001b[3;35mNone\u001b[0m, \u001b[33mproficiency_bonus\u001b[0m=\u001b[1;36m2\u001b[0m,                \n",
       "\u001b[2;36m                    \u001b[0m         \u001b[33mbase_ability_scores\u001b[0m=\u001b[1;35mAbilityScores\u001b[0m\u001b[1m(\u001b[0m\u001b[33mstrength\u001b[0m=\u001b[1;36m8\u001b[0m, \u001b[33mdexterity\u001b[0m=\u001b[1;36m8\u001b[0m, \u001b[33mconstitution\u001b[0m=\u001b[1;36m8\u001b[0m,            \n",
       "\u001b[2;36m                    \u001b[0m         \u001b[33mintelligence\u001b[0m=\u001b[1;36m8\u001b[0m, \u001b[33mwisdom\u001b[0m=\u001b[1;36m8\u001b[0m, \u001b[33mcharisma\u001b[0m=\u001b[1;36m8\u001b[0m\u001b[1m)\u001b[0m, \u001b[33mracial_ability_bonus\u001b[0m=\u001b[1;35mAbilityScores\u001b[0m\u001b[1m(\u001b[0m\u001b[33mstrength\u001b[0m=\u001b[1;36m0\u001b[0m, \n",
       "\u001b[2;36m                    \u001b[0m         \u001b[33mdexterity\u001b[0m=\u001b[1;36m2\u001b[0m, \u001b[33mconstitution\u001b[0m=\u001b[1;36m0\u001b[0m, \u001b[33mintelligence\u001b[0m=\u001b[1;36m0\u001b[0m, \u001b[33mwisdom\u001b[0m=\u001b[1;36m0\u001b[0m, \u001b[33mcharisma\u001b[0m=\u001b[1;36m0\u001b[0m\u001b[1m)\u001b[0m,                   \n",
       "\u001b[2;36m                    \u001b[0m         \u001b[33mfinal_ability_scores\u001b[0m=\u001b[1;35mAbilityScores\u001b[0m\u001b[1m(\u001b[0m\u001b[33mstrength\u001b[0m=\u001b[1;36m8\u001b[0m, \u001b[33mdexterity\u001b[0m=\u001b[1;36m10\u001b[0m, \u001b[33mconstitution\u001b[0m=\u001b[1;36m8\u001b[0m,          \n",
       "\u001b[2;36m                    \u001b[0m         \u001b[33mintelligence\u001b[0m=\u001b[1;36m8\u001b[0m, \u001b[33mwisdom\u001b[0m=\u001b[1;36m8\u001b[0m, \u001b[33mcharisma\u001b[0m=\u001b[1;36m8\u001b[0m\u001b[1m)\u001b[0m,                                                \n",
       "\u001b[2;36m                    \u001b[0m         \u001b[33msaving_throw_proficiencies\u001b[0m=\u001b[1;35mSavingThrowProficiencies\u001b[0m\u001b[1m(\u001b[0m\u001b[33mstrength\u001b[0m=\u001b[3;91mFalse\u001b[0m, \u001b[33mdexterity\u001b[0m=\u001b[3;91mFalse\u001b[0m,  \n",
       "\u001b[2;36m                    \u001b[0m         \u001b[33mconstitution\u001b[0m=\u001b[3;91mFalse\u001b[0m, \u001b[33mintelligence\u001b[0m=\u001b[3;91mFalse\u001b[0m, \u001b[33mwisdom\u001b[0m=\u001b[3;92mTrue\u001b[0m, \u001b[33mcharisma\u001b[0m=\u001b[3;92mTrue\u001b[0m\u001b[1m)\u001b[0m,                  \n",
       "\u001b[2;36m                    \u001b[0m         \u001b[33mskill_proficiencies\u001b[0m=\u001b[1;35mSkillProficiencies\u001b[0m\u001b[1m(\u001b[0m\u001b[33macrobatics\u001b[0m=\u001b[3;91mFalse\u001b[0m, \u001b[33manimal_handling\u001b[0m=\u001b[3;91mFalse\u001b[0m,       \n",
       "\u001b[2;36m                    \u001b[0m         \u001b[33marcana\u001b[0m=\u001b[3;91mFalse\u001b[0m, \u001b[33mathletics\u001b[0m=\u001b[3;91mFalse\u001b[0m, \u001b[33mdeception\u001b[0m=\u001b[3;91mFalse\u001b[0m, \u001b[33mhistory\u001b[0m=\u001b[3;91mFalse\u001b[0m, \u001b[33minsight\u001b[0m=\u001b[3;91mFalse\u001b[0m,         \n",
       "\u001b[2;36m                    \u001b[0m         \u001b[33mintimidation\u001b[0m=\u001b[3;91mFalse\u001b[0m, \u001b[33minvestigation\u001b[0m=\u001b[3;91mFalse\u001b[0m, \u001b[33mmedicine\u001b[0m=\u001b[3;91mFalse\u001b[0m, \u001b[33mnature\u001b[0m=\u001b[3;91mFalse\u001b[0m,                \n",
       "\u001b[2;36m                    \u001b[0m         \u001b[33mperception\u001b[0m=\u001b[3;91mFalse\u001b[0m, \u001b[33mperformance\u001b[0m=\u001b[3;91mFalse\u001b[0m, \u001b[33mpersuasion\u001b[0m=\u001b[3;91mFalse\u001b[0m, \u001b[33mreligion\u001b[0m=\u001b[3;91mFalse\u001b[0m,                \n",
       "\u001b[2;36m                    \u001b[0m         \u001b[33msleight_of_hand\u001b[0m=\u001b[3;91mFalse\u001b[0m, \u001b[33mstealth\u001b[0m=\u001b[3;91mFalse\u001b[0m, \u001b[33msurvival\u001b[0m=\u001b[3;91mFalse\u001b[0m\u001b[1m)\u001b[0m, \u001b[33mAC\u001b[0m=\u001b[1;36m10\u001b[0m, \u001b[33mspeed\u001b[0m=\u001b[1;36m30\u001b[0m, \u001b[33mhit_die\u001b[0m=\u001b[1;36m8\u001b[0m,    \n",
       "\u001b[2;36m                    \u001b[0m         \u001b[33mhit_point_max\u001b[0m=\u001b[1;36m7\u001b[0m\u001b[1m)\u001b[0m                                                                      \n"
      ]
     },
     "metadata": {},
     "output_type": "display_data"
    },
    {
     "name": "stderr",
     "output_type": "stream",
     "text": [
      "WARNING:root:<RetryCallState 140460974740496: attempt #1; slept for 0.0; last result: failed (RateLimitError Rate limit reached for 10KTPM-200RPM in organization org-lJzn8UVqpPw5xjPRDo2LWrkb on tokens per min. Limit: 10000 / min. Please try again in 6ms. Contact us through our help center at help.openai.com if you continue to have issues.)>\n",
      "WARNING:root:<RetryCallState 140460974740496: attempt #2; slept for 2.0; last result: failed (RateLimitError Rate limit reached for 10KTPM-200RPM in organization org-lJzn8UVqpPw5xjPRDo2LWrkb on tokens per min. Limit: 10000 / min. Please try again in 6ms. Contact us through our help center at help.openai.com if you continue to have issues.)>\n",
      "WARNING:root:<RetryCallState 140460974740496: attempt #3; slept for 4.0; last result: failed (RateLimitError Rate limit reached for 10KTPM-200RPM in organization org-lJzn8UVqpPw5xjPRDo2LWrkb on tokens per min. Limit: 10000 / min. Please try again in 6ms. Contact us through our help center at help.openai.com if you continue to have issues.)>\n",
      "WARNING:root:<RetryCallState 140460974740496: attempt #4; slept for 8.0; last result: failed (RateLimitError Rate limit reached for 10KTPM-200RPM in organization org-lJzn8UVqpPw5xjPRDo2LWrkb on tokens per min. Limit: 10000 / min. Please try again in 6ms. Contact us through our help center at help.openai.com if you continue to have issues.)>\n"
     ]
    },
    {
     "data": {
      "text/html": [
       "<pre style=\"white-space:pre;overflow-x:auto;line-height:normal;font-family:Menlo,'DejaVu Sans Mono',consolas,'Courier New',monospace\"><span style=\"color: #7fbfbf; text-decoration-color: #7fbfbf\">[10/01/23 21:10:46] </span><span style=\"color: #000080; text-decoration-color: #000080\">INFO    </span> ToolkitTask 8e7231642e954c3f9b6bf642141f0cee                                          \n",
       "<span style=\"color: #7fbfbf; text-decoration-color: #7fbfbf\">                    </span>         Output: change_node                                                                   \n",
       "</pre>\n"
      ],
      "text/plain": [
       "\u001b[2;36m[10/01/23 21:10:46]\u001b[0m\u001b[2;36m \u001b[0m\u001b[34mINFO    \u001b[0m ToolkitTask 8e7231642e954c3f9b6bf642141f0cee                                          \n",
       "\u001b[2;36m                    \u001b[0m         Output: change_node                                                                   \n"
      ]
     },
     "metadata": {},
     "output_type": "display_data"
    },
    {
     "data": {
      "text/html": [
       "<pre style=\"white-space:pre;overflow-x:auto;line-height:normal;font-family:Menlo,'DejaVu Sans Mono',consolas,'Courier New',monospace\"><span style=\"color: #7fbfbf; text-decoration-color: #7fbfbf\">                    </span><span style=\"color: #000080; text-decoration-color: #000080\">INFO    </span> ToolkitTask 8e7231642e954c3f9b6bf642141f0cee                                          \n",
       "<span style=\"color: #7fbfbf; text-decoration-color: #7fbfbf\">                    </span>         Input: You've just helped the user select a class_,                                   \n",
       "<span style=\"color: #7fbfbf; text-decoration-color: #7fbfbf\">                    </span>                             and next you will help them select a ability_scores. Let the      \n",
       "<span style=\"color: #7fbfbf; text-decoration-color: #7fbfbf\">                    </span>                             user know that their choice has been logged to their character    \n",
       "<span style=\"color: #7fbfbf; text-decoration-color: #7fbfbf\">                    </span>                             sheet and tell them what's next.                                  \n",
       "<span style=\"color: #7fbfbf; text-decoration-color: #7fbfbf\">                    </span>                                                                                               \n",
       "</pre>\n"
      ],
      "text/plain": [
       "\u001b[2;36m                   \u001b[0m\u001b[2;36m \u001b[0m\u001b[34mINFO    \u001b[0m ToolkitTask 8e7231642e954c3f9b6bf642141f0cee                                          \n",
       "\u001b[2;36m                    \u001b[0m         Input: You've just helped the user select a class_,                                   \n",
       "\u001b[2;36m                    \u001b[0m                             and next you will help them select a ability_scores. Let the      \n",
       "\u001b[2;36m                    \u001b[0m                             user know that their choice has been logged to their character    \n",
       "\u001b[2;36m                    \u001b[0m                             sheet and tell them what's next.                                  \n",
       "\u001b[2;36m                    \u001b[0m                                                                                               \n"
      ]
     },
     "metadata": {},
     "output_type": "display_data"
    },
    {
     "name": "stderr",
     "output_type": "stream",
     "text": [
      "WARNING:root:<RetryCallState 140460967443984: attempt #1; slept for 0.0; last result: failed (RateLimitError Rate limit reached for 10KTPM-200RPM in organization org-lJzn8UVqpPw5xjPRDo2LWrkb on tokens per min. Limit: 10000 / min. Please try again in 6ms. Contact us through our help center at help.openai.com if you continue to have issues.)>\n",
      "WARNING:root:<RetryCallState 140460967443984: attempt #2; slept for 2.0; last result: failed (RateLimitError Rate limit reached for 10KTPM-200RPM in organization org-lJzn8UVqpPw5xjPRDo2LWrkb on tokens per min. Limit: 10000 / min. Please try again in 6ms. Contact us through our help center at help.openai.com if you continue to have issues.)>\n",
      "WARNING:root:<RetryCallState 140460967443984: attempt #3; slept for 4.0; last result: failed (RateLimitError Rate limit reached for 10KTPM-200RPM in organization org-lJzn8UVqpPw5xjPRDo2LWrkb on tokens per min. Limit: 10000 / min. Please try again in 6ms. Contact us through our help center at help.openai.com if you continue to have issues.)>\n"
     ]
    },
    {
     "data": {
      "text/html": [
       "<pre style=\"white-space:pre;overflow-x:auto;line-height:normal;font-family:Menlo,'DejaVu Sans Mono',consolas,'Courier New',monospace\"><span style=\"color: #7fbfbf; text-decoration-color: #7fbfbf\">[10/01/23 21:10:57] </span><span style=\"color: #000080; text-decoration-color: #000080\">INFO    </span> ToolkitTask 8e7231642e954c3f9b6bf642141f0cee                                          \n",
       "<span style=\"color: #7fbfbf; text-decoration-color: #7fbfbf\">                    </span>         Output: Great choice! Your character is now a Cleric. This has been updated on your   \n",
       "<span style=\"color: #7fbfbf; text-decoration-color: #7fbfbf\">                    </span>         character sheet. Next, we'll work on selecting your ability scores. These scores will \n",
       "<span style=\"color: #7fbfbf; text-decoration-color: #7fbfbf\">                    </span>         determine your character's main strengths and weaknesses. Let's move on to that.      \n",
       "</pre>\n"
      ],
      "text/plain": [
       "\u001b[2;36m[10/01/23 21:10:57]\u001b[0m\u001b[2;36m \u001b[0m\u001b[34mINFO    \u001b[0m ToolkitTask 8e7231642e954c3f9b6bf642141f0cee                                          \n",
       "\u001b[2;36m                    \u001b[0m         Output: Great choice! Your character is now a Cleric. This has been updated on your   \n",
       "\u001b[2;36m                    \u001b[0m         character sheet. Next, we'll work on selecting your ability scores. These scores will \n",
       "\u001b[2;36m                    \u001b[0m         determine your character's main strengths and weaknesses. Let's move on to that.      \n"
      ]
     },
     "metadata": {},
     "output_type": "display_data"
    },
    {
     "name": "stdout",
     "output_type": "stream",
     "text": [
      "I'm the assistant DM, here to help with character creation.\n",
      "            Let's start with choosing a ability_scores\n"
     ]
    },
    {
     "data": {
      "text/html": [
       "<pre style=\"white-space:pre;overflow-x:auto;line-height:normal;font-family:Menlo,'DejaVu Sans Mono',consolas,'Courier New',monospace\"><span style=\"color: #7fbfbf; text-decoration-color: #7fbfbf\">[10/01/23 21:11:02] </span><span style=\"color: #000080; text-decoration-color: #000080\">INFO    </span> ToolkitTask 1f7542ddb23d49f78d2b8a7e9cca72ac                                          \n",
       "<span style=\"color: #7fbfbf; text-decoration-color: #7fbfbf\">                    </span>         Input:                                                                                \n",
       "<span style=\"color: #7fbfbf; text-decoration-color: #7fbfbf\">                    </span>                     Introduce yourself to the user and tell them which part                   \n",
       "<span style=\"color: #7fbfbf; text-decoration-color: #7fbfbf\">                    </span>                     of character creation we're working on.                                   \n",
       "<span style=\"color: #7fbfbf; text-decoration-color: #7fbfbf\">                    </span>                                                                                               \n",
       "</pre>\n"
      ],
      "text/plain": [
       "\u001b[2;36m[10/01/23 21:11:02]\u001b[0m\u001b[2;36m \u001b[0m\u001b[34mINFO    \u001b[0m ToolkitTask 1f7542ddb23d49f78d2b8a7e9cca72ac                                          \n",
       "\u001b[2;36m                    \u001b[0m         Input:                                                                                \n",
       "\u001b[2;36m                    \u001b[0m                     Introduce yourself to the user and tell them which part                   \n",
       "\u001b[2;36m                    \u001b[0m                     of character creation we're working on.                                   \n",
       "\u001b[2;36m                    \u001b[0m                                                                                               \n"
      ]
     },
     "metadata": {},
     "output_type": "display_data"
    },
    {
     "name": "stderr",
     "output_type": "stream",
     "text": [
      "WARNING:root:<RetryCallState 140460967487888: attempt #1; slept for 0.0; last result: failed (RateLimitError Rate limit reached for 10KTPM-200RPM in organization org-lJzn8UVqpPw5xjPRDo2LWrkb on tokens per min. Limit: 10000 / min. Please try again in 6ms. Contact us through our help center at help.openai.com if you continue to have issues.)>\n",
      "WARNING:root:<RetryCallState 140460967487888: attempt #2; slept for 2.0; last result: failed (RateLimitError Rate limit reached for 10KTPM-200RPM in organization org-lJzn8UVqpPw5xjPRDo2LWrkb on tokens per min. Limit: 10000 / min. Please try again in 6ms. Contact us through our help center at help.openai.com if you continue to have issues.)>\n",
      "WARNING:root:<RetryCallState 140460967487888: attempt #3; slept for 4.0; last result: failed (RateLimitError Rate limit reached for 10KTPM-200RPM in organization org-lJzn8UVqpPw5xjPRDo2LWrkb on tokens per min. Limit: 10000 / min. Please try again in 6ms. Contact us through our help center at help.openai.com if you continue to have issues.)>\n"
     ]
    },
    {
     "data": {
      "text/html": [
       "<pre style=\"white-space:pre;overflow-x:auto;line-height:normal;font-family:Menlo,'DejaVu Sans Mono',consolas,'Courier New',monospace\"><span style=\"color: #7fbfbf; text-decoration-color: #7fbfbf\">[10/01/23 21:11:13] </span><span style=\"color: #000080; text-decoration-color: #000080\">INFO    </span> ToolkitTask 1f7542ddb23d49f78d2b8a7e9cca72ac                                          \n",
       "<span style=\"color: #7fbfbf; text-decoration-color: #7fbfbf\">                    </span>         Output: Hello! I'm your Dungeon Master assistant. Right now, we're working on choosing\n",
       "<span style=\"color: #7fbfbf; text-decoration-color: #7fbfbf\">                    </span>         your character's ability scores. This is a crucial part of character creation as it   \n",
       "<span style=\"color: #7fbfbf; text-decoration-color: #7fbfbf\">                    </span>         determines your character's strengths and weaknesses. Let's get started!              \n",
       "</pre>\n"
      ],
      "text/plain": [
       "\u001b[2;36m[10/01/23 21:11:13]\u001b[0m\u001b[2;36m \u001b[0m\u001b[34mINFO    \u001b[0m ToolkitTask 1f7542ddb23d49f78d2b8a7e9cca72ac                                          \n",
       "\u001b[2;36m                    \u001b[0m         Output: Hello! I'm your Dungeon Master assistant. Right now, we're working on choosing\n",
       "\u001b[2;36m                    \u001b[0m         your character's ability scores. This is a crucial part of character creation as it   \n",
       "\u001b[2;36m                    \u001b[0m         determines your character's strengths and weaknesses. Let's get started!              \n"
      ]
     },
     "metadata": {},
     "output_type": "display_data"
    }
   ],
   "source": [
    "response = conv.run(\"I'll be a cleric\")"
   ]
  },
  {
   "cell_type": "code",
   "execution_count": 6,
   "id": "70742110-7cb3-4afb-8058-75414c12f1b4",
   "metadata": {},
   "outputs": [
    {
     "data": {
      "text/html": [
       "<pre style=\"white-space:pre;overflow-x:auto;line-height:normal;font-family:Menlo,'DejaVu Sans Mono',consolas,'Courier New',monospace\"><span style=\"color: #7fbfbf; text-decoration-color: #7fbfbf\">                    </span><span style=\"color: #000080; text-decoration-color: #000080\">INFO    </span> ToolkitTask 1f7542ddb23d49f78d2b8a7e9cca72ac                                          \n",
       "<span style=\"color: #7fbfbf; text-decoration-color: #7fbfbf\">                    </span>         Input: Ok, what do we do?                                                             \n",
       "</pre>\n"
      ],
      "text/plain": [
       "\u001b[2;36m                   \u001b[0m\u001b[2;36m \u001b[0m\u001b[34mINFO    \u001b[0m ToolkitTask 1f7542ddb23d49f78d2b8a7e9cca72ac                                          \n",
       "\u001b[2;36m                    \u001b[0m         Input: Ok, what do we do?                                                             \n"
      ]
     },
     "metadata": {},
     "output_type": "display_data"
    },
    {
     "name": "stderr",
     "output_type": "stream",
     "text": [
      "WARNING:root:<RetryCallState 140460967429200: attempt #1; slept for 0.0; last result: failed (RateLimitError Rate limit reached for 10KTPM-200RPM in organization org-lJzn8UVqpPw5xjPRDo2LWrkb on tokens per min. Limit: 10000 / min. Please try again in 6ms. Contact us through our help center at help.openai.com if you continue to have issues.)>\n",
      "WARNING:root:<RetryCallState 140460967429200: attempt #2; slept for 2.0; last result: failed (RateLimitError Rate limit reached for 10KTPM-200RPM in organization org-lJzn8UVqpPw5xjPRDo2LWrkb on tokens per min. Limit: 10000 / min. Please try again in 6ms. Contact us through our help center at help.openai.com if you continue to have issues.)>\n",
      "WARNING:root:<RetryCallState 140460967429200: attempt #3; slept for 4.0; last result: failed (RateLimitError Rate limit reached for 10KTPM-200RPM in organization org-lJzn8UVqpPw5xjPRDo2LWrkb on tokens per min. Limit: 10000 / min. Please try again in 6ms. Contact us through our help center at help.openai.com if you continue to have issues.)>\n"
     ]
    },
    {
     "data": {
      "text/html": [
       "<pre style=\"white-space:pre;overflow-x:auto;line-height:normal;font-family:Menlo,'DejaVu Sans Mono',consolas,'Courier New',monospace\"><span style=\"color: #7fbfbf; text-decoration-color: #7fbfbf\">[10/01/23 21:11:31] </span><span style=\"color: #000080; text-decoration-color: #000080\">INFO    </span> ToolkitTask 1f7542ddb23d49f78d2b8a7e9cca72ac                                          \n",
       "<span style=\"color: #7fbfbf; text-decoration-color: #7fbfbf\">                    </span>         Output: First, we need to decide on a method to generate your ability scores. There   \n",
       "<span style=\"color: #7fbfbf; text-decoration-color: #7fbfbf\">                    </span>         are three common methods:                                                             \n",
       "<span style=\"color: #7fbfbf; text-decoration-color: #7fbfbf\">                    </span>                                                                                               \n",
       "<span style=\"color: #7fbfbf; text-decoration-color: #7fbfbf\">                    </span>         <span style=\"color: #008080; text-decoration-color: #008080; font-weight: bold\">1</span>. Standard Array: This method provides a set of numbers <span style=\"font-weight: bold\">(</span><span style=\"color: #008080; text-decoration-color: #008080; font-weight: bold\">15</span>, <span style=\"color: #008080; text-decoration-color: #008080; font-weight: bold\">14</span>, <span style=\"color: #008080; text-decoration-color: #008080; font-weight: bold\">13</span>, <span style=\"color: #008080; text-decoration-color: #008080; font-weight: bold\">12</span>, <span style=\"color: #008080; text-decoration-color: #008080; font-weight: bold\">10</span>, <span style=\"color: #008080; text-decoration-color: #008080; font-weight: bold\">8</span><span style=\"font-weight: bold\">)</span> which\n",
       "<span style=\"color: #7fbfbf; text-decoration-color: #7fbfbf\">                    </span>         you can assign to your ability scores as you see fit.                                 \n",
       "<span style=\"color: #7fbfbf; text-decoration-color: #7fbfbf\">                    </span>                                                                                               \n",
       "<span style=\"color: #7fbfbf; text-decoration-color: #7fbfbf\">                    </span>         <span style=\"color: #008080; text-decoration-color: #008080; font-weight: bold\">2</span>. Point Buy: You have <span style=\"color: #008080; text-decoration-color: #008080; font-weight: bold\">27</span> points to distribute among your ability scores. Each score  \n",
       "<span style=\"color: #7fbfbf; text-decoration-color: #7fbfbf\">                    </span>         starts at <span style=\"color: #008080; text-decoration-color: #008080; font-weight: bold\">8</span>, and you can increase them up to a maximum of <span style=\"color: #008080; text-decoration-color: #008080; font-weight: bold\">15</span> <span style=\"font-weight: bold\">(</span>before racial bonuses<span style=\"font-weight: bold\">)</span>. \n",
       "<span style=\"color: #7fbfbf; text-decoration-color: #7fbfbf\">                    </span>         Increasing an ability score costs a certain number of points depending on the score.  \n",
       "<span style=\"color: #7fbfbf; text-decoration-color: #7fbfbf\">                    </span>                                                                                               \n",
       "<span style=\"color: #7fbfbf; text-decoration-color: #7fbfbf\">                    </span>         <span style=\"color: #008080; text-decoration-color: #008080; font-weight: bold\">3</span>. Roll for Scores: You roll four six-sided dice <span style=\"font-weight: bold\">(</span>4d6<span style=\"font-weight: bold\">)</span> and record the total of the    \n",
       "<span style=\"color: #7fbfbf; text-decoration-color: #7fbfbf\">                    </span>         highest three dice for each ability score.                                            \n",
       "<span style=\"color: #7fbfbf; text-decoration-color: #7fbfbf\">                    </span>                                                                                               \n",
       "<span style=\"color: #7fbfbf; text-decoration-color: #7fbfbf\">                    </span>         Once we've generated your ability scores, we can optimize them based on your          \n",
       "<span style=\"color: #7fbfbf; text-decoration-color: #7fbfbf\">                    </span>         character's class. Which method would you like to use?                                \n",
       "</pre>\n"
      ],
      "text/plain": [
       "\u001b[2;36m[10/01/23 21:11:31]\u001b[0m\u001b[2;36m \u001b[0m\u001b[34mINFO    \u001b[0m ToolkitTask 1f7542ddb23d49f78d2b8a7e9cca72ac                                          \n",
       "\u001b[2;36m                    \u001b[0m         Output: First, we need to decide on a method to generate your ability scores. There   \n",
       "\u001b[2;36m                    \u001b[0m         are three common methods:                                                             \n",
       "\u001b[2;36m                    \u001b[0m                                                                                               \n",
       "\u001b[2;36m                    \u001b[0m         \u001b[1;36m1\u001b[0m. Standard Array: This method provides a set of numbers \u001b[1m(\u001b[0m\u001b[1;36m15\u001b[0m, \u001b[1;36m14\u001b[0m, \u001b[1;36m13\u001b[0m, \u001b[1;36m12\u001b[0m, \u001b[1;36m10\u001b[0m, \u001b[1;36m8\u001b[0m\u001b[1m)\u001b[0m which\n",
       "\u001b[2;36m                    \u001b[0m         you can assign to your ability scores as you see fit.                                 \n",
       "\u001b[2;36m                    \u001b[0m                                                                                               \n",
       "\u001b[2;36m                    \u001b[0m         \u001b[1;36m2\u001b[0m. Point Buy: You have \u001b[1;36m27\u001b[0m points to distribute among your ability scores. Each score  \n",
       "\u001b[2;36m                    \u001b[0m         starts at \u001b[1;36m8\u001b[0m, and you can increase them up to a maximum of \u001b[1;36m15\u001b[0m \u001b[1m(\u001b[0mbefore racial bonuses\u001b[1m)\u001b[0m. \n",
       "\u001b[2;36m                    \u001b[0m         Increasing an ability score costs a certain number of points depending on the score.  \n",
       "\u001b[2;36m                    \u001b[0m                                                                                               \n",
       "\u001b[2;36m                    \u001b[0m         \u001b[1;36m3\u001b[0m. Roll for Scores: You roll four six-sided dice \u001b[1m(\u001b[0m4d6\u001b[1m)\u001b[0m and record the total of the    \n",
       "\u001b[2;36m                    \u001b[0m         highest three dice for each ability score.                                            \n",
       "\u001b[2;36m                    \u001b[0m                                                                                               \n",
       "\u001b[2;36m                    \u001b[0m         Once we've generated your ability scores, we can optimize them based on your          \n",
       "\u001b[2;36m                    \u001b[0m         character's class. Which method would you like to use?                                \n"
      ]
     },
     "metadata": {},
     "output_type": "display_data"
    }
   ],
   "source": [
    "response = conv.run(\"Ok, what do we do?\")"
   ]
  },
  {
   "cell_type": "code",
   "execution_count": 7,
   "id": "cc2b96be-be6c-414c-abdf-2214f3adfcb6",
   "metadata": {},
   "outputs": [
    {
     "data": {
      "text/html": [
       "<pre style=\"white-space:pre;overflow-x:auto;line-height:normal;font-family:Menlo,'DejaVu Sans Mono',consolas,'Courier New',monospace\"><span style=\"color: #7fbfbf; text-decoration-color: #7fbfbf\">                    </span><span style=\"color: #000080; text-decoration-color: #000080\">INFO    </span> ToolkitTask 1f7542ddb23d49f78d2b8a7e9cca72ac                                          \n",
       "<span style=\"color: #7fbfbf; text-decoration-color: #7fbfbf\">                    </span>         Input: Let's use point buy                                                            \n",
       "</pre>\n"
      ],
      "text/plain": [
       "\u001b[2;36m                   \u001b[0m\u001b[2;36m \u001b[0m\u001b[34mINFO    \u001b[0m ToolkitTask 1f7542ddb23d49f78d2b8a7e9cca72ac                                          \n",
       "\u001b[2;36m                    \u001b[0m         Input: Let's use point buy                                                            \n"
      ]
     },
     "metadata": {},
     "output_type": "display_data"
    },
    {
     "name": "stderr",
     "output_type": "stream",
     "text": [
      "WARNING:root:<RetryCallState 140462325797648: attempt #1; slept for 0.0; last result: failed (RateLimitError Rate limit reached for 10KTPM-200RPM in organization org-lJzn8UVqpPw5xjPRDo2LWrkb on tokens per min. Limit: 10000 / min. Please try again in 6ms. Contact us through our help center at help.openai.com if you continue to have issues.)>\n",
      "WARNING:root:<RetryCallState 140462325797648: attempt #2; slept for 2.0; last result: failed (RateLimitError Rate limit reached for 10KTPM-200RPM in organization org-lJzn8UVqpPw5xjPRDo2LWrkb on tokens per min. Limit: 10000 / min. Please try again in 6ms. Contact us through our help center at help.openai.com if you continue to have issues.)>\n",
      "WARNING:root:<RetryCallState 140462325797648: attempt #3; slept for 4.0; last result: failed (RateLimitError Rate limit reached for 10KTPM-200RPM in organization org-lJzn8UVqpPw5xjPRDo2LWrkb on tokens per min. Limit: 10000 / min. Please try again in 6ms. Contact us through our help center at help.openai.com if you continue to have issues.)>\n"
     ]
    },
    {
     "data": {
      "text/html": [
       "<pre style=\"white-space:pre;overflow-x:auto;line-height:normal;font-family:Menlo,'DejaVu Sans Mono',consolas,'Courier New',monospace\"><span style=\"color: #7fbfbf; text-decoration-color: #7fbfbf\">[10/01/23 21:11:53] </span><span style=\"color: #000080; text-decoration-color: #000080\">INFO    </span> Subtask 522d4af99a2946d98ff54dcbb6be6858                                              \n",
       "<span style=\"color: #7fbfbf; text-decoration-color: #7fbfbf\">                    </span>         Great choice! With the Point Buy system, you have <span style=\"color: #008080; text-decoration-color: #008080; font-weight: bold\">27</span> points to distribute among your  \n",
       "<span style=\"color: #7fbfbf; text-decoration-color: #7fbfbf\">                    </span>         ability scores. Each score starts at <span style=\"color: #008080; text-decoration-color: #008080; font-weight: bold\">8</span>, and you can increase them up to a maximum of  \n",
       "<span style=\"color: #7fbfbf; text-decoration-color: #7fbfbf\">                    </span>         <span style=\"color: #008080; text-decoration-color: #008080; font-weight: bold\">15</span> <span style=\"font-weight: bold\">(</span>before racial bonuses<span style=\"font-weight: bold\">)</span>. Here's how much each score costs:                         \n",
       "<span style=\"color: #7fbfbf; text-decoration-color: #7fbfbf\">                    </span>                                                                                               \n",
       "<span style=\"color: #7fbfbf; text-decoration-color: #7fbfbf\">                    </span>         - Score of <span style=\"color: #008080; text-decoration-color: #008080; font-weight: bold\">9</span>: costs <span style=\"color: #008080; text-decoration-color: #008080; font-weight: bold\">1</span> point                                                           \n",
       "<span style=\"color: #7fbfbf; text-decoration-color: #7fbfbf\">                    </span>         - Score of <span style=\"color: #008080; text-decoration-color: #008080; font-weight: bold\">10</span>: costs <span style=\"color: #008080; text-decoration-color: #008080; font-weight: bold\">2</span> points                                                         \n",
       "<span style=\"color: #7fbfbf; text-decoration-color: #7fbfbf\">                    </span>         - Score of <span style=\"color: #008080; text-decoration-color: #008080; font-weight: bold\">11</span>: costs <span style=\"color: #008080; text-decoration-color: #008080; font-weight: bold\">3</span> points                                                         \n",
       "<span style=\"color: #7fbfbf; text-decoration-color: #7fbfbf\">                    </span>         - Score of <span style=\"color: #008080; text-decoration-color: #008080; font-weight: bold\">12</span>: costs <span style=\"color: #008080; text-decoration-color: #008080; font-weight: bold\">4</span> points                                                         \n",
       "<span style=\"color: #7fbfbf; text-decoration-color: #7fbfbf\">                    </span>         - Score of <span style=\"color: #008080; text-decoration-color: #008080; font-weight: bold\">13</span>: costs <span style=\"color: #008080; text-decoration-color: #008080; font-weight: bold\">5</span> points                                                         \n",
       "<span style=\"color: #7fbfbf; text-decoration-color: #7fbfbf\">                    </span>         - Score of <span style=\"color: #008080; text-decoration-color: #008080; font-weight: bold\">14</span>: costs <span style=\"color: #008080; text-decoration-color: #008080; font-weight: bold\">7</span> points                                                         \n",
       "<span style=\"color: #7fbfbf; text-decoration-color: #7fbfbf\">                    </span>         - Score of <span style=\"color: #008080; text-decoration-color: #008080; font-weight: bold\">15</span>: costs <span style=\"color: #008080; text-decoration-color: #008080; font-weight: bold\">9</span> points                                                         \n",
       "<span style=\"color: #7fbfbf; text-decoration-color: #7fbfbf\">                    </span>                                                                                               \n",
       "<span style=\"color: #7fbfbf; text-decoration-color: #7fbfbf\">                    </span>         Remember, you can't have a score lower than <span style=\"color: #008080; text-decoration-color: #008080; font-weight: bold\">8</span> or higher than <span style=\"color: #008080; text-decoration-color: #008080; font-weight: bold\">15</span> at this stage.        \n",
       "<span style=\"color: #7fbfbf; text-decoration-color: #7fbfbf\">                    </span>                                                                                               \n",
       "<span style=\"color: #7fbfbf; text-decoration-color: #7fbfbf\">                    </span>         Before we start distributing points, it would be helpful to know your character's     \n",
       "<span style=\"color: #7fbfbf; text-decoration-color: #7fbfbf\">                    </span>         class, as it can guide us in assigning the points to the most beneficial abilities for\n",
       "<span style=\"color: #7fbfbf; text-decoration-color: #7fbfbf\">                    </span>         that class. Let's check your character sheet for this information.                    \n",
       "<span style=\"color: #7fbfbf; text-decoration-color: #7fbfbf\">                    </span>                                                                                               \n",
       "<span style=\"color: #7fbfbf; text-decoration-color: #7fbfbf\">                    </span>         Thought: I need to use the CharacterSheetInspector tool to query the character sheet  \n",
       "<span style=\"color: #7fbfbf; text-decoration-color: #7fbfbf\">                    </span>         for the class of the character.                                                       \n",
       "<span style=\"color: #7fbfbf; text-decoration-color: #7fbfbf\">                    </span>         Action: <span style=\"font-weight: bold\">{</span><span style=\"color: #008000; text-decoration-color: #008000\">\"type\"</span>: <span style=\"color: #008000; text-decoration-color: #008000\">\"tool\"</span>, <span style=\"color: #008000; text-decoration-color: #008000\">\"name\"</span>: <span style=\"color: #008000; text-decoration-color: #008000\">\"CharacterSheetInspector\"</span>, <span style=\"color: #008000; text-decoration-color: #008000\">\"activity\"</span>:               \n",
       "<span style=\"color: #7fbfbf; text-decoration-color: #7fbfbf\">                    </span>         <span style=\"color: #008000; text-decoration-color: #008000\">\"query_character_sheet\"</span>, <span style=\"color: #008000; text-decoration-color: #008000\">\"input\"</span>: <span style=\"font-weight: bold\">{</span><span style=\"color: #008000; text-decoration-color: #008000\">\"values\"</span>: <span style=\"font-weight: bold\">{</span><span style=\"color: #008000; text-decoration-color: #008000\">\"fields\"</span>: <span style=\"font-weight: bold\">[</span><span style=\"color: #008000; text-decoration-color: #008000\">\"class_\"</span><span style=\"font-weight: bold\">]}}}</span>                 \n",
       "</pre>\n"
      ],
      "text/plain": [
       "\u001b[2;36m[10/01/23 21:11:53]\u001b[0m\u001b[2;36m \u001b[0m\u001b[34mINFO    \u001b[0m Subtask 522d4af99a2946d98ff54dcbb6be6858                                              \n",
       "\u001b[2;36m                    \u001b[0m         Great choice! With the Point Buy system, you have \u001b[1;36m27\u001b[0m points to distribute among your  \n",
       "\u001b[2;36m                    \u001b[0m         ability scores. Each score starts at \u001b[1;36m8\u001b[0m, and you can increase them up to a maximum of  \n",
       "\u001b[2;36m                    \u001b[0m         \u001b[1;36m15\u001b[0m \u001b[1m(\u001b[0mbefore racial bonuses\u001b[1m)\u001b[0m. Here's how much each score costs:                         \n",
       "\u001b[2;36m                    \u001b[0m                                                                                               \n",
       "\u001b[2;36m                    \u001b[0m         - Score of \u001b[1;36m9\u001b[0m: costs \u001b[1;36m1\u001b[0m point                                                           \n",
       "\u001b[2;36m                    \u001b[0m         - Score of \u001b[1;36m10\u001b[0m: costs \u001b[1;36m2\u001b[0m points                                                         \n",
       "\u001b[2;36m                    \u001b[0m         - Score of \u001b[1;36m11\u001b[0m: costs \u001b[1;36m3\u001b[0m points                                                         \n",
       "\u001b[2;36m                    \u001b[0m         - Score of \u001b[1;36m12\u001b[0m: costs \u001b[1;36m4\u001b[0m points                                                         \n",
       "\u001b[2;36m                    \u001b[0m         - Score of \u001b[1;36m13\u001b[0m: costs \u001b[1;36m5\u001b[0m points                                                         \n",
       "\u001b[2;36m                    \u001b[0m         - Score of \u001b[1;36m14\u001b[0m: costs \u001b[1;36m7\u001b[0m points                                                         \n",
       "\u001b[2;36m                    \u001b[0m         - Score of \u001b[1;36m15\u001b[0m: costs \u001b[1;36m9\u001b[0m points                                                         \n",
       "\u001b[2;36m                    \u001b[0m                                                                                               \n",
       "\u001b[2;36m                    \u001b[0m         Remember, you can't have a score lower than \u001b[1;36m8\u001b[0m or higher than \u001b[1;36m15\u001b[0m at this stage.        \n",
       "\u001b[2;36m                    \u001b[0m                                                                                               \n",
       "\u001b[2;36m                    \u001b[0m         Before we start distributing points, it would be helpful to know your character's     \n",
       "\u001b[2;36m                    \u001b[0m         class, as it can guide us in assigning the points to the most beneficial abilities for\n",
       "\u001b[2;36m                    \u001b[0m         that class. Let's check your character sheet for this information.                    \n",
       "\u001b[2;36m                    \u001b[0m                                                                                               \n",
       "\u001b[2;36m                    \u001b[0m         Thought: I need to use the CharacterSheetInspector tool to query the character sheet  \n",
       "\u001b[2;36m                    \u001b[0m         for the class of the character.                                                       \n",
       "\u001b[2;36m                    \u001b[0m         Action: \u001b[1m{\u001b[0m\u001b[32m\"type\"\u001b[0m: \u001b[32m\"tool\"\u001b[0m, \u001b[32m\"name\"\u001b[0m: \u001b[32m\"CharacterSheetInspector\"\u001b[0m, \u001b[32m\"activity\"\u001b[0m:               \n",
       "\u001b[2;36m                    \u001b[0m         \u001b[32m\"query_character_sheet\"\u001b[0m, \u001b[32m\"input\"\u001b[0m: \u001b[1m{\u001b[0m\u001b[32m\"values\"\u001b[0m: \u001b[1m{\u001b[0m\u001b[32m\"fields\"\u001b[0m: \u001b[1m[\u001b[0m\u001b[32m\"class_\"\u001b[0m\u001b[1m]\u001b[0m\u001b[1m}\u001b[0m\u001b[1m}\u001b[0m\u001b[1m}\u001b[0m                 \n"
      ]
     },
     "metadata": {},
     "output_type": "display_data"
    },
    {
     "name": "stderr",
     "output_type": "stream",
     "text": [
      "WARNING:root:Activity result is not an artifact; converting result to InfoArtifact\n"
     ]
    },
    {
     "data": {
      "text/html": [
       "<pre style=\"white-space:pre;overflow-x:auto;line-height:normal;font-family:Menlo,'DejaVu Sans Mono',consolas,'Courier New',monospace\"><span style=\"color: #7fbfbf; text-decoration-color: #7fbfbf\">                    </span><span style=\"color: #000080; text-decoration-color: #000080\">INFO    </span> Subtask 522d4af99a2946d98ff54dcbb6be6858                                              \n",
       "<span style=\"color: #7fbfbf; text-decoration-color: #7fbfbf\">                    </span>         Observation: <span style=\"font-weight: bold\">{</span><span style=\"color: #008000; text-decoration-color: #008000\">'class_'</span>: <span style=\"color: #008000; text-decoration-color: #008000\">'cleric'</span><span style=\"font-weight: bold\">}</span>                                                     \n",
       "</pre>\n"
      ],
      "text/plain": [
       "\u001b[2;36m                   \u001b[0m\u001b[2;36m \u001b[0m\u001b[34mINFO    \u001b[0m Subtask 522d4af99a2946d98ff54dcbb6be6858                                              \n",
       "\u001b[2;36m                    \u001b[0m         Observation: \u001b[1m{\u001b[0m\u001b[32m'class_'\u001b[0m: \u001b[32m'cleric'\u001b[0m\u001b[1m}\u001b[0m                                                     \n"
      ]
     },
     "metadata": {},
     "output_type": "display_data"
    },
    {
     "name": "stderr",
     "output_type": "stream",
     "text": [
      "WARNING:root:<RetryCallState 140460973778192: attempt #1; slept for 0.0; last result: failed (RateLimitError Rate limit reached for 10KTPM-200RPM in organization org-lJzn8UVqpPw5xjPRDo2LWrkb on tokens per min. Limit: 10000 / min. Please try again in 6ms. Contact us through our help center at help.openai.com if you continue to have issues.)>\n"
     ]
    },
    {
     "data": {
      "text/html": [
       "<pre style=\"white-space:pre;overflow-x:auto;line-height:normal;font-family:Menlo,'DejaVu Sans Mono',consolas,'Courier New',monospace\"><span style=\"color: #7fbfbf; text-decoration-color: #7fbfbf\">[10/01/23 21:12:04] </span><span style=\"color: #000080; text-decoration-color: #000080\">INFO    </span> ToolkitTask 1f7542ddb23d49f78d2b8a7e9cca72ac                                          \n",
       "<span style=\"color: #7fbfbf; text-decoration-color: #7fbfbf\">                    </span>         Output: Great! You're playing a Cleric. Clerics are divine servants of the gods, using\n",
       "<span style=\"color: #7fbfbf; text-decoration-color: #7fbfbf\">                    </span>         their faith to cast spells and perform miracles. They typically benefit from a high   \n",
       "<span style=\"color: #7fbfbf; text-decoration-color: #7fbfbf\">                    </span>         Wisdom score, as it affects their spellcasting ability.                               \n",
       "<span style=\"color: #7fbfbf; text-decoration-color: #7fbfbf\">                    </span>                                                                                               \n",
       "<span style=\"color: #7fbfbf; text-decoration-color: #7fbfbf\">                    </span>         In the Point Buy system, you have <span style=\"color: #008080; text-decoration-color: #008080; font-weight: bold\">27</span> points to distribute among your ability scores.  \n",
       "<span style=\"color: #7fbfbf; text-decoration-color: #7fbfbf\">                    </span>         Each score starts at <span style=\"color: #008080; text-decoration-color: #008080; font-weight: bold\">8</span>, and you can increase them up to a maximum of <span style=\"color: #008080; text-decoration-color: #008080; font-weight: bold\">15</span> <span style=\"font-weight: bold\">(</span>before racial\n",
       "<span style=\"color: #7fbfbf; text-decoration-color: #7fbfbf\">                    </span>         bonuses<span style=\"font-weight: bold\">)</span>. Increasing an ability score costs a certain number of points depending on   \n",
       "<span style=\"color: #7fbfbf; text-decoration-color: #7fbfbf\">                    </span>         the score.                                                                            \n",
       "<span style=\"color: #7fbfbf; text-decoration-color: #7fbfbf\">                    </span>                                                                                               \n",
       "<span style=\"color: #7fbfbf; text-decoration-color: #7fbfbf\">                    </span>         Here's the cost of each score:                                                        \n",
       "<span style=\"color: #7fbfbf; text-decoration-color: #7fbfbf\">                    </span>                                                                                               \n",
       "<span style=\"color: #7fbfbf; text-decoration-color: #7fbfbf\">                    </span>         - <span style=\"color: #008080; text-decoration-color: #008080; font-weight: bold\">9</span> costs <span style=\"color: #008080; text-decoration-color: #008080; font-weight: bold\">1</span> point                                                                     \n",
       "<span style=\"color: #7fbfbf; text-decoration-color: #7fbfbf\">                    </span>         - <span style=\"color: #008080; text-decoration-color: #008080; font-weight: bold\">10</span> costs <span style=\"color: #008080; text-decoration-color: #008080; font-weight: bold\">2</span> points                                                                   \n",
       "<span style=\"color: #7fbfbf; text-decoration-color: #7fbfbf\">                    </span>         - <span style=\"color: #008080; text-decoration-color: #008080; font-weight: bold\">11</span> costs <span style=\"color: #008080; text-decoration-color: #008080; font-weight: bold\">3</span> points                                                                   \n",
       "<span style=\"color: #7fbfbf; text-decoration-color: #7fbfbf\">                    </span>         - <span style=\"color: #008080; text-decoration-color: #008080; font-weight: bold\">12</span> costs <span style=\"color: #008080; text-decoration-color: #008080; font-weight: bold\">4</span> points                                                                   \n",
       "<span style=\"color: #7fbfbf; text-decoration-color: #7fbfbf\">                    </span>         - <span style=\"color: #008080; text-decoration-color: #008080; font-weight: bold\">13</span> costs <span style=\"color: #008080; text-decoration-color: #008080; font-weight: bold\">5</span> points                                                                   \n",
       "<span style=\"color: #7fbfbf; text-decoration-color: #7fbfbf\">                    </span>         - <span style=\"color: #008080; text-decoration-color: #008080; font-weight: bold\">14</span> costs <span style=\"color: #008080; text-decoration-color: #008080; font-weight: bold\">7</span> points                                                                   \n",
       "<span style=\"color: #7fbfbf; text-decoration-color: #7fbfbf\">                    </span>         - <span style=\"color: #008080; text-decoration-color: #008080; font-weight: bold\">15</span> costs <span style=\"color: #008080; text-decoration-color: #008080; font-weight: bold\">9</span> points                                                                   \n",
       "<span style=\"color: #7fbfbf; text-decoration-color: #7fbfbf\">                    </span>                                                                                               \n",
       "<span style=\"color: #7fbfbf; text-decoration-color: #7fbfbf\">                    </span>         Would you like me to suggest an optimal distribution of points for your Cleric?       \n",
       "</pre>\n"
      ],
      "text/plain": [
       "\u001b[2;36m[10/01/23 21:12:04]\u001b[0m\u001b[2;36m \u001b[0m\u001b[34mINFO    \u001b[0m ToolkitTask 1f7542ddb23d49f78d2b8a7e9cca72ac                                          \n",
       "\u001b[2;36m                    \u001b[0m         Output: Great! You're playing a Cleric. Clerics are divine servants of the gods, using\n",
       "\u001b[2;36m                    \u001b[0m         their faith to cast spells and perform miracles. They typically benefit from a high   \n",
       "\u001b[2;36m                    \u001b[0m         Wisdom score, as it affects their spellcasting ability.                               \n",
       "\u001b[2;36m                    \u001b[0m                                                                                               \n",
       "\u001b[2;36m                    \u001b[0m         In the Point Buy system, you have \u001b[1;36m27\u001b[0m points to distribute among your ability scores.  \n",
       "\u001b[2;36m                    \u001b[0m         Each score starts at \u001b[1;36m8\u001b[0m, and you can increase them up to a maximum of \u001b[1;36m15\u001b[0m \u001b[1m(\u001b[0mbefore racial\n",
       "\u001b[2;36m                    \u001b[0m         bonuses\u001b[1m)\u001b[0m. Increasing an ability score costs a certain number of points depending on   \n",
       "\u001b[2;36m                    \u001b[0m         the score.                                                                            \n",
       "\u001b[2;36m                    \u001b[0m                                                                                               \n",
       "\u001b[2;36m                    \u001b[0m         Here's the cost of each score:                                                        \n",
       "\u001b[2;36m                    \u001b[0m                                                                                               \n",
       "\u001b[2;36m                    \u001b[0m         - \u001b[1;36m9\u001b[0m costs \u001b[1;36m1\u001b[0m point                                                                     \n",
       "\u001b[2;36m                    \u001b[0m         - \u001b[1;36m10\u001b[0m costs \u001b[1;36m2\u001b[0m points                                                                   \n",
       "\u001b[2;36m                    \u001b[0m         - \u001b[1;36m11\u001b[0m costs \u001b[1;36m3\u001b[0m points                                                                   \n",
       "\u001b[2;36m                    \u001b[0m         - \u001b[1;36m12\u001b[0m costs \u001b[1;36m4\u001b[0m points                                                                   \n",
       "\u001b[2;36m                    \u001b[0m         - \u001b[1;36m13\u001b[0m costs \u001b[1;36m5\u001b[0m points                                                                   \n",
       "\u001b[2;36m                    \u001b[0m         - \u001b[1;36m14\u001b[0m costs \u001b[1;36m7\u001b[0m points                                                                   \n",
       "\u001b[2;36m                    \u001b[0m         - \u001b[1;36m15\u001b[0m costs \u001b[1;36m9\u001b[0m points                                                                   \n",
       "\u001b[2;36m                    \u001b[0m                                                                                               \n",
       "\u001b[2;36m                    \u001b[0m         Would you like me to suggest an optimal distribution of points for your Cleric?       \n"
      ]
     },
     "metadata": {},
     "output_type": "display_data"
    }
   ],
   "source": [
    "response = conv.run(\"Let's use point buy\")"
   ]
  },
  {
   "cell_type": "code",
   "execution_count": 8,
   "id": "384766ef-0fa4-4df7-81eb-eb922c52abce",
   "metadata": {
    "scrolled": true
   },
   "outputs": [
    {
     "data": {
      "text/html": [
       "<pre style=\"white-space:pre;overflow-x:auto;line-height:normal;font-family:Menlo,'DejaVu Sans Mono',consolas,'Courier New',monospace\"><span style=\"color: #7fbfbf; text-decoration-color: #7fbfbf\">                    </span><span style=\"color: #000080; text-decoration-color: #000080\">INFO    </span> ToolkitTask 1f7542ddb23d49f78d2b8a7e9cca72ac                                          \n",
       "<span style=\"color: #7fbfbf; text-decoration-color: #7fbfbf\">                    </span>         Input: Can you suggest an optimal distribution?                                       \n",
       "</pre>\n"
      ],
      "text/plain": [
       "\u001b[2;36m                   \u001b[0m\u001b[2;36m \u001b[0m\u001b[34mINFO    \u001b[0m ToolkitTask 1f7542ddb23d49f78d2b8a7e9cca72ac                                          \n",
       "\u001b[2;36m                    \u001b[0m         Input: Can you suggest an optimal distribution?                                       \n"
      ]
     },
     "metadata": {},
     "output_type": "display_data"
    },
    {
     "name": "stderr",
     "output_type": "stream",
     "text": [
      "WARNING:root:<RetryCallState 140460971466256: attempt #1; slept for 0.0; last result: failed (RateLimitError Rate limit reached for 10KTPM-200RPM in organization org-lJzn8UVqpPw5xjPRDo2LWrkb on tokens per min. Limit: 10000 / min. Please try again in 6ms. Contact us through our help center at help.openai.com if you continue to have issues.)>\n",
      "WARNING:root:<RetryCallState 140460971466256: attempt #2; slept for 2.0; last result: failed (RateLimitError Rate limit reached for 10KTPM-200RPM in organization org-lJzn8UVqpPw5xjPRDo2LWrkb on tokens per min. Limit: 10000 / min. Please try again in 6ms. Contact us through our help center at help.openai.com if you continue to have issues.)>\n",
      "WARNING:root:<RetryCallState 140460971466256: attempt #3; slept for 4.0; last result: failed (RateLimitError Rate limit reached for 10KTPM-200RPM in organization org-lJzn8UVqpPw5xjPRDo2LWrkb on tokens per min. Limit: 10000 / min. Please try again in 6ms. Contact us through our help center at help.openai.com if you continue to have issues.)>\n"
     ]
    },
    {
     "data": {
      "text/html": [
       "<pre style=\"white-space:pre;overflow-x:auto;line-height:normal;font-family:Menlo,'DejaVu Sans Mono',consolas,'Courier New',monospace\"><span style=\"color: #7fbfbf; text-decoration-color: #7fbfbf\">[10/01/23 21:12:22] </span><span style=\"color: #000080; text-decoration-color: #000080\">INFO    </span> ToolkitTask 1f7542ddb23d49f78d2b8a7e9cca72ac                                          \n",
       "<span style=\"color: #7fbfbf; text-decoration-color: #7fbfbf\">                    </span>         Output: Absolutely! As a Cleric, your most important ability score is Wisdom, as it   \n",
       "<span style=\"color: #7fbfbf; text-decoration-color: #7fbfbf\">                    </span>         affects your spellcasting ability. You'll also want a decent Constitution score for   \n",
       "<span style=\"color: #7fbfbf; text-decoration-color: #7fbfbf\">                    </span>         more hit points, and a good Strength or Dexterity score depending on whether you want \n",
       "<span style=\"color: #7fbfbf; text-decoration-color: #7fbfbf\">                    </span>         to focus on melee or ranged combat.                                                   \n",
       "<span style=\"color: #7fbfbf; text-decoration-color: #7fbfbf\">                    </span>                                                                                               \n",
       "<span style=\"color: #7fbfbf; text-decoration-color: #7fbfbf\">                    </span>         Here's a suggested distribution:                                                      \n",
       "<span style=\"color: #7fbfbf; text-decoration-color: #7fbfbf\">                    </span>                                                                                               \n",
       "<span style=\"color: #7fbfbf; text-decoration-color: #7fbfbf\">                    </span>         - Wisdom: <span style=\"color: #008080; text-decoration-color: #008080; font-weight: bold\">15</span> <span style=\"font-weight: bold\">(</span><span style=\"color: #008080; text-decoration-color: #008080; font-weight: bold\">9</span> points<span style=\"font-weight: bold\">)</span>                                                               \n",
       "<span style=\"color: #7fbfbf; text-decoration-color: #7fbfbf\">                    </span>         - Constitution: <span style=\"color: #008080; text-decoration-color: #008080; font-weight: bold\">14</span> <span style=\"font-weight: bold\">(</span><span style=\"color: #008080; text-decoration-color: #008080; font-weight: bold\">7</span> points<span style=\"font-weight: bold\">)</span>                                                         \n",
       "<span style=\"color: #7fbfbf; text-decoration-color: #7fbfbf\">                    </span>         - Strength: <span style=\"color: #008080; text-decoration-color: #008080; font-weight: bold\">13</span> <span style=\"font-weight: bold\">(</span><span style=\"color: #008080; text-decoration-color: #008080; font-weight: bold\">5</span> points<span style=\"font-weight: bold\">)</span>                                                             \n",
       "<span style=\"color: #7fbfbf; text-decoration-color: #7fbfbf\">                    </span>         - Dexterity: <span style=\"color: #008080; text-decoration-color: #008080; font-weight: bold\">10</span> <span style=\"font-weight: bold\">(</span><span style=\"color: #008080; text-decoration-color: #008080; font-weight: bold\">2</span> points<span style=\"font-weight: bold\">)</span>                                                            \n",
       "<span style=\"color: #7fbfbf; text-decoration-color: #7fbfbf\">                    </span>         - Intelligence: <span style=\"color: #008080; text-decoration-color: #008080; font-weight: bold\">8</span> <span style=\"font-weight: bold\">(</span><span style=\"color: #008080; text-decoration-color: #008080; font-weight: bold\">0</span> points<span style=\"font-weight: bold\">)</span>                                                          \n",
       "<span style=\"color: #7fbfbf; text-decoration-color: #7fbfbf\">                    </span>         - Charisma: <span style=\"color: #008080; text-decoration-color: #008080; font-weight: bold\">8</span> <span style=\"font-weight: bold\">(</span><span style=\"color: #008080; text-decoration-color: #008080; font-weight: bold\">0</span> points<span style=\"font-weight: bold\">)</span>                                                              \n",
       "<span style=\"color: #7fbfbf; text-decoration-color: #7fbfbf\">                    </span>                                                                                               \n",
       "<span style=\"color: #7fbfbf; text-decoration-color: #7fbfbf\">                    </span>         This leaves you with <span style=\"color: #008080; text-decoration-color: #008080; font-weight: bold\">4</span> points left over. You could increase your Dexterity for better \n",
       "<span style=\"color: #7fbfbf; text-decoration-color: #7fbfbf\">                    </span>         Armor Class and initiative, or your Strength for better melee attacks. Alternatively, \n",
       "<span style=\"color: #7fbfbf; text-decoration-color: #7fbfbf\">                    </span>         you could increase your Charisma or Intelligence if you want to be more versatile in  \n",
       "<span style=\"color: #7fbfbf; text-decoration-color: #7fbfbf\">                    </span>         social situations or knowledge checks.                                                \n",
       "<span style=\"color: #7fbfbf; text-decoration-color: #7fbfbf\">                    </span>                                                                                               \n",
       "<span style=\"color: #7fbfbf; text-decoration-color: #7fbfbf\">                    </span>         Does this distribution look good to you?                                              \n",
       "</pre>\n"
      ],
      "text/plain": [
       "\u001b[2;36m[10/01/23 21:12:22]\u001b[0m\u001b[2;36m \u001b[0m\u001b[34mINFO    \u001b[0m ToolkitTask 1f7542ddb23d49f78d2b8a7e9cca72ac                                          \n",
       "\u001b[2;36m                    \u001b[0m         Output: Absolutely! As a Cleric, your most important ability score is Wisdom, as it   \n",
       "\u001b[2;36m                    \u001b[0m         affects your spellcasting ability. You'll also want a decent Constitution score for   \n",
       "\u001b[2;36m                    \u001b[0m         more hit points, and a good Strength or Dexterity score depending on whether you want \n",
       "\u001b[2;36m                    \u001b[0m         to focus on melee or ranged combat.                                                   \n",
       "\u001b[2;36m                    \u001b[0m                                                                                               \n",
       "\u001b[2;36m                    \u001b[0m         Here's a suggested distribution:                                                      \n",
       "\u001b[2;36m                    \u001b[0m                                                                                               \n",
       "\u001b[2;36m                    \u001b[0m         - Wisdom: \u001b[1;36m15\u001b[0m \u001b[1m(\u001b[0m\u001b[1;36m9\u001b[0m points\u001b[1m)\u001b[0m                                                               \n",
       "\u001b[2;36m                    \u001b[0m         - Constitution: \u001b[1;36m14\u001b[0m \u001b[1m(\u001b[0m\u001b[1;36m7\u001b[0m points\u001b[1m)\u001b[0m                                                         \n",
       "\u001b[2;36m                    \u001b[0m         - Strength: \u001b[1;36m13\u001b[0m \u001b[1m(\u001b[0m\u001b[1;36m5\u001b[0m points\u001b[1m)\u001b[0m                                                             \n",
       "\u001b[2;36m                    \u001b[0m         - Dexterity: \u001b[1;36m10\u001b[0m \u001b[1m(\u001b[0m\u001b[1;36m2\u001b[0m points\u001b[1m)\u001b[0m                                                            \n",
       "\u001b[2;36m                    \u001b[0m         - Intelligence: \u001b[1;36m8\u001b[0m \u001b[1m(\u001b[0m\u001b[1;36m0\u001b[0m points\u001b[1m)\u001b[0m                                                          \n",
       "\u001b[2;36m                    \u001b[0m         - Charisma: \u001b[1;36m8\u001b[0m \u001b[1m(\u001b[0m\u001b[1;36m0\u001b[0m points\u001b[1m)\u001b[0m                                                              \n",
       "\u001b[2;36m                    \u001b[0m                                                                                               \n",
       "\u001b[2;36m                    \u001b[0m         This leaves you with \u001b[1;36m4\u001b[0m points left over. You could increase your Dexterity for better \n",
       "\u001b[2;36m                    \u001b[0m         Armor Class and initiative, or your Strength for better melee attacks. Alternatively, \n",
       "\u001b[2;36m                    \u001b[0m         you could increase your Charisma or Intelligence if you want to be more versatile in  \n",
       "\u001b[2;36m                    \u001b[0m         social situations or knowledge checks.                                                \n",
       "\u001b[2;36m                    \u001b[0m                                                                                               \n",
       "\u001b[2;36m                    \u001b[0m         Does this distribution look good to you?                                              \n"
      ]
     },
     "metadata": {},
     "output_type": "display_data"
    }
   ],
   "source": [
    "response = conv.run(\"Can you suggest an optimal distribution?\")"
   ]
  },
  {
   "cell_type": "code",
   "execution_count": null,
   "id": "28cadf55-2a8e-498a-a062-89fb2e2cc934",
   "metadata": {},
   "outputs": [
    {
     "data": {
      "text/html": [
       "<pre style=\"white-space:pre;overflow-x:auto;line-height:normal;font-family:Menlo,'DejaVu Sans Mono',consolas,'Courier New',monospace\"><span style=\"color: #7fbfbf; text-decoration-color: #7fbfbf\">                    </span><span style=\"color: #000080; text-decoration-color: #000080\">INFO    </span> ToolkitTask 1f7542ddb23d49f78d2b8a7e9cca72ac                                          \n",
       "<span style=\"color: #7fbfbf; text-decoration-color: #7fbfbf\">                    </span>         Input: I'd like to be a more socially oriented cleric                                 \n",
       "</pre>\n"
      ],
      "text/plain": [
       "\u001b[2;36m                   \u001b[0m\u001b[2;36m \u001b[0m\u001b[34mINFO    \u001b[0m ToolkitTask 1f7542ddb23d49f78d2b8a7e9cca72ac                                          \n",
       "\u001b[2;36m                    \u001b[0m         Input: I'd like to be a more socially oriented cleric                                 \n"
      ]
     },
     "metadata": {},
     "output_type": "display_data"
    },
    {
     "name": "stderr",
     "output_type": "stream",
     "text": [
      "WARNING:root:<RetryCallState 140462325883728: attempt #1; slept for 0.0; last result: failed (RateLimitError Rate limit reached for 10KTPM-200RPM in organization org-lJzn8UVqpPw5xjPRDo2LWrkb on tokens per min. Limit: 10000 / min. Please try again in 6ms. Contact us through our help center at help.openai.com if you continue to have issues.)>\n",
      "WARNING:root:<RetryCallState 140462325883728: attempt #2; slept for 2.0; last result: failed (RateLimitError Rate limit reached for 10KTPM-200RPM in organization org-lJzn8UVqpPw5xjPRDo2LWrkb on tokens per min. Limit: 10000 / min. Please try again in 6ms. Contact us through our help center at help.openai.com if you continue to have issues.)>\n"
     ]
    }
   ],
   "source": [
    "response = conv.run(\"I'd like to be a more socially oriented cleric\")"
   ]
  },
  {
   "cell_type": "code",
   "execution_count": null,
   "id": "1d0cccb1-36eb-4d7c-8e8d-c3ae9266802f",
   "metadata": {},
   "outputs": [],
   "source": [
    "response = conv.run(\"Yeah, that looks great.\")"
   ]
  },
  {
   "cell_type": "code",
   "execution_count": null,
   "id": "da56e6fb-db47-49da-b5ce-edfd967dac95",
   "metadata": {},
   "outputs": [],
   "source": [
    "print(conv.character_sheet.race)\n",
    "print(conv.character_sheet.class_)\n",
    "print(conv.character_sheet.hit_point_max)\n",
    "print(conv.character_sheet.saving_throw_proficiencies)\n",
    "print(conv.character_sheet.final_ability_scores)"
   ]
  }
 ],
 "metadata": {
  "kernelspec": {
   "display_name": "Python 3 (ipykernel)",
   "language": "python",
   "name": "python3"
  },
  "language_info": {
   "codemirror_mode": {
    "name": "ipython",
    "version": 3
   },
   "file_extension": ".py",
   "mimetype": "text/x-python",
   "name": "python",
   "nbconvert_exporter": "python",
   "pygments_lexer": "ipython3",
   "version": "3.11.5"
  }
 },
 "nbformat": 4,
 "nbformat_minor": 5
}
