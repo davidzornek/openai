{
 "cells": [
  {
   "cell_type": "code",
   "execution_count": 1,
   "id": "802c2890-4a0b-4fda-ae49-993e1bb47398",
   "metadata": {},
   "outputs": [],
   "source": [
    "import logging\n",
    "from dotenv import load_dotenv\n",
    "\n",
    "load_dotenv()\n",
    "\n",
    "from openai_dm.conversation import CharacterCreationConversation"
   ]
  },
  {
   "cell_type": "code",
   "execution_count": 2,
   "id": "fa1d88fb-e307-4e4c-be1b-3390caec2323",
   "metadata": {},
   "outputs": [
    {
     "name": "stdout",
     "output_type": "stream",
     "text": [
      "Hello! I am your Dungeon Master, here to assist you with character creation for our 5e campaign. In this campaign, we will be exploring a standard fantasy world, similar to the Forgotten Realms or Lord of the Rings. Are you ready to begin creating your character?\n"
     ]
    }
   ],
   "source": [
    "conv = CharacterCreationConversation(logger_level=logging.ERROR)"
   ]
  },
  {
   "cell_type": "code",
   "execution_count": 3,
   "id": "a7b6bf76-e825-4efb-b8dd-dae46f0e0eeb",
   "metadata": {},
   "outputs": [
    {
     "name": "stdout",
     "output_type": "stream",
     "text": [
      "Great! Let's start with the first step: choosing a race. Your race will determine your character's physical traits, abilities, and sometimes even their place in the world. There are several races to choose from, each with their own unique characteristics. Here are the options:\n",
      "\n",
      "1. Dwarf: Dwarves are stout and tough, known for their craftsmanship and resilience.\n",
      "2. Elf: Elves are graceful and long-lived, with a deep connection to nature and a talent for magic.\n",
      "3. Halfling: Halflings are small and nimble, often living in close-knit communities and possessing a natural talent for stealth.\n",
      "4. Human: Humans are adaptable and diverse, found in all corners of the world and excelling in a variety of professions.\n",
      "5. Dragonborn: Dragonborn are humanoid creatures with dragon-like features, known for their strength and breath weapons.\n",
      "6. Gnome: Gnomes are small and curious, with a knack for tinkering and a love for illusions and pranks.\n",
      "7. Half-Elf: Half-Elves are a mix of human and elf, inheriting the best traits of both races, including their versatility and charm.\n",
      "8. Half-Orc: Half-Orcs are a blend of human and orc, often possessing great physical strength and resilience.\n",
      "9. Tiefling: Tieflings have infernal heritage, with demonic features and a natural affinity for magic.\n",
      "\n",
      "Take your time to read through the options and let me know which race you would like to choose.\n"
     ]
    }
   ],
   "source": [
    "response = conv.run(\"Sure am!\")"
   ]
  },
  {
   "cell_type": "code",
   "execution_count": 4,
   "id": "b3374026-5588-4e3a-8e6f-e358692dfd94",
   "metadata": {},
   "outputs": [
    {
     "name": "stdout",
     "output_type": "stream",
     "text": [
      "If you're looking for something mysterious, you might consider playing as an Elf or a Tiefling. Elves have an air of mystique about them, with their long lives, connection to nature, and affinity for magic. Tieflings, on the other hand, have infernal heritage and possess unique demonic features, making them intriguing and enigmatic.\n",
      "\n",
      "Which of these two races piques your interest the most?\n"
     ]
    }
   ],
   "source": [
    "response = conv.run(\"I want to be something mysterious.\")"
   ]
  },
  {
   "cell_type": "code",
   "execution_count": 5,
   "id": "2f5d7b50-436e-4504-8a98-c4c4b434de55",
   "metadata": {},
   "outputs": [
    {
     "name": "stdout",
     "output_type": "stream",
     "text": [
      "Tieflings can excel in a variety of classes due to their racial traits. Their natural affinity for magic and their ability to resist fire damage make them well-suited for spellcasting classes. Here are a few classes that work particularly well with Tieflings:\n",
      "\n",
      "1. Sorcerer: Tieflings have a natural inclination towards magic, making them excellent sorcerers. Their racial ability score bonuses to Charisma can enhance their spellcasting abilities.\n",
      "\n",
      "2. Warlock: Tieflings' infernal heritage aligns well with the themes of the Warlock class. Their racial ability score bonuses to Charisma can boost their spellcasting and their innate spellcasting ability, Hellish Rebuke, can be a powerful tool.\n",
      "\n",
      "3. Bard: Tieflings' natural charm and affinity for magic make them great bards. Their racial ability score bonuses to Charisma can enhance their spellcasting and their racial spells, such as Thaumaturgy, can add to their repertoire.\n",
      "\n",
      "4. Rogue: While not a spellcasting class, Tieflings' racial ability score bonuses to Dexterity can make them excellent rogues. Their innate spellcasting ability, Darkness, can also be useful for sneaking around.\n",
      "\n",
      "Of course, these are just suggestions, and you are free to choose any class that appeals to you. Let me know if any of these options stand out to you, or if you have any other questions!\n"
     ]
    }
   ],
   "source": [
    "response = conv.run(\"What classes generally work well with Tieflings?\")"
   ]
  },
  {
   "cell_type": "code",
   "execution_count": 6,
   "id": "1ff38cea-d5cc-4522-8d26-282fbef19052",
   "metadata": {},
   "outputs": [
    {
     "name": "stdout",
     "output_type": "stream",
     "text": [
      "A Tiefling Paladin can be a fascinating and unique character choice! While not the most common combination, it can create an intriguing backstory and provide interesting role-playing opportunities. As a Paladin, you will be a holy warrior, upholding justice and righteousness while wielding divine magic.\n",
      "\n",
      "Tieflings have a natural inclination towards magic, and their racial ability score bonuses to Charisma can enhance your Paladin's spellcasting abilities. Additionally, Tieflings' resistance to fire damage can be beneficial in combat situations.\n",
      "\n",
      "Paladins are known for their strong melee combat abilities, their divine spellcasting, and their ability to smite their enemies with radiant damage. They are often seen as champions of their chosen deity or cause, and their Oath determines their specific focus and abilities.\n",
      "\n",
      "If you're interested in playing a Tiefling Paladin, it can be a compelling and unique character choice. Let me know if you have any questions or if you'd like to proceed with creating your Tiefling Paladin!\n"
     ]
    }
   ],
   "source": [
    "response = conv.run(\"Hmm... I was thinking about being a palading, though.\")"
   ]
  },
  {
   "cell_type": "code",
   "execution_count": 7,
   "id": "5f711591-638a-432f-b97d-a35f900769d2",
   "metadata": {},
   "outputs": [
    {
     "name": "stdout",
     "output_type": "stream",
     "text": [
      "Great! I have updated your character sheet with your chosen race of Tiefling. As a Tiefling, you will receive a +1 bonus to Intelligence and a +2 bonus to Charisma. These racial bonuses will enhance your character's abilities in those areas.\n",
      "\n",
      "Now that we have your race selected, let's move on to the next step: choosing a class. What class would you like your Tiefling character to be?\n"
     ]
    }
   ],
   "source": [
    "response = conv.run(\"ok, I'll be a tiefling.\")"
   ]
  },
  {
   "cell_type": "code",
   "execution_count": 8,
   "id": "94ff52a7-5fa9-4ee4-bc3b-23b7ae062ca3",
   "metadata": {},
   "outputs": [
    {
     "name": "stdout",
     "output_type": "stream",
     "text": [
      "tiefling\n",
      "AbilityScores(strength=0, dexterity=0, constitution=0, intelligence=1, wisdom=0, charisma=2)\n"
     ]
    }
   ],
   "source": [
    "print(conv.character_sheet.race)\n",
    "print(conv.character_sheet.racial_ability_bonus)"
   ]
  }
 ],
 "metadata": {
  "kernelspec": {
   "display_name": "Python 3 (ipykernel)",
   "language": "python",
   "name": "python3"
  },
  "language_info": {
   "codemirror_mode": {
    "name": "ipython",
    "version": 3
   },
   "file_extension": ".py",
   "mimetype": "text/x-python",
   "name": "python",
   "nbconvert_exporter": "python",
   "pygments_lexer": "ipython3",
   "version": "3.11.6"
  }
 },
 "nbformat": 4,
 "nbformat_minor": 5
}
