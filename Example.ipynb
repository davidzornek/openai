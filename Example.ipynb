{
 "cells": [
  {
   "cell_type": "code",
   "execution_count": 1,
   "id": "802c2890-4a0b-4fda-ae49-993e1bb47398",
   "metadata": {},
   "outputs": [],
   "source": [
    "import logging\n",
    "from dotenv import load_dotenv\n",
    "\n",
    "load_dotenv()\n",
    "\n",
    "from openai_dm.conversation import CharacterCreationConversation"
   ]
  },
  {
   "cell_type": "code",
   "execution_count": 2,
   "id": "fa1d88fb-e307-4e4c-be1b-3390caec2323",
   "metadata": {},
   "outputs": [
    {
     "name": "stdout",
     "output_type": "stream",
     "text": [
      "Hello! I am your Dungeon Master, here to assist you with character creation for our 5e campaign. In this campaign, we will be exploring a standard fantasy world, similar to the Forgotten Realms or Lord of the Rings. Are you ready to begin creating your character?\n"
     ]
    }
   ],
   "source": [
    "conv = CharacterCreationConversation(logger_level=logging.ERROR)"
   ]
  },
  {
   "cell_type": "code",
   "execution_count": 3,
   "id": "a7b6bf76-e825-4efb-b8dd-dae46f0e0eeb",
   "metadata": {},
   "outputs": [
    {
     "name": "stdout",
     "output_type": "stream",
     "text": [
      "Great! Let's start with the first step: choosing a race. Your race will determine your character's physical traits, abilities, and sometimes even their place in the world. There are several races to choose from, each with their own unique characteristics. Here are the options:\n",
      "\n",
      "1. Dwarf: Dwarves are stout and tough, known for their craftsmanship and resilience.\n",
      "2. Elf: Elves are graceful and long-lived, with a deep connection to nature and a talent for magic.\n",
      "3. Halfling: Halflings are small and nimble, often living in close-knit communities and possessing a natural talent for stealth.\n",
      "4. Human: Humans are adaptable and diverse, found in all corners of the world and excelling in a variety of professions.\n",
      "5. Dragonborn: Dragonborn are humanoid creatures with dragon-like features, known for their strength and breath weapons.\n",
      "6. Gnome: Gnomes are small and curious, with a knack for tinkering and a love for illusions and pranks.\n",
      "7. Half-Elf: Half-Elves are a mix of human and elf, inheriting the best traits of both races, including their versatility and charm.\n",
      "8. Half-Orc: Half-Orcs are a blend of human and orc, often possessing great physical strength and resilience.\n",
      "9. Tiefling: Tieflings have infernal heritage, with demonic features and a natural affinity for magic.\n",
      "\n",
      "Take your time to read through the options and let me know which race you would like to choose.\n"
     ]
    }
   ],
   "source": [
    "response = conv.run(\"Sure am!\")"
   ]
  },
  {
   "cell_type": "code",
   "execution_count": 4,
   "id": "b3374026-5588-4e3a-8e6f-e358692dfd94",
   "metadata": {},
   "outputs": [
    {
     "name": "stdout",
     "output_type": "stream",
     "text": [
      "A paladin can be a great choice for several races, as they combine martial prowess with divine magic. Here are a few races that make excellent paladins:\n",
      "\n",
      "1. Human: Humans are versatile and adaptable, making them a solid choice for any class, including paladins. They have no specific racial bonuses, but their flexibility allows them to excel in various aspects of being a paladin.\n",
      "\n",
      "2. Dragonborn: Dragonborn have a natural affinity for strength and combat, making them formidable paladins. They gain bonuses to Strength and Charisma, which are both important for paladins.\n",
      "\n",
      "3. Half-Elf: Half-Elves make excellent paladins due to their versatility and charm. They gain bonuses to Charisma, which is crucial for a paladin's spellcasting and social interactions.\n",
      "\n",
      "4. Tiefling: Tieflings have a unique and intriguing background, making them an interesting choice for a paladin. They gain bonuses to Charisma and Intelligence, which can be useful for spellcasting and role-playing.\n",
      "\n",
      "These are just a few suggestions, but ultimately, the choice of race for your paladin depends on the character concept you have in mind. Do any of these races appeal to you for your paladin character?\n"
     ]
    }
   ],
   "source": [
    "response = conv.run(\"What race would make a good paladin?\")"
   ]
  },
  {
   "cell_type": "code",
   "execution_count": 5,
   "id": "47302d54-5e0f-4363-a4a5-39d20f22b365",
   "metadata": {},
   "outputs": [
    {
     "name": "stdout",
     "output_type": "stream",
     "text": [
      "Great! I have updated your character sheet with the selection of Tiefling as your race. Now, let's move on to choosing your class. Your class will determine your character's abilities, skills, and playstyle. Here are the available classes to choose from:\n",
      "\n",
      "1. Barbarian: A fierce warrior who relies on brute strength and primal rage.\n",
      "2. Bard: A versatile performer and spellcaster who uses their music and charm to inspire and manipulate.\n",
      "3. Cleric: A holy warrior and spellcaster who channels divine power to heal and protect.\n",
      "4. Druid: A nature-focused spellcaster who can shape-shift into animals and harness the power of the natural world.\n",
      "5. Fighter: A skilled warrior who excels in combat and can specialize in various fighting styles.\n",
      "6. Monk: A disciplined martial artist who harnesses their body and mind to achieve extraordinary feats.\n",
      "7. Paladin: A holy knight who combines martial prowess with divine magic to smite evil and protect the innocent.\n",
      "8. Ranger: A skilled tracker and survivalist who specializes in ranged combat and nature-based abilities.\n",
      "9. Rogue: A stealthy and cunning character who excels in skills, subterfuge, and dealing sneak attacks.\n",
      "10. Sorcerer: A spellcaster who draws magic from their innate bloodline, allowing them to cast spells with raw power.\n",
      "11. Warlock: A spellcaster who forms a pact with a powerful entity, gaining access to eldritch magic.\n",
      "12. Wizard: A scholarly spellcaster who studies arcane knowledge and can cast a wide variety of spells.\n",
      "\n",
      "Take your time to read through the options and think about the type of character you want to play. Once you have made your decision, let me know which class you would like to choose.\n"
     ]
    }
   ],
   "source": [
    "response = conv.run(\"I'll be a tiefling?\")"
   ]
  },
  {
   "cell_type": "code",
   "execution_count": 6,
   "id": "94ff52a7-5fa9-4ee4-bc3b-23b7ae062ca3",
   "metadata": {},
   "outputs": [
    {
     "name": "stdout",
     "output_type": "stream",
     "text": [
      "tiefling\n",
      "AbilityScores(strength=0, dexterity=0, constitution=0, intelligence=1, wisdom=0, charisma=2)\n"
     ]
    }
   ],
   "source": [
    "print(conv.character_sheet.race)\n",
    "print(conv.character_sheet.racial_ability_bonus)"
   ]
  }
 ],
 "metadata": {
  "kernelspec": {
   "display_name": "Python 3 (ipykernel)",
   "language": "python",
   "name": "python3"
  },
  "language_info": {
   "codemirror_mode": {
    "name": "ipython",
    "version": 3
   },
   "file_extension": ".py",
   "mimetype": "text/x-python",
   "name": "python",
   "nbconvert_exporter": "python",
   "pygments_lexer": "ipython3",
   "version": "3.11.6"
  }
 },
 "nbformat": 4,
 "nbformat_minor": 5
}
