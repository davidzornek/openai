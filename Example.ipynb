{
 "cells": [
  {
   "cell_type": "code",
   "execution_count": 1,
   "id": "4fbc9645-d882-4382-9e3d-1cf67998bd99",
   "metadata": {},
   "outputs": [
    {
     "data": {
      "text/plain": [
       "True"
      ]
     },
     "execution_count": 1,
     "metadata": {},
     "output_type": "execute_result"
    }
   ],
   "source": [
    "from openai_dm.nodes import *\n",
    "from openai_dm.conversation import *\n",
    "\n",
    "import openai\n",
    "from dotenv import load_dotenv\n",
    "load_dotenv()"
   ]
  },
  {
   "cell_type": "code",
   "execution_count": 2,
   "id": "b0377b8b-5a3d-4a2b-b632-4b92de10a424",
   "metadata": {},
   "outputs": [
    {
     "name": "stdout",
     "output_type": "stream",
     "text": [
      "I'm the assistant DM, here to help with character creation.\n",
      "            Let's start with choosing a race\n"
     ]
    },
    {
     "data": {
      "text/html": [
       "<pre style=\"white-space:pre;overflow-x:auto;line-height:normal;font-family:Menlo,'DejaVu Sans Mono',consolas,'Courier New',monospace\"><span style=\"color: #7fbfbf; text-decoration-color: #7fbfbf\">[10/01/23 02:00:43] </span><span style=\"color: #000080; text-decoration-color: #000080\">INFO    </span> ToolkitTask 8b2676c289404107b1ba0831e6feae13                                          \n",
       "<span style=\"color: #7fbfbf; text-decoration-color: #7fbfbf\">                    </span>         Input:                                                                                \n",
       "<span style=\"color: #7fbfbf; text-decoration-color: #7fbfbf\">                    </span>                     Introduce yourself to the user and tell them which part                   \n",
       "<span style=\"color: #7fbfbf; text-decoration-color: #7fbfbf\">                    </span>                     of character creation we're working on.                                   \n",
       "<span style=\"color: #7fbfbf; text-decoration-color: #7fbfbf\">                    </span>                                                                                               \n",
       "</pre>\n"
      ],
      "text/plain": [
       "\u001b[2;36m[10/01/23 02:00:43]\u001b[0m\u001b[2;36m \u001b[0m\u001b[34mINFO    \u001b[0m ToolkitTask 8b2676c289404107b1ba0831e6feae13                                          \n",
       "\u001b[2;36m                    \u001b[0m         Input:                                                                                \n",
       "\u001b[2;36m                    \u001b[0m                     Introduce yourself to the user and tell them which part                   \n",
       "\u001b[2;36m                    \u001b[0m                     of character creation we're working on.                                   \n",
       "\u001b[2;36m                    \u001b[0m                                                                                               \n"
      ]
     },
     "metadata": {},
     "output_type": "display_data"
    },
    {
     "data": {
      "text/html": [
       "<pre style=\"white-space:pre;overflow-x:auto;line-height:normal;font-family:Menlo,'DejaVu Sans Mono',consolas,'Courier New',monospace\"><span style=\"color: #7fbfbf; text-decoration-color: #7fbfbf\">[10/01/23 02:00:46] </span><span style=\"color: #000080; text-decoration-color: #000080\">INFO    </span> ToolkitTask 8b2676c289404107b1ba0831e6feae13                                          \n",
       "<span style=\"color: #7fbfbf; text-decoration-color: #7fbfbf\">                    </span>         Output: Hello! I'm your Dungeon Master for this 5e campaign. Right now, we're working \n",
       "<span style=\"color: #7fbfbf; text-decoration-color: #7fbfbf\">                    </span>         on choosing a race for your character.                                                \n",
       "</pre>\n"
      ],
      "text/plain": [
       "\u001b[2;36m[10/01/23 02:00:46]\u001b[0m\u001b[2;36m \u001b[0m\u001b[34mINFO    \u001b[0m ToolkitTask 8b2676c289404107b1ba0831e6feae13                                          \n",
       "\u001b[2;36m                    \u001b[0m         Output: Hello! I'm your Dungeon Master for this 5e campaign. Right now, we're working \n",
       "\u001b[2;36m                    \u001b[0m         on choosing a race for your character.                                                \n"
      ]
     },
     "metadata": {},
     "output_type": "display_data"
    },
    {
     "data": {
      "text/html": [
       "<pre style=\"white-space:pre;overflow-x:auto;line-height:normal;font-family:Menlo,'DejaVu Sans Mono',consolas,'Courier New',monospace\"><span style=\"color: #7fbfbf; text-decoration-color: #7fbfbf\">                    </span><span style=\"color: #000080; text-decoration-color: #000080\">INFO    </span> ToolkitTask 8b2676c289404107b1ba0831e6feae13                                          \n",
       "<span style=\"color: #7fbfbf; text-decoration-color: #7fbfbf\">                    </span>         Input: introduce yourself.                                                            \n",
       "</pre>\n"
      ],
      "text/plain": [
       "\u001b[2;36m                   \u001b[0m\u001b[2;36m \u001b[0m\u001b[34mINFO    \u001b[0m ToolkitTask 8b2676c289404107b1ba0831e6feae13                                          \n",
       "\u001b[2;36m                    \u001b[0m         Input: introduce yourself.                                                            \n"
      ]
     },
     "metadata": {},
     "output_type": "display_data"
    },
    {
     "data": {
      "text/html": [
       "<pre style=\"white-space:pre;overflow-x:auto;line-height:normal;font-family:Menlo,'DejaVu Sans Mono',consolas,'Courier New',monospace\"><span style=\"color: #7fbfbf; text-decoration-color: #7fbfbf\">[10/01/23 02:00:49] </span><span style=\"color: #000080; text-decoration-color: #000080\">INFO    </span> ToolkitTask 8b2676c289404107b1ba0831e6feae13                                          \n",
       "<span style=\"color: #7fbfbf; text-decoration-color: #7fbfbf\">                    </span>         Output: Hello! I'm your Dungeon Master for this 5e campaign. We're currently in the   \n",
       "<span style=\"color: #7fbfbf; text-decoration-color: #7fbfbf\">                    </span>         process of creating your character. At this stage, we're focusing on selecting a race \n",
       "<span style=\"color: #7fbfbf; text-decoration-color: #7fbfbf\">                    </span>         for your character.                                                                   \n",
       "</pre>\n"
      ],
      "text/plain": [
       "\u001b[2;36m[10/01/23 02:00:49]\u001b[0m\u001b[2;36m \u001b[0m\u001b[34mINFO    \u001b[0m ToolkitTask 8b2676c289404107b1ba0831e6feae13                                          \n",
       "\u001b[2;36m                    \u001b[0m         Output: Hello! I'm your Dungeon Master for this 5e campaign. We're currently in the   \n",
       "\u001b[2;36m                    \u001b[0m         process of creating your character. At this stage, we're focusing on selecting a race \n",
       "\u001b[2;36m                    \u001b[0m         for your character.                                                                   \n"
      ]
     },
     "metadata": {},
     "output_type": "display_data"
    }
   ],
   "source": [
    "conv = Conversation(500, gpt4=True)"
   ]
  },
  {
   "cell_type": "code",
   "execution_count": 3,
   "id": "6cd06ee8-a915-4a03-8bb2-ebc6dbbc8c83",
   "metadata": {},
   "outputs": [
    {
     "name": "stdout",
     "output_type": "stream",
     "text": [
      "None\n",
      "None\n"
     ]
    }
   ],
   "source": [
    "print(conv.character_sheet.race)\n",
    "print(conv.character_sheet.class_)"
   ]
  },
  {
   "cell_type": "code",
   "execution_count": 4,
   "id": "202a7a32-f1e0-4d2f-9df0-18bf7b606616",
   "metadata": {},
   "outputs": [
    {
     "data": {
      "text/html": [
       "<pre style=\"white-space:pre;overflow-x:auto;line-height:normal;font-family:Menlo,'DejaVu Sans Mono',consolas,'Courier New',monospace\"><span style=\"color: #7fbfbf; text-decoration-color: #7fbfbf\">                    </span><span style=\"color: #000080; text-decoration-color: #000080\">INFO    </span> ToolkitTask 8b2676c289404107b1ba0831e6feae13                                          \n",
       "<span style=\"color: #7fbfbf; text-decoration-color: #7fbfbf\">                    </span>         Input: What is a dragonborn                                                           \n",
       "</pre>\n"
      ],
      "text/plain": [
       "\u001b[2;36m                   \u001b[0m\u001b[2;36m \u001b[0m\u001b[34mINFO    \u001b[0m ToolkitTask 8b2676c289404107b1ba0831e6feae13                                          \n",
       "\u001b[2;36m                    \u001b[0m         Input: What is a dragonborn                                                           \n"
      ]
     },
     "metadata": {},
     "output_type": "display_data"
    },
    {
     "data": {
      "text/html": [
       "<pre style=\"white-space:pre;overflow-x:auto;line-height:normal;font-family:Menlo,'DejaVu Sans Mono',consolas,'Courier New',monospace\"><span style=\"color: #7fbfbf; text-decoration-color: #7fbfbf\">[10/01/23 02:00:57] </span><span style=\"color: #000080; text-decoration-color: #000080\">INFO    </span> ToolkitTask 8b2676c289404107b1ba0831e6feae13                                          \n",
       "<span style=\"color: #7fbfbf; text-decoration-color: #7fbfbf\">                    </span>         Output: A Dragonborn is a race in Dungeons &amp; Dragons 5e known for their draconic      \n",
       "<span style=\"color: #7fbfbf; text-decoration-color: #7fbfbf\">                    </span>         heritage. They are humanoid in form but have distinct dragon-like features such as    \n",
       "<span style=\"color: #7fbfbf; text-decoration-color: #7fbfbf\">                    </span>         scales, a broad snout, and powerful breath weapons that correspond to their dragon    \n",
       "<span style=\"color: #7fbfbf; text-decoration-color: #7fbfbf\">                    </span>         ancestry. Dragonborns are often proud, honorable, and they value the bonds of family  \n",
       "<span style=\"color: #7fbfbf; text-decoration-color: #7fbfbf\">                    </span>         and friendship.                                                                       \n",
       "<span style=\"color: #7fbfbf; text-decoration-color: #7fbfbf\">                    </span>                                                                                               \n",
       "<span style=\"color: #7fbfbf; text-decoration-color: #7fbfbf\">                    </span>         In terms of gameplay mechanics, Dragonborns have a +<span style=\"color: #008080; text-decoration-color: #008080; font-weight: bold\">2</span> bonus to Strength and a +<span style=\"color: #008080; text-decoration-color: #008080; font-weight: bold\">1</span> bonus\n",
       "<span style=\"color: #7fbfbf; text-decoration-color: #7fbfbf\">                    </span>         to Charisma. They also have a breath weapon and damage resistance based on their      \n",
       "<span style=\"color: #7fbfbf; text-decoration-color: #7fbfbf\">                    </span>         draconic ancestry.                                                                    \n",
       "</pre>\n"
      ],
      "text/plain": [
       "\u001b[2;36m[10/01/23 02:00:57]\u001b[0m\u001b[2;36m \u001b[0m\u001b[34mINFO    \u001b[0m ToolkitTask 8b2676c289404107b1ba0831e6feae13                                          \n",
       "\u001b[2;36m                    \u001b[0m         Output: A Dragonborn is a race in Dungeons & Dragons 5e known for their draconic      \n",
       "\u001b[2;36m                    \u001b[0m         heritage. They are humanoid in form but have distinct dragon-like features such as    \n",
       "\u001b[2;36m                    \u001b[0m         scales, a broad snout, and powerful breath weapons that correspond to their dragon    \n",
       "\u001b[2;36m                    \u001b[0m         ancestry. Dragonborns are often proud, honorable, and they value the bonds of family  \n",
       "\u001b[2;36m                    \u001b[0m         and friendship.                                                                       \n",
       "\u001b[2;36m                    \u001b[0m                                                                                               \n",
       "\u001b[2;36m                    \u001b[0m         In terms of gameplay mechanics, Dragonborns have a +\u001b[1;36m2\u001b[0m bonus to Strength and a +\u001b[1;36m1\u001b[0m bonus\n",
       "\u001b[2;36m                    \u001b[0m         to Charisma. They also have a breath weapon and damage resistance based on their      \n",
       "\u001b[2;36m                    \u001b[0m         draconic ancestry.                                                                    \n"
      ]
     },
     "metadata": {},
     "output_type": "display_data"
    }
   ],
   "source": [
    "response = conv.run(\"What is a dragonborn\")"
   ]
  },
  {
   "cell_type": "code",
   "execution_count": 5,
   "id": "c5b6665f-295f-44cf-9080-27626905e645",
   "metadata": {},
   "outputs": [
    {
     "data": {
      "text/html": [
       "<pre style=\"white-space:pre;overflow-x:auto;line-height:normal;font-family:Menlo,'DejaVu Sans Mono',consolas,'Courier New',monospace\"><span style=\"color: #7fbfbf; text-decoration-color: #7fbfbf\">                    </span><span style=\"color: #000080; text-decoration-color: #000080\">INFO    </span> ToolkitTask 8b2676c289404107b1ba0831e6feae13                                          \n",
       "<span style=\"color: #7fbfbf; text-decoration-color: #7fbfbf\">                    </span>         Input: Do dragonbon make good rogues?                                                 \n",
       "</pre>\n"
      ],
      "text/plain": [
       "\u001b[2;36m                   \u001b[0m\u001b[2;36m \u001b[0m\u001b[34mINFO    \u001b[0m ToolkitTask 8b2676c289404107b1ba0831e6feae13                                          \n",
       "\u001b[2;36m                    \u001b[0m         Input: Do dragonbon make good rogues?                                                 \n"
      ]
     },
     "metadata": {},
     "output_type": "display_data"
    },
    {
     "data": {
      "text/html": [
       "<pre style=\"white-space:pre;overflow-x:auto;line-height:normal;font-family:Menlo,'DejaVu Sans Mono',consolas,'Courier New',monospace\"><span style=\"color: #7fbfbf; text-decoration-color: #7fbfbf\">[10/01/23 02:01:06] </span><span style=\"color: #000080; text-decoration-color: #000080\">INFO    </span> ToolkitTask 8b2676c289404107b1ba0831e6feae13                                          \n",
       "<span style=\"color: #7fbfbf; text-decoration-color: #7fbfbf\">                    </span>         Output: Dragonborns can certainly be rogues, but they may not be the most optimized   \n",
       "<span style=\"color: #7fbfbf; text-decoration-color: #7fbfbf\">                    </span>         choice for this class. Dragonborns receive a +<span style=\"color: #008080; text-decoration-color: #008080; font-weight: bold\">2</span> bonus to Strength and a +<span style=\"color: #008080; text-decoration-color: #008080; font-weight: bold\">1</span> bonus to   \n",
       "<span style=\"color: #7fbfbf; text-decoration-color: #7fbfbf\">                    </span>         Charisma, neither of which are primary attributes for rogues who typically rely on    \n",
       "<span style=\"color: #7fbfbf; text-decoration-color: #7fbfbf\">                    </span>         Dexterity. However, the unique abilities of a Dragonborn, such as their breath weapon,\n",
       "<span style=\"color: #7fbfbf; text-decoration-color: #7fbfbf\">                    </span>         could add an interesting twist to the rogue's gameplay. Remember, in D&amp;D, the best    \n",
       "<span style=\"color: #7fbfbf; text-decoration-color: #7fbfbf\">                    </span>         character is the one you will enjoy playing the most, not necessarily the one that is \n",
       "<span style=\"color: #7fbfbf; text-decoration-color: #7fbfbf\">                    </span>         most optimized.                                                                       \n",
       "</pre>\n"
      ],
      "text/plain": [
       "\u001b[2;36m[10/01/23 02:01:06]\u001b[0m\u001b[2;36m \u001b[0m\u001b[34mINFO    \u001b[0m ToolkitTask 8b2676c289404107b1ba0831e6feae13                                          \n",
       "\u001b[2;36m                    \u001b[0m         Output: Dragonborns can certainly be rogues, but they may not be the most optimized   \n",
       "\u001b[2;36m                    \u001b[0m         choice for this class. Dragonborns receive a +\u001b[1;36m2\u001b[0m bonus to Strength and a +\u001b[1;36m1\u001b[0m bonus to   \n",
       "\u001b[2;36m                    \u001b[0m         Charisma, neither of which are primary attributes for rogues who typically rely on    \n",
       "\u001b[2;36m                    \u001b[0m         Dexterity. However, the unique abilities of a Dragonborn, such as their breath weapon,\n",
       "\u001b[2;36m                    \u001b[0m         could add an interesting twist to the rogue's gameplay. Remember, in D&D, the best    \n",
       "\u001b[2;36m                    \u001b[0m         character is the one you will enjoy playing the most, not necessarily the one that is \n",
       "\u001b[2;36m                    \u001b[0m         most optimized.                                                                       \n"
      ]
     },
     "metadata": {},
     "output_type": "display_data"
    }
   ],
   "source": [
    "response = conv.run(\"Do dragonbon make good rogues?\")"
   ]
  },
  {
   "cell_type": "code",
   "execution_count": 6,
   "id": "ef41e8f7-39ca-45a2-8037-8c43b8c994ee",
   "metadata": {},
   "outputs": [
    {
     "data": {
      "text/html": [
       "<pre style=\"white-space:pre;overflow-x:auto;line-height:normal;font-family:Menlo,'DejaVu Sans Mono',consolas,'Courier New',monospace\"><span style=\"color: #7fbfbf; text-decoration-color: #7fbfbf\">                    </span><span style=\"color: #000080; text-decoration-color: #000080\">INFO    </span> ToolkitTask 8b2676c289404107b1ba0831e6feae13                                          \n",
       "<span style=\"color: #7fbfbf; text-decoration-color: #7fbfbf\">                    </span>         Input: are halflings better rogues?                                                   \n",
       "</pre>\n"
      ],
      "text/plain": [
       "\u001b[2;36m                   \u001b[0m\u001b[2;36m \u001b[0m\u001b[34mINFO    \u001b[0m ToolkitTask 8b2676c289404107b1ba0831e6feae13                                          \n",
       "\u001b[2;36m                    \u001b[0m         Input: are halflings better rogues?                                                   \n"
      ]
     },
     "metadata": {},
     "output_type": "display_data"
    },
    {
     "data": {
      "text/html": [
       "<pre style=\"white-space:pre;overflow-x:auto;line-height:normal;font-family:Menlo,'DejaVu Sans Mono',consolas,'Courier New',monospace\"><span style=\"color: #7fbfbf; text-decoration-color: #7fbfbf\">[10/01/23 02:01:17] </span><span style=\"color: #000080; text-decoration-color: #000080\">INFO    </span> ToolkitTask 8b2676c289404107b1ba0831e6feae13                                          \n",
       "<span style=\"color: #7fbfbf; text-decoration-color: #7fbfbf\">                    </span>         Output: Yes, Halflings can make excellent rogues. They receive a +<span style=\"color: #008080; text-decoration-color: #008080; font-weight: bold\">2</span> bonus to          \n",
       "<span style=\"color: #7fbfbf; text-decoration-color: #7fbfbf\">                    </span>         Dexterity, which is the primary attribute for rogues in Dungeons &amp; Dragons 5e. This   \n",
       "<span style=\"color: #7fbfbf; text-decoration-color: #7fbfbf\">                    </span>         bonus can help with tasks like sneaking, picking locks, and hitting targets with      \n",
       "<span style=\"color: #7fbfbf; text-decoration-color: #7fbfbf\">                    </span>         ranged or finesse weapons, all of which are common activities for rogues.             \n",
       "<span style=\"color: #7fbfbf; text-decoration-color: #7fbfbf\">                    </span>         Additionally, Halflings have the <span style=\"color: #008000; text-decoration-color: #008000\">\"Lucky\"</span> trait, which allows them to reroll 1s on     \n",
       "<span style=\"color: #7fbfbf; text-decoration-color: #7fbfbf\">                    </span>         attack rolls, ability checks, or saving throws, and this can be particularly          \n",
       "<span style=\"color: #7fbfbf; text-decoration-color: #7fbfbf\">                    </span>         beneficial for a rogue.                                                               \n",
       "</pre>\n"
      ],
      "text/plain": [
       "\u001b[2;36m[10/01/23 02:01:17]\u001b[0m\u001b[2;36m \u001b[0m\u001b[34mINFO    \u001b[0m ToolkitTask 8b2676c289404107b1ba0831e6feae13                                          \n",
       "\u001b[2;36m                    \u001b[0m         Output: Yes, Halflings can make excellent rogues. They receive a +\u001b[1;36m2\u001b[0m bonus to          \n",
       "\u001b[2;36m                    \u001b[0m         Dexterity, which is the primary attribute for rogues in Dungeons & Dragons 5e. This   \n",
       "\u001b[2;36m                    \u001b[0m         bonus can help with tasks like sneaking, picking locks, and hitting targets with      \n",
       "\u001b[2;36m                    \u001b[0m         ranged or finesse weapons, all of which are common activities for rogues.             \n",
       "\u001b[2;36m                    \u001b[0m         Additionally, Halflings have the \u001b[32m\"Lucky\"\u001b[0m trait, which allows them to reroll 1s on     \n",
       "\u001b[2;36m                    \u001b[0m         attack rolls, ability checks, or saving throws, and this can be particularly          \n",
       "\u001b[2;36m                    \u001b[0m         beneficial for a rogue.                                                               \n"
      ]
     },
     "metadata": {},
     "output_type": "display_data"
    }
   ],
   "source": [
    "response = conv.run(\"are halflings better rogues?\")"
   ]
  },
  {
   "cell_type": "code",
   "execution_count": 7,
   "id": "c771faf7-069b-48ac-9f5d-2a01cfa40874",
   "metadata": {},
   "outputs": [
    {
     "data": {
      "text/html": [
       "<pre style=\"white-space:pre;overflow-x:auto;line-height:normal;font-family:Menlo,'DejaVu Sans Mono',consolas,'Courier New',monospace\"><span style=\"color: #7fbfbf; text-decoration-color: #7fbfbf\">                    </span><span style=\"color: #000080; text-decoration-color: #000080\">INFO    </span> ToolkitTask 8b2676c289404107b1ba0831e6feae13                                          \n",
       "<span style=\"color: #7fbfbf; text-decoration-color: #7fbfbf\">                    </span>         Input: Ok, I'll be a halfling                                                         \n",
       "</pre>\n"
      ],
      "text/plain": [
       "\u001b[2;36m                   \u001b[0m\u001b[2;36m \u001b[0m\u001b[34mINFO    \u001b[0m ToolkitTask 8b2676c289404107b1ba0831e6feae13                                          \n",
       "\u001b[2;36m                    \u001b[0m         Input: Ok, I'll be a halfling                                                         \n"
      ]
     },
     "metadata": {},
     "output_type": "display_data"
    },
    {
     "data": {
      "text/html": [
       "<pre style=\"white-space:pre;overflow-x:auto;line-height:normal;font-family:Menlo,'DejaVu Sans Mono',consolas,'Courier New',monospace\"><span style=\"color: #7fbfbf; text-decoration-color: #7fbfbf\">[10/01/23 02:01:25] </span><span style=\"color: #000080; text-decoration-color: #000080\">INFO    </span> Subtask 0633c6c51ab44275b0c7056a6ccfd36f                                              \n",
       "<span style=\"color: #7fbfbf; text-decoration-color: #7fbfbf\">                    </span>         Thought: The user has chosen to be a Halfling. I need to update the character sheet   \n",
       "<span style=\"color: #7fbfbf; text-decoration-color: #7fbfbf\">                    </span>         with this new race. Halflings have a racial bonus of +<span style=\"color: #008080; text-decoration-color: #008080; font-weight: bold\">2</span> to Dexterity. I'll use the    \n",
       "<span style=\"color: #7fbfbf; text-decoration-color: #7fbfbf\">                    </span>         CharacterSheetUpdater tool to make this update.                                       \n",
       "<span style=\"color: #7fbfbf; text-decoration-color: #7fbfbf\">                    </span>                                                                                               \n",
       "<span style=\"color: #7fbfbf; text-decoration-color: #7fbfbf\">                    </span>         Action: <span style=\"font-weight: bold\">{</span><span style=\"color: #008000; text-decoration-color: #008000\">\"type\"</span>: <span style=\"color: #008000; text-decoration-color: #008000\">\"tool\"</span>, <span style=\"color: #008000; text-decoration-color: #008000\">\"name\"</span>: <span style=\"color: #008000; text-decoration-color: #008000\">\"CharacterSheetUpdater\"</span>, <span style=\"color: #008000; text-decoration-color: #008000\">\"activity\"</span>: <span style=\"color: #008000; text-decoration-color: #008000\">\"update_race\"</span>,  \n",
       "<span style=\"color: #7fbfbf; text-decoration-color: #7fbfbf\">                    </span>         <span style=\"color: #008000; text-decoration-color: #008000\">\"input\"</span>: <span style=\"font-weight: bold\">{</span><span style=\"color: #008000; text-decoration-color: #008000\">\"values\"</span>: <span style=\"font-weight: bold\">{</span><span style=\"color: #008000; text-decoration-color: #008000\">\"race\"</span>: <span style=\"color: #008000; text-decoration-color: #008000\">\"Halfling\"</span>, <span style=\"color: #008000; text-decoration-color: #008000\">\"racial_bonuses\"</span>: <span style=\"color: #008000; text-decoration-color: #008000\">\"{\\\"dexterity\\\": 2}\"</span><span style=\"font-weight: bold\">}}}</span>    \n",
       "</pre>\n"
      ],
      "text/plain": [
       "\u001b[2;36m[10/01/23 02:01:25]\u001b[0m\u001b[2;36m \u001b[0m\u001b[34mINFO    \u001b[0m Subtask 0633c6c51ab44275b0c7056a6ccfd36f                                              \n",
       "\u001b[2;36m                    \u001b[0m         Thought: The user has chosen to be a Halfling. I need to update the character sheet   \n",
       "\u001b[2;36m                    \u001b[0m         with this new race. Halflings have a racial bonus of +\u001b[1;36m2\u001b[0m to Dexterity. I'll use the    \n",
       "\u001b[2;36m                    \u001b[0m         CharacterSheetUpdater tool to make this update.                                       \n",
       "\u001b[2;36m                    \u001b[0m                                                                                               \n",
       "\u001b[2;36m                    \u001b[0m         Action: \u001b[1m{\u001b[0m\u001b[32m\"type\"\u001b[0m: \u001b[32m\"tool\"\u001b[0m, \u001b[32m\"name\"\u001b[0m: \u001b[32m\"CharacterSheetUpdater\"\u001b[0m, \u001b[32m\"activity\"\u001b[0m: \u001b[32m\"update_race\"\u001b[0m,  \n",
       "\u001b[2;36m                    \u001b[0m         \u001b[32m\"input\"\u001b[0m: \u001b[1m{\u001b[0m\u001b[32m\"values\"\u001b[0m: \u001b[1m{\u001b[0m\u001b[32m\"race\"\u001b[0m: \u001b[32m\"Halfling\"\u001b[0m, \u001b[32m\"racial_bonuses\"\u001b[0m: \u001b[32m\"\u001b[0m\u001b[32m{\u001b[0m\u001b[32m\\\"dexterity\\\": 2\u001b[0m\u001b[32m}\u001b[0m\u001b[32m\"\u001b[0m\u001b[1m}\u001b[0m\u001b[1m}\u001b[0m\u001b[1m}\u001b[0m    \n"
      ]
     },
     "metadata": {},
     "output_type": "display_data"
    },
    {
     "name": "stderr",
     "output_type": "stream",
     "text": [
      "WARNING:root:Activity result is not an artifact; converting result to InfoArtifact\n"
     ]
    },
    {
     "data": {
      "text/html": [
       "<pre style=\"white-space:pre;overflow-x:auto;line-height:normal;font-family:Menlo,'DejaVu Sans Mono',consolas,'Courier New',monospace\"><span style=\"color: #7fbfbf; text-decoration-color: #7fbfbf\">                    </span><span style=\"color: #000080; text-decoration-color: #000080\">INFO    </span> Subtask 0633c6c51ab44275b0c7056a6ccfd36f                                              \n",
       "<span style=\"color: #7fbfbf; text-decoration-color: #7fbfbf\">                    </span>         Observation: <span style=\"color: #800080; text-decoration-color: #800080; font-weight: bold\">Character</span><span style=\"font-weight: bold\">(</span><span style=\"color: #808000; text-decoration-color: #808000\">name</span>=<span style=\"color: #800080; text-decoration-color: #800080; font-style: italic\">None</span>, <span style=\"color: #808000; text-decoration-color: #808000\">class_</span>=<span style=\"color: #800080; text-decoration-color: #800080; font-style: italic\">None</span>, <span style=\"color: #808000; text-decoration-color: #808000\">subclasse</span>=<span style=\"color: #800080; text-decoration-color: #800080; font-style: italic\">None</span>, <span style=\"color: #808000; text-decoration-color: #808000\">level</span>=<span style=\"color: #008080; text-decoration-color: #008080; font-weight: bold\">1</span>,               \n",
       "<span style=\"color: #7fbfbf; text-decoration-color: #7fbfbf\">                    </span>         <span style=\"color: #808000; text-decoration-color: #808000\">race</span>=<span style=\"color: #008000; text-decoration-color: #008000\">'halfling'</span>, <span style=\"color: #808000; text-decoration-color: #808000\">alignment</span>=<span style=\"color: #800080; text-decoration-color: #800080; font-style: italic\">None</span>, <span style=\"color: #808000; text-decoration-color: #808000\">background</span>=<span style=\"color: #800080; text-decoration-color: #800080; font-style: italic\">None</span>, <span style=\"color: #808000; text-decoration-color: #808000\">proficiency_bonus</span>=<span style=\"color: #008080; text-decoration-color: #008080; font-weight: bold\">2</span>,                \n",
       "<span style=\"color: #7fbfbf; text-decoration-color: #7fbfbf\">                    </span>         <span style=\"color: #808000; text-decoration-color: #808000\">base_ability_scores</span>=<span style=\"color: #800080; text-decoration-color: #800080; font-weight: bold\">AbilityScores</span><span style=\"font-weight: bold\">(</span><span style=\"color: #808000; text-decoration-color: #808000\">strength</span>=<span style=\"color: #008080; text-decoration-color: #008080; font-weight: bold\">8</span>, <span style=\"color: #808000; text-decoration-color: #808000\">dexterity</span>=<span style=\"color: #008080; text-decoration-color: #008080; font-weight: bold\">8</span>, <span style=\"color: #808000; text-decoration-color: #808000\">constitution</span>=<span style=\"color: #008080; text-decoration-color: #008080; font-weight: bold\">8</span>,            \n",
       "<span style=\"color: #7fbfbf; text-decoration-color: #7fbfbf\">                    </span>         <span style=\"color: #808000; text-decoration-color: #808000\">intelligence</span>=<span style=\"color: #008080; text-decoration-color: #008080; font-weight: bold\">8</span>, <span style=\"color: #808000; text-decoration-color: #808000\">wisdom</span>=<span style=\"color: #008080; text-decoration-color: #008080; font-weight: bold\">8</span>, <span style=\"color: #808000; text-decoration-color: #808000\">charisma</span>=<span style=\"color: #008080; text-decoration-color: #008080; font-weight: bold\">8</span><span style=\"font-weight: bold\">)</span>, <span style=\"color: #808000; text-decoration-color: #808000\">racial_ability_bonus</span>=<span style=\"color: #800080; text-decoration-color: #800080; font-weight: bold\">AbilityScores</span><span style=\"font-weight: bold\">(</span><span style=\"color: #808000; text-decoration-color: #808000\">strength</span>=<span style=\"color: #008080; text-decoration-color: #008080; font-weight: bold\">0</span>, \n",
       "<span style=\"color: #7fbfbf; text-decoration-color: #7fbfbf\">                    </span>         <span style=\"color: #808000; text-decoration-color: #808000\">dexterity</span>=<span style=\"color: #008080; text-decoration-color: #008080; font-weight: bold\">2</span>, <span style=\"color: #808000; text-decoration-color: #808000\">constitution</span>=<span style=\"color: #008080; text-decoration-color: #008080; font-weight: bold\">0</span>, <span style=\"color: #808000; text-decoration-color: #808000\">intelligence</span>=<span style=\"color: #008080; text-decoration-color: #008080; font-weight: bold\">0</span>, <span style=\"color: #808000; text-decoration-color: #808000\">wisdom</span>=<span style=\"color: #008080; text-decoration-color: #008080; font-weight: bold\">0</span>, <span style=\"color: #808000; text-decoration-color: #808000\">charisma</span>=<span style=\"color: #008080; text-decoration-color: #008080; font-weight: bold\">0</span><span style=\"font-weight: bold\">)</span>,                   \n",
       "<span style=\"color: #7fbfbf; text-decoration-color: #7fbfbf\">                    </span>         <span style=\"color: #808000; text-decoration-color: #808000\">final_ability_scores</span>=<span style=\"color: #800080; text-decoration-color: #800080; font-weight: bold\">AbilityScores</span><span style=\"font-weight: bold\">(</span><span style=\"color: #808000; text-decoration-color: #808000\">strength</span>=<span style=\"color: #008080; text-decoration-color: #008080; font-weight: bold\">8</span>, <span style=\"color: #808000; text-decoration-color: #808000\">dexterity</span>=<span style=\"color: #008080; text-decoration-color: #008080; font-weight: bold\">10</span>, <span style=\"color: #808000; text-decoration-color: #808000\">constitution</span>=<span style=\"color: #008080; text-decoration-color: #008080; font-weight: bold\">8</span>,          \n",
       "<span style=\"color: #7fbfbf; text-decoration-color: #7fbfbf\">                    </span>         <span style=\"color: #808000; text-decoration-color: #808000\">intelligence</span>=<span style=\"color: #008080; text-decoration-color: #008080; font-weight: bold\">8</span>, <span style=\"color: #808000; text-decoration-color: #808000\">wisdom</span>=<span style=\"color: #008080; text-decoration-color: #008080; font-weight: bold\">8</span>, <span style=\"color: #808000; text-decoration-color: #808000\">charisma</span>=<span style=\"color: #008080; text-decoration-color: #008080; font-weight: bold\">8</span><span style=\"font-weight: bold\">)</span>,                                                \n",
       "<span style=\"color: #7fbfbf; text-decoration-color: #7fbfbf\">                    </span>         <span style=\"color: #808000; text-decoration-color: #808000\">saving_throw_proficiencies</span>=<span style=\"color: #800080; text-decoration-color: #800080; font-weight: bold\">SavingThrowProficiences</span><span style=\"font-weight: bold\">(</span><span style=\"color: #808000; text-decoration-color: #808000\">strength</span>=<span style=\"color: #ff0000; text-decoration-color: #ff0000; font-style: italic\">False</span>, <span style=\"color: #808000; text-decoration-color: #808000\">dexterity</span>=<span style=\"color: #ff0000; text-decoration-color: #ff0000; font-style: italic\">False</span>,   \n",
       "<span style=\"color: #7fbfbf; text-decoration-color: #7fbfbf\">                    </span>         <span style=\"color: #808000; text-decoration-color: #808000\">constitution</span>=<span style=\"color: #ff0000; text-decoration-color: #ff0000; font-style: italic\">False</span>, <span style=\"color: #808000; text-decoration-color: #808000\">intelligence</span>=<span style=\"color: #ff0000; text-decoration-color: #ff0000; font-style: italic\">False</span>, <span style=\"color: #808000; text-decoration-color: #808000\">wisdom</span>=<span style=\"color: #ff0000; text-decoration-color: #ff0000; font-style: italic\">False</span>, <span style=\"color: #808000; text-decoration-color: #808000\">charisma</span>=<span style=\"color: #ff0000; text-decoration-color: #ff0000; font-style: italic\">False</span><span style=\"font-weight: bold\">)</span>,                \n",
       "<span style=\"color: #7fbfbf; text-decoration-color: #7fbfbf\">                    </span>         <span style=\"color: #808000; text-decoration-color: #808000\">skill_proficiencies</span>=<span style=\"color: #800080; text-decoration-color: #800080; font-weight: bold\">SkillProficiences</span><span style=\"font-weight: bold\">(</span><span style=\"color: #808000; text-decoration-color: #808000\">acrobatics</span>=<span style=\"color: #ff0000; text-decoration-color: #ff0000; font-style: italic\">False</span>, <span style=\"color: #808000; text-decoration-color: #808000\">animal_handling</span>=<span style=\"color: #ff0000; text-decoration-color: #ff0000; font-style: italic\">False</span>,        \n",
       "<span style=\"color: #7fbfbf; text-decoration-color: #7fbfbf\">                    </span>         <span style=\"color: #808000; text-decoration-color: #808000\">arcana</span>=<span style=\"color: #ff0000; text-decoration-color: #ff0000; font-style: italic\">False</span>, <span style=\"color: #808000; text-decoration-color: #808000\">athletics</span>=<span style=\"color: #ff0000; text-decoration-color: #ff0000; font-style: italic\">False</span>, <span style=\"color: #808000; text-decoration-color: #808000\">deception</span>=<span style=\"color: #ff0000; text-decoration-color: #ff0000; font-style: italic\">False</span>, <span style=\"color: #808000; text-decoration-color: #808000\">history</span>=<span style=\"color: #ff0000; text-decoration-color: #ff0000; font-style: italic\">False</span>, <span style=\"color: #808000; text-decoration-color: #808000\">insight</span>=<span style=\"color: #ff0000; text-decoration-color: #ff0000; font-style: italic\">False</span>,         \n",
       "<span style=\"color: #7fbfbf; text-decoration-color: #7fbfbf\">                    </span>         <span style=\"color: #808000; text-decoration-color: #808000\">intimidation</span>=<span style=\"color: #ff0000; text-decoration-color: #ff0000; font-style: italic\">False</span>, <span style=\"color: #808000; text-decoration-color: #808000\">investigation</span>=<span style=\"color: #ff0000; text-decoration-color: #ff0000; font-style: italic\">False</span>, <span style=\"color: #808000; text-decoration-color: #808000\">medicine</span>=<span style=\"color: #ff0000; text-decoration-color: #ff0000; font-style: italic\">False</span>, <span style=\"color: #808000; text-decoration-color: #808000\">nature</span>=<span style=\"color: #ff0000; text-decoration-color: #ff0000; font-style: italic\">False</span>,                \n",
       "<span style=\"color: #7fbfbf; text-decoration-color: #7fbfbf\">                    </span>         <span style=\"color: #808000; text-decoration-color: #808000\">perception</span>=<span style=\"color: #ff0000; text-decoration-color: #ff0000; font-style: italic\">False</span>, <span style=\"color: #808000; text-decoration-color: #808000\">performance</span>=<span style=\"color: #ff0000; text-decoration-color: #ff0000; font-style: italic\">False</span>, <span style=\"color: #808000; text-decoration-color: #808000\">persuasion</span>=<span style=\"color: #ff0000; text-decoration-color: #ff0000; font-style: italic\">False</span>, <span style=\"color: #808000; text-decoration-color: #808000\">religion</span>=<span style=\"color: #ff0000; text-decoration-color: #ff0000; font-style: italic\">False</span>,                \n",
       "<span style=\"color: #7fbfbf; text-decoration-color: #7fbfbf\">                    </span>         <span style=\"color: #808000; text-decoration-color: #808000\">sleight_of_hand</span>=<span style=\"color: #ff0000; text-decoration-color: #ff0000; font-style: italic\">False</span>, <span style=\"color: #808000; text-decoration-color: #808000\">stealth</span>=<span style=\"color: #ff0000; text-decoration-color: #ff0000; font-style: italic\">False</span>, <span style=\"color: #808000; text-decoration-color: #808000\">survival</span>=<span style=\"color: #ff0000; text-decoration-color: #ff0000; font-style: italic\">False</span><span style=\"font-weight: bold\">)</span>, <span style=\"color: #808000; text-decoration-color: #808000\">AC</span>=<span style=\"color: #008080; text-decoration-color: #008080; font-weight: bold\">10</span>, <span style=\"color: #808000; text-decoration-color: #808000\">speed</span>=<span style=\"color: #008080; text-decoration-color: #008080; font-weight: bold\">30</span>,               \n",
       "<span style=\"color: #7fbfbf; text-decoration-color: #7fbfbf\">                    </span>         <span style=\"color: #808000; text-decoration-color: #808000\">hit_point_max</span>=<span style=\"color: #008080; text-decoration-color: #008080; font-weight: bold\">6</span><span style=\"font-weight: bold\">)</span>                                                                      \n",
       "</pre>\n"
      ],
      "text/plain": [
       "\u001b[2;36m                   \u001b[0m\u001b[2;36m \u001b[0m\u001b[34mINFO    \u001b[0m Subtask 0633c6c51ab44275b0c7056a6ccfd36f                                              \n",
       "\u001b[2;36m                    \u001b[0m         Observation: \u001b[1;35mCharacter\u001b[0m\u001b[1m(\u001b[0m\u001b[33mname\u001b[0m=\u001b[3;35mNone\u001b[0m, \u001b[33mclass_\u001b[0m=\u001b[3;35mNone\u001b[0m, \u001b[33msubclasse\u001b[0m=\u001b[3;35mNone\u001b[0m, \u001b[33mlevel\u001b[0m=\u001b[1;36m1\u001b[0m,               \n",
       "\u001b[2;36m                    \u001b[0m         \u001b[33mrace\u001b[0m=\u001b[32m'halfling'\u001b[0m, \u001b[33malignment\u001b[0m=\u001b[3;35mNone\u001b[0m, \u001b[33mbackground\u001b[0m=\u001b[3;35mNone\u001b[0m, \u001b[33mproficiency_bonus\u001b[0m=\u001b[1;36m2\u001b[0m,                \n",
       "\u001b[2;36m                    \u001b[0m         \u001b[33mbase_ability_scores\u001b[0m=\u001b[1;35mAbilityScores\u001b[0m\u001b[1m(\u001b[0m\u001b[33mstrength\u001b[0m=\u001b[1;36m8\u001b[0m, \u001b[33mdexterity\u001b[0m=\u001b[1;36m8\u001b[0m, \u001b[33mconstitution\u001b[0m=\u001b[1;36m8\u001b[0m,            \n",
       "\u001b[2;36m                    \u001b[0m         \u001b[33mintelligence\u001b[0m=\u001b[1;36m8\u001b[0m, \u001b[33mwisdom\u001b[0m=\u001b[1;36m8\u001b[0m, \u001b[33mcharisma\u001b[0m=\u001b[1;36m8\u001b[0m\u001b[1m)\u001b[0m, \u001b[33mracial_ability_bonus\u001b[0m=\u001b[1;35mAbilityScores\u001b[0m\u001b[1m(\u001b[0m\u001b[33mstrength\u001b[0m=\u001b[1;36m0\u001b[0m, \n",
       "\u001b[2;36m                    \u001b[0m         \u001b[33mdexterity\u001b[0m=\u001b[1;36m2\u001b[0m, \u001b[33mconstitution\u001b[0m=\u001b[1;36m0\u001b[0m, \u001b[33mintelligence\u001b[0m=\u001b[1;36m0\u001b[0m, \u001b[33mwisdom\u001b[0m=\u001b[1;36m0\u001b[0m, \u001b[33mcharisma\u001b[0m=\u001b[1;36m0\u001b[0m\u001b[1m)\u001b[0m,                   \n",
       "\u001b[2;36m                    \u001b[0m         \u001b[33mfinal_ability_scores\u001b[0m=\u001b[1;35mAbilityScores\u001b[0m\u001b[1m(\u001b[0m\u001b[33mstrength\u001b[0m=\u001b[1;36m8\u001b[0m, \u001b[33mdexterity\u001b[0m=\u001b[1;36m10\u001b[0m, \u001b[33mconstitution\u001b[0m=\u001b[1;36m8\u001b[0m,          \n",
       "\u001b[2;36m                    \u001b[0m         \u001b[33mintelligence\u001b[0m=\u001b[1;36m8\u001b[0m, \u001b[33mwisdom\u001b[0m=\u001b[1;36m8\u001b[0m, \u001b[33mcharisma\u001b[0m=\u001b[1;36m8\u001b[0m\u001b[1m)\u001b[0m,                                                \n",
       "\u001b[2;36m                    \u001b[0m         \u001b[33msaving_throw_proficiencies\u001b[0m=\u001b[1;35mSavingThrowProficiences\u001b[0m\u001b[1m(\u001b[0m\u001b[33mstrength\u001b[0m=\u001b[3;91mFalse\u001b[0m, \u001b[33mdexterity\u001b[0m=\u001b[3;91mFalse\u001b[0m,   \n",
       "\u001b[2;36m                    \u001b[0m         \u001b[33mconstitution\u001b[0m=\u001b[3;91mFalse\u001b[0m, \u001b[33mintelligence\u001b[0m=\u001b[3;91mFalse\u001b[0m, \u001b[33mwisdom\u001b[0m=\u001b[3;91mFalse\u001b[0m, \u001b[33mcharisma\u001b[0m=\u001b[3;91mFalse\u001b[0m\u001b[1m)\u001b[0m,                \n",
       "\u001b[2;36m                    \u001b[0m         \u001b[33mskill_proficiencies\u001b[0m=\u001b[1;35mSkillProficiences\u001b[0m\u001b[1m(\u001b[0m\u001b[33macrobatics\u001b[0m=\u001b[3;91mFalse\u001b[0m, \u001b[33manimal_handling\u001b[0m=\u001b[3;91mFalse\u001b[0m,        \n",
       "\u001b[2;36m                    \u001b[0m         \u001b[33marcana\u001b[0m=\u001b[3;91mFalse\u001b[0m, \u001b[33mathletics\u001b[0m=\u001b[3;91mFalse\u001b[0m, \u001b[33mdeception\u001b[0m=\u001b[3;91mFalse\u001b[0m, \u001b[33mhistory\u001b[0m=\u001b[3;91mFalse\u001b[0m, \u001b[33minsight\u001b[0m=\u001b[3;91mFalse\u001b[0m,         \n",
       "\u001b[2;36m                    \u001b[0m         \u001b[33mintimidation\u001b[0m=\u001b[3;91mFalse\u001b[0m, \u001b[33minvestigation\u001b[0m=\u001b[3;91mFalse\u001b[0m, \u001b[33mmedicine\u001b[0m=\u001b[3;91mFalse\u001b[0m, \u001b[33mnature\u001b[0m=\u001b[3;91mFalse\u001b[0m,                \n",
       "\u001b[2;36m                    \u001b[0m         \u001b[33mperception\u001b[0m=\u001b[3;91mFalse\u001b[0m, \u001b[33mperformance\u001b[0m=\u001b[3;91mFalse\u001b[0m, \u001b[33mpersuasion\u001b[0m=\u001b[3;91mFalse\u001b[0m, \u001b[33mreligion\u001b[0m=\u001b[3;91mFalse\u001b[0m,                \n",
       "\u001b[2;36m                    \u001b[0m         \u001b[33msleight_of_hand\u001b[0m=\u001b[3;91mFalse\u001b[0m, \u001b[33mstealth\u001b[0m=\u001b[3;91mFalse\u001b[0m, \u001b[33msurvival\u001b[0m=\u001b[3;91mFalse\u001b[0m\u001b[1m)\u001b[0m, \u001b[33mAC\u001b[0m=\u001b[1;36m10\u001b[0m, \u001b[33mspeed\u001b[0m=\u001b[1;36m30\u001b[0m,               \n",
       "\u001b[2;36m                    \u001b[0m         \u001b[33mhit_point_max\u001b[0m=\u001b[1;36m6\u001b[0m\u001b[1m)\u001b[0m                                                                      \n"
      ]
     },
     "metadata": {},
     "output_type": "display_data"
    },
    {
     "data": {
      "text/html": [
       "<pre style=\"white-space:pre;overflow-x:auto;line-height:normal;font-family:Menlo,'DejaVu Sans Mono',consolas,'Courier New',monospace\"><span style=\"color: #7fbfbf; text-decoration-color: #7fbfbf\">[10/01/23 02:01:26] </span><span style=\"color: #000080; text-decoration-color: #000080\">INFO    </span> ToolkitTask 8b2676c289404107b1ba0831e6feae13                                          \n",
       "<span style=\"color: #7fbfbf; text-decoration-color: #7fbfbf\">                    </span>         Output: change_node                                                                   \n",
       "</pre>\n"
      ],
      "text/plain": [
       "\u001b[2;36m[10/01/23 02:01:26]\u001b[0m\u001b[2;36m \u001b[0m\u001b[34mINFO    \u001b[0m ToolkitTask 8b2676c289404107b1ba0831e6feae13                                          \n",
       "\u001b[2;36m                    \u001b[0m         Output: change_node                                                                   \n"
      ]
     },
     "metadata": {},
     "output_type": "display_data"
    },
    {
     "data": {
      "text/html": [
       "<pre style=\"white-space:pre;overflow-x:auto;line-height:normal;font-family:Menlo,'DejaVu Sans Mono',consolas,'Courier New',monospace\"><span style=\"color: #7fbfbf; text-decoration-color: #7fbfbf\">                    </span><span style=\"color: #000080; text-decoration-color: #000080\">INFO    </span> ToolkitTask 8b2676c289404107b1ba0831e6feae13                                          \n",
       "<span style=\"color: #7fbfbf; text-decoration-color: #7fbfbf\">                    </span>         Input: You've just helped the user select a race,                                     \n",
       "<span style=\"color: #7fbfbf; text-decoration-color: #7fbfbf\">                    </span>                             and next you will help them select a class_. Let the              \n",
       "<span style=\"color: #7fbfbf; text-decoration-color: #7fbfbf\">                    </span>                             user know that their choice has been logged to their character    \n",
       "<span style=\"color: #7fbfbf; text-decoration-color: #7fbfbf\">                    </span>                             sheet and tell them what's next.                                  \n",
       "<span style=\"color: #7fbfbf; text-decoration-color: #7fbfbf\">                    </span>                                                                                               \n",
       "</pre>\n"
      ],
      "text/plain": [
       "\u001b[2;36m                   \u001b[0m\u001b[2;36m \u001b[0m\u001b[34mINFO    \u001b[0m ToolkitTask 8b2676c289404107b1ba0831e6feae13                                          \n",
       "\u001b[2;36m                    \u001b[0m         Input: You've just helped the user select a race,                                     \n",
       "\u001b[2;36m                    \u001b[0m                             and next you will help them select a class_. Let the              \n",
       "\u001b[2;36m                    \u001b[0m                             user know that their choice has been logged to their character    \n",
       "\u001b[2;36m                    \u001b[0m                             sheet and tell them what's next.                                  \n",
       "\u001b[2;36m                    \u001b[0m                                                                                               \n"
      ]
     },
     "metadata": {},
     "output_type": "display_data"
    },
    {
     "data": {
      "text/html": [
       "<pre style=\"white-space:pre;overflow-x:auto;line-height:normal;font-family:Menlo,'DejaVu Sans Mono',consolas,'Courier New',monospace\"><span style=\"color: #7fbfbf; text-decoration-color: #7fbfbf\">[10/01/23 02:01:34] </span><span style=\"color: #000080; text-decoration-color: #000080\">INFO    </span> Subtask bdf0685c3a5d4eb7a1f3a8df2f7d8f98                                              \n",
       "<span style=\"color: #7fbfbf; text-decoration-color: #7fbfbf\">                    </span>         Thought: I need to update the character sheet with the user's chosen race, which is   \n",
       "<span style=\"color: #7fbfbf; text-decoration-color: #7fbfbf\">                    </span>         Halfling. The racial bonuses for Halflings are a +<span style=\"color: #008080; text-decoration-color: #008080; font-weight: bold\">2</span> to Dexterity. After updating the  \n",
       "<span style=\"color: #7fbfbf; text-decoration-color: #7fbfbf\">                    </span>         character sheet, I will inform the user that we will move on to selecting a class.    \n",
       "<span style=\"color: #7fbfbf; text-decoration-color: #7fbfbf\">                    </span>                                                                                               \n",
       "<span style=\"color: #7fbfbf; text-decoration-color: #7fbfbf\">                    </span>         Action: <span style=\"font-weight: bold\">{</span><span style=\"color: #008000; text-decoration-color: #008000\">\"type\"</span>: <span style=\"color: #008000; text-decoration-color: #008000\">\"tool\"</span>, <span style=\"color: #008000; text-decoration-color: #008000\">\"name\"</span>: <span style=\"color: #008000; text-decoration-color: #008000\">\"CharacterSheetUpdater\"</span>, <span style=\"color: #008000; text-decoration-color: #008000\">\"activity\"</span>: <span style=\"color: #008000; text-decoration-color: #008000\">\"update_race\"</span>,  \n",
       "<span style=\"color: #7fbfbf; text-decoration-color: #7fbfbf\">                    </span>         <span style=\"color: #008000; text-decoration-color: #008000\">\"input\"</span>: <span style=\"font-weight: bold\">{</span><span style=\"color: #008000; text-decoration-color: #008000\">\"values\"</span>: <span style=\"font-weight: bold\">{</span><span style=\"color: #008000; text-decoration-color: #008000\">\"race\"</span>: <span style=\"color: #008000; text-decoration-color: #008000\">\"Halfling\"</span>, <span style=\"color: #008000; text-decoration-color: #008000\">\"racial_bonuses\"</span>: <span style=\"color: #008000; text-decoration-color: #008000\">\"{\\\"dexterity\\\": 2}\"</span><span style=\"font-weight: bold\">}}}</span>    \n",
       "</pre>\n"
      ],
      "text/plain": [
       "\u001b[2;36m[10/01/23 02:01:34]\u001b[0m\u001b[2;36m \u001b[0m\u001b[34mINFO    \u001b[0m Subtask bdf0685c3a5d4eb7a1f3a8df2f7d8f98                                              \n",
       "\u001b[2;36m                    \u001b[0m         Thought: I need to update the character sheet with the user's chosen race, which is   \n",
       "\u001b[2;36m                    \u001b[0m         Halfling. The racial bonuses for Halflings are a +\u001b[1;36m2\u001b[0m to Dexterity. After updating the  \n",
       "\u001b[2;36m                    \u001b[0m         character sheet, I will inform the user that we will move on to selecting a class.    \n",
       "\u001b[2;36m                    \u001b[0m                                                                                               \n",
       "\u001b[2;36m                    \u001b[0m         Action: \u001b[1m{\u001b[0m\u001b[32m\"type\"\u001b[0m: \u001b[32m\"tool\"\u001b[0m, \u001b[32m\"name\"\u001b[0m: \u001b[32m\"CharacterSheetUpdater\"\u001b[0m, \u001b[32m\"activity\"\u001b[0m: \u001b[32m\"update_race\"\u001b[0m,  \n",
       "\u001b[2;36m                    \u001b[0m         \u001b[32m\"input\"\u001b[0m: \u001b[1m{\u001b[0m\u001b[32m\"values\"\u001b[0m: \u001b[1m{\u001b[0m\u001b[32m\"race\"\u001b[0m: \u001b[32m\"Halfling\"\u001b[0m, \u001b[32m\"racial_bonuses\"\u001b[0m: \u001b[32m\"\u001b[0m\u001b[32m{\u001b[0m\u001b[32m\\\"dexterity\\\": 2\u001b[0m\u001b[32m}\u001b[0m\u001b[32m\"\u001b[0m\u001b[1m}\u001b[0m\u001b[1m}\u001b[0m\u001b[1m}\u001b[0m    \n"
      ]
     },
     "metadata": {},
     "output_type": "display_data"
    },
    {
     "name": "stderr",
     "output_type": "stream",
     "text": [
      "WARNING:root:Activity result is not an artifact; converting result to InfoArtifact\n"
     ]
    },
    {
     "data": {
      "text/html": [
       "<pre style=\"white-space:pre;overflow-x:auto;line-height:normal;font-family:Menlo,'DejaVu Sans Mono',consolas,'Courier New',monospace\"><span style=\"color: #7fbfbf; text-decoration-color: #7fbfbf\">                    </span><span style=\"color: #000080; text-decoration-color: #000080\">INFO    </span> Subtask bdf0685c3a5d4eb7a1f3a8df2f7d8f98                                              \n",
       "<span style=\"color: #7fbfbf; text-decoration-color: #7fbfbf\">                    </span>         Observation: <span style=\"color: #800080; text-decoration-color: #800080; font-weight: bold\">Character</span><span style=\"font-weight: bold\">(</span><span style=\"color: #808000; text-decoration-color: #808000\">name</span>=<span style=\"color: #800080; text-decoration-color: #800080; font-style: italic\">None</span>, <span style=\"color: #808000; text-decoration-color: #808000\">class_</span>=<span style=\"color: #800080; text-decoration-color: #800080; font-style: italic\">None</span>, <span style=\"color: #808000; text-decoration-color: #808000\">subclasse</span>=<span style=\"color: #800080; text-decoration-color: #800080; font-style: italic\">None</span>, <span style=\"color: #808000; text-decoration-color: #808000\">level</span>=<span style=\"color: #008080; text-decoration-color: #008080; font-weight: bold\">1</span>,               \n",
       "<span style=\"color: #7fbfbf; text-decoration-color: #7fbfbf\">                    </span>         <span style=\"color: #808000; text-decoration-color: #808000\">race</span>=<span style=\"color: #008000; text-decoration-color: #008000\">'halfling'</span>, <span style=\"color: #808000; text-decoration-color: #808000\">alignment</span>=<span style=\"color: #800080; text-decoration-color: #800080; font-style: italic\">None</span>, <span style=\"color: #808000; text-decoration-color: #808000\">background</span>=<span style=\"color: #800080; text-decoration-color: #800080; font-style: italic\">None</span>, <span style=\"color: #808000; text-decoration-color: #808000\">proficiency_bonus</span>=<span style=\"color: #008080; text-decoration-color: #008080; font-weight: bold\">2</span>,                \n",
       "<span style=\"color: #7fbfbf; text-decoration-color: #7fbfbf\">                    </span>         <span style=\"color: #808000; text-decoration-color: #808000\">base_ability_scores</span>=<span style=\"color: #800080; text-decoration-color: #800080; font-weight: bold\">AbilityScores</span><span style=\"font-weight: bold\">(</span><span style=\"color: #808000; text-decoration-color: #808000\">strength</span>=<span style=\"color: #008080; text-decoration-color: #008080; font-weight: bold\">8</span>, <span style=\"color: #808000; text-decoration-color: #808000\">dexterity</span>=<span style=\"color: #008080; text-decoration-color: #008080; font-weight: bold\">8</span>, <span style=\"color: #808000; text-decoration-color: #808000\">constitution</span>=<span style=\"color: #008080; text-decoration-color: #008080; font-weight: bold\">8</span>,            \n",
       "<span style=\"color: #7fbfbf; text-decoration-color: #7fbfbf\">                    </span>         <span style=\"color: #808000; text-decoration-color: #808000\">intelligence</span>=<span style=\"color: #008080; text-decoration-color: #008080; font-weight: bold\">8</span>, <span style=\"color: #808000; text-decoration-color: #808000\">wisdom</span>=<span style=\"color: #008080; text-decoration-color: #008080; font-weight: bold\">8</span>, <span style=\"color: #808000; text-decoration-color: #808000\">charisma</span>=<span style=\"color: #008080; text-decoration-color: #008080; font-weight: bold\">8</span><span style=\"font-weight: bold\">)</span>, <span style=\"color: #808000; text-decoration-color: #808000\">racial_ability_bonus</span>=<span style=\"color: #800080; text-decoration-color: #800080; font-weight: bold\">AbilityScores</span><span style=\"font-weight: bold\">(</span><span style=\"color: #808000; text-decoration-color: #808000\">strength</span>=<span style=\"color: #008080; text-decoration-color: #008080; font-weight: bold\">0</span>, \n",
       "<span style=\"color: #7fbfbf; text-decoration-color: #7fbfbf\">                    </span>         <span style=\"color: #808000; text-decoration-color: #808000\">dexterity</span>=<span style=\"color: #008080; text-decoration-color: #008080; font-weight: bold\">2</span>, <span style=\"color: #808000; text-decoration-color: #808000\">constitution</span>=<span style=\"color: #008080; text-decoration-color: #008080; font-weight: bold\">0</span>, <span style=\"color: #808000; text-decoration-color: #808000\">intelligence</span>=<span style=\"color: #008080; text-decoration-color: #008080; font-weight: bold\">0</span>, <span style=\"color: #808000; text-decoration-color: #808000\">wisdom</span>=<span style=\"color: #008080; text-decoration-color: #008080; font-weight: bold\">0</span>, <span style=\"color: #808000; text-decoration-color: #808000\">charisma</span>=<span style=\"color: #008080; text-decoration-color: #008080; font-weight: bold\">0</span><span style=\"font-weight: bold\">)</span>,                   \n",
       "<span style=\"color: #7fbfbf; text-decoration-color: #7fbfbf\">                    </span>         <span style=\"color: #808000; text-decoration-color: #808000\">final_ability_scores</span>=<span style=\"color: #800080; text-decoration-color: #800080; font-weight: bold\">AbilityScores</span><span style=\"font-weight: bold\">(</span><span style=\"color: #808000; text-decoration-color: #808000\">strength</span>=<span style=\"color: #008080; text-decoration-color: #008080; font-weight: bold\">8</span>, <span style=\"color: #808000; text-decoration-color: #808000\">dexterity</span>=<span style=\"color: #008080; text-decoration-color: #008080; font-weight: bold\">10</span>, <span style=\"color: #808000; text-decoration-color: #808000\">constitution</span>=<span style=\"color: #008080; text-decoration-color: #008080; font-weight: bold\">8</span>,          \n",
       "<span style=\"color: #7fbfbf; text-decoration-color: #7fbfbf\">                    </span>         <span style=\"color: #808000; text-decoration-color: #808000\">intelligence</span>=<span style=\"color: #008080; text-decoration-color: #008080; font-weight: bold\">8</span>, <span style=\"color: #808000; text-decoration-color: #808000\">wisdom</span>=<span style=\"color: #008080; text-decoration-color: #008080; font-weight: bold\">8</span>, <span style=\"color: #808000; text-decoration-color: #808000\">charisma</span>=<span style=\"color: #008080; text-decoration-color: #008080; font-weight: bold\">8</span><span style=\"font-weight: bold\">)</span>,                                                \n",
       "<span style=\"color: #7fbfbf; text-decoration-color: #7fbfbf\">                    </span>         <span style=\"color: #808000; text-decoration-color: #808000\">saving_throw_proficiencies</span>=<span style=\"color: #800080; text-decoration-color: #800080; font-weight: bold\">SavingThrowProficiences</span><span style=\"font-weight: bold\">(</span><span style=\"color: #808000; text-decoration-color: #808000\">strength</span>=<span style=\"color: #ff0000; text-decoration-color: #ff0000; font-style: italic\">False</span>, <span style=\"color: #808000; text-decoration-color: #808000\">dexterity</span>=<span style=\"color: #ff0000; text-decoration-color: #ff0000; font-style: italic\">False</span>,   \n",
       "<span style=\"color: #7fbfbf; text-decoration-color: #7fbfbf\">                    </span>         <span style=\"color: #808000; text-decoration-color: #808000\">constitution</span>=<span style=\"color: #ff0000; text-decoration-color: #ff0000; font-style: italic\">False</span>, <span style=\"color: #808000; text-decoration-color: #808000\">intelligence</span>=<span style=\"color: #ff0000; text-decoration-color: #ff0000; font-style: italic\">False</span>, <span style=\"color: #808000; text-decoration-color: #808000\">wisdom</span>=<span style=\"color: #ff0000; text-decoration-color: #ff0000; font-style: italic\">False</span>, <span style=\"color: #808000; text-decoration-color: #808000\">charisma</span>=<span style=\"color: #ff0000; text-decoration-color: #ff0000; font-style: italic\">False</span><span style=\"font-weight: bold\">)</span>,                \n",
       "<span style=\"color: #7fbfbf; text-decoration-color: #7fbfbf\">                    </span>         <span style=\"color: #808000; text-decoration-color: #808000\">skill_proficiencies</span>=<span style=\"color: #800080; text-decoration-color: #800080; font-weight: bold\">SkillProficiences</span><span style=\"font-weight: bold\">(</span><span style=\"color: #808000; text-decoration-color: #808000\">acrobatics</span>=<span style=\"color: #ff0000; text-decoration-color: #ff0000; font-style: italic\">False</span>, <span style=\"color: #808000; text-decoration-color: #808000\">animal_handling</span>=<span style=\"color: #ff0000; text-decoration-color: #ff0000; font-style: italic\">False</span>,        \n",
       "<span style=\"color: #7fbfbf; text-decoration-color: #7fbfbf\">                    </span>         <span style=\"color: #808000; text-decoration-color: #808000\">arcana</span>=<span style=\"color: #ff0000; text-decoration-color: #ff0000; font-style: italic\">False</span>, <span style=\"color: #808000; text-decoration-color: #808000\">athletics</span>=<span style=\"color: #ff0000; text-decoration-color: #ff0000; font-style: italic\">False</span>, <span style=\"color: #808000; text-decoration-color: #808000\">deception</span>=<span style=\"color: #ff0000; text-decoration-color: #ff0000; font-style: italic\">False</span>, <span style=\"color: #808000; text-decoration-color: #808000\">history</span>=<span style=\"color: #ff0000; text-decoration-color: #ff0000; font-style: italic\">False</span>, <span style=\"color: #808000; text-decoration-color: #808000\">insight</span>=<span style=\"color: #ff0000; text-decoration-color: #ff0000; font-style: italic\">False</span>,         \n",
       "<span style=\"color: #7fbfbf; text-decoration-color: #7fbfbf\">                    </span>         <span style=\"color: #808000; text-decoration-color: #808000\">intimidation</span>=<span style=\"color: #ff0000; text-decoration-color: #ff0000; font-style: italic\">False</span>, <span style=\"color: #808000; text-decoration-color: #808000\">investigation</span>=<span style=\"color: #ff0000; text-decoration-color: #ff0000; font-style: italic\">False</span>, <span style=\"color: #808000; text-decoration-color: #808000\">medicine</span>=<span style=\"color: #ff0000; text-decoration-color: #ff0000; font-style: italic\">False</span>, <span style=\"color: #808000; text-decoration-color: #808000\">nature</span>=<span style=\"color: #ff0000; text-decoration-color: #ff0000; font-style: italic\">False</span>,                \n",
       "<span style=\"color: #7fbfbf; text-decoration-color: #7fbfbf\">                    </span>         <span style=\"color: #808000; text-decoration-color: #808000\">perception</span>=<span style=\"color: #ff0000; text-decoration-color: #ff0000; font-style: italic\">False</span>, <span style=\"color: #808000; text-decoration-color: #808000\">performance</span>=<span style=\"color: #ff0000; text-decoration-color: #ff0000; font-style: italic\">False</span>, <span style=\"color: #808000; text-decoration-color: #808000\">persuasion</span>=<span style=\"color: #ff0000; text-decoration-color: #ff0000; font-style: italic\">False</span>, <span style=\"color: #808000; text-decoration-color: #808000\">religion</span>=<span style=\"color: #ff0000; text-decoration-color: #ff0000; font-style: italic\">False</span>,                \n",
       "<span style=\"color: #7fbfbf; text-decoration-color: #7fbfbf\">                    </span>         <span style=\"color: #808000; text-decoration-color: #808000\">sleight_of_hand</span>=<span style=\"color: #ff0000; text-decoration-color: #ff0000; font-style: italic\">False</span>, <span style=\"color: #808000; text-decoration-color: #808000\">stealth</span>=<span style=\"color: #ff0000; text-decoration-color: #ff0000; font-style: italic\">False</span>, <span style=\"color: #808000; text-decoration-color: #808000\">survival</span>=<span style=\"color: #ff0000; text-decoration-color: #ff0000; font-style: italic\">False</span><span style=\"font-weight: bold\">)</span>, <span style=\"color: #808000; text-decoration-color: #808000\">AC</span>=<span style=\"color: #008080; text-decoration-color: #008080; font-weight: bold\">10</span>, <span style=\"color: #808000; text-decoration-color: #808000\">speed</span>=<span style=\"color: #008080; text-decoration-color: #008080; font-weight: bold\">30</span>,               \n",
       "<span style=\"color: #7fbfbf; text-decoration-color: #7fbfbf\">                    </span>         <span style=\"color: #808000; text-decoration-color: #808000\">hit_point_max</span>=<span style=\"color: #008080; text-decoration-color: #008080; font-weight: bold\">6</span><span style=\"font-weight: bold\">)</span>                                                                      \n",
       "</pre>\n"
      ],
      "text/plain": [
       "\u001b[2;36m                   \u001b[0m\u001b[2;36m \u001b[0m\u001b[34mINFO    \u001b[0m Subtask bdf0685c3a5d4eb7a1f3a8df2f7d8f98                                              \n",
       "\u001b[2;36m                    \u001b[0m         Observation: \u001b[1;35mCharacter\u001b[0m\u001b[1m(\u001b[0m\u001b[33mname\u001b[0m=\u001b[3;35mNone\u001b[0m, \u001b[33mclass_\u001b[0m=\u001b[3;35mNone\u001b[0m, \u001b[33msubclasse\u001b[0m=\u001b[3;35mNone\u001b[0m, \u001b[33mlevel\u001b[0m=\u001b[1;36m1\u001b[0m,               \n",
       "\u001b[2;36m                    \u001b[0m         \u001b[33mrace\u001b[0m=\u001b[32m'halfling'\u001b[0m, \u001b[33malignment\u001b[0m=\u001b[3;35mNone\u001b[0m, \u001b[33mbackground\u001b[0m=\u001b[3;35mNone\u001b[0m, \u001b[33mproficiency_bonus\u001b[0m=\u001b[1;36m2\u001b[0m,                \n",
       "\u001b[2;36m                    \u001b[0m         \u001b[33mbase_ability_scores\u001b[0m=\u001b[1;35mAbilityScores\u001b[0m\u001b[1m(\u001b[0m\u001b[33mstrength\u001b[0m=\u001b[1;36m8\u001b[0m, \u001b[33mdexterity\u001b[0m=\u001b[1;36m8\u001b[0m, \u001b[33mconstitution\u001b[0m=\u001b[1;36m8\u001b[0m,            \n",
       "\u001b[2;36m                    \u001b[0m         \u001b[33mintelligence\u001b[0m=\u001b[1;36m8\u001b[0m, \u001b[33mwisdom\u001b[0m=\u001b[1;36m8\u001b[0m, \u001b[33mcharisma\u001b[0m=\u001b[1;36m8\u001b[0m\u001b[1m)\u001b[0m, \u001b[33mracial_ability_bonus\u001b[0m=\u001b[1;35mAbilityScores\u001b[0m\u001b[1m(\u001b[0m\u001b[33mstrength\u001b[0m=\u001b[1;36m0\u001b[0m, \n",
       "\u001b[2;36m                    \u001b[0m         \u001b[33mdexterity\u001b[0m=\u001b[1;36m2\u001b[0m, \u001b[33mconstitution\u001b[0m=\u001b[1;36m0\u001b[0m, \u001b[33mintelligence\u001b[0m=\u001b[1;36m0\u001b[0m, \u001b[33mwisdom\u001b[0m=\u001b[1;36m0\u001b[0m, \u001b[33mcharisma\u001b[0m=\u001b[1;36m0\u001b[0m\u001b[1m)\u001b[0m,                   \n",
       "\u001b[2;36m                    \u001b[0m         \u001b[33mfinal_ability_scores\u001b[0m=\u001b[1;35mAbilityScores\u001b[0m\u001b[1m(\u001b[0m\u001b[33mstrength\u001b[0m=\u001b[1;36m8\u001b[0m, \u001b[33mdexterity\u001b[0m=\u001b[1;36m10\u001b[0m, \u001b[33mconstitution\u001b[0m=\u001b[1;36m8\u001b[0m,          \n",
       "\u001b[2;36m                    \u001b[0m         \u001b[33mintelligence\u001b[0m=\u001b[1;36m8\u001b[0m, \u001b[33mwisdom\u001b[0m=\u001b[1;36m8\u001b[0m, \u001b[33mcharisma\u001b[0m=\u001b[1;36m8\u001b[0m\u001b[1m)\u001b[0m,                                                \n",
       "\u001b[2;36m                    \u001b[0m         \u001b[33msaving_throw_proficiencies\u001b[0m=\u001b[1;35mSavingThrowProficiences\u001b[0m\u001b[1m(\u001b[0m\u001b[33mstrength\u001b[0m=\u001b[3;91mFalse\u001b[0m, \u001b[33mdexterity\u001b[0m=\u001b[3;91mFalse\u001b[0m,   \n",
       "\u001b[2;36m                    \u001b[0m         \u001b[33mconstitution\u001b[0m=\u001b[3;91mFalse\u001b[0m, \u001b[33mintelligence\u001b[0m=\u001b[3;91mFalse\u001b[0m, \u001b[33mwisdom\u001b[0m=\u001b[3;91mFalse\u001b[0m, \u001b[33mcharisma\u001b[0m=\u001b[3;91mFalse\u001b[0m\u001b[1m)\u001b[0m,                \n",
       "\u001b[2;36m                    \u001b[0m         \u001b[33mskill_proficiencies\u001b[0m=\u001b[1;35mSkillProficiences\u001b[0m\u001b[1m(\u001b[0m\u001b[33macrobatics\u001b[0m=\u001b[3;91mFalse\u001b[0m, \u001b[33manimal_handling\u001b[0m=\u001b[3;91mFalse\u001b[0m,        \n",
       "\u001b[2;36m                    \u001b[0m         \u001b[33marcana\u001b[0m=\u001b[3;91mFalse\u001b[0m, \u001b[33mathletics\u001b[0m=\u001b[3;91mFalse\u001b[0m, \u001b[33mdeception\u001b[0m=\u001b[3;91mFalse\u001b[0m, \u001b[33mhistory\u001b[0m=\u001b[3;91mFalse\u001b[0m, \u001b[33minsight\u001b[0m=\u001b[3;91mFalse\u001b[0m,         \n",
       "\u001b[2;36m                    \u001b[0m         \u001b[33mintimidation\u001b[0m=\u001b[3;91mFalse\u001b[0m, \u001b[33minvestigation\u001b[0m=\u001b[3;91mFalse\u001b[0m, \u001b[33mmedicine\u001b[0m=\u001b[3;91mFalse\u001b[0m, \u001b[33mnature\u001b[0m=\u001b[3;91mFalse\u001b[0m,                \n",
       "\u001b[2;36m                    \u001b[0m         \u001b[33mperception\u001b[0m=\u001b[3;91mFalse\u001b[0m, \u001b[33mperformance\u001b[0m=\u001b[3;91mFalse\u001b[0m, \u001b[33mpersuasion\u001b[0m=\u001b[3;91mFalse\u001b[0m, \u001b[33mreligion\u001b[0m=\u001b[3;91mFalse\u001b[0m,                \n",
       "\u001b[2;36m                    \u001b[0m         \u001b[33msleight_of_hand\u001b[0m=\u001b[3;91mFalse\u001b[0m, \u001b[33mstealth\u001b[0m=\u001b[3;91mFalse\u001b[0m, \u001b[33msurvival\u001b[0m=\u001b[3;91mFalse\u001b[0m\u001b[1m)\u001b[0m, \u001b[33mAC\u001b[0m=\u001b[1;36m10\u001b[0m, \u001b[33mspeed\u001b[0m=\u001b[1;36m30\u001b[0m,               \n",
       "\u001b[2;36m                    \u001b[0m         \u001b[33mhit_point_max\u001b[0m=\u001b[1;36m6\u001b[0m\u001b[1m)\u001b[0m                                                                      \n"
      ]
     },
     "metadata": {},
     "output_type": "display_data"
    },
    {
     "data": {
      "text/html": [
       "<pre style=\"white-space:pre;overflow-x:auto;line-height:normal;font-family:Menlo,'DejaVu Sans Mono',consolas,'Courier New',monospace\"><span style=\"color: #7fbfbf; text-decoration-color: #7fbfbf\">[10/01/23 02:01:39] </span><span style=\"color: #000080; text-decoration-color: #000080\">INFO    </span> ToolkitTask 8b2676c289404107b1ba0831e6feae13                                          \n",
       "<span style=\"color: #7fbfbf; text-decoration-color: #7fbfbf\">                    </span>         Output: Your choice of race has been logged. You are now a Halfling, which gives you a\n",
       "<span style=\"color: #7fbfbf; text-decoration-color: #7fbfbf\">                    </span>         +<span style=\"color: #008080; text-decoration-color: #008080; font-weight: bold\">2</span> bonus to Dexterity.                                                                \n",
       "<span style=\"color: #7fbfbf; text-decoration-color: #7fbfbf\">                    </span>                                                                                               \n",
       "<span style=\"color: #7fbfbf; text-decoration-color: #7fbfbf\">                    </span>         Next, we'll move on to selecting a class for your character. This will determine your \n",
       "<span style=\"color: #7fbfbf; text-decoration-color: #7fbfbf\">                    </span>         character's profession or vocation, such as a rogue, wizard, or fighter.              \n",
       "</pre>\n"
      ],
      "text/plain": [
       "\u001b[2;36m[10/01/23 02:01:39]\u001b[0m\u001b[2;36m \u001b[0m\u001b[34mINFO    \u001b[0m ToolkitTask 8b2676c289404107b1ba0831e6feae13                                          \n",
       "\u001b[2;36m                    \u001b[0m         Output: Your choice of race has been logged. You are now a Halfling, which gives you a\n",
       "\u001b[2;36m                    \u001b[0m         +\u001b[1;36m2\u001b[0m bonus to Dexterity.                                                                \n",
       "\u001b[2;36m                    \u001b[0m                                                                                               \n",
       "\u001b[2;36m                    \u001b[0m         Next, we'll move on to selecting a class for your character. This will determine your \n",
       "\u001b[2;36m                    \u001b[0m         character's profession or vocation, such as a rogue, wizard, or fighter.              \n"
      ]
     },
     "metadata": {},
     "output_type": "display_data"
    },
    {
     "name": "stdout",
     "output_type": "stream",
     "text": [
      "I'm the assistant DM, here to help with character creation.\n",
      "            Let's start with choosing a class\n"
     ]
    },
    {
     "data": {
      "text/html": [
       "<pre style=\"white-space:pre;overflow-x:auto;line-height:normal;font-family:Menlo,'DejaVu Sans Mono',consolas,'Courier New',monospace\"><span style=\"color: #7fbfbf; text-decoration-color: #7fbfbf\">[10/01/23 02:01:41] </span><span style=\"color: #000080; text-decoration-color: #000080\">INFO    </span> ToolkitTask b167dc3ecf19400eb85fc06ed8922e2b                                          \n",
       "<span style=\"color: #7fbfbf; text-decoration-color: #7fbfbf\">                    </span>         Input:                                                                                \n",
       "<span style=\"color: #7fbfbf; text-decoration-color: #7fbfbf\">                    </span>                     Introduce yourself to the user and tell them which part                   \n",
       "<span style=\"color: #7fbfbf; text-decoration-color: #7fbfbf\">                    </span>                     of character creation we're working on.                                   \n",
       "<span style=\"color: #7fbfbf; text-decoration-color: #7fbfbf\">                    </span>                                                                                               \n",
       "</pre>\n"
      ],
      "text/plain": [
       "\u001b[2;36m[10/01/23 02:01:41]\u001b[0m\u001b[2;36m \u001b[0m\u001b[34mINFO    \u001b[0m ToolkitTask b167dc3ecf19400eb85fc06ed8922e2b                                          \n",
       "\u001b[2;36m                    \u001b[0m         Input:                                                                                \n",
       "\u001b[2;36m                    \u001b[0m                     Introduce yourself to the user and tell them which part                   \n",
       "\u001b[2;36m                    \u001b[0m                     of character creation we're working on.                                   \n",
       "\u001b[2;36m                    \u001b[0m                                                                                               \n"
      ]
     },
     "metadata": {},
     "output_type": "display_data"
    },
    {
     "name": "stderr",
     "output_type": "stream",
     "text": [
      "WARNING:root:<RetryCallState 140593270369104: attempt #1; slept for 0.0; last result: failed (RateLimitError Rate limit reached for 10KTPM-200RPM in organization org-lJzn8UVqpPw5xjPRDo2LWrkb on tokens per min. Limit: 10000 / min. Please try again in 6ms. Contact us through our help center at help.openai.com if you continue to have issues.)>\n"
     ]
    },
    {
     "data": {
      "text/html": [
       "<pre style=\"white-space:pre;overflow-x:auto;line-height:normal;font-family:Menlo,'DejaVu Sans Mono',consolas,'Courier New',monospace\"><span style=\"color: #7fbfbf; text-decoration-color: #7fbfbf\">[10/01/23 02:01:46] </span><span style=\"color: #000080; text-decoration-color: #000080\">INFO    </span> ToolkitTask b167dc3ecf19400eb85fc06ed8922e2b                                          \n",
       "<span style=\"color: #7fbfbf; text-decoration-color: #7fbfbf\">                    </span>         Output: Hello! I'm your Dungeon Master assistant. We're currently working on choosing \n",
       "<span style=\"color: #7fbfbf; text-decoration-color: #7fbfbf\">                    </span>         a class for your character. Let's get started!                                        \n",
       "</pre>\n"
      ],
      "text/plain": [
       "\u001b[2;36m[10/01/23 02:01:46]\u001b[0m\u001b[2;36m \u001b[0m\u001b[34mINFO    \u001b[0m ToolkitTask b167dc3ecf19400eb85fc06ed8922e2b                                          \n",
       "\u001b[2;36m                    \u001b[0m         Output: Hello! I'm your Dungeon Master assistant. We're currently working on choosing \n",
       "\u001b[2;36m                    \u001b[0m         a class for your character. Let's get started!                                        \n"
      ]
     },
     "metadata": {},
     "output_type": "display_data"
    }
   ],
   "source": [
    "response = conv.run(\"Ok, I'll be a halfling\")"
   ]
  },
  {
   "cell_type": "code",
   "execution_count": 8,
   "id": "5838c683-8779-4a66-a451-94d10e27c1a9",
   "metadata": {},
   "outputs": [
    {
     "name": "stdout",
     "output_type": "stream",
     "text": [
      "halfling\n",
      "AbilityScores(strength=8, dexterity=10, constitution=8, intelligence=8, wisdom=8, charisma=8)\n"
     ]
    }
   ],
   "source": [
    "print(conv.character_sheet.race)\n",
    "print(conv.character_sheet.final_ability_scores)"
   ]
  },
  {
   "cell_type": "code",
   "execution_count": 9,
   "id": "5c1e5793-1b92-4b1e-af8e-04244216e2c2",
   "metadata": {},
   "outputs": [
    {
     "name": "stdout",
     "output_type": "stream",
     "text": [
      "None\n",
      "SavingThrowProficiences(strength=False, dexterity=False, constitution=False, intelligence=False, wisdom=False, charisma=False)\n"
     ]
    }
   ],
   "source": [
    "print(conv.character_sheet.class_)\n",
    "print(conv.character_sheet.saving_throw_proficiencies)"
   ]
  },
  {
   "cell_type": "code",
   "execution_count": 10,
   "id": "94110fb1-31c3-4ca7-b5d6-78c5dd9628e2",
   "metadata": {
    "scrolled": true
   },
   "outputs": [
    {
     "data": {
      "text/html": [
       "<pre style=\"white-space:pre;overflow-x:auto;line-height:normal;font-family:Menlo,'DejaVu Sans Mono',consolas,'Courier New',monospace\"><span style=\"color: #7fbfbf; text-decoration-color: #7fbfbf\">                    </span><span style=\"color: #000080; text-decoration-color: #000080\">INFO    </span> ToolkitTask b167dc3ecf19400eb85fc06ed8922e2b                                          \n",
       "<span style=\"color: #7fbfbf; text-decoration-color: #7fbfbf\">                    </span>         Input: What classes are good for halflings. You said before that halflings make good  \n",
       "<span style=\"color: #7fbfbf; text-decoration-color: #7fbfbf\">                    </span>         rogues.                                                                               \n",
       "</pre>\n"
      ],
      "text/plain": [
       "\u001b[2;36m                   \u001b[0m\u001b[2;36m \u001b[0m\u001b[34mINFO    \u001b[0m ToolkitTask b167dc3ecf19400eb85fc06ed8922e2b                                          \n",
       "\u001b[2;36m                    \u001b[0m         Input: What classes are good for halflings. You said before that halflings make good  \n",
       "\u001b[2;36m                    \u001b[0m         rogues.                                                                               \n"
      ]
     },
     "metadata": {},
     "output_type": "display_data"
    },
    {
     "name": "stderr",
     "output_type": "stream",
     "text": [
      "WARNING:root:<RetryCallState 140593270360528: attempt #1; slept for 0.0; last result: failed (RateLimitError Rate limit reached for 10KTPM-200RPM in organization org-lJzn8UVqpPw5xjPRDo2LWrkb on tokens per min. Limit: 10000 / min. Please try again in 6ms. Contact us through our help center at help.openai.com if you continue to have issues.)>\n",
      "WARNING:root:<RetryCallState 140593270360528: attempt #2; slept for 2.0; last result: failed (RateLimitError Rate limit reached for 10KTPM-200RPM in organization org-lJzn8UVqpPw5xjPRDo2LWrkb on tokens per min. Limit: 10000 / min. Please try again in 6ms. Contact us through our help center at help.openai.com if you continue to have issues.)>\n",
      "WARNING:root:<RetryCallState 140593270360528: attempt #3; slept for 4.0; last result: failed (RateLimitError Rate limit reached for 10KTPM-200RPM in organization org-lJzn8UVqpPw5xjPRDo2LWrkb on tokens per min. Limit: 10000 / min. Please try again in 6ms. Contact us through our help center at help.openai.com if you continue to have issues.)>\n"
     ]
    },
    {
     "data": {
      "text/html": [
       "<pre style=\"white-space:pre;overflow-x:auto;line-height:normal;font-family:Menlo,'DejaVu Sans Mono',consolas,'Courier New',monospace\"><span style=\"color: #7fbfbf; text-decoration-color: #7fbfbf\">[10/01/23 02:02:00] </span><span style=\"color: #000080; text-decoration-color: #000080\">INFO    </span> ToolkitTask b167dc3ecf19400eb85fc06ed8922e2b                                          \n",
       "<span style=\"color: #7fbfbf; text-decoration-color: #7fbfbf\">                    </span>         Output: That's correct! Halflings, with their natural Dexterity bonus, make excellent \n",
       "<span style=\"color: #7fbfbf; text-decoration-color: #7fbfbf\">                    </span>         Rogues. However, they can also excel in other classes that benefit from high Dexterity\n",
       "<span style=\"color: #7fbfbf; text-decoration-color: #7fbfbf\">                    </span>         or Charisma. For example, a Halfling could be a good Bard, Ranger, or even a Monk.    \n",
       "<span style=\"color: #7fbfbf; text-decoration-color: #7fbfbf\">                    </span>         Ultimately, the choice depends on your preferred playstyle.                           \n",
       "</pre>\n"
      ],
      "text/plain": [
       "\u001b[2;36m[10/01/23 02:02:00]\u001b[0m\u001b[2;36m \u001b[0m\u001b[34mINFO    \u001b[0m ToolkitTask b167dc3ecf19400eb85fc06ed8922e2b                                          \n",
       "\u001b[2;36m                    \u001b[0m         Output: That's correct! Halflings, with their natural Dexterity bonus, make excellent \n",
       "\u001b[2;36m                    \u001b[0m         Rogues. However, they can also excel in other classes that benefit from high Dexterity\n",
       "\u001b[2;36m                    \u001b[0m         or Charisma. For example, a Halfling could be a good Bard, Ranger, or even a Monk.    \n",
       "\u001b[2;36m                    \u001b[0m         Ultimately, the choice depends on your preferred playstyle.                           \n"
      ]
     },
     "metadata": {},
     "output_type": "display_data"
    }
   ],
   "source": [
    "response = conv.run(\"What classes are good for halflings. You said before that halflings make good rogues.\")"
   ]
  },
  {
   "cell_type": "code",
   "execution_count": 11,
   "id": "de160ea1-adc3-46be-aaf6-b93a24ade566",
   "metadata": {},
   "outputs": [
    {
     "data": {
      "text/html": [
       "<pre style=\"white-space:pre;overflow-x:auto;line-height:normal;font-family:Menlo,'DejaVu Sans Mono',consolas,'Courier New',monospace\"><span style=\"color: #7fbfbf; text-decoration-color: #7fbfbf\">[10/01/23 02:02:09] </span><span style=\"color: #000080; text-decoration-color: #000080\">INFO    </span> ToolkitTask b167dc3ecf19400eb85fc06ed8922e2b                                          \n",
       "<span style=\"color: #7fbfbf; text-decoration-color: #7fbfbf\">                    </span>         Input: Ok, I'll be a rogue                                                            \n",
       "</pre>\n"
      ],
      "text/plain": [
       "\u001b[2;36m[10/01/23 02:02:09]\u001b[0m\u001b[2;36m \u001b[0m\u001b[34mINFO    \u001b[0m ToolkitTask b167dc3ecf19400eb85fc06ed8922e2b                                          \n",
       "\u001b[2;36m                    \u001b[0m         Input: Ok, I'll be a rogue                                                            \n"
      ]
     },
     "metadata": {},
     "output_type": "display_data"
    },
    {
     "data": {
      "text/html": [
       "<pre style=\"white-space:pre;overflow-x:auto;line-height:normal;font-family:Menlo,'DejaVu Sans Mono',consolas,'Courier New',monospace\"><span style=\"color: #7fbfbf; text-decoration-color: #7fbfbf\">[10/01/23 02:02:16] </span><span style=\"color: #000080; text-decoration-color: #000080\">INFO    </span> Subtask 8d3d714fd59c4e1791f2d73905d6c2d4                                              \n",
       "<span style=\"color: #7fbfbf; text-decoration-color: #7fbfbf\">                    </span>         Thought: The user has chosen to be a Rogue. I need to update the character sheet with \n",
       "<span style=\"color: #7fbfbf; text-decoration-color: #7fbfbf\">                    </span>         this new class. Rogues have proficiency in Dexterity and Intelligence saving throws.  \n",
       "<span style=\"color: #7fbfbf; text-decoration-color: #7fbfbf\">                    </span>         Action: <span style=\"font-weight: bold\">{</span><span style=\"color: #008000; text-decoration-color: #008000\">\"type\"</span>: <span style=\"color: #008000; text-decoration-color: #008000\">\"tool\"</span>, <span style=\"color: #008000; text-decoration-color: #008000\">\"name\"</span>: <span style=\"color: #008000; text-decoration-color: #008000\">\"CharacterSheetUpdater\"</span>, <span style=\"color: #008000; text-decoration-color: #008000\">\"activity\"</span>: <span style=\"color: #008000; text-decoration-color: #008000\">\"update_class\"</span>, \n",
       "<span style=\"color: #7fbfbf; text-decoration-color: #7fbfbf\">                    </span>         <span style=\"color: #008000; text-decoration-color: #008000\">\"input\"</span>: <span style=\"font-weight: bold\">{</span><span style=\"color: #008000; text-decoration-color: #008000\">\"values\"</span>: <span style=\"font-weight: bold\">{</span><span style=\"color: #008000; text-decoration-color: #008000\">\"class\"</span>: <span style=\"color: #008000; text-decoration-color: #008000\">\"Rogue\"</span>, <span style=\"color: #008000; text-decoration-color: #008000\">\"saving_throws\"</span>: <span style=\"color: #008000; text-decoration-color: #008000\">\"{\\\"dexterity\\\": true, </span>       \n",
       "<span style=\"color: #7fbfbf; text-decoration-color: #7fbfbf\">                    </span>         <span style=\"color: #008000; text-decoration-color: #008000\">\\\"intelligence\\\": true}\"</span><span style=\"font-weight: bold\">}}}</span>                                                           \n",
       "</pre>\n"
      ],
      "text/plain": [
       "\u001b[2;36m[10/01/23 02:02:16]\u001b[0m\u001b[2;36m \u001b[0m\u001b[34mINFO    \u001b[0m Subtask 8d3d714fd59c4e1791f2d73905d6c2d4                                              \n",
       "\u001b[2;36m                    \u001b[0m         Thought: The user has chosen to be a Rogue. I need to update the character sheet with \n",
       "\u001b[2;36m                    \u001b[0m         this new class. Rogues have proficiency in Dexterity and Intelligence saving throws.  \n",
       "\u001b[2;36m                    \u001b[0m         Action: \u001b[1m{\u001b[0m\u001b[32m\"type\"\u001b[0m: \u001b[32m\"tool\"\u001b[0m, \u001b[32m\"name\"\u001b[0m: \u001b[32m\"CharacterSheetUpdater\"\u001b[0m, \u001b[32m\"activity\"\u001b[0m: \u001b[32m\"update_class\"\u001b[0m, \n",
       "\u001b[2;36m                    \u001b[0m         \u001b[32m\"input\"\u001b[0m: \u001b[1m{\u001b[0m\u001b[32m\"values\"\u001b[0m: \u001b[1m{\u001b[0m\u001b[32m\"class\"\u001b[0m: \u001b[32m\"Rogue\"\u001b[0m, \u001b[32m\"saving_throws\"\u001b[0m: \u001b[32m\"\u001b[0m\u001b[32m{\u001b[0m\u001b[32m\\\"dexterity\\\": true, \u001b[0m       \n",
       "\u001b[2;36m                    \u001b[0m         \u001b[32m\\\"intelligence\\\": true\u001b[0m\u001b[32m}\u001b[0m\u001b[32m\"\u001b[0m\u001b[1m}\u001b[0m\u001b[1m}\u001b[0m\u001b[1m}\u001b[0m                                                           \n"
      ]
     },
     "metadata": {},
     "output_type": "display_data"
    },
    {
     "name": "stderr",
     "output_type": "stream",
     "text": [
      "WARNING:root:Activity result is not an artifact; converting result to InfoArtifact\n"
     ]
    },
    {
     "data": {
      "text/html": [
       "<pre style=\"white-space:pre;overflow-x:auto;line-height:normal;font-family:Menlo,'DejaVu Sans Mono',consolas,'Courier New',monospace\"><span style=\"color: #7fbfbf; text-decoration-color: #7fbfbf\">                    </span><span style=\"color: #000080; text-decoration-color: #000080\">INFO    </span> Subtask 8d3d714fd59c4e1791f2d73905d6c2d4                                              \n",
       "<span style=\"color: #7fbfbf; text-decoration-color: #7fbfbf\">                    </span>         Observation: <span style=\"color: #800080; text-decoration-color: #800080; font-weight: bold\">Character</span><span style=\"font-weight: bold\">(</span><span style=\"color: #808000; text-decoration-color: #808000\">name</span>=<span style=\"color: #800080; text-decoration-color: #800080; font-style: italic\">None</span>, <span style=\"color: #808000; text-decoration-color: #808000\">class_</span>=<span style=\"color: #008000; text-decoration-color: #008000\">'rogue'</span>, <span style=\"color: #808000; text-decoration-color: #808000\">subclasse</span>=<span style=\"color: #800080; text-decoration-color: #800080; font-style: italic\">None</span>, <span style=\"color: #808000; text-decoration-color: #808000\">level</span>=<span style=\"color: #008080; text-decoration-color: #008080; font-weight: bold\">1</span>,            \n",
       "<span style=\"color: #7fbfbf; text-decoration-color: #7fbfbf\">                    </span>         <span style=\"color: #808000; text-decoration-color: #808000\">race</span>=<span style=\"color: #008000; text-decoration-color: #008000\">'halfling'</span>, <span style=\"color: #808000; text-decoration-color: #808000\">alignment</span>=<span style=\"color: #800080; text-decoration-color: #800080; font-style: italic\">None</span>, <span style=\"color: #808000; text-decoration-color: #808000\">background</span>=<span style=\"color: #800080; text-decoration-color: #800080; font-style: italic\">None</span>, <span style=\"color: #808000; text-decoration-color: #808000\">proficiency_bonus</span>=<span style=\"color: #008080; text-decoration-color: #008080; font-weight: bold\">2</span>,                \n",
       "<span style=\"color: #7fbfbf; text-decoration-color: #7fbfbf\">                    </span>         <span style=\"color: #808000; text-decoration-color: #808000\">base_ability_scores</span>=<span style=\"color: #800080; text-decoration-color: #800080; font-weight: bold\">AbilityScores</span><span style=\"font-weight: bold\">(</span><span style=\"color: #808000; text-decoration-color: #808000\">strength</span>=<span style=\"color: #008080; text-decoration-color: #008080; font-weight: bold\">8</span>, <span style=\"color: #808000; text-decoration-color: #808000\">dexterity</span>=<span style=\"color: #008080; text-decoration-color: #008080; font-weight: bold\">8</span>, <span style=\"color: #808000; text-decoration-color: #808000\">constitution</span>=<span style=\"color: #008080; text-decoration-color: #008080; font-weight: bold\">8</span>,            \n",
       "<span style=\"color: #7fbfbf; text-decoration-color: #7fbfbf\">                    </span>         <span style=\"color: #808000; text-decoration-color: #808000\">intelligence</span>=<span style=\"color: #008080; text-decoration-color: #008080; font-weight: bold\">8</span>, <span style=\"color: #808000; text-decoration-color: #808000\">wisdom</span>=<span style=\"color: #008080; text-decoration-color: #008080; font-weight: bold\">8</span>, <span style=\"color: #808000; text-decoration-color: #808000\">charisma</span>=<span style=\"color: #008080; text-decoration-color: #008080; font-weight: bold\">8</span><span style=\"font-weight: bold\">)</span>, <span style=\"color: #808000; text-decoration-color: #808000\">racial_ability_bonus</span>=<span style=\"color: #800080; text-decoration-color: #800080; font-weight: bold\">AbilityScores</span><span style=\"font-weight: bold\">(</span><span style=\"color: #808000; text-decoration-color: #808000\">strength</span>=<span style=\"color: #008080; text-decoration-color: #008080; font-weight: bold\">0</span>, \n",
       "<span style=\"color: #7fbfbf; text-decoration-color: #7fbfbf\">                    </span>         <span style=\"color: #808000; text-decoration-color: #808000\">dexterity</span>=<span style=\"color: #008080; text-decoration-color: #008080; font-weight: bold\">2</span>, <span style=\"color: #808000; text-decoration-color: #808000\">constitution</span>=<span style=\"color: #008080; text-decoration-color: #008080; font-weight: bold\">0</span>, <span style=\"color: #808000; text-decoration-color: #808000\">intelligence</span>=<span style=\"color: #008080; text-decoration-color: #008080; font-weight: bold\">0</span>, <span style=\"color: #808000; text-decoration-color: #808000\">wisdom</span>=<span style=\"color: #008080; text-decoration-color: #008080; font-weight: bold\">0</span>, <span style=\"color: #808000; text-decoration-color: #808000\">charisma</span>=<span style=\"color: #008080; text-decoration-color: #008080; font-weight: bold\">0</span><span style=\"font-weight: bold\">)</span>,                   \n",
       "<span style=\"color: #7fbfbf; text-decoration-color: #7fbfbf\">                    </span>         <span style=\"color: #808000; text-decoration-color: #808000\">final_ability_scores</span>=<span style=\"color: #800080; text-decoration-color: #800080; font-weight: bold\">AbilityScores</span><span style=\"font-weight: bold\">(</span><span style=\"color: #808000; text-decoration-color: #808000\">strength</span>=<span style=\"color: #008080; text-decoration-color: #008080; font-weight: bold\">8</span>, <span style=\"color: #808000; text-decoration-color: #808000\">dexterity</span>=<span style=\"color: #008080; text-decoration-color: #008080; font-weight: bold\">10</span>, <span style=\"color: #808000; text-decoration-color: #808000\">constitution</span>=<span style=\"color: #008080; text-decoration-color: #008080; font-weight: bold\">8</span>,          \n",
       "<span style=\"color: #7fbfbf; text-decoration-color: #7fbfbf\">                    </span>         <span style=\"color: #808000; text-decoration-color: #808000\">intelligence</span>=<span style=\"color: #008080; text-decoration-color: #008080; font-weight: bold\">8</span>, <span style=\"color: #808000; text-decoration-color: #808000\">wisdom</span>=<span style=\"color: #008080; text-decoration-color: #008080; font-weight: bold\">8</span>, <span style=\"color: #808000; text-decoration-color: #808000\">charisma</span>=<span style=\"color: #008080; text-decoration-color: #008080; font-weight: bold\">8</span><span style=\"font-weight: bold\">)</span>,                                                \n",
       "<span style=\"color: #7fbfbf; text-decoration-color: #7fbfbf\">                    </span>         <span style=\"color: #808000; text-decoration-color: #808000\">saving_throw_proficiencies</span>=<span style=\"color: #800080; text-decoration-color: #800080; font-weight: bold\">SavingThrowProficiences</span><span style=\"font-weight: bold\">(</span><span style=\"color: #808000; text-decoration-color: #808000\">strength</span>=<span style=\"color: #ff0000; text-decoration-color: #ff0000; font-style: italic\">False</span>, <span style=\"color: #808000; text-decoration-color: #808000\">dexterity</span>=<span style=\"color: #00ff00; text-decoration-color: #00ff00; font-style: italic\">True</span>,    \n",
       "<span style=\"color: #7fbfbf; text-decoration-color: #7fbfbf\">                    </span>         <span style=\"color: #808000; text-decoration-color: #808000\">constitution</span>=<span style=\"color: #ff0000; text-decoration-color: #ff0000; font-style: italic\">False</span>, <span style=\"color: #808000; text-decoration-color: #808000\">intelligence</span>=<span style=\"color: #00ff00; text-decoration-color: #00ff00; font-style: italic\">True</span>, <span style=\"color: #808000; text-decoration-color: #808000\">wisdom</span>=<span style=\"color: #ff0000; text-decoration-color: #ff0000; font-style: italic\">False</span>, <span style=\"color: #808000; text-decoration-color: #808000\">charisma</span>=<span style=\"color: #ff0000; text-decoration-color: #ff0000; font-style: italic\">False</span><span style=\"font-weight: bold\">)</span>,                 \n",
       "<span style=\"color: #7fbfbf; text-decoration-color: #7fbfbf\">                    </span>         <span style=\"color: #808000; text-decoration-color: #808000\">skill_proficiencies</span>=<span style=\"color: #800080; text-decoration-color: #800080; font-weight: bold\">SkillProficiences</span><span style=\"font-weight: bold\">(</span><span style=\"color: #808000; text-decoration-color: #808000\">acrobatics</span>=<span style=\"color: #ff0000; text-decoration-color: #ff0000; font-style: italic\">False</span>, <span style=\"color: #808000; text-decoration-color: #808000\">animal_handling</span>=<span style=\"color: #ff0000; text-decoration-color: #ff0000; font-style: italic\">False</span>,        \n",
       "<span style=\"color: #7fbfbf; text-decoration-color: #7fbfbf\">                    </span>         <span style=\"color: #808000; text-decoration-color: #808000\">arcana</span>=<span style=\"color: #ff0000; text-decoration-color: #ff0000; font-style: italic\">False</span>, <span style=\"color: #808000; text-decoration-color: #808000\">athletics</span>=<span style=\"color: #ff0000; text-decoration-color: #ff0000; font-style: italic\">False</span>, <span style=\"color: #808000; text-decoration-color: #808000\">deception</span>=<span style=\"color: #ff0000; text-decoration-color: #ff0000; font-style: italic\">False</span>, <span style=\"color: #808000; text-decoration-color: #808000\">history</span>=<span style=\"color: #ff0000; text-decoration-color: #ff0000; font-style: italic\">False</span>, <span style=\"color: #808000; text-decoration-color: #808000\">insight</span>=<span style=\"color: #ff0000; text-decoration-color: #ff0000; font-style: italic\">False</span>,         \n",
       "<span style=\"color: #7fbfbf; text-decoration-color: #7fbfbf\">                    </span>         <span style=\"color: #808000; text-decoration-color: #808000\">intimidation</span>=<span style=\"color: #ff0000; text-decoration-color: #ff0000; font-style: italic\">False</span>, <span style=\"color: #808000; text-decoration-color: #808000\">investigation</span>=<span style=\"color: #ff0000; text-decoration-color: #ff0000; font-style: italic\">False</span>, <span style=\"color: #808000; text-decoration-color: #808000\">medicine</span>=<span style=\"color: #ff0000; text-decoration-color: #ff0000; font-style: italic\">False</span>, <span style=\"color: #808000; text-decoration-color: #808000\">nature</span>=<span style=\"color: #ff0000; text-decoration-color: #ff0000; font-style: italic\">False</span>,                \n",
       "<span style=\"color: #7fbfbf; text-decoration-color: #7fbfbf\">                    </span>         <span style=\"color: #808000; text-decoration-color: #808000\">perception</span>=<span style=\"color: #ff0000; text-decoration-color: #ff0000; font-style: italic\">False</span>, <span style=\"color: #808000; text-decoration-color: #808000\">performance</span>=<span style=\"color: #ff0000; text-decoration-color: #ff0000; font-style: italic\">False</span>, <span style=\"color: #808000; text-decoration-color: #808000\">persuasion</span>=<span style=\"color: #ff0000; text-decoration-color: #ff0000; font-style: italic\">False</span>, <span style=\"color: #808000; text-decoration-color: #808000\">religion</span>=<span style=\"color: #ff0000; text-decoration-color: #ff0000; font-style: italic\">False</span>,                \n",
       "<span style=\"color: #7fbfbf; text-decoration-color: #7fbfbf\">                    </span>         <span style=\"color: #808000; text-decoration-color: #808000\">sleight_of_hand</span>=<span style=\"color: #ff0000; text-decoration-color: #ff0000; font-style: italic\">False</span>, <span style=\"color: #808000; text-decoration-color: #808000\">stealth</span>=<span style=\"color: #ff0000; text-decoration-color: #ff0000; font-style: italic\">False</span>, <span style=\"color: #808000; text-decoration-color: #808000\">survival</span>=<span style=\"color: #ff0000; text-decoration-color: #ff0000; font-style: italic\">False</span><span style=\"font-weight: bold\">)</span>, <span style=\"color: #808000; text-decoration-color: #808000\">AC</span>=<span style=\"color: #008080; text-decoration-color: #008080; font-weight: bold\">10</span>, <span style=\"color: #808000; text-decoration-color: #808000\">speed</span>=<span style=\"color: #008080; text-decoration-color: #008080; font-weight: bold\">30</span>,               \n",
       "<span style=\"color: #7fbfbf; text-decoration-color: #7fbfbf\">                    </span>         <span style=\"color: #808000; text-decoration-color: #808000\">hit_point_max</span>=<span style=\"color: #008080; text-decoration-color: #008080; font-weight: bold\">6</span><span style=\"font-weight: bold\">)</span>                                                                      \n",
       "</pre>\n"
      ],
      "text/plain": [
       "\u001b[2;36m                   \u001b[0m\u001b[2;36m \u001b[0m\u001b[34mINFO    \u001b[0m Subtask 8d3d714fd59c4e1791f2d73905d6c2d4                                              \n",
       "\u001b[2;36m                    \u001b[0m         Observation: \u001b[1;35mCharacter\u001b[0m\u001b[1m(\u001b[0m\u001b[33mname\u001b[0m=\u001b[3;35mNone\u001b[0m, \u001b[33mclass_\u001b[0m=\u001b[32m'rogue'\u001b[0m, \u001b[33msubclasse\u001b[0m=\u001b[3;35mNone\u001b[0m, \u001b[33mlevel\u001b[0m=\u001b[1;36m1\u001b[0m,            \n",
       "\u001b[2;36m                    \u001b[0m         \u001b[33mrace\u001b[0m=\u001b[32m'halfling'\u001b[0m, \u001b[33malignment\u001b[0m=\u001b[3;35mNone\u001b[0m, \u001b[33mbackground\u001b[0m=\u001b[3;35mNone\u001b[0m, \u001b[33mproficiency_bonus\u001b[0m=\u001b[1;36m2\u001b[0m,                \n",
       "\u001b[2;36m                    \u001b[0m         \u001b[33mbase_ability_scores\u001b[0m=\u001b[1;35mAbilityScores\u001b[0m\u001b[1m(\u001b[0m\u001b[33mstrength\u001b[0m=\u001b[1;36m8\u001b[0m, \u001b[33mdexterity\u001b[0m=\u001b[1;36m8\u001b[0m, \u001b[33mconstitution\u001b[0m=\u001b[1;36m8\u001b[0m,            \n",
       "\u001b[2;36m                    \u001b[0m         \u001b[33mintelligence\u001b[0m=\u001b[1;36m8\u001b[0m, \u001b[33mwisdom\u001b[0m=\u001b[1;36m8\u001b[0m, \u001b[33mcharisma\u001b[0m=\u001b[1;36m8\u001b[0m\u001b[1m)\u001b[0m, \u001b[33mracial_ability_bonus\u001b[0m=\u001b[1;35mAbilityScores\u001b[0m\u001b[1m(\u001b[0m\u001b[33mstrength\u001b[0m=\u001b[1;36m0\u001b[0m, \n",
       "\u001b[2;36m                    \u001b[0m         \u001b[33mdexterity\u001b[0m=\u001b[1;36m2\u001b[0m, \u001b[33mconstitution\u001b[0m=\u001b[1;36m0\u001b[0m, \u001b[33mintelligence\u001b[0m=\u001b[1;36m0\u001b[0m, \u001b[33mwisdom\u001b[0m=\u001b[1;36m0\u001b[0m, \u001b[33mcharisma\u001b[0m=\u001b[1;36m0\u001b[0m\u001b[1m)\u001b[0m,                   \n",
       "\u001b[2;36m                    \u001b[0m         \u001b[33mfinal_ability_scores\u001b[0m=\u001b[1;35mAbilityScores\u001b[0m\u001b[1m(\u001b[0m\u001b[33mstrength\u001b[0m=\u001b[1;36m8\u001b[0m, \u001b[33mdexterity\u001b[0m=\u001b[1;36m10\u001b[0m, \u001b[33mconstitution\u001b[0m=\u001b[1;36m8\u001b[0m,          \n",
       "\u001b[2;36m                    \u001b[0m         \u001b[33mintelligence\u001b[0m=\u001b[1;36m8\u001b[0m, \u001b[33mwisdom\u001b[0m=\u001b[1;36m8\u001b[0m, \u001b[33mcharisma\u001b[0m=\u001b[1;36m8\u001b[0m\u001b[1m)\u001b[0m,                                                \n",
       "\u001b[2;36m                    \u001b[0m         \u001b[33msaving_throw_proficiencies\u001b[0m=\u001b[1;35mSavingThrowProficiences\u001b[0m\u001b[1m(\u001b[0m\u001b[33mstrength\u001b[0m=\u001b[3;91mFalse\u001b[0m, \u001b[33mdexterity\u001b[0m=\u001b[3;92mTrue\u001b[0m,    \n",
       "\u001b[2;36m                    \u001b[0m         \u001b[33mconstitution\u001b[0m=\u001b[3;91mFalse\u001b[0m, \u001b[33mintelligence\u001b[0m=\u001b[3;92mTrue\u001b[0m, \u001b[33mwisdom\u001b[0m=\u001b[3;91mFalse\u001b[0m, \u001b[33mcharisma\u001b[0m=\u001b[3;91mFalse\u001b[0m\u001b[1m)\u001b[0m,                 \n",
       "\u001b[2;36m                    \u001b[0m         \u001b[33mskill_proficiencies\u001b[0m=\u001b[1;35mSkillProficiences\u001b[0m\u001b[1m(\u001b[0m\u001b[33macrobatics\u001b[0m=\u001b[3;91mFalse\u001b[0m, \u001b[33manimal_handling\u001b[0m=\u001b[3;91mFalse\u001b[0m,        \n",
       "\u001b[2;36m                    \u001b[0m         \u001b[33marcana\u001b[0m=\u001b[3;91mFalse\u001b[0m, \u001b[33mathletics\u001b[0m=\u001b[3;91mFalse\u001b[0m, \u001b[33mdeception\u001b[0m=\u001b[3;91mFalse\u001b[0m, \u001b[33mhistory\u001b[0m=\u001b[3;91mFalse\u001b[0m, \u001b[33minsight\u001b[0m=\u001b[3;91mFalse\u001b[0m,         \n",
       "\u001b[2;36m                    \u001b[0m         \u001b[33mintimidation\u001b[0m=\u001b[3;91mFalse\u001b[0m, \u001b[33minvestigation\u001b[0m=\u001b[3;91mFalse\u001b[0m, \u001b[33mmedicine\u001b[0m=\u001b[3;91mFalse\u001b[0m, \u001b[33mnature\u001b[0m=\u001b[3;91mFalse\u001b[0m,                \n",
       "\u001b[2;36m                    \u001b[0m         \u001b[33mperception\u001b[0m=\u001b[3;91mFalse\u001b[0m, \u001b[33mperformance\u001b[0m=\u001b[3;91mFalse\u001b[0m, \u001b[33mpersuasion\u001b[0m=\u001b[3;91mFalse\u001b[0m, \u001b[33mreligion\u001b[0m=\u001b[3;91mFalse\u001b[0m,                \n",
       "\u001b[2;36m                    \u001b[0m         \u001b[33msleight_of_hand\u001b[0m=\u001b[3;91mFalse\u001b[0m, \u001b[33mstealth\u001b[0m=\u001b[3;91mFalse\u001b[0m, \u001b[33msurvival\u001b[0m=\u001b[3;91mFalse\u001b[0m\u001b[1m)\u001b[0m, \u001b[33mAC\u001b[0m=\u001b[1;36m10\u001b[0m, \u001b[33mspeed\u001b[0m=\u001b[1;36m30\u001b[0m,               \n",
       "\u001b[2;36m                    \u001b[0m         \u001b[33mhit_point_max\u001b[0m=\u001b[1;36m6\u001b[0m\u001b[1m)\u001b[0m                                                                      \n"
      ]
     },
     "metadata": {},
     "output_type": "display_data"
    },
    {
     "data": {
      "text/html": [
       "<pre style=\"white-space:pre;overflow-x:auto;line-height:normal;font-family:Menlo,'DejaVu Sans Mono',consolas,'Courier New',monospace\"><span style=\"color: #7fbfbf; text-decoration-color: #7fbfbf\">[10/01/23 02:02:17] </span><span style=\"color: #000080; text-decoration-color: #000080\">INFO    </span> ToolkitTask b167dc3ecf19400eb85fc06ed8922e2b                                          \n",
       "<span style=\"color: #7fbfbf; text-decoration-color: #7fbfbf\">                    </span>         Output: change_node                                                                   \n",
       "</pre>\n"
      ],
      "text/plain": [
       "\u001b[2;36m[10/01/23 02:02:17]\u001b[0m\u001b[2;36m \u001b[0m\u001b[34mINFO    \u001b[0m ToolkitTask b167dc3ecf19400eb85fc06ed8922e2b                                          \n",
       "\u001b[2;36m                    \u001b[0m         Output: change_node                                                                   \n"
      ]
     },
     "metadata": {},
     "output_type": "display_data"
    },
    {
     "name": "stdout",
     "output_type": "stream",
     "text": [
      "all done!\n"
     ]
    }
   ],
   "source": [
    "response = conv.run(\"Ok, I'll be a rogue\")"
   ]
  },
  {
   "cell_type": "code",
   "execution_count": 12,
   "id": "43d771b2-48f0-453e-9d99-838f1feb5b82",
   "metadata": {},
   "outputs": [
    {
     "name": "stdout",
     "output_type": "stream",
     "text": [
      "rogue\n",
      "SavingThrowProficiences(strength=False, dexterity=True, constitution=False, intelligence=True, wisdom=False, charisma=False)\n"
     ]
    }
   ],
   "source": [
    "print(conv.character_sheet.class_)\n",
    "print(conv.character_sheet.saving_throw_proficiencies)"
   ]
  }
 ],
 "metadata": {
  "kernelspec": {
   "display_name": "Python 3 (ipykernel)",
   "language": "python",
   "name": "python3"
  },
  "language_info": {
   "codemirror_mode": {
    "name": "ipython",
    "version": 3
   },
   "file_extension": ".py",
   "mimetype": "text/x-python",
   "name": "python",
   "nbconvert_exporter": "python",
   "pygments_lexer": "ipython3",
   "version": "3.11.5"
  }
 },
 "nbformat": 4,
 "nbformat_minor": 5
}
