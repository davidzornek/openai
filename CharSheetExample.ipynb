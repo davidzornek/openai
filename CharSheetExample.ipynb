{
 "cells": [
  {
   "cell_type": "code",
   "execution_count": 1,
   "id": "1862655c-22bf-42ae-a2a5-7e4b1b3f20d2",
   "metadata": {},
   "outputs": [
    {
     "name": "stdout",
     "output_type": "stream",
     "text": [
      "None\n",
      "AbilityScores(strength=8, dexterity=8, constitution=8, intelligence=8, wisdom=8, charisma=8)\n"
     ]
    }
   ],
   "source": [
    "import json\n",
    "from dotenv import load_dotenv\n",
    "from griptape.memory.structure import ConversationMemory\n",
    "from griptape.memory.tool import BlobToolMemory\n",
    "from griptape.tasks import PromptTask, ToolkitTask\n",
    "from griptape.drivers import OpenAiChatPromptDriver\n",
    "from griptape.tasks import PromptTask\n",
    "from griptape.structures import Pipeline\n",
    "\n",
    "from openai_dm.tools import CharacterSheetUpdater\n",
    "from openai_dm.character_sheet import Character\n",
    "\n",
    "load_dotenv()\n",
    "\n",
    "sheet_memory = BlobToolMemory()\n",
    "character_sheet_updater = CharacterSheetUpdater(\n",
    "    character_sheet=Character(),\n",
    "    output_memory={\"update_race\": [sheet_memory]},\n",
    ")\n",
    "print(character_sheet_updater.character_sheet.race)\n",
    "print(character_sheet_updater.character_sheet.final_ability_scores)\n",
    "\n",
    "\n",
    "driver = OpenAiChatPromptDriver(\n",
    "    model=\"gpt-4\",\n",
    "    max_tokens=500 # you can experiment with the number of tokens\n",
    ")\n",
    "\n",
    "conv_memory = ConversationMemory()\n",
    "pipeline = Pipeline(\n",
    "    memory=conv_memory,\n",
    ")"
   ]
  },
  {
   "cell_type": "code",
   "execution_count": 2,
   "id": "09248e19-052e-4d52-b01d-231f559efd26",
   "metadata": {},
   "outputs": [
    {
     "data": {
      "text/html": [
       "<pre style=\"white-space:pre;overflow-x:auto;line-height:normal;font-family:Menlo,'DejaVu Sans Mono',consolas,'Courier New',monospace\"><span style=\"color: #7fbfbf; text-decoration-color: #7fbfbf\">[09/30/23 23:27:13] </span><span style=\"color: #000080; text-decoration-color: #000080\">INFO    </span> PromptTask 46b8be69b7ff4c11a17ca5db3ca35eea                                           \n",
       "<span style=\"color: #7fbfbf; text-decoration-color: #7fbfbf\">                    </span>         Input:                                                                                \n",
       "<span style=\"color: #7fbfbf; text-decoration-color: #7fbfbf\">                    </span>                 The user said I'll be a tiefling. Respond with a json of the ability score    \n",
       "<span style=\"color: #7fbfbf; text-decoration-color: #7fbfbf\">                    </span>         bonuses for the chosen race.                                                          \n",
       "<span style=\"color: #7fbfbf; text-decoration-color: #7fbfbf\">                    </span>                 Example <span style=\"color: #008080; text-decoration-color: #008080; font-weight: bold\">1</span>: I'll be a halfling                                                 \n",
       "<span style=\"color: #7fbfbf; text-decoration-color: #7fbfbf\">                    </span>                 <span style=\"font-weight: bold\">{</span><span style=\"color: #008000; text-decoration-color: #008000\">\"strength\"</span>: <span style=\"color: #008080; text-decoration-color: #008080; font-weight: bold\">0</span>, <span style=\"color: #008000; text-decoration-color: #008000\">\"constitution\"</span>: <span style=\"color: #008080; text-decoration-color: #008080; font-weight: bold\">0</span>, <span style=\"color: #008000; text-decoration-color: #008000\">\"dexterity\"</span>: <span style=\"color: #008080; text-decoration-color: #008080; font-weight: bold\">2</span>, <span style=\"color: #008000; text-decoration-color: #008000\">\"intelligence\"</span>: <span style=\"color: #008080; text-decoration-color: #008080; font-weight: bold\">0</span>,         \n",
       "<span style=\"color: #7fbfbf; text-decoration-color: #7fbfbf\">                    </span>         <span style=\"color: #008000; text-decoration-color: #008000\">\"wisdom\"</span>: <span style=\"color: #008080; text-decoration-color: #008080; font-weight: bold\">0</span>, <span style=\"color: #008000; text-decoration-color: #008000\">\"charisma\"</span>: <span style=\"color: #008080; text-decoration-color: #008080; font-weight: bold\">0</span><span style=\"font-weight: bold\">}</span>                                                           \n",
       "<span style=\"color: #7fbfbf; text-decoration-color: #7fbfbf\">                    </span>                 Example <span style=\"color: #008080; text-decoration-color: #008080; font-weight: bold\">2</span>: I want to play as a human.                                         \n",
       "<span style=\"color: #7fbfbf; text-decoration-color: #7fbfbf\">                    </span>                 <span style=\"font-weight: bold\">{</span><span style=\"color: #008000; text-decoration-color: #008000\">\"strength\"</span>: <span style=\"color: #008080; text-decoration-color: #008080; font-weight: bold\">1</span>, <span style=\"color: #008000; text-decoration-color: #008000\">\"constitution\"</span>: <span style=\"color: #008080; text-decoration-color: #008080; font-weight: bold\">1</span>, <span style=\"color: #008000; text-decoration-color: #008000\">\"dexterity\"</span>: <span style=\"color: #008080; text-decoration-color: #008080; font-weight: bold\">1</span>, <span style=\"color: #008000; text-decoration-color: #008000\">\"intelligence\"</span>: <span style=\"color: #008080; text-decoration-color: #008080; font-weight: bold\">1</span>,         \n",
       "<span style=\"color: #7fbfbf; text-decoration-color: #7fbfbf\">                    </span>         <span style=\"color: #008000; text-decoration-color: #008000\">\"wisdom\"</span>: <span style=\"color: #008080; text-decoration-color: #008080; font-weight: bold\">1</span>, <span style=\"color: #008000; text-decoration-color: #008000\">\"charisma\"</span>: <span style=\"color: #008080; text-decoration-color: #008080; font-weight: bold\">1</span><span style=\"font-weight: bold\">}</span>                                                           \n",
       "</pre>\n"
      ],
      "text/plain": [
       "\u001b[2;36m[09/30/23 23:27:13]\u001b[0m\u001b[2;36m \u001b[0m\u001b[34mINFO    \u001b[0m PromptTask 46b8be69b7ff4c11a17ca5db3ca35eea                                           \n",
       "\u001b[2;36m                    \u001b[0m         Input:                                                                                \n",
       "\u001b[2;36m                    \u001b[0m                 The user said I'll be a tiefling. Respond with a json of the ability score    \n",
       "\u001b[2;36m                    \u001b[0m         bonuses for the chosen race.                                                          \n",
       "\u001b[2;36m                    \u001b[0m                 Example \u001b[1;36m1\u001b[0m: I'll be a halfling                                                 \n",
       "\u001b[2;36m                    \u001b[0m                 \u001b[1m{\u001b[0m\u001b[32m\"strength\"\u001b[0m: \u001b[1;36m0\u001b[0m, \u001b[32m\"constitution\"\u001b[0m: \u001b[1;36m0\u001b[0m, \u001b[32m\"dexterity\"\u001b[0m: \u001b[1;36m2\u001b[0m, \u001b[32m\"intelligence\"\u001b[0m: \u001b[1;36m0\u001b[0m,         \n",
       "\u001b[2;36m                    \u001b[0m         \u001b[32m\"wisdom\"\u001b[0m: \u001b[1;36m0\u001b[0m, \u001b[32m\"charisma\"\u001b[0m: \u001b[1;36m0\u001b[0m\u001b[1m}\u001b[0m                                                           \n",
       "\u001b[2;36m                    \u001b[0m                 Example \u001b[1;36m2\u001b[0m: I want to play as a human.                                         \n",
       "\u001b[2;36m                    \u001b[0m                 \u001b[1m{\u001b[0m\u001b[32m\"strength\"\u001b[0m: \u001b[1;36m1\u001b[0m, \u001b[32m\"constitution\"\u001b[0m: \u001b[1;36m1\u001b[0m, \u001b[32m\"dexterity\"\u001b[0m: \u001b[1;36m1\u001b[0m, \u001b[32m\"intelligence\"\u001b[0m: \u001b[1;36m1\u001b[0m,         \n",
       "\u001b[2;36m                    \u001b[0m         \u001b[32m\"wisdom\"\u001b[0m: \u001b[1;36m1\u001b[0m, \u001b[32m\"charisma\"\u001b[0m: \u001b[1;36m1\u001b[0m\u001b[1m}\u001b[0m                                                           \n"
      ]
     },
     "metadata": {},
     "output_type": "display_data"
    },
    {
     "data": {
      "text/html": [
       "<pre style=\"white-space:pre;overflow-x:auto;line-height:normal;font-family:Menlo,'DejaVu Sans Mono',consolas,'Courier New',monospace\"><span style=\"color: #7fbfbf; text-decoration-color: #7fbfbf\">[09/30/23 23:27:18] </span><span style=\"color: #000080; text-decoration-color: #000080\">INFO    </span> PromptTask 46b8be69b7ff4c11a17ca5db3ca35eea                                           \n",
       "<span style=\"color: #7fbfbf; text-decoration-color: #7fbfbf\">                    </span>         Output: <span style=\"font-weight: bold\">{</span><span style=\"color: #008000; text-decoration-color: #008000\">\"strength\"</span>: <span style=\"color: #008080; text-decoration-color: #008080; font-weight: bold\">0</span>, <span style=\"color: #008000; text-decoration-color: #008000\">\"constitution\"</span>: <span style=\"color: #008080; text-decoration-color: #008080; font-weight: bold\">0</span>, <span style=\"color: #008000; text-decoration-color: #008000\">\"dexterity\"</span>: <span style=\"color: #008080; text-decoration-color: #008080; font-weight: bold\">0</span>, <span style=\"color: #008000; text-decoration-color: #008000\">\"intelligence\"</span>: <span style=\"color: #008080; text-decoration-color: #008080; font-weight: bold\">1</span>,         \n",
       "<span style=\"color: #7fbfbf; text-decoration-color: #7fbfbf\">                    </span>         <span style=\"color: #008000; text-decoration-color: #008000\">\"wisdom\"</span>: <span style=\"color: #008080; text-decoration-color: #008080; font-weight: bold\">0</span>, <span style=\"color: #008000; text-decoration-color: #008000\">\"charisma\"</span>: <span style=\"color: #008080; text-decoration-color: #008080; font-weight: bold\">2</span><span style=\"font-weight: bold\">}</span>                                                           \n",
       "</pre>\n"
      ],
      "text/plain": [
       "\u001b[2;36m[09/30/23 23:27:18]\u001b[0m\u001b[2;36m \u001b[0m\u001b[34mINFO    \u001b[0m PromptTask 46b8be69b7ff4c11a17ca5db3ca35eea                                           \n",
       "\u001b[2;36m                    \u001b[0m         Output: \u001b[1m{\u001b[0m\u001b[32m\"strength\"\u001b[0m: \u001b[1;36m0\u001b[0m, \u001b[32m\"constitution\"\u001b[0m: \u001b[1;36m0\u001b[0m, \u001b[32m\"dexterity\"\u001b[0m: \u001b[1;36m0\u001b[0m, \u001b[32m\"intelligence\"\u001b[0m: \u001b[1;36m1\u001b[0m,         \n",
       "\u001b[2;36m                    \u001b[0m         \u001b[32m\"wisdom\"\u001b[0m: \u001b[1;36m0\u001b[0m, \u001b[32m\"charisma\"\u001b[0m: \u001b[1;36m2\u001b[0m\u001b[1m}\u001b[0m                                                           \n"
      ]
     },
     "metadata": {},
     "output_type": "display_data"
    },
    {
     "data": {
      "text/html": [
       "<pre style=\"white-space:pre;overflow-x:auto;line-height:normal;font-family:Menlo,'DejaVu Sans Mono',consolas,'Courier New',monospace\"><span style=\"color: #7fbfbf; text-decoration-color: #7fbfbf\">                    </span><span style=\"color: #000080; text-decoration-color: #000080\">INFO    </span> ToolkitTask 89f7573757254e63b3cc26b9e1a6eb91                                          \n",
       "<span style=\"color: #7fbfbf; text-decoration-color: #7fbfbf\">                    </span>         Input: Update the character sheet with the new_race_chosen in I'll be a tiefling      \n",
       "<span style=\"color: #7fbfbf; text-decoration-color: #7fbfbf\">                    </span>                     racial_bonuses = <span style=\"font-weight: bold\">{</span><span style=\"color: #008000; text-decoration-color: #008000\">\"strength\"</span>: <span style=\"color: #008080; text-decoration-color: #008080; font-weight: bold\">0</span>, <span style=\"color: #008000; text-decoration-color: #008000\">\"constitution\"</span>: <span style=\"color: #008080; text-decoration-color: #008080; font-weight: bold\">0</span>, <span style=\"color: #008000; text-decoration-color: #008000\">\"dexterity\"</span>: <span style=\"color: #008080; text-decoration-color: #008080; font-weight: bold\">0</span>,       \n",
       "<span style=\"color: #7fbfbf; text-decoration-color: #7fbfbf\">                    </span>         <span style=\"color: #008000; text-decoration-color: #008000\">\"intelligence\"</span>: <span style=\"color: #008080; text-decoration-color: #008080; font-weight: bold\">1</span>, <span style=\"color: #008000; text-decoration-color: #008000\">\"wisdom\"</span>: <span style=\"color: #008080; text-decoration-color: #008080; font-weight: bold\">0</span>, <span style=\"color: #008000; text-decoration-color: #008000\">\"charisma\"</span>: <span style=\"color: #008080; text-decoration-color: #008080; font-weight: bold\">2</span><span style=\"font-weight: bold\">}</span>                                        \n",
       "<span style=\"color: #7fbfbf; text-decoration-color: #7fbfbf\">                    </span>                                                                                               \n",
       "</pre>\n"
      ],
      "text/plain": [
       "\u001b[2;36m                   \u001b[0m\u001b[2;36m \u001b[0m\u001b[34mINFO    \u001b[0m ToolkitTask 89f7573757254e63b3cc26b9e1a6eb91                                          \n",
       "\u001b[2;36m                    \u001b[0m         Input: Update the character sheet with the new_race_chosen in I'll be a tiefling      \n",
       "\u001b[2;36m                    \u001b[0m                     racial_bonuses = \u001b[1m{\u001b[0m\u001b[32m\"strength\"\u001b[0m: \u001b[1;36m0\u001b[0m, \u001b[32m\"constitution\"\u001b[0m: \u001b[1;36m0\u001b[0m, \u001b[32m\"dexterity\"\u001b[0m: \u001b[1;36m0\u001b[0m,       \n",
       "\u001b[2;36m                    \u001b[0m         \u001b[32m\"intelligence\"\u001b[0m: \u001b[1;36m1\u001b[0m, \u001b[32m\"wisdom\"\u001b[0m: \u001b[1;36m0\u001b[0m, \u001b[32m\"charisma\"\u001b[0m: \u001b[1;36m2\u001b[0m\u001b[1m}\u001b[0m                                        \n",
       "\u001b[2;36m                    \u001b[0m                                                                                               \n"
      ]
     },
     "metadata": {},
     "output_type": "display_data"
    },
    {
     "data": {
      "text/html": [
       "<pre style=\"white-space:pre;overflow-x:auto;line-height:normal;font-family:Menlo,'DejaVu Sans Mono',consolas,'Courier New',monospace\"><span style=\"color: #7fbfbf; text-decoration-color: #7fbfbf\">[09/30/23 23:27:27] </span><span style=\"color: #000080; text-decoration-color: #000080\">INFO    </span> Subtask 7c7c504755ea4a04908c15c5d0d15c3e                                              \n",
       "<span style=\"color: #7fbfbf; text-decoration-color: #7fbfbf\">                    </span>         Thought: The user wants to update the character sheet with a new race, which is a     \n",
       "<span style=\"color: #7fbfbf; text-decoration-color: #7fbfbf\">                    </span>         Tiefling, and the racial bonuses associated with it. I can use the                    \n",
       "<span style=\"color: #7fbfbf; text-decoration-color: #7fbfbf\">                    </span>         CharacterSheetUpdater tool with the update_race activity to accomplish this.          \n",
       "<span style=\"color: #7fbfbf; text-decoration-color: #7fbfbf\">                    </span>                                                                                               \n",
       "<span style=\"color: #7fbfbf; text-decoration-color: #7fbfbf\">                    </span>         Action: <span style=\"font-weight: bold\">{</span><span style=\"color: #008000; text-decoration-color: #008000\">\"type\"</span>: <span style=\"color: #008000; text-decoration-color: #008000\">\"tool\"</span>, <span style=\"color: #008000; text-decoration-color: #008000\">\"name\"</span>: <span style=\"color: #008000; text-decoration-color: #008000\">\"CharacterSheetUpdater\"</span>, <span style=\"color: #008000; text-decoration-color: #008000\">\"activity\"</span>: <span style=\"color: #008000; text-decoration-color: #008000\">\"update_race\"</span>,  \n",
       "<span style=\"color: #7fbfbf; text-decoration-color: #7fbfbf\">                    </span>         <span style=\"color: #008000; text-decoration-color: #008000\">\"input\"</span>: <span style=\"font-weight: bold\">{</span><span style=\"color: #008000; text-decoration-color: #008000\">\"values\"</span>: <span style=\"font-weight: bold\">{</span><span style=\"color: #008000; text-decoration-color: #008000\">\"race\"</span>: <span style=\"color: #008000; text-decoration-color: #008000\">\"tiefling\"</span>, <span style=\"color: #008000; text-decoration-color: #008000\">\"racial_bonuses\"</span>: <span style=\"color: #008000; text-decoration-color: #008000\">\"{\\\"strength\\\": 0, </span>        \n",
       "<span style=\"color: #7fbfbf; text-decoration-color: #7fbfbf\">                    </span>         <span style=\"color: #008000; text-decoration-color: #008000\">\\\"constitution\\\": 0, \\\"dexterity\\\": 0, \\\"intelligence\\\": 1, \\\"wisdom\\\": 0, </span>           \n",
       "<span style=\"color: #7fbfbf; text-decoration-color: #7fbfbf\">                    </span>         <span style=\"color: #008000; text-decoration-color: #008000\">\\\"charisma\\\": 2}\"</span><span style=\"font-weight: bold\">}}}</span>                                                                  \n",
       "</pre>\n"
      ],
      "text/plain": [
       "\u001b[2;36m[09/30/23 23:27:27]\u001b[0m\u001b[2;36m \u001b[0m\u001b[34mINFO    \u001b[0m Subtask 7c7c504755ea4a04908c15c5d0d15c3e                                              \n",
       "\u001b[2;36m                    \u001b[0m         Thought: The user wants to update the character sheet with a new race, which is a     \n",
       "\u001b[2;36m                    \u001b[0m         Tiefling, and the racial bonuses associated with it. I can use the                    \n",
       "\u001b[2;36m                    \u001b[0m         CharacterSheetUpdater tool with the update_race activity to accomplish this.          \n",
       "\u001b[2;36m                    \u001b[0m                                                                                               \n",
       "\u001b[2;36m                    \u001b[0m         Action: \u001b[1m{\u001b[0m\u001b[32m\"type\"\u001b[0m: \u001b[32m\"tool\"\u001b[0m, \u001b[32m\"name\"\u001b[0m: \u001b[32m\"CharacterSheetUpdater\"\u001b[0m, \u001b[32m\"activity\"\u001b[0m: \u001b[32m\"update_race\"\u001b[0m,  \n",
       "\u001b[2;36m                    \u001b[0m         \u001b[32m\"input\"\u001b[0m: \u001b[1m{\u001b[0m\u001b[32m\"values\"\u001b[0m: \u001b[1m{\u001b[0m\u001b[32m\"race\"\u001b[0m: \u001b[32m\"tiefling\"\u001b[0m, \u001b[32m\"racial_bonuses\"\u001b[0m: \u001b[32m\"\u001b[0m\u001b[32m{\u001b[0m\u001b[32m\\\"strength\\\": 0, \u001b[0m        \n",
       "\u001b[2;36m                    \u001b[0m         \u001b[32m\\\"constitution\\\": 0, \\\"dexterity\\\": 0, \\\"intelligence\\\": 1, \\\"wisdom\\\": 0, \u001b[0m           \n",
       "\u001b[2;36m                    \u001b[0m         \u001b[32m\\\"charisma\\\": 2\u001b[0m\u001b[32m}\u001b[0m\u001b[32m\"\u001b[0m\u001b[1m}\u001b[0m\u001b[1m}\u001b[0m\u001b[1m}\u001b[0m                                                                  \n"
      ]
     },
     "metadata": {},
     "output_type": "display_data"
    },
    {
     "name": "stderr",
     "output_type": "stream",
     "text": [
      "WARNING:root:Activity result is not an artifact; converting result to InfoArtifact\n"
     ]
    },
    {
     "data": {
      "text/html": [
       "<pre style=\"white-space:pre;overflow-x:auto;line-height:normal;font-family:Menlo,'DejaVu Sans Mono',consolas,'Courier New',monospace\"><span style=\"color: #7fbfbf; text-decoration-color: #7fbfbf\">                    </span><span style=\"color: #000080; text-decoration-color: #000080\">INFO    </span> Subtask 7c7c504755ea4a04908c15c5d0d15c3e                                              \n",
       "<span style=\"color: #7fbfbf; text-decoration-color: #7fbfbf\">                    </span>         Observation: <span style=\"color: #800080; text-decoration-color: #800080; font-weight: bold\">Character</span><span style=\"font-weight: bold\">(</span><span style=\"color: #808000; text-decoration-color: #808000\">name</span>=<span style=\"color: #800080; text-decoration-color: #800080; font-style: italic\">None</span>, <span style=\"color: #808000; text-decoration-color: #808000\">class_</span>=<span style=\"color: #800080; text-decoration-color: #800080; font-style: italic\">None</span>, <span style=\"color: #808000; text-decoration-color: #808000\">subclasse</span>=<span style=\"color: #800080; text-decoration-color: #800080; font-style: italic\">None</span>, <span style=\"color: #808000; text-decoration-color: #808000\">level</span>=<span style=\"color: #008080; text-decoration-color: #008080; font-weight: bold\">1</span>,               \n",
       "<span style=\"color: #7fbfbf; text-decoration-color: #7fbfbf\">                    </span>         <span style=\"color: #808000; text-decoration-color: #808000\">race</span>=<span style=\"color: #008000; text-decoration-color: #008000\">'tiefling'</span>, <span style=\"color: #808000; text-decoration-color: #808000\">alignment</span>=<span style=\"color: #800080; text-decoration-color: #800080; font-style: italic\">None</span>, <span style=\"color: #808000; text-decoration-color: #808000\">background</span>=<span style=\"color: #800080; text-decoration-color: #800080; font-style: italic\">None</span>, <span style=\"color: #808000; text-decoration-color: #808000\">proficiency_bonus</span>=<span style=\"color: #008080; text-decoration-color: #008080; font-weight: bold\">2</span>,                \n",
       "<span style=\"color: #7fbfbf; text-decoration-color: #7fbfbf\">                    </span>         <span style=\"color: #808000; text-decoration-color: #808000\">base_ability_scores</span>=<span style=\"color: #800080; text-decoration-color: #800080; font-weight: bold\">AbilityScores</span><span style=\"font-weight: bold\">(</span><span style=\"color: #808000; text-decoration-color: #808000\">strength</span>=<span style=\"color: #008080; text-decoration-color: #008080; font-weight: bold\">8</span>, <span style=\"color: #808000; text-decoration-color: #808000\">dexterity</span>=<span style=\"color: #008080; text-decoration-color: #008080; font-weight: bold\">8</span>, <span style=\"color: #808000; text-decoration-color: #808000\">constitution</span>=<span style=\"color: #008080; text-decoration-color: #008080; font-weight: bold\">8</span>,            \n",
       "<span style=\"color: #7fbfbf; text-decoration-color: #7fbfbf\">                    </span>         <span style=\"color: #808000; text-decoration-color: #808000\">intelligence</span>=<span style=\"color: #008080; text-decoration-color: #008080; font-weight: bold\">8</span>, <span style=\"color: #808000; text-decoration-color: #808000\">wisdom</span>=<span style=\"color: #008080; text-decoration-color: #008080; font-weight: bold\">8</span>, <span style=\"color: #808000; text-decoration-color: #808000\">charisma</span>=<span style=\"color: #008080; text-decoration-color: #008080; font-weight: bold\">8</span><span style=\"font-weight: bold\">)</span>, <span style=\"color: #808000; text-decoration-color: #808000\">racial_ability_bonus</span>=<span style=\"color: #800080; text-decoration-color: #800080; font-weight: bold\">AbilityScores</span><span style=\"font-weight: bold\">(</span><span style=\"color: #808000; text-decoration-color: #808000\">strength</span>=<span style=\"color: #008080; text-decoration-color: #008080; font-weight: bold\">0</span>, \n",
       "<span style=\"color: #7fbfbf; text-decoration-color: #7fbfbf\">                    </span>         <span style=\"color: #808000; text-decoration-color: #808000\">dexterity</span>=<span style=\"color: #008080; text-decoration-color: #008080; font-weight: bold\">0</span>, <span style=\"color: #808000; text-decoration-color: #808000\">constitution</span>=<span style=\"color: #008080; text-decoration-color: #008080; font-weight: bold\">0</span>, <span style=\"color: #808000; text-decoration-color: #808000\">intelligence</span>=<span style=\"color: #008080; text-decoration-color: #008080; font-weight: bold\">1</span>, <span style=\"color: #808000; text-decoration-color: #808000\">wisdom</span>=<span style=\"color: #008080; text-decoration-color: #008080; font-weight: bold\">0</span>, <span style=\"color: #808000; text-decoration-color: #808000\">charisma</span>=<span style=\"color: #008080; text-decoration-color: #008080; font-weight: bold\">2</span><span style=\"font-weight: bold\">)</span>,                   \n",
       "<span style=\"color: #7fbfbf; text-decoration-color: #7fbfbf\">                    </span>         <span style=\"color: #808000; text-decoration-color: #808000\">final_ability_scores</span>=<span style=\"color: #800080; text-decoration-color: #800080; font-weight: bold\">AbilityScores</span><span style=\"font-weight: bold\">(</span><span style=\"color: #808000; text-decoration-color: #808000\">strength</span>=<span style=\"color: #008080; text-decoration-color: #008080; font-weight: bold\">8</span>, <span style=\"color: #808000; text-decoration-color: #808000\">dexterity</span>=<span style=\"color: #008080; text-decoration-color: #008080; font-weight: bold\">8</span>, <span style=\"color: #808000; text-decoration-color: #808000\">constitution</span>=<span style=\"color: #008080; text-decoration-color: #008080; font-weight: bold\">8</span>,           \n",
       "<span style=\"color: #7fbfbf; text-decoration-color: #7fbfbf\">                    </span>         <span style=\"color: #808000; text-decoration-color: #808000\">intelligence</span>=<span style=\"color: #008080; text-decoration-color: #008080; font-weight: bold\">9</span>, <span style=\"color: #808000; text-decoration-color: #808000\">wisdom</span>=<span style=\"color: #008080; text-decoration-color: #008080; font-weight: bold\">8</span>, <span style=\"color: #808000; text-decoration-color: #808000\">charisma</span>=<span style=\"color: #008080; text-decoration-color: #008080; font-weight: bold\">10</span><span style=\"font-weight: bold\">)</span>,                                               \n",
       "<span style=\"color: #7fbfbf; text-decoration-color: #7fbfbf\">                    </span>         <span style=\"color: #808000; text-decoration-color: #808000\">saving_throw_proficiencies</span>=<span style=\"color: #800080; text-decoration-color: #800080; font-weight: bold\">SavingThrowProficiences</span><span style=\"font-weight: bold\">(</span><span style=\"color: #808000; text-decoration-color: #808000\">strength</span>=<span style=\"color: #ff0000; text-decoration-color: #ff0000; font-style: italic\">False</span>, <span style=\"color: #808000; text-decoration-color: #808000\">dexterity</span>=<span style=\"color: #ff0000; text-decoration-color: #ff0000; font-style: italic\">False</span>,   \n",
       "<span style=\"color: #7fbfbf; text-decoration-color: #7fbfbf\">                    </span>         <span style=\"color: #808000; text-decoration-color: #808000\">constitution</span>=<span style=\"color: #ff0000; text-decoration-color: #ff0000; font-style: italic\">False</span>, <span style=\"color: #808000; text-decoration-color: #808000\">intelligence</span>=<span style=\"color: #ff0000; text-decoration-color: #ff0000; font-style: italic\">False</span>, <span style=\"color: #808000; text-decoration-color: #808000\">wisdom</span>=<span style=\"color: #ff0000; text-decoration-color: #ff0000; font-style: italic\">False</span>, <span style=\"color: #808000; text-decoration-color: #808000\">charisma</span>=<span style=\"color: #ff0000; text-decoration-color: #ff0000; font-style: italic\">False</span><span style=\"font-weight: bold\">)</span>,                \n",
       "<span style=\"color: #7fbfbf; text-decoration-color: #7fbfbf\">                    </span>         <span style=\"color: #808000; text-decoration-color: #808000\">skill_proficiencies</span>=<span style=\"color: #800080; text-decoration-color: #800080; font-weight: bold\">SkillProficiences</span><span style=\"font-weight: bold\">(</span><span style=\"color: #808000; text-decoration-color: #808000\">acrobatics</span>=<span style=\"color: #ff0000; text-decoration-color: #ff0000; font-style: italic\">False</span>, <span style=\"color: #808000; text-decoration-color: #808000\">animal_handling</span>=<span style=\"color: #ff0000; text-decoration-color: #ff0000; font-style: italic\">False</span>,        \n",
       "<span style=\"color: #7fbfbf; text-decoration-color: #7fbfbf\">                    </span>         <span style=\"color: #808000; text-decoration-color: #808000\">arcana</span>=<span style=\"color: #ff0000; text-decoration-color: #ff0000; font-style: italic\">False</span>, <span style=\"color: #808000; text-decoration-color: #808000\">athletics</span>=<span style=\"color: #ff0000; text-decoration-color: #ff0000; font-style: italic\">False</span>, <span style=\"color: #808000; text-decoration-color: #808000\">deception</span>=<span style=\"color: #ff0000; text-decoration-color: #ff0000; font-style: italic\">False</span>, <span style=\"color: #808000; text-decoration-color: #808000\">history</span>=<span style=\"color: #ff0000; text-decoration-color: #ff0000; font-style: italic\">False</span>, <span style=\"color: #808000; text-decoration-color: #808000\">insight</span>=<span style=\"color: #ff0000; text-decoration-color: #ff0000; font-style: italic\">False</span>,         \n",
       "<span style=\"color: #7fbfbf; text-decoration-color: #7fbfbf\">                    </span>         <span style=\"color: #808000; text-decoration-color: #808000\">intimidation</span>=<span style=\"color: #ff0000; text-decoration-color: #ff0000; font-style: italic\">False</span>, <span style=\"color: #808000; text-decoration-color: #808000\">investigation</span>=<span style=\"color: #ff0000; text-decoration-color: #ff0000; font-style: italic\">False</span>, <span style=\"color: #808000; text-decoration-color: #808000\">medicine</span>=<span style=\"color: #ff0000; text-decoration-color: #ff0000; font-style: italic\">False</span>, <span style=\"color: #808000; text-decoration-color: #808000\">nature</span>=<span style=\"color: #ff0000; text-decoration-color: #ff0000; font-style: italic\">False</span>,                \n",
       "<span style=\"color: #7fbfbf; text-decoration-color: #7fbfbf\">                    </span>         <span style=\"color: #808000; text-decoration-color: #808000\">perception</span>=<span style=\"color: #ff0000; text-decoration-color: #ff0000; font-style: italic\">False</span>, <span style=\"color: #808000; text-decoration-color: #808000\">performance</span>=<span style=\"color: #ff0000; text-decoration-color: #ff0000; font-style: italic\">False</span>, <span style=\"color: #808000; text-decoration-color: #808000\">persuasion</span>=<span style=\"color: #ff0000; text-decoration-color: #ff0000; font-style: italic\">False</span>, <span style=\"color: #808000; text-decoration-color: #808000\">religion</span>=<span style=\"color: #ff0000; text-decoration-color: #ff0000; font-style: italic\">False</span>,                \n",
       "<span style=\"color: #7fbfbf; text-decoration-color: #7fbfbf\">                    </span>         <span style=\"color: #808000; text-decoration-color: #808000\">sleight_of_hand</span>=<span style=\"color: #ff0000; text-decoration-color: #ff0000; font-style: italic\">False</span>, <span style=\"color: #808000; text-decoration-color: #808000\">stealth</span>=<span style=\"color: #ff0000; text-decoration-color: #ff0000; font-style: italic\">False</span>, <span style=\"color: #808000; text-decoration-color: #808000\">survival</span>=<span style=\"color: #ff0000; text-decoration-color: #ff0000; font-style: italic\">False</span><span style=\"font-weight: bold\">)</span>, <span style=\"color: #808000; text-decoration-color: #808000\">AC</span>=<span style=\"color: #008080; text-decoration-color: #008080; font-weight: bold\">10</span>, <span style=\"color: #808000; text-decoration-color: #808000\">speed</span>=<span style=\"color: #008080; text-decoration-color: #008080; font-weight: bold\">30</span>,               \n",
       "<span style=\"color: #7fbfbf; text-decoration-color: #7fbfbf\">                    </span>         <span style=\"color: #808000; text-decoration-color: #808000\">hit_point_max</span>=<span style=\"color: #008080; text-decoration-color: #008080; font-weight: bold\">6</span><span style=\"font-weight: bold\">)</span>                                                                      \n",
       "</pre>\n"
      ],
      "text/plain": [
       "\u001b[2;36m                   \u001b[0m\u001b[2;36m \u001b[0m\u001b[34mINFO    \u001b[0m Subtask 7c7c504755ea4a04908c15c5d0d15c3e                                              \n",
       "\u001b[2;36m                    \u001b[0m         Observation: \u001b[1;35mCharacter\u001b[0m\u001b[1m(\u001b[0m\u001b[33mname\u001b[0m=\u001b[3;35mNone\u001b[0m, \u001b[33mclass_\u001b[0m=\u001b[3;35mNone\u001b[0m, \u001b[33msubclasse\u001b[0m=\u001b[3;35mNone\u001b[0m, \u001b[33mlevel\u001b[0m=\u001b[1;36m1\u001b[0m,               \n",
       "\u001b[2;36m                    \u001b[0m         \u001b[33mrace\u001b[0m=\u001b[32m'tiefling'\u001b[0m, \u001b[33malignment\u001b[0m=\u001b[3;35mNone\u001b[0m, \u001b[33mbackground\u001b[0m=\u001b[3;35mNone\u001b[0m, \u001b[33mproficiency_bonus\u001b[0m=\u001b[1;36m2\u001b[0m,                \n",
       "\u001b[2;36m                    \u001b[0m         \u001b[33mbase_ability_scores\u001b[0m=\u001b[1;35mAbilityScores\u001b[0m\u001b[1m(\u001b[0m\u001b[33mstrength\u001b[0m=\u001b[1;36m8\u001b[0m, \u001b[33mdexterity\u001b[0m=\u001b[1;36m8\u001b[0m, \u001b[33mconstitution\u001b[0m=\u001b[1;36m8\u001b[0m,            \n",
       "\u001b[2;36m                    \u001b[0m         \u001b[33mintelligence\u001b[0m=\u001b[1;36m8\u001b[0m, \u001b[33mwisdom\u001b[0m=\u001b[1;36m8\u001b[0m, \u001b[33mcharisma\u001b[0m=\u001b[1;36m8\u001b[0m\u001b[1m)\u001b[0m, \u001b[33mracial_ability_bonus\u001b[0m=\u001b[1;35mAbilityScores\u001b[0m\u001b[1m(\u001b[0m\u001b[33mstrength\u001b[0m=\u001b[1;36m0\u001b[0m, \n",
       "\u001b[2;36m                    \u001b[0m         \u001b[33mdexterity\u001b[0m=\u001b[1;36m0\u001b[0m, \u001b[33mconstitution\u001b[0m=\u001b[1;36m0\u001b[0m, \u001b[33mintelligence\u001b[0m=\u001b[1;36m1\u001b[0m, \u001b[33mwisdom\u001b[0m=\u001b[1;36m0\u001b[0m, \u001b[33mcharisma\u001b[0m=\u001b[1;36m2\u001b[0m\u001b[1m)\u001b[0m,                   \n",
       "\u001b[2;36m                    \u001b[0m         \u001b[33mfinal_ability_scores\u001b[0m=\u001b[1;35mAbilityScores\u001b[0m\u001b[1m(\u001b[0m\u001b[33mstrength\u001b[0m=\u001b[1;36m8\u001b[0m, \u001b[33mdexterity\u001b[0m=\u001b[1;36m8\u001b[0m, \u001b[33mconstitution\u001b[0m=\u001b[1;36m8\u001b[0m,           \n",
       "\u001b[2;36m                    \u001b[0m         \u001b[33mintelligence\u001b[0m=\u001b[1;36m9\u001b[0m, \u001b[33mwisdom\u001b[0m=\u001b[1;36m8\u001b[0m, \u001b[33mcharisma\u001b[0m=\u001b[1;36m10\u001b[0m\u001b[1m)\u001b[0m,                                               \n",
       "\u001b[2;36m                    \u001b[0m         \u001b[33msaving_throw_proficiencies\u001b[0m=\u001b[1;35mSavingThrowProficiences\u001b[0m\u001b[1m(\u001b[0m\u001b[33mstrength\u001b[0m=\u001b[3;91mFalse\u001b[0m, \u001b[33mdexterity\u001b[0m=\u001b[3;91mFalse\u001b[0m,   \n",
       "\u001b[2;36m                    \u001b[0m         \u001b[33mconstitution\u001b[0m=\u001b[3;91mFalse\u001b[0m, \u001b[33mintelligence\u001b[0m=\u001b[3;91mFalse\u001b[0m, \u001b[33mwisdom\u001b[0m=\u001b[3;91mFalse\u001b[0m, \u001b[33mcharisma\u001b[0m=\u001b[3;91mFalse\u001b[0m\u001b[1m)\u001b[0m,                \n",
       "\u001b[2;36m                    \u001b[0m         \u001b[33mskill_proficiencies\u001b[0m=\u001b[1;35mSkillProficiences\u001b[0m\u001b[1m(\u001b[0m\u001b[33macrobatics\u001b[0m=\u001b[3;91mFalse\u001b[0m, \u001b[33manimal_handling\u001b[0m=\u001b[3;91mFalse\u001b[0m,        \n",
       "\u001b[2;36m                    \u001b[0m         \u001b[33marcana\u001b[0m=\u001b[3;91mFalse\u001b[0m, \u001b[33mathletics\u001b[0m=\u001b[3;91mFalse\u001b[0m, \u001b[33mdeception\u001b[0m=\u001b[3;91mFalse\u001b[0m, \u001b[33mhistory\u001b[0m=\u001b[3;91mFalse\u001b[0m, \u001b[33minsight\u001b[0m=\u001b[3;91mFalse\u001b[0m,         \n",
       "\u001b[2;36m                    \u001b[0m         \u001b[33mintimidation\u001b[0m=\u001b[3;91mFalse\u001b[0m, \u001b[33minvestigation\u001b[0m=\u001b[3;91mFalse\u001b[0m, \u001b[33mmedicine\u001b[0m=\u001b[3;91mFalse\u001b[0m, \u001b[33mnature\u001b[0m=\u001b[3;91mFalse\u001b[0m,                \n",
       "\u001b[2;36m                    \u001b[0m         \u001b[33mperception\u001b[0m=\u001b[3;91mFalse\u001b[0m, \u001b[33mperformance\u001b[0m=\u001b[3;91mFalse\u001b[0m, \u001b[33mpersuasion\u001b[0m=\u001b[3;91mFalse\u001b[0m, \u001b[33mreligion\u001b[0m=\u001b[3;91mFalse\u001b[0m,                \n",
       "\u001b[2;36m                    \u001b[0m         \u001b[33msleight_of_hand\u001b[0m=\u001b[3;91mFalse\u001b[0m, \u001b[33mstealth\u001b[0m=\u001b[3;91mFalse\u001b[0m, \u001b[33msurvival\u001b[0m=\u001b[3;91mFalse\u001b[0m\u001b[1m)\u001b[0m, \u001b[33mAC\u001b[0m=\u001b[1;36m10\u001b[0m, \u001b[33mspeed\u001b[0m=\u001b[1;36m30\u001b[0m,               \n",
       "\u001b[2;36m                    \u001b[0m         \u001b[33mhit_point_max\u001b[0m=\u001b[1;36m6\u001b[0m\u001b[1m)\u001b[0m                                                                      \n"
      ]
     },
     "metadata": {},
     "output_type": "display_data"
    },
    {
     "data": {
      "text/html": [
       "<pre style=\"white-space:pre;overflow-x:auto;line-height:normal;font-family:Menlo,'DejaVu Sans Mono',consolas,'Courier New',monospace\"><span style=\"color: #7fbfbf; text-decoration-color: #7fbfbf\">[09/30/23 23:27:31] </span><span style=\"color: #000080; text-decoration-color: #000080\">INFO    </span> ToolkitTask 89f7573757254e63b3cc26b9e1a6eb91                                          \n",
       "<span style=\"color: #7fbfbf; text-decoration-color: #7fbfbf\">                    </span>         Output: The character sheet has been updated. The character is now a Tiefling with    \n",
       "<span style=\"color: #7fbfbf; text-decoration-color: #7fbfbf\">                    </span>         racial ability bonuses of +<span style=\"color: #008080; text-decoration-color: #008080; font-weight: bold\">1</span> to Intelligence and +<span style=\"color: #008080; text-decoration-color: #008080; font-weight: bold\">2</span> to Charisma. The final ability    \n",
       "<span style=\"color: #7fbfbf; text-decoration-color: #7fbfbf\">                    </span>         scores are now Strength: <span style=\"color: #008080; text-decoration-color: #008080; font-weight: bold\">8</span>, Dexterity: <span style=\"color: #008080; text-decoration-color: #008080; font-weight: bold\">8</span>, Constitution: <span style=\"color: #008080; text-decoration-color: #008080; font-weight: bold\">8</span>, Intelligence: <span style=\"color: #008080; text-decoration-color: #008080; font-weight: bold\">9</span>, Wisdom: <span style=\"color: #008080; text-decoration-color: #008080; font-weight: bold\">8</span>,\n",
       "<span style=\"color: #7fbfbf; text-decoration-color: #7fbfbf\">                    </span>         and Charisma: <span style=\"color: #008080; text-decoration-color: #008080; font-weight: bold\">10</span>.                                                                     \n",
       "</pre>\n"
      ],
      "text/plain": [
       "\u001b[2;36m[09/30/23 23:27:31]\u001b[0m\u001b[2;36m \u001b[0m\u001b[34mINFO    \u001b[0m ToolkitTask 89f7573757254e63b3cc26b9e1a6eb91                                          \n",
       "\u001b[2;36m                    \u001b[0m         Output: The character sheet has been updated. The character is now a Tiefling with    \n",
       "\u001b[2;36m                    \u001b[0m         racial ability bonuses of +\u001b[1;36m1\u001b[0m to Intelligence and +\u001b[1;36m2\u001b[0m to Charisma. The final ability    \n",
       "\u001b[2;36m                    \u001b[0m         scores are now Strength: \u001b[1;36m8\u001b[0m, Dexterity: \u001b[1;36m8\u001b[0m, Constitution: \u001b[1;36m8\u001b[0m, Intelligence: \u001b[1;36m9\u001b[0m, Wisdom: \u001b[1;36m8\u001b[0m,\n",
       "\u001b[2;36m                    \u001b[0m         and Charisma: \u001b[1;36m10\u001b[0m.                                                                     \n"
      ]
     },
     "metadata": {},
     "output_type": "display_data"
    }
   ],
   "source": [
    "pipeline.add_tasks(\n",
    "    PromptTask('''\n",
    "        The user said {{ args[0] }}. Respond with a json of the ability score bonuses for the chosen race.\n",
    "        Example 1: I'll be a halfling\n",
    "        {\"strength\": 0, \"constitution\": 0, \"dexterity\": 2, \"intelligence\": 0, \"wisdom\": 0, \"charisma\": 0}\n",
    "        Example 2: I want to play as a human.\n",
    "        {\"strength\": 1, \"constitution\": 1, \"dexterity\": 1, \"intelligence\": 1, \"wisdom\": 1, \"charisma\": 1}''',\n",
    "        prompt_driver=driver,\n",
    "    ),\n",
    "    ToolkitTask(\n",
    "        '''Update the character sheet with the new_race_chosen in {{ args[0] }}\n",
    "            racial_bonuses = {{ parent_output }}\n",
    "        ''', \n",
    "        tools = [character_sheet_updater],\n",
    "        prompt_driver=driver,\n",
    "    ),\n",
    ")\n",
    "output = pipeline.run(\"I'll be a tiefling\")"
   ]
  },
  {
   "cell_type": "code",
   "execution_count": 3,
   "id": "e2f8e197-d2de-4da9-a136-7f0f053b9a29",
   "metadata": {},
   "outputs": [
    {
     "data": {
      "text/plain": [
       "'tiefling'"
      ]
     },
     "execution_count": 3,
     "metadata": {},
     "output_type": "execute_result"
    }
   ],
   "source": [
    "character_sheet_updater.character_sheet.race"
   ]
  },
  {
   "cell_type": "code",
   "execution_count": 4,
   "id": "bea1551d-ac9c-408f-9fd8-61fa5ddceee7",
   "metadata": {},
   "outputs": [
    {
     "data": {
      "text/plain": [
       "AbilityScores(strength=8, dexterity=8, constitution=8, intelligence=9, wisdom=8, charisma=10)"
      ]
     },
     "execution_count": 4,
     "metadata": {},
     "output_type": "execute_result"
    }
   ],
   "source": [
    "character_sheet_updater.character_sheet.final_ability_scores"
   ]
  }
 ],
 "metadata": {
  "kernelspec": {
   "display_name": "Python 3 (ipykernel)",
   "language": "python",
   "name": "python3"
  },
  "language_info": {
   "codemirror_mode": {
    "name": "ipython",
    "version": 3
   },
   "file_extension": ".py",
   "mimetype": "text/x-python",
   "name": "python",
   "nbconvert_exporter": "python",
   "pygments_lexer": "ipython3",
   "version": "3.11.5"
  }
 },
 "nbformat": 4,
 "nbformat_minor": 5
}
