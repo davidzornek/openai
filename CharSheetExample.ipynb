{
 "cells": [
  {
   "cell_type": "code",
   "execution_count": 1,
   "id": "e5d15790-4923-4cf5-a07b-0ff1135f1e0a",
   "metadata": {},
   "outputs": [
    {
     "name": "stdout",
     "output_type": "stream",
     "text": [
      "None\n",
      "{'strength': 8, 'dexterity': 8, 'constitution': 8, 'intelligence': 8, 'wisdom': 8, 'charisma': 8}\n"
     ]
    }
   ],
   "source": [
    "import json\n",
    "from dataclasses import asdict\n",
    "\n",
    "from openai_dm.character_sheet import Character\n",
    "\n",
    "with open(\"char_sheet.json\", \"w\") as f:\n",
    "    json.dump(asdict(Character()), f)\n",
    "\n",
    "with open(\"char_sheet.json\", \"r\") as f:\n",
    "    char_sheet = json.load(f)\n",
    "    print(char_sheet[\"race\"])\n",
    "    print(char_sheet[\"ability_scores\"])"
   ]
  },
  {
   "cell_type": "code",
   "execution_count": 2,
   "id": "1862655c-22bf-42ae-a2a5-7e4b1b3f20d2",
   "metadata": {},
   "outputs": [
    {
     "data": {
      "text/html": [
       "<pre style=\"white-space:pre;overflow-x:auto;line-height:normal;font-family:Menlo,'DejaVu Sans Mono',consolas,'Courier New',monospace\"><span style=\"color: #7fbfbf; text-decoration-color: #7fbfbf\">[09/30/23 21:06:32] </span><span style=\"color: #000080; text-decoration-color: #000080\">INFO    </span> PromptTask 69927ed5afbb45d98003828e21aa17a8                                           \n",
       "<span style=\"color: #7fbfbf; text-decoration-color: #7fbfbf\">                    </span>         Input:                                                                                \n",
       "<span style=\"color: #7fbfbf; text-decoration-color: #7fbfbf\">                    </span>                 The user said I'll be a tiefling. Respond with a json of the ability score    \n",
       "<span style=\"color: #7fbfbf; text-decoration-color: #7fbfbf\">                    </span>         bonuses for the chosen race.                                                          \n",
       "<span style=\"color: #7fbfbf; text-decoration-color: #7fbfbf\">                    </span>                 Example <span style=\"color: #008080; text-decoration-color: #008080; font-weight: bold\">1</span>: I'll be a halfling                                                 \n",
       "<span style=\"color: #7fbfbf; text-decoration-color: #7fbfbf\">                    </span>                 <span style=\"font-weight: bold\">{</span><span style=\"color: #008000; text-decoration-color: #008000\">\"ability_scores\"</span>: <span style=\"font-weight: bold\">{</span><span style=\"color: #008000; text-decoration-color: #008000\">\"dexterity\"</span>: <span style=\"color: #008080; text-decoration-color: #008080; font-weight: bold\">2</span><span style=\"font-weight: bold\">}}</span>                                          \n",
       "<span style=\"color: #7fbfbf; text-decoration-color: #7fbfbf\">                    </span>                 Example <span style=\"color: #008080; text-decoration-color: #008080; font-weight: bold\">2</span>: I want to play as a human.                                         \n",
       "<span style=\"color: #7fbfbf; text-decoration-color: #7fbfbf\">                    </span>                 <span style=\"font-weight: bold\">{</span><span style=\"color: #008000; text-decoration-color: #008000\">\"ability_scores\"</span>: <span style=\"font-weight: bold\">{</span><span style=\"color: #008000; text-decoration-color: #008000\">\"strength\"</span>: <span style=\"color: #008080; text-decoration-color: #008080; font-weight: bold\">1</span>, <span style=\"color: #008000; text-decoration-color: #008000\">\"constitution\"</span>: <span style=\"color: #008080; text-decoration-color: #008080; font-weight: bold\">1</span>, <span style=\"color: #008000; text-decoration-color: #008000\">\"dexterity\"</span>: <span style=\"color: #008080; text-decoration-color: #008080; font-weight: bold\">1</span>,         \n",
       "<span style=\"color: #7fbfbf; text-decoration-color: #7fbfbf\">                    </span>         <span style=\"color: #008000; text-decoration-color: #008000\">\"intelligence\"</span>: <span style=\"color: #008080; text-decoration-color: #008080; font-weight: bold\">1</span>, <span style=\"color: #008000; text-decoration-color: #008000\">\"wisdom\"</span>: <span style=\"color: #008080; text-decoration-color: #008080; font-weight: bold\">1</span>, <span style=\"color: #008000; text-decoration-color: #008000\">\"charisma\"</span>: <span style=\"color: #008080; text-decoration-color: #008080; font-weight: bold\">1</span><span style=\"font-weight: bold\">}}</span>                                       \n",
       "</pre>\n"
      ],
      "text/plain": [
       "\u001b[2;36m[09/30/23 21:06:32]\u001b[0m\u001b[2;36m \u001b[0m\u001b[34mINFO    \u001b[0m PromptTask 69927ed5afbb45d98003828e21aa17a8                                           \n",
       "\u001b[2;36m                    \u001b[0m         Input:                                                                                \n",
       "\u001b[2;36m                    \u001b[0m                 The user said I'll be a tiefling. Respond with a json of the ability score    \n",
       "\u001b[2;36m                    \u001b[0m         bonuses for the chosen race.                                                          \n",
       "\u001b[2;36m                    \u001b[0m                 Example \u001b[1;36m1\u001b[0m: I'll be a halfling                                                 \n",
       "\u001b[2;36m                    \u001b[0m                 \u001b[1m{\u001b[0m\u001b[32m\"ability_scores\"\u001b[0m: \u001b[1m{\u001b[0m\u001b[32m\"dexterity\"\u001b[0m: \u001b[1;36m2\u001b[0m\u001b[1m}\u001b[0m\u001b[1m}\u001b[0m                                          \n",
       "\u001b[2;36m                    \u001b[0m                 Example \u001b[1;36m2\u001b[0m: I want to play as a human.                                         \n",
       "\u001b[2;36m                    \u001b[0m                 \u001b[1m{\u001b[0m\u001b[32m\"ability_scores\"\u001b[0m: \u001b[1m{\u001b[0m\u001b[32m\"strength\"\u001b[0m: \u001b[1;36m1\u001b[0m, \u001b[32m\"constitution\"\u001b[0m: \u001b[1;36m1\u001b[0m, \u001b[32m\"dexterity\"\u001b[0m: \u001b[1;36m1\u001b[0m,         \n",
       "\u001b[2;36m                    \u001b[0m         \u001b[32m\"intelligence\"\u001b[0m: \u001b[1;36m1\u001b[0m, \u001b[32m\"wisdom\"\u001b[0m: \u001b[1;36m1\u001b[0m, \u001b[32m\"charisma\"\u001b[0m: \u001b[1;36m1\u001b[0m\u001b[1m}\u001b[0m\u001b[1m}\u001b[0m                                       \n"
      ]
     },
     "metadata": {},
     "output_type": "display_data"
    },
    {
     "data": {
      "text/html": [
       "<pre style=\"white-space:pre;overflow-x:auto;line-height:normal;font-family:Menlo,'DejaVu Sans Mono',consolas,'Courier New',monospace\"><span style=\"color: #7fbfbf; text-decoration-color: #7fbfbf\">[09/30/23 21:06:33] </span><span style=\"color: #000080; text-decoration-color: #000080\">INFO    </span> PromptTask 69927ed5afbb45d98003828e21aa17a8                                           \n",
       "<span style=\"color: #7fbfbf; text-decoration-color: #7fbfbf\">                    </span>         Output: <span style=\"font-weight: bold\">{</span><span style=\"color: #008000; text-decoration-color: #008000\">\"ability_scores\"</span>: <span style=\"font-weight: bold\">{</span><span style=\"color: #008000; text-decoration-color: #008000\">\"intelligence\"</span>: <span style=\"color: #008080; text-decoration-color: #008080; font-weight: bold\">1</span>, <span style=\"color: #008000; text-decoration-color: #008000\">\"charisma\"</span>: <span style=\"color: #008080; text-decoration-color: #008080; font-weight: bold\">2</span><span style=\"font-weight: bold\">}}</span>                        \n",
       "</pre>\n"
      ],
      "text/plain": [
       "\u001b[2;36m[09/30/23 21:06:33]\u001b[0m\u001b[2;36m \u001b[0m\u001b[34mINFO    \u001b[0m PromptTask 69927ed5afbb45d98003828e21aa17a8                                           \n",
       "\u001b[2;36m                    \u001b[0m         Output: \u001b[1m{\u001b[0m\u001b[32m\"ability_scores\"\u001b[0m: \u001b[1m{\u001b[0m\u001b[32m\"intelligence\"\u001b[0m: \u001b[1;36m1\u001b[0m, \u001b[32m\"charisma\"\u001b[0m: \u001b[1;36m2\u001b[0m\u001b[1m}\u001b[0m\u001b[1m}\u001b[0m                        \n"
      ]
     },
     "metadata": {},
     "output_type": "display_data"
    },
    {
     "data": {
      "text/html": [
       "<pre style=\"white-space:pre;overflow-x:auto;line-height:normal;font-family:Menlo,'DejaVu Sans Mono',consolas,'Courier New',monospace\"><span style=\"color: #7fbfbf; text-decoration-color: #7fbfbf\">                    </span><span style=\"color: #000080; text-decoration-color: #000080\">INFO    </span> ToolkitTask 4d2a56df16d84b57aa04b2f04eb782e9                                          \n",
       "<span style=\"color: #7fbfbf; text-decoration-color: #7fbfbf\">                    </span>         Input: Update the character sheet located at char_sheet.json with:                    \n",
       "<span style=\"color: #7fbfbf; text-decoration-color: #7fbfbf\">                    </span>                     new_vals as <span style=\"font-weight: bold\">{</span><span style=\"color: #008000; text-decoration-color: #008000\">\"ability_scores\"</span>: <span style=\"font-weight: bold\">{</span><span style=\"color: #008000; text-decoration-color: #008000\">\"intelligence\"</span>: <span style=\"color: #008080; text-decoration-color: #008080; font-weight: bold\">1</span>, <span style=\"color: #008000; text-decoration-color: #008000\">\"charisma\"</span>: <span style=\"color: #008080; text-decoration-color: #008080; font-weight: bold\">2</span><span style=\"font-weight: bold\">}}</span>        \n",
       "<span style=\"color: #7fbfbf; text-decoration-color: #7fbfbf\">                    </span>                 Save the result as updated_char_sheet.json                                    \n",
       "<span style=\"color: #7fbfbf; text-decoration-color: #7fbfbf\">                    </span>                                                                                               \n",
       "</pre>\n"
      ],
      "text/plain": [
       "\u001b[2;36m                   \u001b[0m\u001b[2;36m \u001b[0m\u001b[34mINFO    \u001b[0m ToolkitTask 4d2a56df16d84b57aa04b2f04eb782e9                                          \n",
       "\u001b[2;36m                    \u001b[0m         Input: Update the character sheet located at char_sheet.json with:                    \n",
       "\u001b[2;36m                    \u001b[0m                     new_vals as \u001b[1m{\u001b[0m\u001b[32m\"ability_scores\"\u001b[0m: \u001b[1m{\u001b[0m\u001b[32m\"intelligence\"\u001b[0m: \u001b[1;36m1\u001b[0m, \u001b[32m\"charisma\"\u001b[0m: \u001b[1;36m2\u001b[0m\u001b[1m}\u001b[0m\u001b[1m}\u001b[0m        \n",
       "\u001b[2;36m                    \u001b[0m                 Save the result as updated_char_sheet.json                                    \n",
       "\u001b[2;36m                    \u001b[0m                                                                                               \n"
      ]
     },
     "metadata": {},
     "output_type": "display_data"
    },
    {
     "data": {
      "text/html": [
       "<pre style=\"white-space:pre;overflow-x:auto;line-height:normal;font-family:Menlo,'DejaVu Sans Mono',consolas,'Courier New',monospace\"><span style=\"color: #7fbfbf; text-decoration-color: #7fbfbf\">[09/30/23 21:06:41] </span><span style=\"color: #000080; text-decoration-color: #000080\">INFO    </span> Subtask c9320d5139eb4ffa9244451aaf50bea2                                              \n",
       "<span style=\"color: #7fbfbf; text-decoration-color: #7fbfbf\">                    </span>         Thought: The first step is to load the character sheet from the specified file. I will\n",
       "<span style=\"color: #7fbfbf; text-decoration-color: #7fbfbf\">                    </span>         use the FileManager tool with the load_files_from_disk activity for this.             \n",
       "<span style=\"color: #7fbfbf; text-decoration-color: #7fbfbf\">                    </span>         Action: <span style=\"font-weight: bold\">{</span><span style=\"color: #008000; text-decoration-color: #008000\">\"type\"</span>: <span style=\"color: #008000; text-decoration-color: #008000\">\"tool\"</span>, <span style=\"color: #008000; text-decoration-color: #008000\">\"name\"</span>: <span style=\"color: #008000; text-decoration-color: #008000\">\"FileManager\"</span>, <span style=\"color: #008000; text-decoration-color: #008000\">\"activity\"</span>: <span style=\"color: #008000; text-decoration-color: #008000\">\"load_files_from_disk\"</span>,   \n",
       "<span style=\"color: #7fbfbf; text-decoration-color: #7fbfbf\">                    </span>         <span style=\"color: #008000; text-decoration-color: #008000\">\"input\"</span>: <span style=\"font-weight: bold\">{</span><span style=\"color: #008000; text-decoration-color: #008000\">\"values\"</span>: <span style=\"font-weight: bold\">{</span><span style=\"color: #008000; text-decoration-color: #008000\">\"paths\"</span>: <span style=\"font-weight: bold\">[</span><span style=\"color: #008000; text-decoration-color: #008000\">\"char_sheet.json\"</span><span style=\"font-weight: bold\">]}}}</span>                                  \n",
       "</pre>\n"
      ],
      "text/plain": [
       "\u001b[2;36m[09/30/23 21:06:41]\u001b[0m\u001b[2;36m \u001b[0m\u001b[34mINFO    \u001b[0m Subtask c9320d5139eb4ffa9244451aaf50bea2                                              \n",
       "\u001b[2;36m                    \u001b[0m         Thought: The first step is to load the character sheet from the specified file. I will\n",
       "\u001b[2;36m                    \u001b[0m         use the FileManager tool with the load_files_from_disk activity for this.             \n",
       "\u001b[2;36m                    \u001b[0m         Action: \u001b[1m{\u001b[0m\u001b[32m\"type\"\u001b[0m: \u001b[32m\"tool\"\u001b[0m, \u001b[32m\"name\"\u001b[0m: \u001b[32m\"FileManager\"\u001b[0m, \u001b[32m\"activity\"\u001b[0m: \u001b[32m\"load_files_from_disk\"\u001b[0m,   \n",
       "\u001b[2;36m                    \u001b[0m         \u001b[32m\"input\"\u001b[0m: \u001b[1m{\u001b[0m\u001b[32m\"values\"\u001b[0m: \u001b[1m{\u001b[0m\u001b[32m\"paths\"\u001b[0m: \u001b[1m[\u001b[0m\u001b[32m\"char_sheet.json\"\u001b[0m\u001b[1m]\u001b[0m\u001b[1m}\u001b[0m\u001b[1m}\u001b[0m\u001b[1m}\u001b[0m                                  \n"
      ]
     },
     "metadata": {},
     "output_type": "display_data"
    },
    {
     "data": {
      "text/html": [
       "<pre style=\"white-space:pre;overflow-x:auto;line-height:normal;font-family:Menlo,'DejaVu Sans Mono',consolas,'Courier New',monospace\"><span style=\"color: #7fbfbf; text-decoration-color: #7fbfbf\">                    </span><span style=\"color: #000080; text-decoration-color: #000080\">INFO    </span> Subtask c9320d5139eb4ffa9244451aaf50bea2                                              \n",
       "<span style=\"color: #7fbfbf; text-decoration-color: #7fbfbf\">                    </span>         Observation: <span style=\"color: #008000; text-decoration-color: #008000\">b'{\"name\": null, \"class_\": null, \"subclasse\": null, \"level\": 1, \"race\": </span> \n",
       "<span style=\"color: #7fbfbf; text-decoration-color: #7fbfbf\">                    </span>         <span style=\"color: #008000; text-decoration-color: #008000\">null, \"alignment\": null, \"background\": null, \"proficiency_bonus\": 2, \"ability_scores\":</span>\n",
       "<span style=\"color: #7fbfbf; text-decoration-color: #7fbfbf\">                    </span>         <span style=\"color: #008000; text-decoration-color: #008000\">{\"strength\": 8, \"dexterity\": 8, \"constitution\": 8, \"intelligence\": 8, \"wisdom\": 8, </span>   \n",
       "<span style=\"color: #7fbfbf; text-decoration-color: #7fbfbf\">                    </span>         <span style=\"color: #008000; text-decoration-color: #008000\">\"charisma\": 8}, \"saving_throw_proficiencies\": {\"strength\": false, \"dexterity\": false, </span>\n",
       "<span style=\"color: #7fbfbf; text-decoration-color: #7fbfbf\">                    </span>         <span style=\"color: #008000; text-decoration-color: #008000\">\"constitution\": false, \"intelligence\": false, \"wisdom\": false, \"charisma\": false}, </span>   \n",
       "<span style=\"color: #7fbfbf; text-decoration-color: #7fbfbf\">                    </span>         <span style=\"color: #008000; text-decoration-color: #008000\">\"skill_proficiencies\": {\"acrobatics\": false, \"animal_handling\": false, \"arcana\": </span>     \n",
       "<span style=\"color: #7fbfbf; text-decoration-color: #7fbfbf\">                    </span>         <span style=\"color: #008000; text-decoration-color: #008000\">false, \"athletics\": false, \"deception\": false, \"history\": false, \"insight\": false, </span>   \n",
       "<span style=\"color: #7fbfbf; text-decoration-color: #7fbfbf\">                    </span>         <span style=\"color: #008000; text-decoration-color: #008000\">\"intimidation\": false, \"investigation\": false, \"medicine\": false, \"nature\": false, </span>   \n",
       "<span style=\"color: #7fbfbf; text-decoration-color: #7fbfbf\">                    </span>         <span style=\"color: #008000; text-decoration-color: #008000\">\"perception\": false, \"performance\": false, \"persuasion\": false, \"religion\": false, </span>   \n",
       "<span style=\"color: #7fbfbf; text-decoration-color: #7fbfbf\">                    </span>         <span style=\"color: #008000; text-decoration-color: #008000\">\"sleight_of_hand\": false, \"stealth\": false, \"survival\": false}, \"AC\": 10, \"speed\": 30,</span>\n",
       "<span style=\"color: #7fbfbf; text-decoration-color: #7fbfbf\">                    </span>         <span style=\"color: #008000; text-decoration-color: #008000\">\"hit_point_max\": 6}'</span>                                                                  \n",
       "</pre>\n"
      ],
      "text/plain": [
       "\u001b[2;36m                   \u001b[0m\u001b[2;36m \u001b[0m\u001b[34mINFO    \u001b[0m Subtask c9320d5139eb4ffa9244451aaf50bea2                                              \n",
       "\u001b[2;36m                    \u001b[0m         Observation: \u001b[32mb'\u001b[0m\u001b[32m{\u001b[0m\u001b[32m\"name\": null, \"class_\": null, \"subclasse\": null, \"level\": 1, \"race\": \u001b[0m \n",
       "\u001b[2;36m                    \u001b[0m         \u001b[32mnull, \"alignment\": null, \"background\": null, \"proficiency_bonus\": 2, \"ability_scores\":\u001b[0m\n",
       "\u001b[2;36m                    \u001b[0m         \u001b[32m{\u001b[0m\u001b[32m\"strength\": 8, \"dexterity\": 8, \"constitution\": 8, \"intelligence\": 8, \"wisdom\": 8, \u001b[0m   \n",
       "\u001b[2;36m                    \u001b[0m         \u001b[32m\"charisma\": 8\u001b[0m\u001b[32m}\u001b[0m\u001b[32m, \"saving_throw_proficiencies\": \u001b[0m\u001b[32m{\u001b[0m\u001b[32m\"strength\": false, \"dexterity\": false, \u001b[0m\n",
       "\u001b[2;36m                    \u001b[0m         \u001b[32m\"constitution\": false, \"intelligence\": false, \"wisdom\": false, \"charisma\": false\u001b[0m\u001b[32m}\u001b[0m\u001b[32m, \u001b[0m   \n",
       "\u001b[2;36m                    \u001b[0m         \u001b[32m\"skill_proficiencies\": \u001b[0m\u001b[32m{\u001b[0m\u001b[32m\"acrobatics\": false, \"animal_handling\": false, \"arcana\": \u001b[0m     \n",
       "\u001b[2;36m                    \u001b[0m         \u001b[32mfalse, \"athletics\": false, \"deception\": false, \"history\": false, \"insight\": false, \u001b[0m   \n",
       "\u001b[2;36m                    \u001b[0m         \u001b[32m\"intimidation\": false, \"investigation\": false, \"medicine\": false, \"nature\": false, \u001b[0m   \n",
       "\u001b[2;36m                    \u001b[0m         \u001b[32m\"perception\": false, \"performance\": false, \"persuasion\": false, \"religion\": false, \u001b[0m   \n",
       "\u001b[2;36m                    \u001b[0m         \u001b[32m\"sleight_of_hand\": false, \"stealth\": false, \"survival\": false\u001b[0m\u001b[32m}\u001b[0m\u001b[32m, \"AC\": 10, \"speed\": 30,\u001b[0m\n",
       "\u001b[2;36m                    \u001b[0m         \u001b[32m\"hit_point_max\": 6\u001b[0m\u001b[32m}\u001b[0m\u001b[32m'\u001b[0m                                                                  \n"
      ]
     },
     "metadata": {},
     "output_type": "display_data"
    },
    {
     "data": {
      "text/html": [
       "<pre style=\"white-space:pre;overflow-x:auto;line-height:normal;font-family:Menlo,'DejaVu Sans Mono',consolas,'Courier New',monospace\"><span style=\"color: #7fbfbf; text-decoration-color: #7fbfbf\">[09/30/23 21:07:07] </span><span style=\"color: #000080; text-decoration-color: #000080\">INFO    </span> Subtask 71f8a13517404ebb9dc84df5a2c860ab                                              \n",
       "<span style=\"color: #7fbfbf; text-decoration-color: #7fbfbf\">                    </span>         Thought: Now that I have the character sheet, I can use the CharacterSheetUpdater tool\n",
       "<span style=\"color: #7fbfbf; text-decoration-color: #7fbfbf\">                    </span>         with the update_character_sheet activity to update the ability scores.                \n",
       "<span style=\"color: #7fbfbf; text-decoration-color: #7fbfbf\">                    </span>         Action: <span style=\"font-weight: bold\">{</span><span style=\"color: #008000; text-decoration-color: #008000\">\"type\"</span>: <span style=\"color: #008000; text-decoration-color: #008000\">\"tool\"</span>, <span style=\"color: #008000; text-decoration-color: #008000\">\"name\"</span>: <span style=\"color: #008000; text-decoration-color: #008000\">\"CharacterSheetUpdater\"</span>, <span style=\"color: #008000; text-decoration-color: #008000\">\"activity\"</span>:                 \n",
       "<span style=\"color: #7fbfbf; text-decoration-color: #7fbfbf\">                    </span>         <span style=\"color: #008000; text-decoration-color: #008000\">\"update_character_sheet\"</span>, <span style=\"color: #008000; text-decoration-color: #008000\">\"input\"</span>: <span style=\"font-weight: bold\">{</span><span style=\"color: #008000; text-decoration-color: #008000\">\"values\"</span>: <span style=\"font-weight: bold\">{</span><span style=\"color: #008000; text-decoration-color: #008000\">\"new_vals\"</span>: <span style=\"color: #008000; text-decoration-color: #008000\">\"{\\\"ability_scores\\\": </span>     \n",
       "<span style=\"color: #7fbfbf; text-decoration-color: #7fbfbf\">                    </span>         <span style=\"color: #008000; text-decoration-color: #008000\">{\\\"intelligence\\\": 1, \\\"charisma\\\": 2}}\"</span>, <span style=\"color: #008000; text-decoration-color: #008000\">\"character_sheet\"</span>: <span style=\"color: #008000; text-decoration-color: #008000\">\"{\\\"name\\\": null, </span>       \n",
       "<span style=\"color: #7fbfbf; text-decoration-color: #7fbfbf\">                    </span>         <span style=\"color: #008000; text-decoration-color: #008000\">\\\"class_\\\": null, \\\"subclasse\\\": null, \\\"level\\\": 1, \\\"race\\\": null, \\\"alignment\\\": </span>  \n",
       "<span style=\"color: #7fbfbf; text-decoration-color: #7fbfbf\">                    </span>         <span style=\"color: #008000; text-decoration-color: #008000\">null, \\\"background\\\": null, \\\"proficiency_bonus\\\": 2, \\\"ability_scores\\\": </span>            \n",
       "<span style=\"color: #7fbfbf; text-decoration-color: #7fbfbf\">                    </span>         <span style=\"color: #008000; text-decoration-color: #008000\">{\\\"strength\\\": 8, \\\"dexterity\\\": 8, \\\"constitution\\\": 8, \\\"intelligence\\\": 8, </span>        \n",
       "<span style=\"color: #7fbfbf; text-decoration-color: #7fbfbf\">                    </span>         <span style=\"color: #008000; text-decoration-color: #008000\">\\\"wisdom\\\": 8, \\\"charisma\\\": 8}, \\\"saving_throw_proficiencies\\\": {\\\"strength\\\": false,</span>\n",
       "<span style=\"color: #7fbfbf; text-decoration-color: #7fbfbf\">                    </span>         <span style=\"color: #008000; text-decoration-color: #008000\">\\\"dexterity\\\": false, \\\"constitution\\\": false, \\\"intelligence\\\": false, \\\"wisdom\\\": </span>  \n",
       "<span style=\"color: #7fbfbf; text-decoration-color: #7fbfbf\">                    </span>         <span style=\"color: #008000; text-decoration-color: #008000\">false, \\\"charisma\\\": false}, \\\"skill_proficiencies\\\": {\\\"acrobatics\\\": false, </span>        \n",
       "<span style=\"color: #7fbfbf; text-decoration-color: #7fbfbf\">                    </span>         <span style=\"color: #008000; text-decoration-color: #008000\">\\\"animal_handling\\\": false, \\\"arcana\\\": false, \\\"athletics\\\": false, \\\"deception\\\": </span>  \n",
       "<span style=\"color: #7fbfbf; text-decoration-color: #7fbfbf\">                    </span>         <span style=\"color: #008000; text-decoration-color: #008000\">false, \\\"history\\\": false, \\\"insight\\\": false, \\\"intimidation\\\": false, </span>              \n",
       "<span style=\"color: #7fbfbf; text-decoration-color: #7fbfbf\">                    </span>         <span style=\"color: #008000; text-decoration-color: #008000\">\\\"investigation\\\": false, \\\"medicine\\\": false, \\\"nature\\\": false, \\\"perception\\\": </span>    \n",
       "<span style=\"color: #7fbfbf; text-decoration-color: #7fbfbf\">                    </span>         <span style=\"color: #008000; text-decoration-color: #008000\">false, \\\"performance\\\": false, \\\"persuasion\\\": false, \\\"religion\\\": false, </span>           \n",
       "<span style=\"color: #7fbfbf; text-decoration-color: #7fbfbf\">                    </span>         <span style=\"color: #008000; text-decoration-color: #008000\">\\\"sleight_of_hand\\\": false, \\\"stealth\\\": false, \\\"survival\\\": false}, \\\"AC\\\": 10, </span>    \n",
       "<span style=\"color: #7fbfbf; text-decoration-color: #7fbfbf\">                    </span>         <span style=\"color: #008000; text-decoration-color: #008000\">\\\"speed\\\": 30, \\\"hit_point_max\\\": 6}\"</span><span style=\"font-weight: bold\">}}}</span>                                              \n",
       "</pre>\n"
      ],
      "text/plain": [
       "\u001b[2;36m[09/30/23 21:07:07]\u001b[0m\u001b[2;36m \u001b[0m\u001b[34mINFO    \u001b[0m Subtask 71f8a13517404ebb9dc84df5a2c860ab                                              \n",
       "\u001b[2;36m                    \u001b[0m         Thought: Now that I have the character sheet, I can use the CharacterSheetUpdater tool\n",
       "\u001b[2;36m                    \u001b[0m         with the update_character_sheet activity to update the ability scores.                \n",
       "\u001b[2;36m                    \u001b[0m         Action: \u001b[1m{\u001b[0m\u001b[32m\"type\"\u001b[0m: \u001b[32m\"tool\"\u001b[0m, \u001b[32m\"name\"\u001b[0m: \u001b[32m\"CharacterSheetUpdater\"\u001b[0m, \u001b[32m\"activity\"\u001b[0m:                 \n",
       "\u001b[2;36m                    \u001b[0m         \u001b[32m\"update_character_sheet\"\u001b[0m, \u001b[32m\"input\"\u001b[0m: \u001b[1m{\u001b[0m\u001b[32m\"values\"\u001b[0m: \u001b[1m{\u001b[0m\u001b[32m\"new_vals\"\u001b[0m: \u001b[32m\"\u001b[0m\u001b[32m{\u001b[0m\u001b[32m\\\"ability_scores\\\": \u001b[0m     \n",
       "\u001b[2;36m                    \u001b[0m         \u001b[32m{\u001b[0m\u001b[32m\\\"intelligence\\\": 1, \\\"charisma\\\": 2\u001b[0m\u001b[32m}\u001b[0m\u001b[32m}\u001b[0m\u001b[32m\"\u001b[0m, \u001b[32m\"character_sheet\"\u001b[0m: \u001b[32m\"\u001b[0m\u001b[32m{\u001b[0m\u001b[32m\\\"name\\\": null, \u001b[0m       \n",
       "\u001b[2;36m                    \u001b[0m         \u001b[32m\\\"class_\\\": null, \\\"subclasse\\\": null, \\\"level\\\": 1, \\\"race\\\": null, \\\"alignment\\\": \u001b[0m  \n",
       "\u001b[2;36m                    \u001b[0m         \u001b[32mnull, \\\"background\\\": null, \\\"proficiency_bonus\\\": 2, \\\"ability_scores\\\": \u001b[0m            \n",
       "\u001b[2;36m                    \u001b[0m         \u001b[32m{\u001b[0m\u001b[32m\\\"strength\\\": 8, \\\"dexterity\\\": 8, \\\"constitution\\\": 8, \\\"intelligence\\\": 8, \u001b[0m        \n",
       "\u001b[2;36m                    \u001b[0m         \u001b[32m\\\"wisdom\\\": 8, \\\"charisma\\\": 8\u001b[0m\u001b[32m}\u001b[0m\u001b[32m, \\\"saving_throw_proficiencies\\\": \u001b[0m\u001b[32m{\u001b[0m\u001b[32m\\\"strength\\\": false,\u001b[0m\n",
       "\u001b[2;36m                    \u001b[0m         \u001b[32m\\\"dexterity\\\": false, \\\"constitution\\\": false, \\\"intelligence\\\": false, \\\"wisdom\\\": \u001b[0m  \n",
       "\u001b[2;36m                    \u001b[0m         \u001b[32mfalse, \\\"charisma\\\": false\u001b[0m\u001b[32m}\u001b[0m\u001b[32m, \\\"skill_proficiencies\\\": \u001b[0m\u001b[32m{\u001b[0m\u001b[32m\\\"acrobatics\\\": false, \u001b[0m        \n",
       "\u001b[2;36m                    \u001b[0m         \u001b[32m\\\"animal_handling\\\": false, \\\"arcana\\\": false, \\\"athletics\\\": false, \\\"deception\\\": \u001b[0m  \n",
       "\u001b[2;36m                    \u001b[0m         \u001b[32mfalse, \\\"history\\\": false, \\\"insight\\\": false, \\\"intimidation\\\": false, \u001b[0m              \n",
       "\u001b[2;36m                    \u001b[0m         \u001b[32m\\\"investigation\\\": false, \\\"medicine\\\": false, \\\"nature\\\": false, \\\"perception\\\": \u001b[0m    \n",
       "\u001b[2;36m                    \u001b[0m         \u001b[32mfalse, \\\"performance\\\": false, \\\"persuasion\\\": false, \\\"religion\\\": false, \u001b[0m           \n",
       "\u001b[2;36m                    \u001b[0m         \u001b[32m\\\"sleight_of_hand\\\": false, \\\"stealth\\\": false, \\\"survival\\\": false\u001b[0m\u001b[32m}\u001b[0m\u001b[32m, \\\"AC\\\": 10, \u001b[0m    \n",
       "\u001b[2;36m                    \u001b[0m         \u001b[32m\\\"speed\\\": 30, \\\"hit_point_max\\\": 6\u001b[0m\u001b[32m}\u001b[0m\u001b[32m\"\u001b[0m\u001b[1m}\u001b[0m\u001b[1m}\u001b[0m\u001b[1m}\u001b[0m                                              \n"
      ]
     },
     "metadata": {},
     "output_type": "display_data"
    },
    {
     "data": {
      "text/html": [
       "<pre style=\"white-space:pre;overflow-x:auto;line-height:normal;font-family:Menlo,'DejaVu Sans Mono',consolas,'Courier New',monospace\"><span style=\"color: #7fbfbf; text-decoration-color: #7fbfbf\">[09/30/23 21:07:08] </span><span style=\"color: #000080; text-decoration-color: #000080\">INFO    </span> Subtask 71f8a13517404ebb9dc84df5a2c860ab                                              \n",
       "<span style=\"color: #7fbfbf; text-decoration-color: #7fbfbf\">                    </span>         Observation: Output of <span style=\"color: #008000; text-decoration-color: #008000\">\"CharacterSheetUpdater.update_character_sheet\"</span> was stored in   \n",
       "<span style=\"color: #7fbfbf; text-decoration-color: #7fbfbf\">                    </span>         memory with memory_name <span style=\"color: #008000; text-decoration-color: #008000\">\"TextToolMemory\"</span> and artifact_namespace                       \n",
       "<span style=\"color: #7fbfbf; text-decoration-color: #7fbfbf\">                    </span>         <span style=\"color: #008000; text-decoration-color: #008000\">\"06e910c529ad4fc598757b56c1ec3362\"</span>                                                    \n",
       "</pre>\n"
      ],
      "text/plain": [
       "\u001b[2;36m[09/30/23 21:07:08]\u001b[0m\u001b[2;36m \u001b[0m\u001b[34mINFO    \u001b[0m Subtask 71f8a13517404ebb9dc84df5a2c860ab                                              \n",
       "\u001b[2;36m                    \u001b[0m         Observation: Output of \u001b[32m\"CharacterSheetUpdater.update_character_sheet\"\u001b[0m was stored in   \n",
       "\u001b[2;36m                    \u001b[0m         memory with memory_name \u001b[32m\"TextToolMemory\"\u001b[0m and artifact_namespace                       \n",
       "\u001b[2;36m                    \u001b[0m         \u001b[32m\"06e910c529ad4fc598757b56c1ec3362\"\u001b[0m                                                    \n"
      ]
     },
     "metadata": {},
     "output_type": "display_data"
    },
    {
     "data": {
      "text/html": [
       "<pre style=\"white-space:pre;overflow-x:auto;line-height:normal;font-family:Menlo,'DejaVu Sans Mono',consolas,'Courier New',monospace\"><span style=\"color: #7fbfbf; text-decoration-color: #7fbfbf\">[09/30/23 21:07:16] </span><span style=\"color: #000080; text-decoration-color: #000080\">INFO    </span> Subtask 2f2c0753c71c45cab4166fa8fea059dd                                              \n",
       "<span style=\"color: #7fbfbf; text-decoration-color: #7fbfbf\">                    </span>         Thought: The updated character sheet is stored in memory. I need to retrieve it from  \n",
       "<span style=\"color: #7fbfbf; text-decoration-color: #7fbfbf\">                    </span>         memory and save it to the specified file. I will use the FileManager tool with the    \n",
       "<span style=\"color: #7fbfbf; text-decoration-color: #7fbfbf\">                    </span>         save_memory_artifacts_to_disk activity for this.                                      \n",
       "<span style=\"color: #7fbfbf; text-decoration-color: #7fbfbf\">                    </span>         Action: <span style=\"font-weight: bold\">{</span><span style=\"color: #008000; text-decoration-color: #008000\">\"type\"</span>: <span style=\"color: #008000; text-decoration-color: #008000\">\"tool\"</span>, <span style=\"color: #008000; text-decoration-color: #008000\">\"name\"</span>: <span style=\"color: #008000; text-decoration-color: #008000\">\"FileManager\"</span>, <span style=\"color: #008000; text-decoration-color: #008000\">\"activity\"</span>:                           \n",
       "<span style=\"color: #7fbfbf; text-decoration-color: #7fbfbf\">                    </span>         <span style=\"color: #008000; text-decoration-color: #008000\">\"save_memory_artifacts_to_disk\"</span>, <span style=\"color: #008000; text-decoration-color: #008000\">\"input\"</span>: <span style=\"font-weight: bold\">{</span><span style=\"color: #008000; text-decoration-color: #008000\">\"values\"</span>: <span style=\"font-weight: bold\">{</span><span style=\"color: #008000; text-decoration-color: #008000\">\"dir_name\"</span>: <span style=\"color: #008000; text-decoration-color: #008000\">\".\"</span>, <span style=\"color: #008000; text-decoration-color: #008000\">\"file_name\"</span>:   \n",
       "<span style=\"color: #7fbfbf; text-decoration-color: #7fbfbf\">                    </span>         <span style=\"color: #008000; text-decoration-color: #008000\">\"updated_char_sheet.json\"</span>, <span style=\"color: #008000; text-decoration-color: #008000\">\"memory_name\"</span>: <span style=\"color: #008000; text-decoration-color: #008000\">\"TextToolMemory\"</span>, <span style=\"color: #008000; text-decoration-color: #008000\">\"artifact_namespace\"</span>:     \n",
       "<span style=\"color: #7fbfbf; text-decoration-color: #7fbfbf\">                    </span>         <span style=\"color: #008000; text-decoration-color: #008000\">\"06e910c529ad4fc598757b56c1ec3362\"</span><span style=\"font-weight: bold\">}}}</span>                                                 \n",
       "</pre>\n"
      ],
      "text/plain": [
       "\u001b[2;36m[09/30/23 21:07:16]\u001b[0m\u001b[2;36m \u001b[0m\u001b[34mINFO    \u001b[0m Subtask 2f2c0753c71c45cab4166fa8fea059dd                                              \n",
       "\u001b[2;36m                    \u001b[0m         Thought: The updated character sheet is stored in memory. I need to retrieve it from  \n",
       "\u001b[2;36m                    \u001b[0m         memory and save it to the specified file. I will use the FileManager tool with the    \n",
       "\u001b[2;36m                    \u001b[0m         save_memory_artifacts_to_disk activity for this.                                      \n",
       "\u001b[2;36m                    \u001b[0m         Action: \u001b[1m{\u001b[0m\u001b[32m\"type\"\u001b[0m: \u001b[32m\"tool\"\u001b[0m, \u001b[32m\"name\"\u001b[0m: \u001b[32m\"FileManager\"\u001b[0m, \u001b[32m\"activity\"\u001b[0m:                           \n",
       "\u001b[2;36m                    \u001b[0m         \u001b[32m\"save_memory_artifacts_to_disk\"\u001b[0m, \u001b[32m\"input\"\u001b[0m: \u001b[1m{\u001b[0m\u001b[32m\"values\"\u001b[0m: \u001b[1m{\u001b[0m\u001b[32m\"dir_name\"\u001b[0m: \u001b[32m\".\"\u001b[0m, \u001b[32m\"file_name\"\u001b[0m:   \n",
       "\u001b[2;36m                    \u001b[0m         \u001b[32m\"updated_char_sheet.json\"\u001b[0m, \u001b[32m\"memory_name\"\u001b[0m: \u001b[32m\"TextToolMemory\"\u001b[0m, \u001b[32m\"artifact_namespace\"\u001b[0m:     \n",
       "\u001b[2;36m                    \u001b[0m         \u001b[32m\"06e910c529ad4fc598757b56c1ec3362\"\u001b[0m\u001b[1m}\u001b[0m\u001b[1m}\u001b[0m\u001b[1m}\u001b[0m                                                 \n"
      ]
     },
     "metadata": {},
     "output_type": "display_data"
    },
    {
     "data": {
      "text/html": [
       "<pre style=\"white-space:pre;overflow-x:auto;line-height:normal;font-family:Menlo,'DejaVu Sans Mono',consolas,'Courier New',monospace\"><span style=\"color: #7fbfbf; text-decoration-color: #7fbfbf\">                    </span><span style=\"color: #000080; text-decoration-color: #000080\">INFO    </span> Subtask 2f2c0753c71c45cab4166fa8fea059dd                                              \n",
       "<span style=\"color: #7fbfbf; text-decoration-color: #7fbfbf\">                    </span>         Observation: saved successfully                                                       \n",
       "</pre>\n"
      ],
      "text/plain": [
       "\u001b[2;36m                   \u001b[0m\u001b[2;36m \u001b[0m\u001b[34mINFO    \u001b[0m Subtask 2f2c0753c71c45cab4166fa8fea059dd                                              \n",
       "\u001b[2;36m                    \u001b[0m         Observation: saved successfully                                                       \n"
      ]
     },
     "metadata": {},
     "output_type": "display_data"
    },
    {
     "data": {
      "text/html": [
       "<pre style=\"white-space:pre;overflow-x:auto;line-height:normal;font-family:Menlo,'DejaVu Sans Mono',consolas,'Courier New',monospace\"><span style=\"color: #7fbfbf; text-decoration-color: #7fbfbf\">[09/30/23 21:07:18] </span><span style=\"color: #000080; text-decoration-color: #000080\">INFO    </span> ToolkitTask 4d2a56df16d84b57aa04b2f04eb782e9                                          \n",
       "<span style=\"color: #7fbfbf; text-decoration-color: #7fbfbf\">                    </span>         Output: The character sheet has been successfully updated and saved as                \n",
       "<span style=\"color: #7fbfbf; text-decoration-color: #7fbfbf\">                    </span>         updated_char_sheet.json.                                                              \n",
       "</pre>\n"
      ],
      "text/plain": [
       "\u001b[2;36m[09/30/23 21:07:18]\u001b[0m\u001b[2;36m \u001b[0m\u001b[34mINFO    \u001b[0m ToolkitTask 4d2a56df16d84b57aa04b2f04eb782e9                                          \n",
       "\u001b[2;36m                    \u001b[0m         Output: The character sheet has been successfully updated and saved as                \n",
       "\u001b[2;36m                    \u001b[0m         updated_char_sheet.json.                                                              \n"
      ]
     },
     "metadata": {},
     "output_type": "display_data"
    }
   ],
   "source": [
    "import json\n",
    "from dotenv import load_dotenv\n",
    "from dataclasses import asdict\n",
    "from attr import field, define, Factory\n",
    "import random\n",
    "from griptape.artifacts import TextArtifact\n",
    "from griptape.memory.tool import TextToolMemory\n",
    "from griptape.tools import BaseTool, FileManager\n",
    "from griptape.tasks import PromptTask, ToolkitTask\n",
    "from griptape.utils.decorators import activity\n",
    "from schema import Schema, Literal, Optional\n",
    "from griptape.drivers import OpenAiChatPromptDriver\n",
    "from griptape.tasks import PromptTask\n",
    "from griptape.structures import Pipeline\n",
    "\n",
    "from openai_dm.tools import CharacterSheetUpdater, RaceChanger\n",
    "from openai_dm.character_sheet import Character\n",
    "\n",
    "load_dotenv()\n",
    "\n",
    "character_memory = TextToolMemory(\n",
    "    query_engine = field(kw_only=True),\n",
    "    summary_engine = field(kw_only=True, default=Factory(lambda : PromptSummaryEngine()))\n",
    ")\n",
    "\n",
    "file_manager = FileManager(\n",
    "    #input_memory=[text_memory],\n",
    "    # output_memory={\n",
    "    #     \"load_files_from_disk\": [character_memory]\n",
    "    # }\n",
    ")\n",
    "\n",
    "driver = OpenAiChatPromptDriver(\n",
    "    model=\"gpt-4\",\n",
    "    max_tokens=500 # you can experiment with the number of tokens\n",
    ")\n",
    "\n",
    "\n",
    "pipeline = Pipeline(\n",
    "    #memory=ConversationMemory(),\n",
    ")\n",
    "\n",
    "pipeline.add_tasks(\n",
    "    PromptTask('''\n",
    "        The user said {{ args[0] }}. Respond with a json of the ability score bonuses for the chosen race.\n",
    "        Example 1: I'll be a halfling\n",
    "        {\"ability_scores\": {\"dexterity\": 2}}\n",
    "        Example 2: I want to play as a human.\n",
    "        {\"ability_scores\": {\"strength\": 1, \"constitution\": 1, \"dexterity\": 1, \"intelligence\": 1, \"wisdom\": 1, \"charisma\": 1}}''',\n",
    "        prompt_driver=driver,\n",
    "    ),\n",
    "    ToolkitTask(\n",
    "        '''Update the character sheet located at char_sheet.json with:\n",
    "            new_vals as {{ parent_output }}\n",
    "        Save the result as updated_char_sheet.json\n",
    "        ''', \n",
    "        tools = [file_manager, CharacterSheetUpdater()],\n",
    "        prompt_driver=driver,\n",
    "    ),\n",
    ")\n",
    "output = pipeline.run(\"I'll be a tiefling\")"
   ]
  },
  {
   "cell_type": "code",
   "execution_count": 5,
   "id": "9c10a01a-7470-43ff-a03c-f5e8fcbdbbb2",
   "metadata": {},
   "outputs": [
    {
     "name": "stdout",
     "output_type": "stream",
     "text": [
      "{'strength': 8, 'dexterity': 8, 'constitution': 8, 'intelligence': 9, 'wisdom': 8, 'charisma': 10}\n"
     ]
    }
   ],
   "source": [
    "import json\n",
    "\n",
    "with open(\"updated_char_sheet.json\", \"r\") as f:\n",
    "    sheet = json.load(f)\n",
    "    print(sheet[\"ability_scores\"])"
   ]
  }
 ],
 "metadata": {
  "kernelspec": {
   "display_name": "Python 3 (ipykernel)",
   "language": "python",
   "name": "python3"
  },
  "language_info": {
   "codemirror_mode": {
    "name": "ipython",
    "version": 3
   },
   "file_extension": ".py",
   "mimetype": "text/x-python",
   "name": "python",
   "nbconvert_exporter": "python",
   "pygments_lexer": "ipython3",
   "version": "3.11.5"
  }
 },
 "nbformat": 4,
 "nbformat_minor": 5
}
